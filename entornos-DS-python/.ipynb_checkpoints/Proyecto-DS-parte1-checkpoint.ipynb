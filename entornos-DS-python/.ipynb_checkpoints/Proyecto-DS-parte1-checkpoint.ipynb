{
 "cells": [
  {
   "cell_type": "code",
   "execution_count": 15,
   "metadata": {
    "collapsed": false
   },
   "outputs": [],
   "source": [
    "import pandas as pd \n",
    "import numpy as np \n",
    "import ggplot as g \n",
    "import datetime \n",
    "from ggplot import * \n",
    "from numpy import convolve \n",
    "import matplotlib.pyplot as plt\n"
   ]
  },
  {
   "cell_type": "code",
   "execution_count": 16,
   "metadata": {
    "collapsed": false
   },
   "outputs": [
    {
     "data": {
      "text/plain": [
       "u'/home/osboxes/app/Master-BigData-CIFF-2016/entornos-DS-python'"
      ]
     },
     "execution_count": 16,
     "metadata": {},
     "output_type": "execute_result"
    }
   ],
   "source": [
    "%pwd"
   ]
  },
  {
   "cell_type": "code",
   "execution_count": 17,
   "metadata": {
    "collapsed": true
   },
   "outputs": [],
   "source": [
    "##Funcion lambda para la trnasformacion de los timestamps en fechas\n",
    "changeToDate = lambda x: datetime.datetime.utcfromtimestamp(x).strftime('%d/%m/%Y')"
   ]
  },
  {
   "cell_type": "code",
   "execution_count": 18,
   "metadata": {
    "collapsed": false
   },
   "outputs": [
    {
     "data": {
      "text/html": [
       "<div>\n",
       "<table border=\"1\" class=\"dataframe\">\n",
       "  <thead>\n",
       "    <tr style=\"text-align: right;\">\n",
       "      <th></th>\n",
       "      <th>date</th>\n",
       "      <th>price</th>\n",
       "      <th>amount</th>\n",
       "      <th>currency</th>\n",
       "    </tr>\n",
       "  </thead>\n",
       "  <tbody>\n",
       "    <tr>\n",
       "      <th>0</th>\n",
       "      <td>22/10/2013</td>\n",
       "      <td>1259.842519</td>\n",
       "      <td>0.010000</td>\n",
       "      <td>CNY</td>\n",
       "    </tr>\n",
       "    <tr>\n",
       "      <th>1</th>\n",
       "      <td>27/10/2013</td>\n",
       "      <td>1198.412822</td>\n",
       "      <td>0.083444</td>\n",
       "      <td>CNY</td>\n",
       "    </tr>\n",
       "    <tr>\n",
       "      <th>2</th>\n",
       "      <td>29/10/2013</td>\n",
       "      <td>1262.698413</td>\n",
       "      <td>0.079000</td>\n",
       "      <td>CNY</td>\n",
       "    </tr>\n",
       "    <tr>\n",
       "      <th>3</th>\n",
       "      <td>31/10/2013</td>\n",
       "      <td>1309.523809</td>\n",
       "      <td>0.300000</td>\n",
       "      <td>CNY</td>\n",
       "    </tr>\n",
       "    <tr>\n",
       "      <th>4</th>\n",
       "      <td>31/10/2013</td>\n",
       "      <td>1349.206349</td>\n",
       "      <td>0.544861</td>\n",
       "      <td>CNY</td>\n",
       "    </tr>\n",
       "  </tbody>\n",
       "</table>\n",
       "</div>"
      ],
      "text/plain": [
       "         date        price    amount currency\n",
       "0  22/10/2013  1259.842519  0.010000      CNY\n",
       "1  27/10/2013  1198.412822  0.083444      CNY\n",
       "2  29/10/2013  1262.698413  0.079000      CNY\n",
       "3  31/10/2013  1309.523809  0.300000      CNY\n",
       "4  31/10/2013  1349.206349  0.544861      CNY"
      ]
     },
     "execution_count": 18,
     "metadata": {},
     "output_type": "execute_result"
    }
   ],
   "source": [
    "#Lectura de cada fichero con los datos de la fluctuacion del bitcoin por moneda  \n",
    "dfCNY = pd.read_csv(\"data/anxhkCNY.csv\") \n",
    "dfCNY.columns=['date','price','amount'] \n",
    "dfCNY[\"currency\"] = \"CNY\" \n",
    "dfCNY['date']=dfCNY['date'].apply(changeToDate)\n",
    "dfCNY.head(5)"
   ]
  },
  {
   "cell_type": "code",
   "execution_count": 19,
   "metadata": {
    "collapsed": false
   },
   "outputs": [
    {
     "data": {
      "text/html": [
       "<div>\n",
       "<table border=\"1\" class=\"dataframe\">\n",
       "  <thead>\n",
       "    <tr style=\"text-align: right;\">\n",
       "      <th></th>\n",
       "      <th>date</th>\n",
       "      <th>price</th>\n",
       "      <th>amount</th>\n",
       "      <th>currency</th>\n",
       "    </tr>\n",
       "  </thead>\n",
       "  <tbody>\n",
       "    <tr>\n",
       "      <th>0</th>\n",
       "      <td>22/10/2013</td>\n",
       "      <td>1259.842519</td>\n",
       "      <td>0.010000</td>\n",
       "      <td>CNY</td>\n",
       "    </tr>\n",
       "    <tr>\n",
       "      <th>1</th>\n",
       "      <td>27/10/2013</td>\n",
       "      <td>1198.412822</td>\n",
       "      <td>0.083444</td>\n",
       "      <td>CNY</td>\n",
       "    </tr>\n",
       "    <tr>\n",
       "      <th>2</th>\n",
       "      <td>29/10/2013</td>\n",
       "      <td>1262.698413</td>\n",
       "      <td>0.079000</td>\n",
       "      <td>CNY</td>\n",
       "    </tr>\n",
       "    <tr>\n",
       "      <th>3</th>\n",
       "      <td>31/10/2013</td>\n",
       "      <td>1309.523809</td>\n",
       "      <td>0.300000</td>\n",
       "      <td>CNY</td>\n",
       "    </tr>\n",
       "    <tr>\n",
       "      <th>4</th>\n",
       "      <td>31/10/2013</td>\n",
       "      <td>1349.206349</td>\n",
       "      <td>0.544861</td>\n",
       "      <td>CNY</td>\n",
       "    </tr>\n",
       "  </tbody>\n",
       "</table>\n",
       "</div>"
      ],
      "text/plain": [
       "         date        price    amount currency\n",
       "0  22/10/2013  1259.842519  0.010000      CNY\n",
       "1  27/10/2013  1198.412822  0.083444      CNY\n",
       "2  29/10/2013  1262.698413  0.079000      CNY\n",
       "3  31/10/2013  1309.523809  0.300000      CNY\n",
       "4  31/10/2013  1349.206349  0.544861      CNY"
      ]
     },
     "execution_count": 19,
     "metadata": {},
     "output_type": "execute_result"
    }
   ],
   "source": [
    "\n",
    "\n",
    "dfEUR = pd.read_csv(\"data/anxhkEUR.csv\")\n",
    "dfEUR.columns=['date','price','amount'] \n",
    "dfEUR[\"currency\"] = \"EUR\" \n",
    "dfEUR['date']=dfEUR['date'].apply(changeToDate)\n",
    "#dfGBP = pd.read_csv(\"data/anxhkGBP.csv\") \n",
    "#dfGBP.columns=['date','price','amount']\n",
    "#dfGBP[\"currency\"] = \"GBP\" \n",
    "#dfGBP[\"date\"].apply(changeToDate)\n",
    "#dfJPY = pd.read_csv(\"data/anxhkJPY.csv\")\n",
    "#dfJPY.columns=['date','price','amount']\n",
    "#dfJPY[\"currency\"] = \"JPY\" \n",
    "#dfJPY[\"date\"].apply(changeToDate)\n",
    "#dfUSD = pd.read_csv(\"data/anxhkUSD.csv\")\n",
    "#dfUSD.columns=['date','price','amount']\n",
    "#dfUSD[\"currency\"] = \"USD\" \n",
    "#dfUSD[\"date\"].apply(changeToDate)\n",
    "\n",
    "#dfTotal = dfCNY.merge(dfEUR.merge(dfGBP.merge(dfJPY.merge(dfUSD,how='outer'),how='outer'),how='outer'),how='outer')\n",
    "dfTotal = dfCNY.merge(dfEUR,how='outer')\n",
    "dfTotal.head(5)"
   ]
  },
  {
   "cell_type": "code",
   "execution_count": 20,
   "metadata": {
    "collapsed": false
   },
   "outputs": [],
   "source": [
    "#establecer como indice la fecha de la medicion\n",
    "dfTotal= dfTotal.set_index(['date'])\n",
    "dfTotal= dfTotal.dropna()\n",
    "dfTotal.head(5)\n",
    "#guardar a excel por si fuese necesario comprobar resultados\n",
    "dfTotal.to_csv('dfTotal.csv')"
   ]
  },
  {
   "cell_type": "code",
   "execution_count": 53,
   "metadata": {
    "collapsed": false,
    "scrolled": true
   },
   "outputs": [
    {
     "name": "stdout",
     "output_type": "stream",
     "text": [
      "04/08/2014\n",
      "14/01/2015\n",
      "<class 'pandas.core.frame.DataFrame'>\n"
     ]
    },
    {
     "data": {
      "text/plain": [
       "<matplotlib.axes._subplots.AxesSubplot at 0x7f985ad85e50>"
      ]
     },
     "execution_count": 53,
     "metadata": {},
     "output_type": "execute_result"
    },
    {
     "data": {
      "image/png": "[encoded data removed]",
      "text/plain": [
       "<matplotlib.figure.Figure at 0x7f9860fba710>"
      ]
     },
     "metadata": {},
     "output_type": "display_data"
    }
   ],
   "source": [
    "#calculo de las fechas donde se btubo mayor valor y menor precio de cotizacion.\n",
    "max_day= dfTotal['price'].idxmax()\n",
    "min_day = dfTotal['price'].idxmin()\n",
    "#si fuese necesairo ordenar el dataframe\n",
    "#merged_data = merged_data.sort_values(by=['Close Price'], ascending=[True])\n",
    "print max_day\n",
    "print min_day\n",
    "\n",
    "#Calculo de la media movil en una ventana de 60\n",
    "r=dfTotal.rolling(window=60)\n",
    "print type(r.mean())\n",
    "#Se borran valores no numericos del calculo de la media movil\n",
    "rollingMean = r.mean().dropna()\n",
    "\n",
    "#estos son los intentos de plotear la media movil sin exito.\n",
    "#xx = rollingMean.reset_index()\n",
    "%matplotlib inline\n",
    "rollingMean.plot(style='k')\n",
    "#r.mean().plot(style='k')\n",
    "#ggplot(rollinMeanNAN, aes('date','price',color='currency'))+ geom_line(size=2.)\n",
    "#ggplot(aes(y='price', color='currency'), data=rollingMean) + geom_point()\n",
    "#ggplot(aes(x='date', y='price'), data=xx) + geom_line() + stat_smooth(colour='blue', span=0.2)\n"
   ]
  },
  {
   "cell_type": "code",
   "execution_count": 18,
   "metadata": {
    "collapsed": false
   },
   "outputs": [
    {
     "name": "stdout",
     "output_type": "stream",
     "text": [
      "date\n",
      "01/01/2014    5811.000000\n",
      "01/01/2015    1994.845320\n",
      "01/02/2014    6320.000000\n",
      "01/02/2015    1464.286970\n",
      "01/03/2015    1635.308460\n",
      "01/04/2015    1549.343310\n",
      "01/05/2015    1471.494170\n",
      "01/06/2014    3979.210300\n",
      "01/06/2015    1448.561040\n",
      "01/07/2014    4107.101560\n",
      "01/07/2015    1632.373880\n",
      "01/08/2014    3748.977390\n",
      "01/08/2015    1774.506260\n",
      "01/09/2014    3037.415650\n",
      "01/09/2015    1502.113170\n",
      "01/10/2014    2391.569290\n",
      "01/10/2015    1546.510130\n",
      "01/11/2013    1313.492063\n",
      "01/11/2014    2088.914540\n",
      "01/12/2013    6919.685039\n",
      "01/12/2014    2386.685940\n",
      "02/01/2014    6156.000000\n",
      "02/01/2015    1978.248130\n",
      "02/02/2014    6480.000000\n",
      "02/02/2015    1504.980070\n",
      "02/03/2015    1739.797240\n",
      "02/04/2014     344.944734\n",
      "02/04/2015    1564.997490\n",
      "02/05/2014     330.000000\n",
      "02/05/2015    1460.060040\n",
      "                 ...     \n",
      "30/01/2015    1527.172060\n",
      "30/03/2015    1641.559470\n",
      "30/04/2015    1488.829230\n",
      "30/05/2014    3824.861740\n",
      "30/05/2015    1466.919770\n",
      "30/06/2014    4100.307260\n",
      "30/06/2015    1662.709330\n",
      "30/07/2014    3696.607980\n",
      "30/07/2015    1797.168160\n",
      "30/08/2014    3138.238590\n",
      "30/08/2015    1484.538400\n",
      "30/09/2014    2460.956560\n",
      "30/09/2015    1538.267920\n",
      "30/10/2014    2172.430300\n",
      "30/11/2014    2368.115870\n",
      "30/12/2013    5750.000000\n",
      "30/12/2014    1981.554180\n",
      "31/01/2014    6299.904664\n",
      "31/01/2015    1477.142760\n",
      "31/03/2015    1569.708470\n",
      "31/05/2014    3869.838060\n",
      "31/05/2015    1447.011570\n",
      "31/07/2014    3699.562630\n",
      "31/07/2015    1789.720860\n",
      "31/08/2014    3106.808460\n",
      "31/08/2015    1483.544930\n",
      "31/10/2013    1349.206349\n",
      "31/10/2014    2136.826380\n",
      "31/12/2013    5900.000134\n",
      "31/12/2014    1993.185760\n",
      "Name: price, dtype: float64\n",
      "date\n",
      "01/01/2014     740.000000\n",
      "01/01/2015     260.076100\n",
      "01/02/2014    6202.111110\n",
      "01/02/2015     178.420000\n",
      "01/03/2015     216.243760\n",
      "01/04/2015     223.319870\n",
      "01/05/2015     206.244780\n",
      "01/06/2014     449.184360\n",
      "01/06/2015     201.795890\n",
      "01/07/2014     432.502970\n",
      "01/07/2015     228.816070\n",
      "01/08/2014     427.111270\n",
      "01/08/2015     249.879390\n",
      "01/09/2014     348.602940\n",
      "01/09/2015     193.192610\n",
      "01/10/2014     293.505000\n",
      "01/10/2015     201.666820\n",
      "01/11/2013    1313.492063\n",
      "01/11/2014     255.493760\n",
      "01/12/2013    6199.931725\n",
      "01/12/2014     283.559300\n",
      "02/01/2014     740.000000\n",
      "02/01/2015     259.422230\n",
      "02/02/2014    6323.999679\n",
      "02/02/2015     195.954010\n",
      "02/03/2015     224.081480\n",
      "02/04/2014     325.800000\n",
      "02/04/2015     221.018760\n",
      "02/05/2014     330.000000\n",
      "02/05/2015     206.529140\n",
      "                 ...     \n",
      "30/01/2015     200.720220\n",
      "30/03/2015     218.232280\n",
      "30/04/2015     200.378530\n",
      "30/05/2014     411.603850\n",
      "30/05/2015     210.314580\n",
      "30/06/2014     441.280520\n",
      "30/06/2015     228.789010\n",
      "30/07/2014     420.036680\n",
      "30/07/2015     257.167110\n",
      "30/08/2014     369.521400\n",
      "30/08/2015     190.184570\n",
      "30/09/2014     289.606600\n",
      "30/09/2015     207.825480\n",
      "30/10/2014     262.635830\n",
      "30/11/2014     298.827260\n",
      "30/12/2013     737.179500\n",
      "30/12/2014     255.629560\n",
      "31/01/2014    6202.098243\n",
      "31/01/2015     193.615710\n",
      "31/03/2015     224.923220\n",
      "31/05/2014     440.855810\n",
      "31/05/2015     205.841430\n",
      "31/07/2014     381.417310\n",
      "31/07/2015     256.452760\n",
      "31/08/2014     359.437090\n",
      "31/08/2015     197.106360\n",
      "31/10/2013    1251.968504\n",
      "31/10/2014     264.917090\n",
      "31/12/2013     713.129999\n",
      "31/12/2014     255.848320\n",
      "Name: price, dtype: float64\n",
      "30328.02253\n",
      "1986.35861052\n"
     ]
    }
   ],
   "source": [
    "#Obtener el dia del máximo spread (diferencia entre el mayor valor del precio y el menor)\n",
    "temporal = dfTotal.reset_index()\n",
    "temporal.head(5)\n",
    "spread = temporal.groupby('date')\n",
    "maxPriceByDate= spread['price'].max()\n",
    "minPriceByDate= spread['price'].min()\n",
    "spreaddf =maxPriceByDate - minPriceByDate\n",
    "spreadMax =spreaddf.max()\n",
    "print spreadMax\n",
    "spreadMean = spreaddf.mean()"
   ]
  },
  {
   "cell_type": "code",
   "execution_count": null,
   "metadata": {
    "collapsed": true
   },
   "outputs": [],
   "source": [
    "#Dibujar las diferentes series dos a dos marcando los dias de máximos spreads de otro color"
   ]
  },
  {
   "cell_type": "code",
   "execution_count": 31,
   "metadata": {
    "collapsed": false
   },
   "outputs": [
    {
     "data": {
      "text/plain": [
       "'04/08/2014'"
      ]
     },
     "execution_count": 31,
     "metadata": {},
     "output_type": "execute_result"
    }
   ],
   "source": [
    "#get day from max and min\n",
    "dfTotal.head(5)\n",
    "dfTotal['price'].argmax()\n"
   ]
  }
 ],
 "metadata": {
  "kernelspec": {
   "display_name": "Python 2",
   "language": "python",
   "name": "python2"
  },
  "language_info": {
   "codemirror_mode": {
    "name": "ipython",
    "version": 2
   },
   "file_extension": ".py",
   "mimetype": "text/x-python",
   "name": "python",
   "nbconvert_exporter": "python",
   "pygments_lexer": "ipython2",
   "version": "2.7.11"
  }
 },
 "nbformat": 4,
 "nbformat_minor": 0
}
