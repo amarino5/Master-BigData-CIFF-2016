{
 "cells": [
  {
   "cell_type": "markdown",
   "metadata": {},
   "source": [
    "# Prueba de evaluacion. Tratamiento de XML"
   ]
  },
  {
   "cell_type": "code",
   "execution_count": 212,
   "metadata": {
    "collapsed": false
   },
   "outputs": [],
   "source": [
    "import matplotlib.pyplot as plt\n",
    "%matplotlib inline\n",
    "import seaborn as sns\n",
    "\n"
   ]
  },
  {
   "cell_type": "code",
   "execution_count": 133,
   "metadata": {
    "collapsed": false
   },
   "outputs": [
    {
     "name": "stdout",
     "output_type": "stream",
     "text": [
      " Volume in drive C has no label.\n",
      " Volume Serial Number is BE20-3201\n",
      "\n",
      " Directory of C:\\Desarrollo\\repos\\Master-BigData-CIFF-2016\\entornos-DS-python\n",
      "\n",
      "\n",
      " Directory of C:\\Desarrollo\\repos\\Master-BigData-CIFF-2016\\entornos-DS-python\n",
      "\n",
      "02/10/2016  16:40            23.235 Unplanned Events.xml\n",
      "               1 File(s)         23.235 bytes\n",
      "               0 Dir(s)  95.239.340.032 bytes free\n"
     ]
    }
   ],
   "source": [
    "%ls -l *.xml"
   ]
  },
  {
   "cell_type": "code",
   "execution_count": 151,
   "metadata": {
    "collapsed": false,
    "scrolled": true
   },
   "outputs": [
    {
     "name": "stdout",
     "output_type": "stream",
     "text": [
      "{http://datex2.eu/schema/1_0/1_0}d2LogicalModel\n",
      "{'modelBaseVersion': '1.0'}\n",
      "2\n"
     ]
    }
   ],
   "source": [
    "from lxml import objectify\n",
    "parsed = objectify.parse('Unplanned Events.xml')\n",
    "root = parsed.getroot()\n",
    "print root.tag\n",
    "print root.attrib\n",
    "print root.countchildren()"
   ]
  },
  {
   "cell_type": "code",
   "execution_count": 223,
   "metadata": {
    "collapsed": false
   },
   "outputs": [
    {
     "data": {
      "text/html": [
       "<div>\n",
       "<table border=\"1\" class=\"dataframe\">\n",
       "  <thead>\n",
       "    <tr style=\"text-align: right;\">\n",
       "      <th></th>\n",
       "      <th>situation</th>\n",
       "      <th>probabilityOfOccurrence</th>\n",
       "      <th>impactOnTraffic</th>\n",
       "      <th>capacityRemaining</th>\n",
       "      <th>numberOfLanesRestricted</th>\n",
       "      <th>originalNumberOfLanes</th>\n",
       "      <th>trafficRestrictionType</th>\n",
       "      <th>delayTimeValue</th>\n",
       "      <th>availableLines</th>\n",
       "    </tr>\n",
       "  </thead>\n",
       "  <tbody>\n",
       "    <tr>\n",
       "      <th>0</th>\n",
       "      <td>GUID732336731</td>\n",
       "      <td>certain</td>\n",
       "      <td>heavy</td>\n",
       "      <td>75.0</td>\n",
       "      <td>1</td>\n",
       "      <td>4</td>\n",
       "      <td>carriagewayPartiallyObstructed</td>\n",
       "      <td>600.0</td>\n",
       "      <td>3</td>\n",
       "    </tr>\n",
       "    <tr>\n",
       "      <th>1</th>\n",
       "      <td>GUID732889125</td>\n",
       "      <td>certain</td>\n",
       "      <td>impossible</td>\n",
       "      <td>0.0</td>\n",
       "      <td>2</td>\n",
       "      <td>2</td>\n",
       "      <td>carriagewayBlocked</td>\n",
       "      <td>900.0</td>\n",
       "      <td>0</td>\n",
       "    </tr>\n",
       "    <tr>\n",
       "      <th>2</th>\n",
       "      <td>GUID732957845</td>\n",
       "      <td>certain</td>\n",
       "      <td>impossible</td>\n",
       "      <td>0.0</td>\n",
       "      <td>1</td>\n",
       "      <td>1</td>\n",
       "      <td>carriagewayBlocked</td>\n",
       "      <td>600.0</td>\n",
       "      <td>0</td>\n",
       "    </tr>\n",
       "    <tr>\n",
       "      <th>3</th>\n",
       "      <td>GUID733038589</td>\n",
       "      <td>certain</td>\n",
       "      <td>impossible</td>\n",
       "      <td>0.0</td>\n",
       "      <td>1</td>\n",
       "      <td>1</td>\n",
       "      <td>carriagewayBlocked</td>\n",
       "      <td>0.0</td>\n",
       "      <td>0</td>\n",
       "    </tr>\n",
       "    <tr>\n",
       "      <th>4</th>\n",
       "      <td>GUID733038591</td>\n",
       "      <td>certain</td>\n",
       "      <td>impossible</td>\n",
       "      <td>0.0</td>\n",
       "      <td>1</td>\n",
       "      <td>1</td>\n",
       "      <td>carriagewayBlocked</td>\n",
       "      <td>0.0</td>\n",
       "      <td>0</td>\n",
       "    </tr>\n",
       "    <tr>\n",
       "      <th>5</th>\n",
       "      <td>GUID733043648</td>\n",
       "      <td>certain</td>\n",
       "      <td>freeFlow</td>\n",
       "      <td>33.0</td>\n",
       "      <td>2</td>\n",
       "      <td>3</td>\n",
       "      <td>carriagewayPartiallyObstructed</td>\n",
       "      <td>0.0</td>\n",
       "      <td>1</td>\n",
       "    </tr>\n",
       "  </tbody>\n",
       "</table>\n",
       "</div>"
      ],
      "text/plain": [
       "       situation probabilityOfOccurrence impactOnTraffic  capacityRemaining  \\\n",
       "0  GUID732336731                 certain           heavy               75.0   \n",
       "1  GUID732889125                 certain      impossible                0.0   \n",
       "2  GUID732957845                 certain      impossible                0.0   \n",
       "3  GUID733038589                 certain      impossible                0.0   \n",
       "4  GUID733038591                 certain      impossible                0.0   \n",
       "5  GUID733043648                 certain        freeFlow               33.0   \n",
       "\n",
       "   numberOfLanesRestricted  originalNumberOfLanes  \\\n",
       "0                        1                      4   \n",
       "1                        2                      2   \n",
       "2                        1                      1   \n",
       "3                        1                      1   \n",
       "4                        1                      1   \n",
       "5                        2                      3   \n",
       "\n",
       "           trafficRestrictionType  delayTimeValue  availableLines  \n",
       "0  carriagewayPartiallyObstructed           600.0               3  \n",
       "1              carriagewayBlocked           900.0               0  \n",
       "2              carriagewayBlocked           600.0               0  \n",
       "3              carriagewayBlocked             0.0               0  \n",
       "4              carriagewayBlocked             0.0               0  \n",
       "5  carriagewayPartiallyObstructed             0.0               1  "
      ]
     },
     "execution_count": 223,
     "metadata": {},
     "output_type": "execute_result"
    }
   ],
   "source": [
    "situation=[]\n",
    "probabilityOfOccurrence=[]\n",
    "impactOnTraffic =[]\n",
    "capacityRemaining=[]\n",
    "numberOfLanesRestricted=[]\n",
    "numberOfOperationalLanes =[]\n",
    "originalNumberOfLanes = []\n",
    "trafficRestrictionType = []\n",
    "delayTimeValue = []\n",
    "comment = []\n",
    "effectOnRoadLayout = []\n",
    "subjectTypeOfWorks =[]\n",
    "\n",
    "for row in root.payloadPublication.situation:\n",
    "    situation.append(row.get('id'))\n",
    "    probabilityOfOccurrence.append(row.situationRecord.probabilityOfOccurrence.text)\n",
    "    impactOnTraffic.append(row.situationRecord.impact.impactOnTraffic.text)\n",
    "    capacityRemaining.append(float(row.situationRecord.impact.impactDetails.capacityRemaining.text))\n",
    "    numberOfLanesRestricted.append(int(row.situationRecord.impact.impactDetails.numberOfLanesRestricted.text))\n",
    "    numberOfOperationalLanes.append(int(row.situationRecord.impact.impactDetails.numberOfOperationalLanes.text))\n",
    "    originalNumberOfLanes.append(int(row.situationRecord.impact.impactDetails.originalNumberOfLanes.text))\n",
    "    trafficRestrictionType.append( row.situationRecord.impact.impactDetails.trafficRestrictionType.text)\n",
    "    delayTimeValue.append(float(row.situationRecord.impact.delays.delayTimeValue.text))\n",
    "    #effectOnRoadLayout.append(row.situationRecord.effectOnRoadLayout.text)\n",
    "    #subjectTypeOfWorks.append(row.situationRecord.subjectTypeOfWorks.text)\n",
    "    #comment.append(row.situationRecord.nonGeneralPublicComment.comment.value.text)\n",
    "    \n",
    "    \n",
    "data = pd.DataFrame()\n",
    "data['situation'] = situation\n",
    "data['probabilityOfOccurrence'] = probabilityOfOccurrence\n",
    "data['impactOnTraffic'] = impactOnTraffic\n",
    "data['capacityRemaining'] = capacityRemaining\n",
    "data['numberOfLanesRestricted'] = numberOfLanesRestricted\n",
    "data['originalNumberOfLanes'] = originalNumberOfLanes\n",
    "data['trafficRestrictionType'] = trafficRestrictionType\n",
    "data['delayTimeValue'] = delayTimeValue\n",
    "data['availableLines'] = data['originalNumberOfLanes'] - data['numberOfLanesRestricted']\n",
    "#data['comment'] = comment\n",
    "#data['effectOnRoadLayout'] = effectOnRoadLayout\n",
    "#data['subjectTypeOfWorks'] = subjectTypeOfWorks\n",
    "\n",
    "data.head(50)\n",
    "#data['capacityRemaining'].describe()"
   ]
  },
  {
   "cell_type": "markdown",
   "metadata": {},
   "source": [
    "# 1.Histograms"
   ]
  },
  {
   "cell_type": "code",
   "execution_count": 226,
   "metadata": {
    "collapsed": false
   },
   "outputs": [
    {
     "data": {
      "text/plain": [
       "<seaborn.axisgrid.FacetGrid at 0x2ae77f60>"
      ]
     },
     "execution_count": 226,
     "metadata": {},
     "output_type": "execute_result"
    },
    {
     "data": {
      "image/png": "[encoded data removed]",
      "text/plain": [
       "<matplotlib.figure.Figure at 0xe2c20b8>"
      ]
     },
     "metadata": {},
     "output_type": "display_data"
    }
   ],
   "source": [
    "sns.factorplot('impactOnTraffic','capacityRemaining',hue='availableLines',data=data)"
   ]
  },
  {
   "cell_type": "code",
   "execution_count": 227,
   "metadata": {
    "collapsed": false
   },
   "outputs": [
    {
     "data": {
      "text/plain": [
       "<seaborn.axisgrid.FacetGrid at 0x29f73208>"
      ]
     },
     "execution_count": 227,
     "metadata": {},
     "output_type": "execute_result"
    },
    {
     "data": {
      "image/png": "[encoded data removed]",
      "text/plain": [
       "<matplotlib.figure.Figure at 0x29a9b208>"
      ]
     },
     "metadata": {},
     "output_type": "display_data"
    }
   ],
   "source": [
    "sns.factorplot('impactOnTraffic','delayTimeValue',hue='availableLines',data=data)"
   ]
  },
  {
   "cell_type": "code",
   "execution_count": null,
   "metadata": {
    "collapsed": true
   },
   "outputs": [],
   "source": []
  }
 ],
 "metadata": {
  "anaconda-cloud": {},
  "kernelspec": {
   "display_name": "Python [default]",
   "language": "python",
   "name": "python2"
  },
  "language_info": {
   "codemirror_mode": {
    "name": "ipython",
    "version": 2
   },
   "file_extension": ".py",
   "mimetype": "text/x-python",
   "name": "python",
   "nbconvert_exporter": "python",
   "pygments_lexer": "ipython2",
   "version": "2.7.12"
  }
 },
 "nbformat": 4,
 "nbformat_minor": 0
}
