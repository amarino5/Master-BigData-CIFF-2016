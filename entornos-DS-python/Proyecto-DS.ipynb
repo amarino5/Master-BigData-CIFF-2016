{
 "cells": [
  {
   "cell_type": "code",
   "execution_count": 3,
   "metadata": {
    "collapsed": true
   },
   "outputs": [],
   "source": [
    "import pandas as pd\n",
    "import numpy as np\n",
    "#Read chunks \n",
    "df1 = pd.read_csv(\"data/chunk1.csv\")\n",
    "df2 = pd.read_csv(\"data/chunk2.csv\")\n",
    "df3 = pd.read_csv(\"data/chunk3.csv\")"
   ]
  },
  {
   "cell_type": "code",
   "execution_count": 16,
   "metadata": {
    "collapsed": false
   },
   "outputs": [
    {
     "name": "stdout",
     "output_type": "stream",
     "text": [
      "Date           595\n",
      "Close Price    589\n",
      "dtype: int64\n"
     ]
    }
   ],
   "source": [
    "print df1.count()+df2.count()+df3.count()"
   ]
  },
  {
   "cell_type": "code",
   "execution_count": 9,
   "metadata": {
    "collapsed": false
   },
   "outputs": [
    {
     "data": {
      "text/html": [
       "<div>\n",
       "<table border=\"1\" class=\"dataframe\">\n",
       "  <thead>\n",
       "    <tr style=\"text-align: right;\">\n",
       "      <th></th>\n",
       "      <th>Date</th>\n",
       "      <th>Close Price</th>\n",
       "    </tr>\n",
       "  </thead>\n",
       "  <tbody>\n",
       "    <tr>\n",
       "      <th>0</th>\n",
       "      <td>2015-04-01 00:00:00</td>\n",
       "      <td>246.55</td>\n",
       "    </tr>\n",
       "    <tr>\n",
       "      <th>1</th>\n",
       "      <td>2015-04-02 00:00:00</td>\n",
       "      <td>252.26</td>\n",
       "    </tr>\n",
       "    <tr>\n",
       "      <th>2</th>\n",
       "      <td>2015-04-03 00:00:00</td>\n",
       "      <td>253.54</td>\n",
       "    </tr>\n",
       "    <tr>\n",
       "      <th>3</th>\n",
       "      <td>2015-04-04 00:00:00</td>\n",
       "      <td>253.12</td>\n",
       "    </tr>\n",
       "    <tr>\n",
       "      <th>4</th>\n",
       "      <td>2015-04-05 00:00:00</td>\n",
       "      <td>259.95</td>\n",
       "    </tr>\n",
       "  </tbody>\n",
       "</table>\n",
       "</div>"
      ],
      "text/plain": [
       "                  Date  Close Price\n",
       "0  2015-04-01 00:00:00       246.55\n",
       "1  2015-04-02 00:00:00       252.26\n",
       "2  2015-04-03 00:00:00       253.54\n",
       "3  2015-04-04 00:00:00       253.12\n",
       "4  2015-04-05 00:00:00       259.95"
      ]
     },
     "execution_count": 9,
     "metadata": {},
     "output_type": "execute_result"
    }
   ],
   "source": [
    "df1.head(5)"
   ]
  },
  {
   "cell_type": "code",
   "execution_count": 11,
   "metadata": {
    "collapsed": false
   },
   "outputs": [
    {
     "name": "stdout",
     "output_type": "stream",
     "text": [
      "Date           448\n",
      "Close Price    446\n",
      "dtype: int64\n",
      "Close Price    446\n",
      "dtype: int64\n"
     ]
    }
   ],
   "source": [
    "#merge data into one dataset\n",
    "merged_data = df1.merge(df2.merge(df3,how=\"outer\"),how=\"outer\")\n",
    "print merged_data.count()\n",
    "#set index Date column\n",
    "merged_data= merged_data.set_index(['Date'])\n",
    "merged_data= merged_data.dropna()\n",
    "print merged_data.count()"
   ]
  },
  {
   "cell_type": "code",
   "execution_count": 42,
   "metadata": {
    "collapsed": false
   },
   "outputs": [],
   "source": [
    "#check nulls, so remove values.\n",
    "max_day= merged_data.idxmax()\n",
    "min_day = merged_data.idxmin()"
   ]
  },
  {
   "cell_type": "code",
   "execution_count": null,
   "metadata": {
    "collapsed": true
   },
   "outputs": [],
   "source": [
    "#get day from max and min\n",
    "max_day = merged_data[\"Date\",max(\"\")]"
   ]
  }
 ],
 "metadata": {
  "kernelspec": {
   "display_name": "Python 2",
   "language": "python",
   "name": "python2"
  },
  "language_info": {
   "codemirror_mode": {
    "name": "ipython",
    "version": 2
   },
   "file_extension": ".py",
   "mimetype": "text/x-python",
   "name": "python",
   "nbconvert_exporter": "python",
   "pygments_lexer": "ipython2",
   "version": "2.7.11"
  }
 },
 "nbformat": 4,
 "nbformat_minor": 0
}
