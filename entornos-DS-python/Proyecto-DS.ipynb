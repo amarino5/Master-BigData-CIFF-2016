{
 "cells": [
  {
   "cell_type": "code",
   "execution_count": 3,
   "metadata": {
    "collapsed": false
   },
   "outputs": [],
   "source": [
    "import pandas as pd \n",
    "import numpy as np \n",
    "import ggplot as g \n",
    "import datetime \n",
    "from ggplot import * \n",
    "from numpy import convolve \n",
    "import matplotlib.pyplot as plt\n"
   ]
  },
  {
   "cell_type": "code",
   "execution_count": 4,
   "metadata": {
    "collapsed": false
   },
   "outputs": [
    {
     "data": {
      "text/plain": [
       "u'/home/osboxes/app/Master-BigData-CIFF-2016/entornos-DS-python'"
      ]
     },
     "execution_count": 4,
     "metadata": {},
     "output_type": "execute_result"
    }
   ],
   "source": [
    "%pwd"
   ]
  },
  {
   "cell_type": "code",
   "execution_count": 5,
   "metadata": {
    "collapsed": true
   },
   "outputs": [],
   "source": [
    "##Funcion lambda para la trnasformacion de los timestamps en fechas\n",
    "changeToDate = lambda x: datetime.datetime.utcfromtimestamp(x).strftime('%d/%m/%Y')"
   ]
  },
  {
   "cell_type": "code",
   "execution_count": 6,
   "metadata": {
    "collapsed": false
   },
   "outputs": [
    {
     "data": {
      "text/html": [
       "<div>\n",
       "<table border=\"1\" class=\"dataframe\">\n",
       "  <thead>\n",
       "    <tr style=\"text-align: right;\">\n",
       "      <th></th>\n",
       "      <th>date</th>\n",
       "      <th>price</th>\n",
       "      <th>amount</th>\n",
       "      <th>currency</th>\n",
       "    </tr>\n",
       "  </thead>\n",
       "  <tbody>\n",
       "    <tr>\n",
       "      <th>0</th>\n",
       "      <td>22/10/2013</td>\n",
       "      <td>1259.842519</td>\n",
       "      <td>0.010000</td>\n",
       "      <td>CNY</td>\n",
       "    </tr>\n",
       "    <tr>\n",
       "      <th>1</th>\n",
       "      <td>27/10/2013</td>\n",
       "      <td>1198.412822</td>\n",
       "      <td>0.083444</td>\n",
       "      <td>CNY</td>\n",
       "    </tr>\n",
       "    <tr>\n",
       "      <th>2</th>\n",
       "      <td>29/10/2013</td>\n",
       "      <td>1262.698413</td>\n",
       "      <td>0.079000</td>\n",
       "      <td>CNY</td>\n",
       "    </tr>\n",
       "    <tr>\n",
       "      <th>3</th>\n",
       "      <td>31/10/2013</td>\n",
       "      <td>1309.523809</td>\n",
       "      <td>0.300000</td>\n",
       "      <td>CNY</td>\n",
       "    </tr>\n",
       "    <tr>\n",
       "      <th>4</th>\n",
       "      <td>31/10/2013</td>\n",
       "      <td>1349.206349</td>\n",
       "      <td>0.544861</td>\n",
       "      <td>CNY</td>\n",
       "    </tr>\n",
       "  </tbody>\n",
       "</table>\n",
       "</div>"
      ],
      "text/plain": [
       "         date        price    amount currency\n",
       "0  22/10/2013  1259.842519  0.010000      CNY\n",
       "1  27/10/2013  1198.412822  0.083444      CNY\n",
       "2  29/10/2013  1262.698413  0.079000      CNY\n",
       "3  31/10/2013  1309.523809  0.300000      CNY\n",
       "4  31/10/2013  1349.206349  0.544861      CNY"
      ]
     },
     "execution_count": 6,
     "metadata": {},
     "output_type": "execute_result"
    }
   ],
   "source": [
    "#Lectura de cada fichero con los datos de la fluctuacion del bitcoin por moneda  \n",
    "dfCNY = pd.read_csv(\"data/anxhkCNY.csv\") \n",
    "dfCNY.columns=['date','price','amount'] \n",
    "dfCNY[\"currency\"] = \"CNY\" \n",
    "dfCNY['date']=dfCNY['date'].apply(changeToDate)\n",
    "dfCNY.head(5)"
   ]
  },
  {
   "cell_type": "code",
   "execution_count": 7,
   "metadata": {
    "collapsed": false
   },
   "outputs": [
    {
     "data": {
      "text/html": [
       "<div>\n",
       "<table border=\"1\" class=\"dataframe\">\n",
       "  <thead>\n",
       "    <tr style=\"text-align: right;\">\n",
       "      <th></th>\n",
       "      <th>date</th>\n",
       "      <th>price</th>\n",
       "      <th>amount</th>\n",
       "      <th>currency</th>\n",
       "    </tr>\n",
       "  </thead>\n",
       "  <tbody>\n",
       "    <tr>\n",
       "      <th>0</th>\n",
       "      <td>22/10/2013</td>\n",
       "      <td>1259.842519</td>\n",
       "      <td>0.010000</td>\n",
       "      <td>CNY</td>\n",
       "    </tr>\n",
       "    <tr>\n",
       "      <th>1</th>\n",
       "      <td>27/10/2013</td>\n",
       "      <td>1198.412822</td>\n",
       "      <td>0.083444</td>\n",
       "      <td>CNY</td>\n",
       "    </tr>\n",
       "    <tr>\n",
       "      <th>2</th>\n",
       "      <td>29/10/2013</td>\n",
       "      <td>1262.698413</td>\n",
       "      <td>0.079000</td>\n",
       "      <td>CNY</td>\n",
       "    </tr>\n",
       "    <tr>\n",
       "      <th>3</th>\n",
       "      <td>31/10/2013</td>\n",
       "      <td>1309.523809</td>\n",
       "      <td>0.300000</td>\n",
       "      <td>CNY</td>\n",
       "    </tr>\n",
       "    <tr>\n",
       "      <th>4</th>\n",
       "      <td>31/10/2013</td>\n",
       "      <td>1349.206349</td>\n",
       "      <td>0.544861</td>\n",
       "      <td>CNY</td>\n",
       "    </tr>\n",
       "  </tbody>\n",
       "</table>\n",
       "</div>"
      ],
      "text/plain": [
       "         date        price    amount currency\n",
       "0  22/10/2013  1259.842519  0.010000      CNY\n",
       "1  27/10/2013  1198.412822  0.083444      CNY\n",
       "2  29/10/2013  1262.698413  0.079000      CNY\n",
       "3  31/10/2013  1309.523809  0.300000      CNY\n",
       "4  31/10/2013  1349.206349  0.544861      CNY"
      ]
     },
     "execution_count": 7,
     "metadata": {},
     "output_type": "execute_result"
    }
   ],
   "source": [
    "\n",
    "\n",
    "dfEUR = pd.read_csv(\"data/anxhkEUR.csv\")\n",
    "dfEUR.columns=['date','price','amount'] \n",
    "dfEUR[\"currency\"] = \"EUR\" \n",
    "dfEUR['date']=dfEUR['date'].apply(changeToDate)\n",
    "#dfGBP = pd.read_csv(\"data/anxhkGBP.csv\") \n",
    "#dfGBP.columns=['date','price','amount']\n",
    "#dfGBP[\"currency\"] = \"GBP\" \n",
    "#dfGBP[\"date\"].apply(changeToDate)\n",
    "#dfJPY = pd.read_csv(\"data/anxhkJPY.csv\")\n",
    "#dfJPY.columns=['date','price','amount']\n",
    "#dfJPY[\"currency\"] = \"JPY\" \n",
    "#dfJPY[\"date\"].apply(changeToDate)\n",
    "#dfUSD = pd.read_csv(\"data/anxhkUSD.csv\")\n",
    "#dfUSD.columns=['date','price','amount']\n",
    "#dfUSD[\"currency\"] = \"USD\" \n",
    "#dfUSD[\"date\"].apply(changeToDate)\n",
    "\n",
    "#dfTotal = dfCNY.merge(dfEUR.merge(dfGBP.merge(dfJPY.merge(dfUSD,how='outer'),how='outer'),how='outer'),how='outer')\n",
    "dfTotal = dfCNY.merge(dfEUR,how='outer')\n",
    "dfTotal.head(5)"
   ]
  },
  {
   "cell_type": "code",
   "execution_count": 8,
   "metadata": {
    "collapsed": false
   },
   "outputs": [],
   "source": [
    "#establecer como indice la fecha de la medicion\n",
    "dfTotal= dfTotal.set_index(['date'])\n",
    "dfTotal= dfTotal.dropna()\n",
    "dfTotal.head(5)\n",
    "#guardar a excel por si fuese necesario comprobar resultados\n",
    "dfTotal.to_csv('dfTotal.csv')"
   ]
  },
  {
   "cell_type": "code",
   "execution_count": 35,
   "metadata": {
    "collapsed": false,
    "scrolled": true
   },
   "outputs": [
    {
     "name": "stdout",
     "output_type": "stream",
     "text": [
      "04/08/2014\n",
      "14/01/2015\n",
      "<class 'pandas.core.frame.DataFrame'>\n",
      "               date        price    amount currency\n",
      "0        21/11/2013  2745.725982  0.930309      CNY\n",
      "1        21/11/2013  2793.919083  0.930476      CNY\n",
      "2        21/11/2013  2855.966533  0.929409      CNY\n",
      "3        21/11/2013  2911.588255  0.928438      CNY\n",
      "4        22/11/2013  2956.429525  0.923785      CNY\n",
      "5        22/11/2013  3003.131891  0.916037      CNY\n",
      "6        22/11/2013  3061.254461  0.913451      CNY\n",
      "7        22/11/2013  3123.349317  0.905462      CNY\n",
      "8        22/11/2013  3184.134948  0.904859      CNY\n",
      "9        22/11/2013  3245.880355  0.804789      CNY\n",
      "10       22/11/2013  3309.539242  0.790674      CNY\n",
      "11       23/11/2013  3375.970932  0.743306      CNY\n",
      "12       23/11/2013  3442.883630  0.612473      CNY\n",
      "13       23/11/2013  3517.883630  0.598040      CNY\n",
      "14       23/11/2013  3591.116919  0.606506      CNY\n",
      "15       23/11/2013  3661.636086  0.590340      CNY\n",
      "16       23/11/2013  3733.196932  0.589766      CNY\n",
      "17       23/11/2013  3799.665184  0.588587      CNY\n",
      "18       24/11/2013  3859.209825  0.572237      CNY\n",
      "19       24/11/2013  3911.585279  0.557119      CNY\n",
      "20       24/11/2013  3963.501945  0.556319      CNY\n",
      "21       24/11/2013  4022.903166  0.474061      CNY\n",
      "22       24/11/2013  4081.683343  0.474023      CNY\n",
      "23       25/11/2013  4133.847715  0.450903      CNY\n",
      "24       25/11/2013  4186.013118  0.444893      CNY\n",
      "25       25/11/2013  4244.187721  0.444893      CNY\n",
      "26       25/11/2013  4301.330578  0.291143      CNY\n",
      "27       25/11/2013  4352.738224  0.293415      CNY\n",
      "28       25/11/2013  4400.795967  0.289780      CNY\n",
      "29       25/11/2013  4444.711310  0.281452      CNY\n",
      "...             ...          ...       ...      ...\n",
      "1271672  10/10/2015   215.394268  0.286433      EUR\n",
      "1271673  10/10/2015   215.399572  0.286100      EUR\n",
      "1271674  10/10/2015   215.404934  0.288600      EUR\n",
      "1271675  10/10/2015   215.405482  0.286600      EUR\n",
      "1271676  10/10/2015   215.410847  0.287050      EUR\n",
      "1271677  10/10/2015   215.416588  0.282717      EUR\n",
      "1271678  10/10/2015   215.422299  0.282633      EUR\n",
      "1271679  10/10/2015   215.427998  0.283683      EUR\n",
      "1271680  10/10/2015   215.433561  0.281350      EUR\n",
      "1271681  10/10/2015   215.439276  0.281017      EUR\n",
      "1271682  10/10/2015   215.529984  0.419773      EUR\n",
      "1271683  10/10/2015   215.595480  0.419842      EUR\n",
      "1271684  10/10/2015   215.601306  0.420175      EUR\n",
      "1271685  10/10/2015   215.673646  0.417791      EUR\n",
      "1271686  10/10/2015   215.679428  0.416908      EUR\n",
      "1271687  10/10/2015   215.751779  0.416404      EUR\n",
      "1271688  10/10/2015   215.757722  0.414787      EUR\n",
      "1271689  10/10/2015   215.763702  0.410787      EUR\n",
      "1271690  10/10/2015   215.770063  0.408404      EUR\n",
      "1271691  10/10/2015   215.839897  0.407875      EUR\n",
      "1271692  10/10/2015   215.827826  0.407875      EUR\n",
      "1271693  10/10/2015   215.898248  0.406189      EUR\n",
      "1271694  10/10/2015   215.901197  0.407922      EUR\n",
      "1271695  10/10/2015   215.904173  0.410789      EUR\n",
      "1271696  10/10/2015   215.905029  0.409839      EUR\n",
      "1271697  10/10/2015   215.910276  0.408572      EUR\n",
      "1271698  10/10/2015   215.915529  0.412472      EUR\n",
      "1271699  10/10/2015   215.918841  0.412339      EUR\n",
      "1271700  10/10/2015   215.923915  0.410839      EUR\n",
      "1271701  10/10/2015   215.927652  0.408839      EUR\n",
      "\n",
      "[1271702 rows x 4 columns]\n"
     ]
    },
    {
     "ename": "NameError",
     "evalue": "name 'date' is not defined",
     "output_type": "error",
     "traceback": [
      "\u001b[1;31m---------------------------------------------------------------------------\u001b[0m",
      "\u001b[1;31mNameError\u001b[0m                                 Traceback (most recent call last)",
      "\u001b[1;32m<ipython-input-35-4f91bda99a0c>\u001b[0m in \u001b[0;36m<module>\u001b[1;34m()\u001b[0m\n\u001b[0;32m     21\u001b[0m \u001b[1;31m#ggplot(rollinMeanNAN, aes('date','price',color='currency'))+ geom_line(size=2.)\u001b[0m\u001b[1;33m\u001b[0m\u001b[1;33m\u001b[0m\u001b[0m\n\u001b[0;32m     22\u001b[0m \u001b[1;31m#ggplot(aes(y='price', color='currency'), data=rollingMean) + geom_point()\u001b[0m\u001b[1;33m\u001b[0m\u001b[1;33m\u001b[0m\u001b[0m\n\u001b[1;32m---> 23\u001b[1;33m \u001b[0mggplot\u001b[0m\u001b[1;33m(\u001b[0m\u001b[0mxx\u001b[0m\u001b[1;33m.\u001b[0m\u001b[0mprice\u001b[0m\u001b[1;33m,\u001b[0m \u001b[0maes\u001b[0m\u001b[1;33m(\u001b[0m\u001b[0mdate\u001b[0m\u001b[1;33m,\u001b[0m \u001b[0mprice\u001b[0m\u001b[1;33m)\u001b[0m\u001b[1;33m)\u001b[0m \u001b[1;33m+\u001b[0m \u001b[0mgeom_lines\u001b[0m\u001b[1;33m(\u001b[0m\u001b[1;33m)\u001b[0m\u001b[1;33m\u001b[0m\u001b[0m\n\u001b[0m",
      "\u001b[1;31mNameError\u001b[0m: name 'date' is not defined"
     ]
    }
   ],
   "source": [
    "#calculo de las fechas donde se btubo mayor valor y menor precio de cotizacion.\n",
    "max_day= dfTotal['price'].idxmax()\n",
    "min_day = dfTotal['price'].idxmin()\n",
    "#si fuese necesairo ordenar el dataframe\n",
    "#merged_data = merged_data.sort_values(by=['Close Price'], ascending=[True])\n",
    "print max_day\n",
    "print min_day\n",
    "\n",
    "#Calculo de la media movil en una ventana de 60\n",
    "r=dfTotal.rolling(window=60)\n",
    "print type(r.mean())\n",
    "#Se borran valores no numericos del calculo de la media movil\n",
    "rollingMean = r.mean().dropna()\n",
    "\n",
    "#estos son los intentos de plotear la media movil sin exito.\n",
    "xx = rollingMean.reset_index()\n",
    "print xx\n",
    "%matplotlib inline\n",
    "#merged_data.plot(style='k')\n",
    "#r.mean().plot(style='k')\n",
    "#ggplot(rollinMeanNAN, aes('date','price',color='currency'))+ geom_line(size=2.)\n",
    "#ggplot(aes(y='price', color='currency'), data=rollingMean) + geom_point()\n",
    "ggplot(xx.price, aes(date, price)) + geom_lines()"
   ]
  },
  {
   "cell_type": "code",
   "execution_count": 34,
   "metadata": {
    "collapsed": false
   },
   "outputs": [
    {
     "name": "stdout",
     "output_type": "stream",
     "text": [
      "date\n",
      "01/01/2014    5071.000000\n",
      "01/01/2015    1734.769220\n",
      "01/02/2014     117.888890\n",
      "01/02/2015    1285.866970\n",
      "01/03/2015    1419.064700\n",
      "01/04/2015    1326.023440\n",
      "01/05/2015    1265.249390\n",
      "01/06/2014    3530.025940\n",
      "01/06/2015    1246.765150\n",
      "01/07/2014    3674.598590\n",
      "01/07/2015    1403.557810\n",
      "01/08/2014    3321.866120\n",
      "01/08/2015    1524.626870\n",
      "01/09/2014    2688.812710\n",
      "01/09/2015    1308.920560\n",
      "01/10/2014    2098.064290\n",
      "01/10/2015    1344.843310\n",
      "01/11/2013       0.000000\n",
      "01/11/2014    1833.420780\n",
      "01/12/2013     719.753314\n",
      "01/12/2014    2103.126640\n",
      "02/01/2014    5416.000000\n",
      "02/01/2015    1718.825900\n",
      "02/02/2014     156.000321\n",
      "02/02/2015    1309.026060\n",
      "02/03/2015    1515.715760\n",
      "02/04/2014      19.144734\n",
      "02/04/2015    1343.978730\n",
      "02/05/2014       0.000000\n",
      "02/05/2015    1253.530900\n",
      "                 ...     \n",
      "30/01/2015    1326.451840\n",
      "30/03/2015    1423.327190\n",
      "30/04/2015    1288.450700\n",
      "30/05/2014    3413.257890\n",
      "30/05/2015    1256.605190\n",
      "30/06/2014    3659.026740\n",
      "30/06/2015    1433.920320\n",
      "30/07/2014    3276.571300\n",
      "30/07/2015    1540.001050\n",
      "30/08/2014    2768.717190\n",
      "30/08/2015    1294.353830\n",
      "30/09/2014    2171.349960\n",
      "30/09/2015    1330.442440\n",
      "30/10/2014    1909.794470\n",
      "30/11/2014    2069.288610\n",
      "30/12/2013    5012.820500\n",
      "30/12/2014    1725.924620\n",
      "31/01/2014      97.806420\n",
      "31/01/2015    1283.527050\n",
      "31/03/2015    1344.785250\n",
      "31/05/2014    3428.982250\n",
      "31/05/2015    1241.170140\n",
      "31/07/2014    3318.145320\n",
      "31/07/2015    1533.268100\n",
      "31/08/2014    2747.371370\n",
      "31/08/2015    1286.438570\n",
      "31/10/2013      97.237845\n",
      "31/10/2014    1871.909290\n",
      "31/12/2013    5186.870134\n",
      "31/12/2014    1737.337440\n",
      "Name: price, dtype: float64\n",
      "30328.02253\n",
      "1986.35861052\n"
     ]
    }
   ],
   "source": [
    "#Obtener el dia del máximo spread (diferencia entre el mayor valor del precio y el menor)\n",
    "temporal = dfTotal.reset_index()\n",
    "temporal.head(5)\n",
    "spread = temporal.groupby('date')\n",
    "maxPriceByDate= spread['price'].max()\n",
    "minPriceByDate= spread['price'].min()\n",
    "spreaddf =maxPriceByDate - minPriceByDate\n",
    "spreadMax =spreaddf.max()\n",
    "print spreadMax\n",
    "spreadMean = spreaddf.mean()\n",
    "print spreadMean"
   ]
  },
  {
   "cell_type": "code",
   "execution_count": null,
   "metadata": {
    "collapsed": true
   },
   "outputs": [],
   "source": [
    "#Dibujar las diferentes series dos a dos marcando los dias de máximos spreads de otro color"
   ]
  },
  {
   "cell_type": "code",
   "execution_count": null,
   "metadata": {
    "collapsed": true
   },
   "outputs": [],
   "source": [
    "#get day from max and min\n",
    "max_day = merged_data[\"Date\",max(\"\")]"
   ]
  }
 ],
 "metadata": {
  "kernelspec": {
   "display_name": "Python 2",
   "language": "python",
   "name": "python2"
  },
  "language_info": {
   "codemirror_mode": {
    "name": "ipython",
    "version": 2
   },
   "file_extension": ".py",
   "mimetype": "text/x-python",
   "name": "python",
   "nbconvert_exporter": "python",
   "pygments_lexer": "ipython2",
   "version": "2.7.11"
  }
 },
 "nbformat": 4,
 "nbformat_minor": 0
}
