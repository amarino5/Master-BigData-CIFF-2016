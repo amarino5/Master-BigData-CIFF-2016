{
 "cells": [
  {
   "cell_type": "markdown",
   "metadata": {},
   "source": [
    "# Manipulacion de ficheros en formato CVS y HDFS5"
   ]
  },
  {
   "cell_type": "code",
   "execution_count": 1,
   "metadata": {
    "collapsed": true
   },
   "outputs": [],
   "source": [
    "import numpy as np\n",
    "import tables as tb\n",
    "import pandas as pd\n",
    "import glob"
   ]
  },
  {
   "cell_type": "code",
   "execution_count": 25,
   "metadata": {
    "collapsed": false
   },
   "outputs": [
    {
     "name": "stdout",
     "output_type": "stream",
     "text": [
      "D:\\Formacion\\Master CIFF\\entorno_DS_Python\\proyecto\\data\n"
     ]
    },
    {
     "data": {
      "text/plain": [
       "array(['0.05', '0.02', '0.01', '0.00', '0.03', '0.09', '0.24', '0.22',\n",
       "       '0.38', 'M', '0.11', '0.62', '2.61', '0.07', '0.33', '0.29', '  T',\n",
       "       '0.36', '0.06', '1.35', '0.18', '0.26', '0.34', '0.57', '0.10',\n",
       "       '0.39', '1.11', '0.16', '0.13', '0.17', '0.12', '0.19', '0.67',\n",
       "       '0.55', '0.95', '0.68', '0.28', '0.15', '0.08', '0.52', '0.25',\n",
       "       '0.21', '0.04', '0.48', '0.47', '0.32', '0.86', '0.42', '0.31',\n",
       "       '0.23', '1.67', '0.43', '0.20', '0.64', '1.66', '0.35', '0.72',\n",
       "       '0.65', '0.60', '0.63', '0.14', '0.41', '0.74', '0.51', '0.46',\n",
       "       '0.85', '0.53', '0.78', '1.02', '0.30', '0.49', '0.50', '0.59',\n",
       "       '0.45', '1.38', '0.37', '1.44', '1.08', '0.66', '0.87', '0.44',\n",
       "       '0.84', '0.94', '1.46', '0.56', '1.40', '0.82', '0.77', '1.13',\n",
       "       '0.27', '0.58', '0.93', '0.61', '1.24', '0.76', '1.56', '0.97',\n",
       "       '1.06', '1.89', '0.99', '1.39', '1.43', '0.54', '1.25', '1.20',\n",
       "       '0.70', '1.61', '0.90', '3.07', '0.73', '0.71', '0.89', '0.69',\n",
       "       '1.81', '1.03', '1.12', '0.91', '1.60', '1.41', '1.71', '1.05',\n",
       "       '2.90', '1.49', '1.23', '3.19', '2.46', '2.03', '1.79', '1.16',\n",
       "       '1.96', '1.31', '2.23', '1.29', '0.79', '1.34', '1.19', '3.84',\n",
       "       '0.88', '0.80', '1.77', '0.81', '1.01', '1.07', '0.40', '1.17',\n",
       "       '0.96', '0.83', '1.26', '2.98', '1.52', '1.51', '3.14', '0.98',\n",
       "       '1.58', '3.47', '1.97', '2.70', '2.35', '0.75', '1.09', '2.17',\n",
       "       '2.11', '2.28', '1.85', '1.36', '3.02', '1.00', '2.66', '1.28',\n",
       "       '1.53', '2.81', '3.67', '3.56', '1.70', '1.75', '1.84', '1.54',\n",
       "       '1.22', '1.57', '2.34', '1.15', '1.14', '2.24', '1.47', '4.35',\n",
       "       '2.29', '1.68', '1.64', '1.21', '1.10', '2.76', '2.59', '2.44',\n",
       "       '0.92', '2.09', '1.80', '1.88', '2.07', '3.52', '2.19', '1.62',\n",
       "       '1.93', '2.22', '1.04', '1.98', '1.32', '1.30', '2.37', '1.42',\n",
       "       '1.45', '1.27', '1.33', '1.48', '1.76', '2.25', '1.94', '1.92',\n",
       "       '2.50', '4.68', '1.50', '2.92', '3.50', '1.59', '1.78', '1.63',\n",
       "       '2.93', '2.26', '3.26', '3.41', '1.55', '2.13', '2.52', '2.04',\n",
       "       '2.20', '2.43', '3.00', '1.90', '1.65', '1.87', '1.69', '1.73',\n",
       "       '2.47', '2.15', '1.18', '2.40', '2.88', '2.48', '2.77', '3.03',\n",
       "       '2.00', '2.06', '2.08', '2.16', '3.22', '2.86', '4.58', '2.58',\n",
       "       '3.29', '4.99', '1.74', '2.10', '3.88', '1.83', '1.99', '2.02',\n",
       "       '2.14', '2.12', '2.94', '2.73', '4.28', '2.60', '2.68', '2.30',\n",
       "       '5.65', '2.45', '2.31', '2.54', '1.72', '1.37', '2.01', '1.95',\n",
       "       '3.18', '1.82', '2.18', '2.53', '2.55', '2.67', '2.74', '3.71',\n",
       "       '2.71', '2.95', '2.69', '3.30', '4.17', '2.05', '3.95', '1.86',\n",
       "       '3.16', '3.23', '3.09', '4.76', '3.34', '3.17', '2.87', '2.84',\n",
       "       '7.51', '4.48', '3.98', '2.36', '4.39', '4.79', '5.28', '4.97',\n",
       "       '4.18', '2.72', '4.37', '3.94', '3.60', '1.91', '3.51', '5.56',\n",
       "       '2.56', '3.15', '4.12', '2.83', '5.74', '2.33', '2.51', '6.91',\n",
       "       '7.38', '3.05', '4.85', '3.79', '3.58', '3.77', '5.04', '3.11',\n",
       "       '2.96', '4.25', '4.63', '3.38', '3.65', '2.65', '3.57', '3.61',\n",
       "       '5.10', '12.55', '7.04', '2.80', '2.39', '2.21', '2.75', '4.33',\n",
       "       '3.31', '3.33', '2.57', '5.02', '4.43', '3.75', '2.85', '3.20',\n",
       "       '6.13', '2.42', '5.59', '3.46', '5.40', '3.44', '3.43', '2.41',\n",
       "       '3.35'], dtype=object)"
      ]
     },
     "execution_count": 25,
     "metadata": {},
     "output_type": "execute_result"
    }
   ],
   "source": [
    "#%ls \"D:\\Formacion\\Master CIFF\\entorno_DS_Python\\proyecto\\data\"\n",
    "%cd \"D:\\Formacion\\Master CIFF\\entorno_DS_Python\\proyecto\\data\"\n",
    "#%ls\n",
    "path =r'D:\\Formacion\\Master CIFF\\entorno_DS_Python\\proyecto\\data' # use your path\n",
    "allFiles = glob.glob(path + \"/*.txt\")\n",
    "df = pd.DataFrame()\n",
    "frame = pd.DataFrame()\n",
    "list_ = []\n",
    "for file_ in allFiles:\n",
    "    df = pd.read_csv(file_,index_col=None, header=0,converters={'YearMonthDay':str})\n",
    "    list_.append(df)\n",
    "frame = pd.concat(list_)\n",
    "\n",
    "frame.PrecipTotal.unique()"
   ]
  },
  {
   "cell_type": "code",
   "execution_count": 16,
   "metadata": {
    "collapsed": false
   },
   "outputs": [
    {
     "data": {
      "text/html": [
       "<div>\n",
       "<table border=\"1\" class=\"dataframe\">\n",
       "  <thead>\n",
       "    <tr style=\"text-align: right;\">\n",
       "      <th></th>\n",
       "      <th>YearMonthDay</th>\n",
       "      <th>Tmax</th>\n",
       "      <th>Tmin</th>\n",
       "      <th>Depart</th>\n",
       "      <th>PrecipTotal</th>\n",
       "      <th>StnPressure</th>\n",
       "      <th>AvgSpeed</th>\n",
       "      <th>Max5Speed</th>\n",
       "      <th>Water1</th>\n",
       "      <th>Year</th>\n",
       "    </tr>\n",
       "  </thead>\n",
       "  <tbody>\n",
       "    <tr>\n",
       "      <th>0</th>\n",
       "      <td>20150101</td>\n",
       "      <td>41</td>\n",
       "      <td>37</td>\n",
       "      <td>M</td>\n",
       "      <td>0.05</td>\n",
       "      <td>29.75</td>\n",
       "      <td>5.3</td>\n",
       "      <td>M</td>\n",
       "      <td>M</td>\n",
       "      <td>2015</td>\n",
       "    </tr>\n",
       "    <tr>\n",
       "      <th>1</th>\n",
       "      <td>20150102</td>\n",
       "      <td>44</td>\n",
       "      <td>41</td>\n",
       "      <td>M</td>\n",
       "      <td>0.02</td>\n",
       "      <td>29.61</td>\n",
       "      <td>4.0</td>\n",
       "      <td>M</td>\n",
       "      <td>M</td>\n",
       "      <td>2015</td>\n",
       "    </tr>\n",
       "    <tr>\n",
       "      <th>2</th>\n",
       "      <td>20150103</td>\n",
       "      <td>62</td>\n",
       "      <td>38</td>\n",
       "      <td>M</td>\n",
       "      <td>0.01</td>\n",
       "      <td>29.55</td>\n",
       "      <td>3.9</td>\n",
       "      <td>M</td>\n",
       "      <td>M</td>\n",
       "      <td>2015</td>\n",
       "    </tr>\n",
       "    <tr>\n",
       "      <th>3</th>\n",
       "      <td>20150104</td>\n",
       "      <td>58</td>\n",
       "      <td>35</td>\n",
       "      <td>M</td>\n",
       "      <td>0.00</td>\n",
       "      <td>29.96</td>\n",
       "      <td>5.8</td>\n",
       "      <td>18</td>\n",
       "      <td>M</td>\n",
       "      <td>2015</td>\n",
       "    </tr>\n",
       "    <tr>\n",
       "      <th>4</th>\n",
       "      <td>20150105</td>\n",
       "      <td>52</td>\n",
       "      <td>30</td>\n",
       "      <td>M</td>\n",
       "      <td>0.00</td>\n",
       "      <td>30.11</td>\n",
       "      <td>3.7</td>\n",
       "      <td>M</td>\n",
       "      <td>M</td>\n",
       "      <td>2015</td>\n",
       "    </tr>\n",
       "  </tbody>\n",
       "</table>\n",
       "</div>"
      ],
      "text/plain": [
       "  YearMonthDay Tmax Tmin Depart PrecipTotal StnPressure AvgSpeed Max5Speed  \\\n",
       "0     20150101   41   37      M        0.05       29.75      5.3         M   \n",
       "1     20150102   44   41      M        0.02       29.61      4.0         M   \n",
       "2     20150103   62   38      M        0.01       29.55      3.9         M   \n",
       "3     20150104   58   35      M        0.00       29.96      5.8        18   \n",
       "4     20150105   52   30      M        0.00       30.11      3.7         M   \n",
       "\n",
       "  Water1  Year  \n",
       "0      M  2015  \n",
       "1      M  2015  \n",
       "2      M  2015  \n",
       "3      M  2015  \n",
       "4      M  2015  "
      ]
     },
     "execution_count": 16,
     "metadata": {},
     "output_type": "execute_result"
    }
   ],
   "source": [
    "workframe = frame[['YearMonthDay','Tmax','Tmin','Depart','PrecipTotal','StnPressure','AvgSpeed','Max5Speed','Water1']].copy()\n",
    "workframe.head(5)\n",
    "workframe['YearMonthDay'].apply(str)\n",
    "workframe['YearMonthDay'].dtype\n",
    "s = workframe.YearMonthDay.str[:4]\n",
    "workframe['Year'] = s\n",
    "workframe.head(5)"
   ]
  },
  {
   "cell_type": "code",
   "execution_count": 19,
   "metadata": {
    "collapsed": false
   },
   "outputs": [
    {
     "data": {
      "text/plain": [
       "YearMonthDay    object\n",
       "Tmax            object\n",
       "Tmin            object\n",
       "Depart          object\n",
       "PrecipTotal     object\n",
       "StnPressure     object\n",
       "AvgSpeed        object\n",
       "Max5Speed       object\n",
       "Water1          object\n",
       "Year            object\n",
       "dtype: object"
      ]
     },
     "execution_count": 19,
     "metadata": {},
     "output_type": "execute_result"
    }
   ],
   "source": [
    "workframe.dtypes"
   ]
  }
 ],
 "metadata": {
  "anaconda-cloud": {},
  "kernelspec": {
   "display_name": "Python [conda root]",
   "language": "python",
   "name": "conda-root-py"
  },
  "language_info": {
   "codemirror_mode": {
    "name": "ipython",
    "version": 2
   },
   "file_extension": ".py",
   "mimetype": "text/x-python",
   "name": "python",
   "nbconvert_exporter": "python",
   "pygments_lexer": "ipython2",
   "version": "2.7.12"
  }
 },
 "nbformat": 4,
 "nbformat_minor": 1
}
