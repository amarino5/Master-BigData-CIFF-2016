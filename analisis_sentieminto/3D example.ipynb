{
 "cells": [
  {
   "cell_type": "code",
   "execution_count": 1,
   "metadata": {
    "collapsed": false
   },
   "outputs": [
    {
     "ename": "ImportError",
     "evalue": "No module named enthought.mayavi",
     "output_type": "error",
     "traceback": [
      "\u001b[0;31m---------------------------------------------------------------------------\u001b[0m",
      "\u001b[0;31mImportError\u001b[0m                               Traceback (most recent call last)",
      "\u001b[0;32m<ipython-input-1-920f3aed29da>\u001b[0m in \u001b[0;36m<module>\u001b[0;34m()\u001b[0m\n\u001b[1;32m      3\u001b[0m \u001b[1;32mimport\u001b[0m \u001b[0mnetworkx\u001b[0m \u001b[1;32mas\u001b[0m \u001b[0mnx\u001b[0m\u001b[1;33m\u001b[0m\u001b[0m\n\u001b[1;32m      4\u001b[0m \u001b[1;32mimport\u001b[0m \u001b[0mnumpy\u001b[0m \u001b[1;32mas\u001b[0m \u001b[0mnp\u001b[0m\u001b[1;33m\u001b[0m\u001b[0m\n\u001b[0;32m----> 5\u001b[0;31m \u001b[1;32mfrom\u001b[0m \u001b[0menthought\u001b[0m\u001b[1;33m.\u001b[0m\u001b[0mmayavi\u001b[0m \u001b[1;32mimport\u001b[0m \u001b[0mmlab\u001b[0m\u001b[1;33m\u001b[0m\u001b[0m\n\u001b[0m\u001b[1;32m      6\u001b[0m \u001b[1;33m\u001b[0m\u001b[0m\n\u001b[1;32m      7\u001b[0m \u001b[1;31m# some graphs to try\u001b[0m\u001b[1;33m\u001b[0m\u001b[1;33m\u001b[0m\u001b[0m\n",
      "\u001b[0;31mImportError\u001b[0m: No module named enthought.mayavi"
     ]
    }
   ],
   "source": [
    "# needs mayavi2\n",
    "# run with ipython -wthread\n",
    "import networkx as nx\n",
    "import numpy as np\n",
    "from enthought.mayavi import mlab\n",
    "\n",
    "# some graphs to try\n",
    "#H=nx.krackhardt_kite_graph()\n",
    "#H=nx.Graph();H.add_edge('a','b');H.add_edge('a','c');H.add_edge('a','d')\n",
    "#H=nx.grid_2d_graph(4,5)\n",
    "H=nx.cycle_graph(20)\n",
    "\n",
    "# reorder nodes from 0,len(G)-1\n",
    "G=nx.convert_node_labels_to_integers(H)\n",
    "# 3d spring layout\n",
    "pos=nx.spring_layout(G,dim=3)\n",
    "# numpy array of x,y,z positions in sorted node order\n",
    "xyz=np.array([pos[v] for v in sorted(G)])\n",
    "# scalar colors\n",
    "scalars=np.array(G.nodes())+5\n",
    "\n",
    "mlab.figure(1, bgcolor=(0, 0, 0))\n",
    "mlab.clf()\n",
    "\n",
    "pts = mlab.points3d(xyz[:,0], xyz[:,1], xyz[:,2],\n",
    "                    scalars,\n",
    "                    scale_factor=0.1,\n",
    "                    scale_mode='none',\n",
    "                    colormap='Blues',\n",
    "                    resolution=20)\n",
    "\n",
    "pts.mlab_source.dataset.lines = np.array(G.edges())\n",
    "tube = mlab.pipeline.tube(pts, tube_radius=0.01)\n",
    "mlab.pipeline.surface(tube, color=(0.8, 0.8, 0.8))\n",
    "\n",
    "mlab.savefig('mayavi2_spring.png')\n",
    "# mlab.show() # interactive window"
   ]
  },
  {
   "cell_type": "code",
   "execution_count": null,
   "metadata": {
    "collapsed": true
   },
   "outputs": [],
   "source": []
  }
 ],
 "metadata": {
  "anaconda-cloud": {},
  "kernelspec": {
   "display_name": "Python [conda root]",
   "language": "python",
   "name": "conda-root-py"
  },
  "language_info": {
   "codemirror_mode": {
    "name": "ipython",
    "version": 2
   },
   "file_extension": ".py",
   "mimetype": "text/x-python",
   "name": "python",
   "nbconvert_exporter": "python",
   "pygments_lexer": "ipython2",
   "version": "2.7.12"
  }
 },
 "nbformat": 4,
 "nbformat_minor": 1
}
