{
 "cells": [
  {
   "cell_type": "code",
   "execution_count": 14,
   "metadata": {
    "collapsed": false
   },
   "outputs": [
    {
     "name": "stdout",
     "output_type": "stream",
     "text": [
      "CODE FOR CALCULATING POPULATION STABILITY INDEX...\n"
     ]
    }
   ],
   "source": [
    "print \"CODE FOR CALCULATING POPULATION STABILITY INDEX...\"\n",
    "# For references, please refer to: http://ucanalytics.com/blogs/population-stability-index-psi-banking-case-study/\n",
    "# The web gives a best practise interval for the PSI to be applied for a typical dataset. Remember, this exercise is no where near a typical dataset.\n"
   ]
  },
  {
   "cell_type": "code",
   "execution_count": 10,
   "metadata": {
    "collapsed": true
   },
   "outputs": [],
   "source": [
    "import pandas as pd\n",
    "import numpy as np\n",
    "import math\n",
    "\n",
    "df = pd.read_csv(\"https://dl.dropboxusercontent.com/u/28535341/dev.csv\") #DEV-SAMPLE\n",
    "dfo = pd.read_csv(\"https://dl.dropboxusercontent.com/u/28535341/oot0.csv\")#OUT-OF-TIME SAMPLE"
   ]
  },
  {
   "cell_type": "code",
   "execution_count": 11,
   "metadata": {
    "collapsed": true
   },
   "outputs": [],
   "source": [
    "def psi(bench, comp, group):\n",
    "    ben_len=len(bench);\n",
    "    comp_len=len(comp);\n",
    "    bench.sort();\n",
    "    comp.sort();\n",
    "    psi_cut=[];\n",
    "    n=int(math.floor(ben_len/group));\n",
    "    for i in range(1,group):\n",
    "        lowercut=bench[(i-1)*n+1];\n",
    "        if i!=group:\n",
    "            uppercut=bench[(i*n)];\n",
    "            ben_cnt=n;\n",
    "        else:\n",
    "            uppercut=bench[-1];\n",
    "            ben_cnt=ben_len-group*(n-1)\n",
    "    comp_cnt = len([i for i in comp if i > lowercut and i<=uppercut]);\n",
    "    ben_pct=(ben_cnt+0.0)/ben_len;\n",
    "    comp_pct=(comp_cnt+0.0)/comp_len;\n",
    "    if comp_pct > 0.0:\n",
    "        psi_cut.append((ben_pct-comp_pct)*math.log(ben_pct/(comp_pct)));\n",
    "    else:\n",
    "        psi_cut.append(0);\n",
    "    psi=sum(psi_cut);\n",
    "    return psi;"
   ]
  },
  {
   "cell_type": "code",
   "execution_count": 12,
   "metadata": {
    "collapsed": true
   },
   "outputs": [],
   "source": [
    "import re\n",
    "list_inputs = set()\n",
    "\n",
    "for var_name in df.columns:\n",
    "    if re.search('^i',var_name):\n",
    "        list_inputs.add(var_name)\n"
   ]
  },
  {
   "cell_type": "code",
   "execution_count": 13,
   "metadata": {
    "collapsed": false,
    "scrolled": true
   },
   "outputs": [
    {
     "name": "stdout",
     "output_type": "stream",
     "text": [
      "psi for  ico_var_49  =  0\n",
      "psi for  if_var_70  =  0\n",
      "psi for  if_var_81  =  0.0132533362904\n",
      "psi for  if_var_73  =  0.0581737285198\n",
      "psi for  ico_var_33  =  0.00179560569468\n",
      "psi for  if_var_71  =  0.00955593955316\n",
      "psi for  if_var_68  =  0.00024010814551\n",
      "psi for  ico_var_37  =  0\n",
      "psi for  ico_var_36  =  0.0810709291786\n",
      "psi for  ico_var_35  =  0\n",
      "psi for  ico_var_34  =  0.015323978984\n",
      "psi for  ib_var_21  =  0.00639540088455\n",
      "psi for  ib_var_20  =  0.183833781219\n",
      "psi for  ico_var_31  =  0\n",
      "psi for  ico_var_30  =  6.05649255003e-05\n",
      "psi for  if_var_67  =  0.0216987832933\n",
      "psi for  ico_var_62  =  0.0182755382735\n",
      "psi for  id  =  0.0882867447391\n",
      "psi for  ico_var_39  =  0.00637014611722\n",
      "psi for  ico_var_38  =  0.0037947540253\n",
      "psi for  ico_var_51  =  0.0143885268042\n",
      "psi for  ico_var_50  =  0\n",
      "psi for  ico_var_53  =  0.0433975665866\n",
      "psi for  ico_var_52  =  0.0388813210823\n",
      "psi for  ico_var_55  =  0.0237440599045\n",
      "psi for  ico_var_54  =  0\n",
      "psi for  ico_var_57  =  0.00510507081299\n",
      "psi for  ico_var_56  =  0.0552749522991\n",
      "psi for  ico_var_32  =  0.0026898483057\n",
      "psi for  ico_var_58  =  0\n",
      "psi for  if_var_80  =  0\n",
      "psi for  ico_var_61  =  0.0270213313718\n",
      "psi for  ico_var_63  =  0\n",
      "psi for  if_var_79  =  0.00464587679533\n",
      "psi for  ico_var_64  =  0\n",
      "psi for  ib_var_18  =  0\n",
      "psi for  ib_var_19  =  0.281854022613\n",
      "psi for  ico_var_45  =  0.00764195412335\n",
      "psi for  ib_var_14  =  0.00661368529008\n",
      "psi for  ib_var_15  =  0.247659204113\n",
      "psi for  ib_var_16  =  0.216178637834\n",
      "psi for  ib_var_17  =  0.257310139829\n",
      "psi for  ib_var_10  =  0\n",
      "psi for  ib_var_11  =  0\n",
      "psi for  ib_var_12  =  0\n",
      "psi for  ib_var_13  =  0\n",
      "psi for  if_var_76  =  0.000721318365483\n",
      "psi for  if_var_77  =  0\n",
      "psi for  if_var_74  =  8.0258115766e-05\n",
      "psi for  if_var_75  =  0.0284496653407\n",
      "psi for  if_var_72  =  8.46212165505e-05\n",
      "psi for  ico_var_25  =  0.00289368811384\n",
      "psi for  ico_var_26  =  0.0151986768194\n",
      "psi for  ico_var_27  =  0\n",
      "psi for  ico_var_28  =  0.00551238864915\n",
      "psi for  ico_var_29  =  0\n",
      "psi for  if_var_78  =  0.000395704485587\n",
      "psi for  ico_var_47  =  0.0126758181671\n",
      "psi for  ico_var_42  =  0.0173959628328\n",
      "psi for  ico_var_43  =  0.000617289341114\n",
      "psi for  ico_var_40  =  0.000169242433101\n",
      "psi for  ico_var_41  =  0.00705072548985\n",
      "psi for  ico_var_46  =  0.0604630186646\n",
      "psi for  ico_var_44  =  0.0231498531339\n",
      "psi for  ib_var_8  =  0\n",
      "psi for  ib_var_9  =  0\n",
      "psi for  ib_var_6  =  0.0812997196241\n",
      "psi for  ib_var_7  =  0\n",
      "psi for  ib_var_4  =  0\n",
      "psi for  ib_var_5  =  0.0858958834229\n",
      "psi for  ib_var_2  =  0.0113143124199\n",
      "psi for  ib_var_3  =  0\n",
      "psi for  if_var_65  =  3.26732305142e-05\n",
      "psi for  ib_var_1  =  0\n",
      "psi for  ico_var_60  =  0.00304896819483\n",
      "psi for  ico_var_59  =  0.0549922111498\n",
      "psi for  if_var_66  =  0\n",
      "psi for  if_var_69  =  0.000273174953045\n",
      "psi for  icn_var_23  =  0\n",
      "psi for  icn_var_22  =  0\n",
      "psi for  ico_var_48  =  0\n",
      "psi for  icn_var_24  =  0.0150682898032\n"
     ]
    }
   ],
   "source": [
    "for var_name in list_inputs:\n",
    "    psi_value=psi(bench=list(df[var_name]),comp=list(dfo[var_name]),group=max(2,min((len(set(df[var_name]))),10)));\n",
    "    print \"psi for \", var_name, \" = \", psi_value"
   ]
  },
  {
   "cell_type": "code",
   "execution_count": null,
   "metadata": {
    "collapsed": true
   },
   "outputs": [],
   "source": [
    "\n"
   ]
  }
 ],
 "metadata": {
  "kernelspec": {
   "display_name": "Python [default]",
   "language": "python",
   "name": "python2"
  },
  "language_info": {
   "codemirror_mode": {
    "name": "ipython",
    "version": 2
   },
   "file_extension": ".py",
   "mimetype": "text/x-python",
   "name": "python",
   "nbconvert_exporter": "python",
   "pygments_lexer": "ipython2",
   "version": "2.7.12"
  }
 },
 "nbformat": 4,
 "nbformat_minor": 0
}
