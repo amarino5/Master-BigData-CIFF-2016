{
 "cells": [
  {
   "cell_type": "code",
   "execution_count": 14,
   "metadata": {
    "collapsed": false
   },
   "outputs": [
    {
     "name": "stdout",
     "output_type": "stream",
     "text": [
      "IMPORTING MODULES...\n"
     ]
    }
   ],
   "source": [
    "### FROM PREVIOUS LECTURE ....\n",
    "print \"IMPORTING MODULES...\"\n",
    "import pandas as pd\n",
    "import numpy as np\n",
    "\n",
    "df = pd.read_csv('https://dl.dropboxusercontent.com/u/28535341/dev.csv')\n"
   ]
  },
  {
   "cell_type": "code",
   "execution_count": 15,
   "metadata": {
    "collapsed": false
   },
   "outputs": [
    {
     "name": "stdout",
     "output_type": "stream",
     "text": [
      "id is input binary\n",
      "ib_var_1 is input binary\n",
      "ib_var_2 is input binary\n",
      "ib_var_3 is input binary\n",
      "ib_var_4 is input binary\n",
      "ib_var_5 is input binary\n",
      "ib_var_6 is input binary\n",
      "ib_var_7 is input binary\n",
      "ib_var_8 is input binary\n",
      "ib_var_9 is input binary\n",
      "ib_var_10 is input binary\n",
      "ib_var_11 is input binary\n",
      "ib_var_12 is input binary\n",
      "ib_var_13 is input binary\n",
      "ib_var_14 is input binary\n",
      "ib_var_15 is input binary\n",
      "ib_var_16 is input binary\n",
      "ib_var_17 is input binary\n",
      "ib_var_18 is input binary\n",
      "ib_var_19 is input binary\n",
      "ib_var_20 is input binary\n",
      "ib_var_21 is input binary\n",
      "icn_var_22 is input binary\n",
      "icn_var_23 is input binary\n",
      "icn_var_24 is input binary\n",
      "ico_var_25 is input binary\n",
      "ico_var_26 is input binary\n",
      "ico_var_27 is input binary\n",
      "ico_var_28 is input binary\n",
      "ico_var_29 is input binary\n",
      "ico_var_30 is input binary\n",
      "ico_var_31 is input binary\n",
      "ico_var_32 is input binary\n",
      "ico_var_33 is input binary\n",
      "ico_var_34 is input binary\n",
      "ico_var_35 is input binary\n",
      "ico_var_36 is input binary\n",
      "ico_var_37 is input binary\n",
      "ico_var_38 is input binary\n",
      "ico_var_39 is input binary\n",
      "ico_var_40 is input binary\n",
      "ico_var_41 is input binary\n",
      "ico_var_42 is input binary\n",
      "ico_var_43 is input binary\n",
      "ico_var_44 is input binary\n",
      "ico_var_45 is input binary\n",
      "ico_var_46 is input binary\n",
      "ico_var_47 is input binary\n",
      "ico_var_48 is input binary\n",
      "ico_var_49 is input binary\n",
      "ico_var_50 is input binary\n",
      "ico_var_51 is input binary\n",
      "ico_var_52 is input binary\n",
      "ico_var_53 is input binary\n",
      "ico_var_54 is input binary\n",
      "ico_var_55 is input binary\n",
      "ico_var_56 is input binary\n",
      "ico_var_57 is input binary\n",
      "ico_var_58 is input binary\n",
      "ico_var_59 is input binary\n",
      "ico_var_60 is input binary\n",
      "ico_var_61 is input binary\n",
      "ico_var_62 is input binary\n",
      "ico_var_63 is input binary\n",
      "ico_var_64 is input binary\n",
      "if_var_65 is input binary\n",
      "if_var_66 is input binary\n",
      "if_var_67 is input binary\n",
      "if_var_68 is input binary\n",
      "if_var_69 is input binary\n",
      "if_var_70 is input binary\n",
      "if_var_71 is input binary\n",
      "if_var_72 is input binary\n",
      "if_var_73 is input binary\n",
      "if_var_74 is input binary\n",
      "if_var_75 is input binary\n",
      "if_var_76 is input binary\n",
      "if_var_77 is input binary\n",
      "if_var_78 is input binary\n",
      "if_var_79 is input binary\n",
      "if_var_80 is input binary\n",
      "if_var_81 is input binary\n",
      "ob_target is output (target) binary\n"
     ]
    }
   ],
   "source": [
    "import re\n",
    "list_inputs = set()\n",
    "for var_name in df.columns:\n",
    "    if re.search('^i',var_name):\n",
    "        list_inputs.add(var_name)\n",
    "        print var_name,\"is input binary\"\n",
    "    elif re.search('^o',var_name):\n",
    "        output_var = var_name\n",
    "        print var_name,\"is output (target) binary\"\n",
    "\n",
    "\n",
    "### PART 1 - FITTING DecisionTreeClassifier MODEL WITH ALL INPUT VARIABLE IN THE DEVELOPMENT DATASET - it requires output variable to be binary\n",
    "\n",
    "X = df[list(set(list_inputs))]\n",
    "y = df[output_var]"
   ]
  },
  {
   "cell_type": "code",
   "execution_count": 16,
   "metadata": {
    "collapsed": true
   },
   "outputs": [],
   "source": [
    "from sklearn import tree\n",
    "clf = tree.DecisionTreeClassifier()\n",
    "clf = clf.fit(X,y)"
   ]
  },
  {
   "cell_type": "code",
   "execution_count": 17,
   "metadata": {
    "collapsed": false
   },
   "outputs": [
    {
     "data": {
      "text/plain": [
       "array([[ 1.,  0.],\n",
       "       [ 1.,  0.],\n",
       "       [ 1.,  0.],\n",
       "       ..., \n",
       "       [ 1.,  0.],\n",
       "       [ 1.,  0.],\n",
       "       [ 1.,  0.]])"
      ]
     },
     "execution_count": 17,
     "metadata": {},
     "output_type": "execute_result"
    }
   ],
   "source": [
    "clf.predict_proba(X)"
   ]
  }
 ],
 "metadata": {
  "kernelspec": {
   "display_name": "Python [default]",
   "language": "python",
   "name": "python2"
  },
  "language_info": {
   "codemirror_mode": {
    "name": "ipython",
    "version": 2
   },
   "file_extension": ".py",
   "mimetype": "text/x-python",
   "name": "python",
   "nbconvert_exporter": "python",
   "pygments_lexer": "ipython2",
   "version": "2.7.12"
  }
 },
 "nbformat": 4,
 "nbformat_minor": 0
}
