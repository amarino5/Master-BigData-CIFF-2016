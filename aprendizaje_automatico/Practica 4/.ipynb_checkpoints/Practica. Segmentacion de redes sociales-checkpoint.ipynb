{
 "cells": [
  {
   "cell_type": "markdown",
   "metadata": {},
   "source": [
    "## 1. Segmentación de datos de redes sociales. (30 puntos)\n",
    "\n",
    "En el archivo “snsdata.csv” se encuentra los términos más utilizados en unos 30.000 perfiles \n",
    "aleatorios de adolescentes de una red social. Importar el archivo y separar el conjunto de datos en \n",
    "dos según el género de los usuarios (F y M). En cada uno de los subconjuntos de datos eliminar el \n",
    "año de graduación ('gradyear'), el género ('gender') y la edad (‘age’). Utilizando el algoritmo de k-\n",
    "means identificar el número de segmentos óptimos en los que se divide cada subconjunto de \n",
    "datos y obtener los valores de los centroides."
   ]
  },
  {
   "cell_type": "code",
   "execution_count": 1,
   "metadata": {
    "collapsed": true
   },
   "outputs": [],
   "source": [
    "import pandas as pd"
   ]
  },
  {
   "cell_type": "code",
   "execution_count": 2,
   "metadata": {
    "collapsed": false
   },
   "outputs": [
    {
     "data": {
      "text/plain": [
       "30000"
      ]
     },
     "execution_count": 2,
     "metadata": {},
     "output_type": "execute_result"
    }
   ],
   "source": [
    "data = pd.read_csv('snsdata.csv')\n",
    "len(data)"
   ]
  },
  {
   "cell_type": "code",
   "execution_count": 3,
   "metadata": {
    "collapsed": false
   },
   "outputs": [
    {
     "data": {
      "text/html": [
       "<div>\n",
       "<table border=\"1\" class=\"dataframe\">\n",
       "  <thead>\n",
       "    <tr style=\"text-align: right;\">\n",
       "      <th></th>\n",
       "      <th>gradyear</th>\n",
       "      <th>gender</th>\n",
       "      <th>age</th>\n",
       "      <th>friends</th>\n",
       "      <th>basketball</th>\n",
       "      <th>football</th>\n",
       "      <th>soccer</th>\n",
       "      <th>softball</th>\n",
       "      <th>volleyball</th>\n",
       "      <th>swimming</th>\n",
       "      <th>...</th>\n",
       "      <th>blonde</th>\n",
       "      <th>mall</th>\n",
       "      <th>shopping</th>\n",
       "      <th>clothes</th>\n",
       "      <th>hollister</th>\n",
       "      <th>abercrombie</th>\n",
       "      <th>die</th>\n",
       "      <th>death</th>\n",
       "      <th>drunk</th>\n",
       "      <th>drugs</th>\n",
       "    </tr>\n",
       "  </thead>\n",
       "  <tbody>\n",
       "    <tr>\n",
       "      <th>0</th>\n",
       "      <td>2006</td>\n",
       "      <td>M</td>\n",
       "      <td>18.982</td>\n",
       "      <td>7</td>\n",
       "      <td>0</td>\n",
       "      <td>0</td>\n",
       "      <td>0</td>\n",
       "      <td>0</td>\n",
       "      <td>0</td>\n",
       "      <td>0</td>\n",
       "      <td>...</td>\n",
       "      <td>0</td>\n",
       "      <td>0</td>\n",
       "      <td>0</td>\n",
       "      <td>0</td>\n",
       "      <td>0</td>\n",
       "      <td>0</td>\n",
       "      <td>0</td>\n",
       "      <td>0</td>\n",
       "      <td>0</td>\n",
       "      <td>0</td>\n",
       "    </tr>\n",
       "    <tr>\n",
       "      <th>1</th>\n",
       "      <td>2006</td>\n",
       "      <td>F</td>\n",
       "      <td>18.801</td>\n",
       "      <td>0</td>\n",
       "      <td>0</td>\n",
       "      <td>1</td>\n",
       "      <td>0</td>\n",
       "      <td>0</td>\n",
       "      <td>0</td>\n",
       "      <td>0</td>\n",
       "      <td>...</td>\n",
       "      <td>0</td>\n",
       "      <td>1</td>\n",
       "      <td>0</td>\n",
       "      <td>0</td>\n",
       "      <td>0</td>\n",
       "      <td>0</td>\n",
       "      <td>0</td>\n",
       "      <td>0</td>\n",
       "      <td>0</td>\n",
       "      <td>0</td>\n",
       "    </tr>\n",
       "    <tr>\n",
       "      <th>2</th>\n",
       "      <td>2006</td>\n",
       "      <td>M</td>\n",
       "      <td>18.335</td>\n",
       "      <td>69</td>\n",
       "      <td>0</td>\n",
       "      <td>1</td>\n",
       "      <td>0</td>\n",
       "      <td>0</td>\n",
       "      <td>0</td>\n",
       "      <td>0</td>\n",
       "      <td>...</td>\n",
       "      <td>0</td>\n",
       "      <td>0</td>\n",
       "      <td>0</td>\n",
       "      <td>0</td>\n",
       "      <td>0</td>\n",
       "      <td>0</td>\n",
       "      <td>0</td>\n",
       "      <td>1</td>\n",
       "      <td>0</td>\n",
       "      <td>0</td>\n",
       "    </tr>\n",
       "    <tr>\n",
       "      <th>3</th>\n",
       "      <td>2006</td>\n",
       "      <td>F</td>\n",
       "      <td>18.875</td>\n",
       "      <td>0</td>\n",
       "      <td>0</td>\n",
       "      <td>0</td>\n",
       "      <td>0</td>\n",
       "      <td>0</td>\n",
       "      <td>0</td>\n",
       "      <td>0</td>\n",
       "      <td>...</td>\n",
       "      <td>0</td>\n",
       "      <td>0</td>\n",
       "      <td>0</td>\n",
       "      <td>0</td>\n",
       "      <td>0</td>\n",
       "      <td>0</td>\n",
       "      <td>0</td>\n",
       "      <td>0</td>\n",
       "      <td>0</td>\n",
       "      <td>0</td>\n",
       "    </tr>\n",
       "    <tr>\n",
       "      <th>4</th>\n",
       "      <td>2006</td>\n",
       "      <td>NaN</td>\n",
       "      <td>18.995</td>\n",
       "      <td>10</td>\n",
       "      <td>0</td>\n",
       "      <td>0</td>\n",
       "      <td>0</td>\n",
       "      <td>0</td>\n",
       "      <td>0</td>\n",
       "      <td>0</td>\n",
       "      <td>...</td>\n",
       "      <td>0</td>\n",
       "      <td>0</td>\n",
       "      <td>2</td>\n",
       "      <td>0</td>\n",
       "      <td>0</td>\n",
       "      <td>0</td>\n",
       "      <td>0</td>\n",
       "      <td>0</td>\n",
       "      <td>1</td>\n",
       "      <td>1</td>\n",
       "    </tr>\n",
       "  </tbody>\n",
       "</table>\n",
       "<p>5 rows × 40 columns</p>\n",
       "</div>"
      ],
      "text/plain": [
       "   gradyear gender     age  friends  basketball  football  soccer  softball  \\\n",
       "0      2006      M  18.982        7           0         0       0         0   \n",
       "1      2006      F  18.801        0           0         1       0         0   \n",
       "2      2006      M  18.335       69           0         1       0         0   \n",
       "3      2006      F  18.875        0           0         0       0         0   \n",
       "4      2006    NaN  18.995       10           0         0       0         0   \n",
       "\n",
       "   volleyball  swimming  ...    blonde  mall  shopping  clothes  hollister  \\\n",
       "0           0         0  ...         0     0         0        0          0   \n",
       "1           0         0  ...         0     1         0        0          0   \n",
       "2           0         0  ...         0     0         0        0          0   \n",
       "3           0         0  ...         0     0         0        0          0   \n",
       "4           0         0  ...         0     0         2        0          0   \n",
       "\n",
       "   abercrombie  die  death  drunk  drugs  \n",
       "0            0    0      0      0      0  \n",
       "1            0    0      0      0      0  \n",
       "2            0    0      1      0      0  \n",
       "3            0    0      0      0      0  \n",
       "4            0    0      0      1      1  \n",
       "\n",
       "[5 rows x 40 columns]"
      ]
     },
     "execution_count": 3,
     "metadata": {},
     "output_type": "execute_result"
    }
   ],
   "source": [
    "data.head(5)"
   ]
  },
  {
   "cell_type": "markdown",
   "metadata": {},
   "source": [
    "Filtramos por hombres y mujeres el dataset"
   ]
  },
  {
   "cell_type": "code",
   "execution_count": 4,
   "metadata": {
    "collapsed": false
   },
   "outputs": [
    {
     "data": {
      "text/plain": [
       "22054"
      ]
     },
     "execution_count": 4,
     "metadata": {},
     "output_type": "execute_result"
    }
   ],
   "source": [
    "dataM = data[data['gender']=='M']\n",
    "dataF = data[data['gender']=='F']\n",
    "len(dataF)"
   ]
  },
  {
   "cell_type": "markdown",
   "metadata": {},
   "source": [
    "Eliminamos las columnas indicadas en el enunciado"
   ]
  },
  {
   "cell_type": "code",
   "execution_count": 5,
   "metadata": {
    "collapsed": false
   },
   "outputs": [],
   "source": [
    "exclude = ['gradyear', 'gender', 'age']\n",
    "dataMfiltered = dataM.ix[:, dataM.columns.difference(exclude)]\n",
    "dataFfiltered = dataF.ix[:, dataF.columns.difference(exclude)]"
   ]
  },
  {
   "cell_type": "markdown",
   "metadata": {},
   "source": [
    "Calculamos por los métodos de dispersion como por siloute cual es el número idóneo de clusters"
   ]
  },
  {
   "cell_type": "code",
   "execution_count": 6,
   "metadata": {
    "collapsed": false
   },
   "outputs": [
    {
     "name": "stdout",
     "output_type": "stream",
     "text": [
      "Using matplotlib backend: Qt5Agg\n",
      "Populating the interactive namespace from numpy and matplotlib\n"
     ]
    },
    {
     "data": {
      "image/png": "[encoded data removed]",
      "text/plain": [
       "<matplotlib.figure.Figure at 0xd727438>"
      ]
     },
     "metadata": {},
     "output_type": "display_data"
    }
   ],
   "source": [
    "%pylab\n",
    "%matplotlib inline\n",
    "from scipy.spatial.distance import cdist\n",
    "from sklearn.cluster import KMeans\n",
    "\n",
    "def plot_distorsion(x, figure_name, max_k = 20, n_init = 20):\n",
    "    meandistortions = []\n",
    "\n",
    "    for k in range(1, max_k):\n",
    "        kmeans = KMeans(n_clusters = k, n_init = n_init).fit(x)\n",
    "        meandistortions.append(sum(np.min(cdist(x, kmeans.cluster_centers_,\n",
    "                                                'euclidean'), axis = 1))\n",
    "                               / x.shape[0])\n",
    "\n",
    "    plot(range(1, max_k), meandistortions, 'bx-')\n",
    "    xlabel('k')\n",
    "    ylabel('Distorsion promedio')\n",
    "    title(figure_name)\n",
    "\n",
    "subplot(1, 2, 1)\n",
    "plot_distorsion(dataMfiltered, 'Filtro hombres')\n",
    "subplot(1, 2, 2)\n",
    "plot_distorsion(dataFfiltered, 'Filtro Mujeres')"
   ]
  },
  {
   "cell_type": "code",
   "execution_count": 7,
   "metadata": {
    "collapsed": false
   },
   "outputs": [
    {
     "data": {
      "image/png": "[encoded data removed]",
      "text/plain": [
       "<matplotlib.figure.Figure at 0x870b8d0>"
      ]
     },
     "metadata": {},
     "output_type": "display_data"
    }
   ],
   "source": [
    "from sklearn.metrics import silhouette_score\n",
    "\n",
    "def plot_sillhouette(blobs, figure_name, max_k = 10, n_init = 10):\n",
    "    sillhouette_avgs = []\n",
    "    \n",
    "    for k in range(2, max_k):\n",
    "        kmean = KMeans(n_clusters = k, n_init = n_init).fit(blobs)\n",
    "        sillhouette_avgs.append(silhouette_score(blobs, kmean.labels_))\n",
    "        \n",
    "    plot(range(2, max_k), sillhouette_avgs)\n",
    "    title(figure_name)\n",
    "\n",
    "    \n",
    "subplot(1, 2, 1)   \n",
    "plot_sillhouette(dataMfiltered, 'Filtro hombres')\n",
    "subplot(1, 2, 2)\n",
    "plot_sillhouette(dataFfiltered, 'Filtro Mujeres')"
   ]
  },
  {
   "cell_type": "markdown",
   "metadata": {},
   "source": [
    "Por el método de distorsion, vemos que el numero de cluster ideal para hombres podría ser 8, porque a medida que se aumenta, no mejora la gráfica, y para las mujeres podría ser 5, que es donde ya la pendiente se reduce y mejora poco."
   ]
  },
  {
   "cell_type": "markdown",
   "metadata": {},
   "source": [
    "Calculamos entonces los centroides...."
   ]
  },
  {
   "cell_type": "code",
   "execution_count": 8,
   "metadata": {
    "collapsed": false
   },
   "outputs": [
    {
     "name": "stdout",
     "output_type": "stream",
     "text": [
      "Algortimo sklearn\n",
      "[[  2.66971777e-02   4.02745995e-01   2.79176201e-01   3.03585050e-01\n",
      "    2.97482838e-02   1.37299771e-02   9.15331808e-03   1.83829138e-01\n",
      "    8.23798627e-02   6.17848970e-02   2.05186880e-01   1.31960336e-01\n",
      "    1.89931350e-01   3.66132723e-02   5.11060259e-02   7.39893211e-02\n",
      "    5.01906941e-01   1.70625477e+01   4.16475973e-01   1.96033562e-01\n",
      "    3.20366133e-02   5.49199085e-02   1.28909230e-01   6.78871091e-02\n",
      "    1.55606407e-01   5.18688024e-02   7.39130435e-01   2.40274600e-01\n",
      "    1.90694127e-01   9.22959573e-02   3.73760488e-02   1.63996949e-01\n",
      "    7.62776506e-03   2.13577422e-01   9.61098398e-02   9.68726163e-02\n",
      "    2.74599542e-02]\n",
      " [  5.43478261e-02   3.69565217e-01   4.20289855e-01   4.23913043e-01\n",
      "    4.71014493e-02   3.26086957e-02   2.53623188e-02   3.36956522e-01\n",
      "    9.05797101e-02   8.69565217e-02   3.07971014e-01   1.05072464e-01\n",
      "    2.02898551e-01   2.89855072e-02   6.52173913e-02   9.78260870e-02\n",
      "    4.96376812e-01   8.37500000e+01   6.12318841e-01   2.06521739e-01\n",
      "    5.79710145e-02   6.15942029e-02   1.66666667e-01   5.43478261e-02\n",
      "    2.35507246e-01   5.07246377e-02   7.71739130e-01   2.86231884e-01\n",
      "    1.12318841e-01   9.42028986e-02   5.79710145e-02   3.04347826e-01\n",
      "    3.98550725e-02   2.31884058e-01   6.88405797e-02   1.48550725e-01\n",
      "    3.98550725e-02]\n",
      " [  1.20689655e-02   4.89655172e-01   3.10344828e-01   3.36206897e-01\n",
      "    2.75862069e-02   2.24137931e-02   3.44827586e-03   2.18965517e-01\n",
      "    7.75862069e-02   9.13793103e-02   2.89655172e-01   1.18965517e-01\n",
      "    2.15517241e-01   4.31034483e-02   6.20689655e-02   1.01724138e-01\n",
      "    4.63793103e-01   5.51982759e+01   4.37931034e-01   2.17241379e-01\n",
      "    3.44827586e-02   6.03448276e-02   1.55172414e-01   8.44827586e-02\n",
      "    1.70689655e-01   8.96551724e-02   8.98275862e-01   3.06896552e-01\n",
      "    1.70689655e-01   8.44827586e-02   7.41379310e-02   2.39655172e-01\n",
      "    8.62068966e-03   1.75862069e-01   9.48275862e-02   1.39655172e-01\n",
      "    3.96551724e-02]\n",
      " [  7.14285714e-02   6.42857143e-01   2.85714286e-01   5.00000000e-01\n",
      "   -6.93889390e-18   1.42857143e-01   7.14285714e-02   3.57142857e-01\n",
      "    1.42857143e-01   7.14285714e-02   7.14285714e-02  -2.77555756e-17\n",
      "    2.85714286e-01  -3.46944695e-18   6.93889390e-18   1.38777878e-17\n",
      "    7.85714286e-01   2.22857143e+02   1.00000000e+00   3.57142857e-01\n",
      "   -6.93889390e-18   0.00000000e+00   0.00000000e+00   2.85714286e-01\n",
      "    7.14285714e-02   7.14285714e-02   7.85714286e-01   3.57142857e-01\n",
      "    1.42857143e-01   7.14285714e-02   1.38777878e-17   1.42857143e-01\n",
      "    7.14285714e-02   7.14285714e-02   2.85714286e-01   5.00000000e-01\n",
      "    1.42857143e-01]\n",
      " [  0.00000000e+00   0.00000000e+00   1.00000000e+00   5.00000000e-01\n",
      "    5.00000000e-01   1.00000000e+00   0.00000000e+00   0.00000000e+00\n",
      "    0.00000000e+00   5.00000000e-01   0.00000000e+00   5.00000000e-01\n",
      "    1.00000000e+00   0.00000000e+00   0.00000000e+00   5.00000000e-01\n",
      "    0.00000000e+00   5.96500000e+02   0.00000000e+00   0.00000000e+00\n",
      "    0.00000000e+00   0.00000000e+00   0.00000000e+00   2.00000000e+00\n",
      "    0.00000000e+00   0.00000000e+00   0.00000000e+00   0.00000000e+00\n",
      "    0.00000000e+00   0.00000000e+00   0.00000000e+00   0.00000000e+00\n",
      "    0.00000000e+00   0.00000000e+00   0.00000000e+00   0.00000000e+00\n",
      "    0.00000000e+00]\n",
      " [  1.39372822e-02   2.58337481e-01   2.22498756e-01   2.75759084e-01\n",
      "    2.19014435e-02   2.33947237e-02   7.96416127e-03   1.63763066e-01\n",
      "    5.77401692e-02   5.82379293e-02   1.80686909e-01   8.86012942e-02\n",
      "    1.55798905e-01   2.63812842e-02   5.92334495e-02   5.92334495e-02\n",
      "    3.93230463e-01   2.56246889e+00   3.98705824e-01   1.59780986e-01\n",
      "    2.14036834e-02   4.82827277e-02   9.45744151e-02   4.13140866e-02\n",
      "    8.66102539e-02   3.68342459e-02   5.72921852e-01   2.22000996e-01\n",
      "    1.38377302e-01   7.06819313e-02   4.03185665e-02   2.08561473e-01\n",
      "    4.47984072e-03   1.76704828e-01   6.37132902e-02   8.26281732e-02\n",
      "    3.03633649e-02]\n",
      " [  5.37634409e-02   4.73118280e-01   4.40860215e-01   3.87096774e-01\n",
      "    2.15053763e-02   3.46944695e-18   1.07526882e-02   2.58064516e-01\n",
      "    1.07526882e-01   8.60215054e-02   1.29032258e-01   1.39784946e-01\n",
      "    3.22580645e-01   3.22580645e-02   6.45161290e-02   2.15053763e-01\n",
      "    2.90322581e-01   1.25290323e+02   4.83870968e-01   2.04301075e-01\n",
      "    7.52688172e-02   1.29032258e-01   1.72043011e-01   5.37634409e-02\n",
      "    2.79569892e-01   4.30107527e-02   6.77419355e-01   4.62365591e-01\n",
      "    3.44086022e-01   1.72043011e-01   9.67741935e-02   2.90322581e-01\n",
      "    1.07526882e-02   1.72043011e-01   6.45161290e-02   2.58064516e-01\n",
      "    1.07526882e-01]\n",
      " [  2.98826041e-02   3.71398079e-01   2.79615795e-01   3.61792956e-01\n",
      "    2.98826041e-02   3.84204909e-02   6.40341515e-03   2.16648879e-01\n",
      "    7.57737460e-02   9.28495197e-02   1.87833511e-01   8.64461046e-02\n",
      "    1.62219851e-01   2.56136606e-02   4.48239061e-02   7.47065101e-02\n",
      "    4.80256137e-01   3.36755603e+01   4.31163287e-01   1.68623266e-01\n",
      "    4.58911419e-02   4.05549626e-02   1.51547492e-01   6.29669157e-02\n",
      "    1.50480256e-01   4.58911419e-02   7.34258271e-01   2.72145144e-01\n",
      "    1.55816435e-01   8.00426894e-02   6.08324440e-02   2.25186766e-01\n",
      "    1.17395945e-02   2.40128068e-01   8.43116329e-02   9.92529349e-02\n",
      "    4.05549626e-02]]\n"
     ]
    }
   ],
   "source": [
    "from sklearn.cluster import KMeans\n",
    "\n",
    "kmeans = KMeans(n_clusters = 8).fit(dataMfiltered)\n",
    "\n",
    "print \"Algortimo sklearn\"\n",
    "print kmeans.cluster_centers_\n"
   ]
  },
  {
   "cell_type": "code",
   "execution_count": 9,
   "metadata": {
    "collapsed": false
   },
   "outputs": [
    {
     "name": "stdout",
     "output_type": "stream",
     "text": [
      "Algortimo sklearn\n",
      "[[  5.43130990e-02   3.34301481e-01   7.47894278e-02   2.86523381e-01\n",
      "    2.20737729e-02   1.47255301e-01   1.35927970e-01   2.84635492e-01\n",
      "    1.76590183e-01   4.04879466e-01   5.18733663e-01   1.32006971e-01\n",
      "    1.95469068e-01   1.40139413e-01   6.01219866e-02   9.51205344e-02\n",
      "    2.30612838e-01   3.34606448e+01   5.06970665e-01   5.03340110e-01\n",
      "    8.01626489e-02   1.54225966e-01   1.15596863e-01   1.17629974e-01\n",
      "    2.94365379e-01   4.76328783e-02   8.18472263e-01   2.68370607e-01\n",
      "    2.44554168e-01   1.60470520e-01   4.59773453e-01   2.55155388e-01\n",
      "    2.13912286e-01   1.41736857e-01   1.62358408e-01   8.87307581e-02\n",
      "    2.03601510e-01]\n",
      " [  1.01419878e-01   2.65720081e-01   1.06490872e-01   3.94523327e-01\n",
      "    2.83975659e-02   1.59229209e-01   2.25152130e-01   3.84381339e-01\n",
      "    1.70385396e-01   5.40567951e-01   6.28803245e-01   1.41987830e-01\n",
      "    2.06896552e-01   1.73427992e-01   5.37525355e-02   1.13590264e-01\n",
      "    2.91075051e-01   1.30215010e+02   6.28803245e-01   5.52738337e-01\n",
      "    1.48073022e-01   2.19066937e-01   1.39959432e-01   1.21703854e-01\n",
      "    4.60446247e-01   4.15821501e-02   7.90060852e-01   2.39350913e-01\n",
      "    2.29208925e-01   2.06896552e-01   5.54766734e-01   2.52535497e-01\n",
      "    3.02231237e-01   1.41987830e-01   1.67342799e-01   7.50507099e-02\n",
      "    2.27180527e-01]\n",
      " [  8.90008396e-02   3.05625525e-01   9.26392387e-02   3.26896166e-01\n",
      "    2.29499020e-02   1.23705570e-01   1.67086482e-01   3.47607053e-01\n",
      "    1.89476630e-01   4.56199272e-01   5.47159250e-01   1.31262245e-01\n",
      "    1.77162049e-01   1.47774979e-01   6.15729079e-02   8.56423174e-02\n",
      "    2.66162888e-01   6.98222782e+01   5.77385950e-01   5.12454520e-01\n",
      "    1.05513574e-01   1.74083403e-01   1.46375595e-01   1.25944584e-01\n",
      "    3.36411979e-01   4.11418976e-02   8.01287434e-01   2.83235376e-01\n",
      "    1.93674783e-01   1.73243773e-01   5.16652673e-01   2.74559194e-01\n",
      "    2.95549958e-01   1.50013994e-01   1.75482788e-01   7.94850266e-02\n",
      "    2.09347887e-01]\n",
      " [  4.72373318e-02   2.78270827e-01   5.71619429e-02   2.22349461e-01\n",
      "    1.85132169e-02   1.00104972e-01   1.08121004e-01   2.23399179e-01\n",
      "    1.60416070e-01   3.44593950e-01   4.30480008e-01   1.10029583e-01\n",
      "    1.85800172e-01   1.20526768e-01   7.05219964e-02   9.39975188e-02\n",
      "    1.87995038e-01   5.95657983e+00   4.26281134e-01   4.75713331e-01\n",
      "    6.29831091e-02   1.32646245e-01   9.32340872e-02   1.14228457e-01\n",
      "    2.57181029e-01   3.54041416e-02   7.32035500e-01   2.30938067e-01\n",
      "    2.31606069e-01   1.49346312e-01   3.81811242e-01   1.98110507e-01\n",
      "    1.60988644e-01   1.21862773e-01   1.33218819e-01   8.38820498e-02\n",
      "    1.36654261e-01]\n",
      " [  1.53846154e-01   3.38461538e-01   1.15384615e-01   3.23076923e-01\n",
      "   -6.93889390e-18   1.23076923e-01   1.84615385e-01   2.61538462e-01\n",
      "    2.23076923e-01   4.92307692e-01   5.00000000e-01   1.53846154e-01\n",
      "    2.23076923e-01   1.76923077e-01   6.92307692e-02   1.53846154e-01\n",
      "    2.23076923e-01   2.56300000e+02   6.30769231e-01   7.07692308e-01\n",
      "    1.30769231e-01   1.61538462e-01   1.00000000e-01   1.30769231e-01\n",
      "    3.46153846e-01   6.92307692e-02   6.92307692e-01   2.15384615e-01\n",
      "    2.53846154e-01   1.76923077e-01   6.38461538e-01   3.07692308e-01\n",
      "    2.23076923e-01   1.46153846e-01   2.23076923e-01   1.15384615e-01\n",
      "    2.38461538e-01]]\n"
     ]
    }
   ],
   "source": [
    "from sklearn.cluster import KMeans\n",
    "\n",
    "kmeans_F = KMeans(n_clusters = 5).fit(dataFfiltered)\n",
    "\n",
    "print \"Algortimo sklearn\"\n",
    "print kmeans_F.cluster_centers_"
   ]
  },
  {
   "cell_type": "markdown",
   "metadata": {
    "collapsed": true
   },
   "source": [
    "## 2. Componentes principales. (20 puntos)\n",
    "En el archivo “concrete.csv” se encuentra los datos de diferentes mezclas de hormigón. Utilizar el análisis de componentes principales y obtener el número de componentes principales con los que se puede explicar el 50%, 75% y 90% de la varianza. Obtener el porcentaje de la varianza que explica la primera componente principal."
   ]
  },
  {
   "cell_type": "code",
   "execution_count": 10,
   "metadata": {
    "collapsed": true
   },
   "outputs": [],
   "source": [
    "import pandas as pd\n",
    "\n",
    "data = pd.read_csv('concrete.csv')"
   ]
  },
  {
   "cell_type": "code",
   "execution_count": 11,
   "metadata": {
    "collapsed": false
   },
   "outputs": [
    {
     "name": "stdout",
     "output_type": "stream",
     "text": [
      "El 50% de la varianza de las mezclas se puede explicar con 2 variables\n",
      "El 75% de la varianza de las mezclas se puede explicar con 3 variables\n",
      "El 90% de la varianza de las mezclas se puede explicar con 5 variables\n"
     ]
    }
   ],
   "source": [
    "from sklearn.decomposition import PCA\n",
    "\n",
    "pca = PCA(n_components = None)\n",
    "pca.fit_transform(data)\n",
    "\n",
    "print \"El 50% de la varianza de las mezclas se puede explicar con\", (cumsum(pca.explained_variance_ratio_) > 0.50).tolist().index(True) + 1,\"variables\"\n",
    "print \"El 75% de la varianza de las mezclas se puede explicar con\", (cumsum(pca.explained_variance_ratio_) > 0.75).tolist().index(True) + 1,\"variables\"\n",
    "print \"El 90% de la varianza de las mezclas se puede explicar con\", (cumsum(pca.explained_variance_ratio_) > 0.90).tolist().index(True) + 1,\"variables\"\n"
   ]
  },
  {
   "cell_type": "markdown",
   "metadata": {},
   "source": [
    "## 3. Regresión de una función con Theano. (35 puntos)\n",
    "\n",
    "Crear un conjunto de datos utilizando el siguiente código:\n",
    "trX\t=\tnp.linspace(-1,\t1,\t101)\t\n",
    "trY\t=\tnp.linspace(-1,\t1,\t101)\t\n",
    "for\ti\tin\trange(len(trY)):\t\n",
    "\t \t \t \t trY[i]\t =\t math.log(1\t +\t 0.5\t *\t abs(trX[i]))\t +\t trX[i]\t /\t 3\t +\t\n",
    "np.random.randn()\t*\t0.033\t\n",
    "\n",
    "Ahora utilizar Theano para obtener los parámetros w_0 y w_1 del siguiente modelo\n",
    "utilizando los datos generados anteriormente.\n",
    "\n",
    "y = log(1 + w0|x|) + w1x,"
   ]
  },
  {
   "cell_type": "code",
   "execution_count": 12,
   "metadata": {
    "collapsed": false
   },
   "outputs": [
    {
     "name": "stderr",
     "output_type": "stream",
     "text": [
      "WARNING (theano.configdefaults): g++ not detected ! Theano will be unable to execute optimized C-implementations (for both CPU and GPU) and will default to Python implementations. Performance will be severely degraded. To remove this warning, set Theano flags cxx to an empty string.\n"
     ]
    }
   ],
   "source": [
    "import numpy as np\n",
    "import math\n",
    "import theano\n",
    "import theano.tensor as T\n",
    "from theano.ifelse import ifelse\n",
    "\n",
    "\n",
    "trY = np.linspace(-1, 1, 101)\n",
    "trX = np.linspace(-1, 1, 101)\n",
    "for i in range(len(trY)):\n",
    "    trY[i] = math.log(1 + 0.5*abs(trX[i])) + trX[i] / 3 + np.random.randn()*0.033\n",
    "\n"
   ]
  },
  {
   "cell_type": "code",
   "execution_count": 13,
   "metadata": {
    "collapsed": false
   },
   "outputs": [
    {
     "ename": "TypeError",
     "evalue": "only length-1 arrays can be converted to Python scalars",
     "output_type": "error",
     "traceback": [
      "\u001b[0;31m---------------------------------------------------------------------------\u001b[0m",
      "\u001b[0;31mTypeError\u001b[0m                                 Traceback (most recent call last)",
      "\u001b[0;32m<ipython-input-13-c472736b5dad>\u001b[0m in \u001b[0;36m<module>\u001b[0;34m()\u001b[0m\n\u001b[1;32m      1\u001b[0m \u001b[0mtrX\u001b[0m \u001b[1;33m=\u001b[0m \u001b[0mnp\u001b[0m\u001b[1;33m.\u001b[0m\u001b[0mlinspace\u001b[0m\u001b[1;33m(\u001b[0m\u001b[1;33m-\u001b[0m\u001b[1;36m1\u001b[0m\u001b[1;33m,\u001b[0m \u001b[1;36m1\u001b[0m\u001b[1;33m,\u001b[0m \u001b[1;36m101\u001b[0m\u001b[1;33m)\u001b[0m\u001b[1;33m\u001b[0m\u001b[0m\n\u001b[1;32m      2\u001b[0m \u001b[1;31m#trY = 2 * trX + np.random.randn(*trX.shape) * 0.33\u001b[0m\u001b[1;33m\u001b[0m\u001b[1;33m\u001b[0m\u001b[0m\n\u001b[0;32m----> 3\u001b[0;31m \u001b[0mtrY\u001b[0m \u001b[1;33m=\u001b[0m \u001b[0mmath\u001b[0m\u001b[1;33m.\u001b[0m\u001b[0mlog\u001b[0m\u001b[1;33m(\u001b[0m\u001b[1;36m1\u001b[0m \u001b[1;33m+\u001b[0m \u001b[1;36m0.5\u001b[0m\u001b[1;33m*\u001b[0m\u001b[0mabs\u001b[0m\u001b[1;33m(\u001b[0m\u001b[0mtrX\u001b[0m\u001b[1;33m)\u001b[0m\u001b[1;33m)\u001b[0m \u001b[1;33m+\u001b[0m \u001b[0mtrX\u001b[0m\u001b[1;33m/\u001b[0m\u001b[1;36m3\u001b[0m \u001b[1;33m+\u001b[0m \u001b[0mnp\u001b[0m\u001b[1;33m.\u001b[0m\u001b[0mrandom\u001b[0m\u001b[1;33m.\u001b[0m\u001b[0mrandn\u001b[0m\u001b[1;33m(\u001b[0m\u001b[1;33m)\u001b[0m\u001b[1;33m*\u001b[0m\u001b[1;36m0.033\u001b[0m\u001b[1;33m\u001b[0m\u001b[0m\n\u001b[0m\u001b[1;32m      4\u001b[0m \u001b[1;33m\u001b[0m\u001b[0m\n\u001b[1;32m      5\u001b[0m \u001b[0mX\u001b[0m \u001b[1;33m=\u001b[0m \u001b[0mT\u001b[0m\u001b[1;33m.\u001b[0m\u001b[0mscalar\u001b[0m\u001b[1;33m(\u001b[0m\u001b[1;33m)\u001b[0m\u001b[1;33m\u001b[0m\u001b[0m\n",
      "\u001b[0;31mTypeError\u001b[0m: only length-1 arrays can be converted to Python scalars"
     ]
    }
   ],
   "source": [
    "trX = np.linspace(-1, 1, 101)\n",
    "#trY = 2 * trX + np.random.randn(*trX.shape) * 0.33\n",
    "trY = math.log(1 + 0.5*abs(trX)) + trX/3 + np.random.randn()*0.033\n",
    "\n",
    "X = T.scalar()\n",
    "Y = T.scalar()\n",
    "\n",
    "def model(X, w):\n",
    "    return X * w\n",
    "\n",
    "w = theano.shared(np.asarray(0., dtype = theano.config.floatX))\n",
    "y = model(X, w)\n",
    "\n",
    "cost     = T.mean(T.sqr(y - Y))\n",
    "gradient = T.grad(cost = cost, wrt = w)\n",
    "updates  = [[w, w - gradient * 0.01]]\n",
    "\n",
    "train = theano.function(inputs = [X, Y], outputs = cost, updates = updates, allow_input_downcast = True)\n",
    "\n",
    "for i in range(15):\n",
    "    for x, y in zip(trX, trY):\n",
    "        cost_i = train(x, y)\n",
    "    print 'En el paso', i, ' el valor de w es', w.get_value(), 'con un coste', cost_i"
   ]
  }
 ],
 "metadata": {
  "anaconda-cloud": {},
  "kernelspec": {
   "display_name": "Python [conda root]",
   "language": "python",
   "name": "conda-root-py"
  },
  "language_info": {
   "codemirror_mode": {
    "name": "ipython",
    "version": 2
   },
   "file_extension": ".py",
   "mimetype": "text/x-python",
   "name": "python",
   "nbconvert_exporter": "python",
   "pygments_lexer": "ipython2",
   "version": "2.7.12"
  }
 },
 "nbformat": 4,
 "nbformat_minor": 1
}
