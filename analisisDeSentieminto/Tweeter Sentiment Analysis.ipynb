{
 "cells": [
  {
   "cell_type": "code",
   "execution_count": 1,
   "metadata": {
    "collapsed": false
   },
   "outputs": [],
   "source": [
    "import json\n",
    "import pandas as pd\n",
    "import numpy as np\n",
    "import re\n",
    "import nltk"
   ]
  },
  {
   "cell_type": "code",
   "execution_count": 21,
   "metadata": {
    "collapsed": false
   },
   "outputs": [],
   "source": [
    "def processUser(tweet,df):\n",
    "    userId = int(tweet['user']['id'])\n",
    "    name = tweet['user']['screen_name']\n",
    "    location = tweet['user']['location']\n",
    "    url = tweet['user']['url']\n",
    "    followers = tweet['user']['followers_count']\n",
    "    lang = tweet['user']['lang']\n",
    "    profile_image = tweet['user']['profile_image_url']\n",
    "    following = tweet['user']['following']\n",
    "    followers = tweet['user']['followers_count']\n",
    "    df.loc[userId] = [name,location,url,followers,lang,profile_image,following,followers]\n",
    "\n",
    "#Proceso de Tweets\n",
    "def processTweet(tweet):\n",
    "    tweet = tweet.lower()\n",
    "    # www.* or https?://* to URL\n",
    "    tweet = re.sub('((www\\.[^\\s]+)|(https?://[^\\s]+))','URL',tweet)\n",
    "    #@username to AT_USER\n",
    "    tweet = re.sub('@[^\\s]+','AT_USER',tweet)\n",
    "    #Remove additional white spaces\n",
    "    tweet = re.sub('[\\s]+', ' ', tweet)\n",
    "    #Replace #word with word\n",
    "    tweet = re.sub(r'#([^\\s]+)', r'\\1', tweet)\n",
    "    #trim\n",
    "    tweet = tweet.strip('\\'\"')\n",
    "    return tweet\n"
   ]
  },
  {
   "cell_type": "code",
   "execution_count": 7,
   "metadata": {
    "collapsed": false
   },
   "outputs": [],
   "source": [
    "dfusers = pd.DataFrame(columns=['name','location','url','followers','lang','profile_image','following','followers'])\n",
    "dftweets = pd.DataFrame(columns=['userId','geo','coordinates','timestamp','tweet','source','isretweeted','lang','lat','lon','polarity'])"
   ]
  },
  {
   "cell_type": "code",
   "execution_count": 8,
   "metadata": {
    "collapsed": false
   },
   "outputs": [
    {
     "name": "stdout",
     "output_type": "stream",
     "text": [
      "{\"created_at\":\"Sun Nov 20 15:11:52 +0000 2016\",\"id\":800355989086203905,\"id_str\":\"800355989086203905\",\"text\":\"RT @elmundoes: El edificio (no okupado) que posee en Barcelona la concejal de Carmena que defiende a los okupas en Madrid\\u2026 \",\"source\":\"\\u003ca href=\\\"http:\\/\\/twitter.com\\\" rel=\\\"nofollow\\\"\\u003eTwitter Web Client\\u003c\\/a\\u003e\",\"truncated\":false,\"in_reply_to_status_id\":null,\"in_reply_to_status_id_str\":null,\"in_reply_to_user_id\":null,\"in_reply_to_user_id_str\":null,\"in_reply_to_screen_name\":null,\"user\":{\"id\":799032032017993733,\"id_str\":\"799032032017993733\",\"name\":\"GRUPO METRO MENDOZA\",\"screen_name\":\"GRUPO_METRO_MZA\",\"location\":\"Mendoza, Argentina\",\"url\":\"http:\\/\\/www.grupometromza.com\",\"description\":\"GRUPO METRO MENDOZA.\\nPRODUCTORA DE SE\\u00d1AL Y CONTENIDOS PARA RADIO Y TV . AGENCIA DE PUBLICIDAD Y PROMOCIONES PUBLICITARIAS.\\nRADIOS AM Y FM . DIARIOS DIGITALES.\",\"protected\":false,\"verified\":false,\"followers_count\":24,\"friends_count\":353,\"listed_count\":5,\"favourites_count\":3,\"statuses_count\":1132,\"created_at\":\"Wed Nov 16 23:30:56 +0000 2016\",\"utc_offset\":null,\"time_zone\":null,\"geo_enabled\":false,\"lang\":\"es\",\"contributors_enabled\":false,\"is_translator\":false,\"profile_background_color\":\"000000\",\"profile_background_image_url\":\"http:\\/\\/abs.twimg.com\\/images\\/themes\\/theme1\\/bg.png\",\"profile_background_image_url_https\":\"https:\\/\\/abs.twimg.com\\/images\\/themes\\/theme1\\/bg.png\",\"profile_background_tile\":false,\"profile_link_color\":\"981CEB\",\"profile_sidebar_border_color\":\"000000\",\"profile_sidebar_fill_color\":\"000000\",\"profile_text_color\":\"000000\",\"profile_use_background_image\":false,\"profile_image_url\":\"http:\\/\\/pbs.twimg.com\\/profile_images\\/799035690814242817\\/vJ2LhVeh_normal.jpg\",\"profile_image_url_https\":\"https:\\/\\/pbs.twimg.com\\/profile_images\\/799035690814242817\\/vJ2LhVeh_normal.jpg\",\"profile_banner_url\":\"https:\\/\\/pbs.twimg.com\\/profile_banners\\/799032032017993733\\/1479339858\",\"default_profile\":false,\"default_profile_image\":false,\"following\":null,\"follow_request_sent\":null,\"notifications\":null},\"geo\":null,\"coordinates\":null,\"place\":null,\"contributors\":null,\"retweeted_status\":{\"created_at\":\"Sun Nov 20 15:11:04 +0000 2016\",\"id\":800355789588283392,\"id_str\":\"800355789588283392\",\"text\":\"El edificio (no okupado) que posee en Barcelona la concejal de Carmena que defiende a los okupas en Madrid\\u2026 https:\\/\\/t.co\\/0wta0r2Da5\",\"display_text_range\":[0,140],\"source\":\"\\u003ca href=\\\"http:\\/\\/www.socialflow.com\\\" rel=\\\"nofollow\\\"\\u003eSocialFlow\\u003c\\/a\\u003e\",\"truncated\":true,\"in_reply_to_status_id\":null,\"in_reply_to_status_id_str\":null,\"in_reply_to_user_id\":null,\"in_reply_to_user_id_str\":null,\"in_reply_to_screen_name\":null,\"user\":{\"id\":14436030,\"id_str\":\"14436030\",\"name\":\"EL MUNDO\",\"screen_name\":\"elmundoes\",\"location\":null,\"url\":\"http:\\/\\/www.elmundo.es\\/\",\"description\":\"- Cuenta oficial del diario EL MUNDO - \\ud83d\\udcf7 Sara, ni\\u00f1a y ap\\u00e1trida en un campo de  refugiados de Debaga (Irak) - Zohra Bensemra\\/Reuters.\",\"protected\":false,\"verified\":true,\"followers_count\":2621501,\"friends_count\":1299,\"listed_count\":27129,\"favourites_count\":2007,\"statuses_count\":129927,\"created_at\":\"Fri Apr 18 18:29:25 +0000 2008\",\"utc_offset\":3600,\"time_zone\":\"Madrid\",\"geo_enabled\":true,\"lang\":\"es\",\"contributors_enabled\":false,\"is_translator\":false,\"profile_background_color\":\"FFFFFF\",\"profile_background_image_url\":\"http:\\/\\/pbs.twimg.com\\/profile_background_images\\/378800000115939016\\/779ad75e2323ba50d1bfdc6142005b56.png\",\"profile_background_image_url_https\":\"https:\\/\\/pbs.twimg.com\\/profile_background_images\\/378800000115939016\\/779ad75e2323ba50d1bfdc6142005b56.png\",\"profile_background_tile\":false,\"profile_link_color\":\"0084B4\",\"profile_sidebar_border_color\":\"FFFFFF\",\"profile_sidebar_fill_color\":\"DDEEF6\",\"profile_text_color\":\"333333\",\"profile_use_background_image\":true,\"profile_image_url\":\"http:\\/\\/pbs.twimg.com\\/profile_images\\/796694803723522052\\/7JwuAJ8D_normal.jpg\",\"profile_image_url_https\":\"https:\\/\\/pbs.twimg.com\\/profile_images\\/796694803723522052\\/7JwuAJ8D_normal.jpg\",\"profile_banner_url\":\"https:\\/\\/pbs.twimg.com\\/profile_banners\\/14436030\\/1479227685\",\"default_profile\":false,\"default_profile_image\":false,\"following\":null,\"follow_request_sent\":null,\"notifications\":null},\"geo\":null,\"coordinates\":null,\"place\":null,\"contributors\":null,\"is_quote_status\":false,\"extended_tweet\":{\"full_text\":\"El edificio (no okupado) que posee en Barcelona la concejal de Carmena que defiende a los okupas en Madrid https:\\/\\/t.co\\/WXrl1ILtz2 https:\\/\\/t.co\\/gcjEgqTCMo\",\"display_text_range\":[0,130],\"entities\":{\"hashtags\":[],\"urls\":[{\"url\":\"https:\\/\\/t.co\\/WXrl1ILtz2\",\"expanded_url\":\"http:\\/\\/trib.al\\/9lqdr7F\",\"display_url\":\"trib.al\\/9lqdr7F\",\"indices\":[107,130]}],\"user_mentions\":[],\"symbols\":[],\"media\":[{\"id\":800355786471997440,\"id_str\":\"800355786471997440\",\"indices\":[131,154],\"media_url\":\"http:\\/\\/pbs.twimg.com\\/media\\/CxtvWOqXgAAgAC7.jpg\",\"media_url_https\":\"https:\\/\\/pbs.twimg.com\\/media\\/CxtvWOqXgAAgAC7.jpg\",\"url\":\"https:\\/\\/t.co\\/gcjEgqTCMo\",\"display_url\":\"pic.twitter.com\\/gcjEgqTCMo\",\"expanded_url\":\"https:\\/\\/twitter.com\\/elmundoes\\/status\\/800355789588283392\\/photo\\/1\",\"type\":\"photo\",\"sizes\":{\"medium\":{\"w\":660,\"h\":973,\"resize\":\"fit\"},\"small\":{\"w\":461,\"h\":680,\"resize\":\"fit\"},\"thumb\":{\"w\":150,\"h\":150,\"resize\":\"crop\"},\"large\":{\"w\":660,\"h\":973,\"resize\":\"fit\"}}}]},\"extended_entities\":{\"media\":[{\"id\":800355786471997440,\"id_str\":\"800355786471997440\",\"indices\":[131,154],\"media_url\":\"http:\\/\\/pbs.twimg.com\\/media\\/CxtvWOqXgAAgAC7.jpg\",\"media_url_https\":\"https:\\/\\/pbs.twimg.com\\/media\\/CxtvWOqXgAAgAC7.jpg\",\"url\":\"https:\\/\\/t.co\\/gcjEgqTCMo\",\"display_url\":\"pic.twitter.com\\/gcjEgqTCMo\",\"expanded_url\":\"https:\\/\\/twitter.com\\/elmundoes\\/status\\/800355789588283392\\/photo\\/1\",\"type\":\"photo\",\"sizes\":{\"medium\":{\"w\":660,\"h\":973,\"resize\":\"fit\"},\"small\":{\"w\":461,\"h\":680,\"resize\":\"fit\"},\"thumb\":{\"w\":150,\"h\":150,\"resize\":\"crop\"},\"large\":{\"w\":660,\"h\":973,\"resize\":\"fit\"}}}]}},\"retweet_count\":3,\"favorite_count\":0,\"entities\":{\"hashtags\":[],\"urls\":[{\"url\":\"https:\\/\\/t.co\\/0wta0r2Da5\",\"expanded_url\":\"https:\\/\\/twitter.com\\/i\\/web\\/status\\/800355789588283392\",\"display_url\":\"twitter.com\\/i\\/web\\/status\\/8\\u2026\",\"indices\":[108,131]}],\"user_mentions\":[],\"symbols\":[]},\"favorited\":false,\"retweeted\":false,\"possibly_sensitive\":false,\"filter_level\":\"low\",\"lang\":\"es\"},\"is_quote_status\":false,\"retweet_count\":0,\"favorite_count\":0,\"entities\":{\"hashtags\":[],\"urls\":[{\"url\":\"\",\"expanded_url\":null,\"indices\":[123,123]}],\"user_mentions\":[{\"screen_name\":\"elmundoes\",\"name\":\"EL MUNDO\",\"id\":14436030,\"id_str\":\"14436030\",\"indices\":[3,13]}],\"symbols\":[]},\"favorited\":false,\"retweeted\":false,\"filter_level\":\"low\",\"lang\":\"es\",\"timestamp_ms\":\"1479654712350\"}\r\n",
      "\n"
     ]
    }
   ],
   "source": [
    "file = open('C:\\\\Users\\\\Alberto\\\\PycharmProjects\\\\twitterExtraction\\\\CarmenaTweets.txt','r')\n",
    "decoded = ''\n",
    "counter = 0\n",
    "for line in file:\n",
    "    counter+=1\n",
    "    \n",
    "    try:\n",
    "        if counter==1:\n",
    "                print line\n",
    "        decoded = json.loads(line)\n",
    "    except Exception as e:\n",
    "        print e,':',decoded['id'] \n",
    "        \n",
    "    try:\n",
    "        id = decoded['id']\n",
    "        userId = str(decoded['user']['id'])\n",
    "        #print decoded['user']['id']\n",
    "        processUser(decoded, dfusers)\n",
    "        geo = decoded['geo']\n",
    "        coordinates = decoded['coordinates']\n",
    "        timestamp = decoded['timestamp_ms']\n",
    "        tweet = decoded['text']\n",
    "        tweet = tweet.lower()\n",
    "        # www.* or https?://* to URL\n",
    "        tweet = re.sub('((www\\.[^\\s]+)|(https?://[^\\s]+))','URL',tweet)\n",
    "        #@username to AT_USER\n",
    "        tweet = re.sub('@[^\\s]+','AT_USER',tweet)\n",
    "        #Remove additional white spaces\n",
    "        tweet = re.sub('[\\s]+', ' ', tweet)\n",
    "        #Replace #word with word\n",
    "        tweet = re.sub(r'#([^\\s]+)', r'\\1', tweet)\n",
    "        #trim\n",
    "        tweet = tweet.strip('\\'\"') \n",
    "        source = decoded['source']\n",
    "        isretweeted = False \n",
    "        if 'retweeted_status' in decoded:\n",
    "            if decoded['retweeted_status'] is not 'null':\n",
    "                isretweeted = True\n",
    "        lang = decoded['lang']\n",
    "        lat = 'null'\n",
    "        lon = 'null'\n",
    "        polarity = 'null'\n",
    "        try:\n",
    "            dftweets.loc[id] = [userId,geo,coordinates,timestamp,tweet,source,isretweeted,lang,lat,lon, polarity]\n",
    "        except Exception as e:\n",
    "            print e\n",
    "    except Exception as a:\n",
    "        print a.args,':','error processing tweet'"
   ]
  },
  {
   "cell_type": "code",
   "execution_count": 9,
   "metadata": {
    "collapsed": false
   },
   "outputs": [
    {
     "data": {
      "text/html": [
       "<div>\n",
       "<table border=\"1\" class=\"dataframe\">\n",
       "  <thead>\n",
       "    <tr style=\"text-align: right;\">\n",
       "      <th></th>\n",
       "      <th>userId</th>\n",
       "      <th>geo</th>\n",
       "      <th>coordinates</th>\n",
       "      <th>timestamp</th>\n",
       "      <th>tweet</th>\n",
       "      <th>source</th>\n",
       "      <th>isretweeted</th>\n",
       "      <th>lang</th>\n",
       "      <th>lat</th>\n",
       "      <th>lon</th>\n",
       "      <th>polarity</th>\n",
       "    </tr>\n",
       "  </thead>\n",
       "  <tbody>\n",
       "    <tr>\n",
       "      <th>800355989086203905</th>\n",
       "      <td>799032032017993733</td>\n",
       "      <td>None</td>\n",
       "      <td>None</td>\n",
       "      <td>1479654712350</td>\n",
       "      <td>rt AT_USER el edificio (no okupado) que posee ...</td>\n",
       "      <td>&lt;a href=\"http://twitter.com\" rel=\"nofollow\"&gt;Tw...</td>\n",
       "      <td>True</td>\n",
       "      <td>es</td>\n",
       "      <td>null</td>\n",
       "      <td>null</td>\n",
       "      <td>null</td>\n",
       "    </tr>\n",
       "    <tr>\n",
       "      <th>800355991057530880</th>\n",
       "      <td>2326149346</td>\n",
       "      <td>None</td>\n",
       "      <td>None</td>\n",
       "      <td>1479654712820</td>\n",
       "      <td>rt AT_USER lo de alsasua no es terrorismo. esp...</td>\n",
       "      <td>&lt;a href=\"http://twitter.com/download/iphone\" r...</td>\n",
       "      <td>True</td>\n",
       "      <td>es</td>\n",
       "      <td>null</td>\n",
       "      <td>null</td>\n",
       "      <td>null</td>\n",
       "    </tr>\n",
       "    <tr>\n",
       "      <th>800355991892037632</th>\n",
       "      <td>752958026</td>\n",
       "      <td>None</td>\n",
       "      <td>None</td>\n",
       "      <td>1479654713019</td>\n",
       "      <td>rt AT_USER el 'cara al sol' cierra la misa en ...</td>\n",
       "      <td>&lt;a href=\"http://twitter.com/download/android\" ...</td>\n",
       "      <td>True</td>\n",
       "      <td>es</td>\n",
       "      <td>null</td>\n",
       "      <td>null</td>\n",
       "      <td>null</td>\n",
       "    </tr>\n",
       "    <tr>\n",
       "      <th>800355992147881988</th>\n",
       "      <td>2382475370</td>\n",
       "      <td>None</td>\n",
       "      <td>None</td>\n",
       "      <td>1479654713080</td>\n",
       "      <td>... podemos entrenar ahora si... quieres. no t...</td>\n",
       "      <td>&lt;a href=\"http://twitter.com/download/android\" ...</td>\n",
       "      <td>False</td>\n",
       "      <td>es</td>\n",
       "      <td>null</td>\n",
       "      <td>null</td>\n",
       "      <td>null</td>\n",
       "    </tr>\n",
       "    <tr>\n",
       "      <th>800355997126512640</th>\n",
       "      <td>2405391592</td>\n",
       "      <td>None</td>\n",
       "      <td>None</td>\n",
       "      <td>1479654714267</td>\n",
       "      <td>rt AT_USER 😂😂😂😂😂👇 URL</td>\n",
       "      <td>&lt;a href=\"http://twitter.com/download/android\" ...</td>\n",
       "      <td>True</td>\n",
       "      <td>und</td>\n",
       "      <td>null</td>\n",
       "      <td>null</td>\n",
       "      <td>null</td>\n",
       "    </tr>\n",
       "  </tbody>\n",
       "</table>\n",
       "</div>"
      ],
      "text/plain": [
       "                                userId   geo coordinates      timestamp  \\\n",
       "800355989086203905  799032032017993733  None        None  1479654712350   \n",
       "800355991057530880          2326149346  None        None  1479654712820   \n",
       "800355991892037632           752958026  None        None  1479654713019   \n",
       "800355992147881988          2382475370  None        None  1479654713080   \n",
       "800355997126512640          2405391592  None        None  1479654714267   \n",
       "\n",
       "                                                                tweet  \\\n",
       "800355989086203905  rt AT_USER el edificio (no okupado) que posee ...   \n",
       "800355991057530880  rt AT_USER lo de alsasua no es terrorismo. esp...   \n",
       "800355991892037632  rt AT_USER el 'cara al sol' cierra la misa en ...   \n",
       "800355992147881988  ... podemos entrenar ahora si... quieres. no t...   \n",
       "800355997126512640                        rt AT_USER 😂😂😂😂😂👇 URL   \n",
       "\n",
       "                                                               source  \\\n",
       "800355989086203905  <a href=\"http://twitter.com\" rel=\"nofollow\">Tw...   \n",
       "800355991057530880  <a href=\"http://twitter.com/download/iphone\" r...   \n",
       "800355991892037632  <a href=\"http://twitter.com/download/android\" ...   \n",
       "800355992147881988  <a href=\"http://twitter.com/download/android\" ...   \n",
       "800355997126512640  <a href=\"http://twitter.com/download/android\" ...   \n",
       "\n",
       "                   isretweeted lang   lat   lon polarity  \n",
       "800355989086203905        True   es  null  null     null  \n",
       "800355991057530880        True   es  null  null     null  \n",
       "800355991892037632        True   es  null  null     null  \n",
       "800355992147881988       False   es  null  null     null  \n",
       "800355997126512640        True  und  null  null     null  "
      ]
     },
     "execution_count": 9,
     "metadata": {},
     "output_type": "execute_result"
    }
   ],
   "source": [
    "dftweets.head(5)"
   ]
  },
  {
   "cell_type": "code",
   "execution_count": 10,
   "metadata": {
    "collapsed": false
   },
   "outputs": [
    {
     "data": {
      "text/plain": [
       "7398"
      ]
     },
     "execution_count": 10,
     "metadata": {},
     "output_type": "execute_result"
    }
   ],
   "source": [
    "len(dftweets)"
   ]
  },
  {
   "cell_type": "code",
   "execution_count": 11,
   "metadata": {
    "collapsed": false
   },
   "outputs": [
    {
     "data": {
      "text/html": [
       "<div>\n",
       "<table border=\"1\" class=\"dataframe\">\n",
       "  <thead>\n",
       "    <tr style=\"text-align: right;\">\n",
       "      <th></th>\n",
       "      <th>name</th>\n",
       "      <th>location</th>\n",
       "      <th>url</th>\n",
       "      <th>followers</th>\n",
       "      <th>lang</th>\n",
       "      <th>profile_image</th>\n",
       "      <th>following</th>\n",
       "    </tr>\n",
       "  </thead>\n",
       "  <tbody>\n",
       "    <tr>\n",
       "      <th>799032032017993733</th>\n",
       "      <td>GRUPO METRO MENDOZA</td>\n",
       "      <td>Mendoza, Argentina</td>\n",
       "      <td>http://www.grupometromza.com</td>\n",
       "      <td>24.0</td>\n",
       "      <td>es</td>\n",
       "      <td>http://pbs.twimg.com/profile_images/7990356908...</td>\n",
       "      <td>None</td>\n",
       "    </tr>\n",
       "    <tr>\n",
       "      <th>2326149346</th>\n",
       "      <td>Pepe López</td>\n",
       "      <td>None</td>\n",
       "      <td>None</td>\n",
       "      <td>329.0</td>\n",
       "      <td>es</td>\n",
       "      <td>http://pbs.twimg.com/profile_images/4310926238...</td>\n",
       "      <td>None</td>\n",
       "    </tr>\n",
       "    <tr>\n",
       "      <th>752958026</th>\n",
       "      <td>XD</td>\n",
       "      <td>Barcelona, España</td>\n",
       "      <td>None</td>\n",
       "      <td>62.0</td>\n",
       "      <td>es</td>\n",
       "      <td>http://pbs.twimg.com/profile_images/7344675448...</td>\n",
       "      <td>None</td>\n",
       "    </tr>\n",
       "    <tr>\n",
       "      <th>2382475370</th>\n",
       "      <td>Rαι Blαĸe</td>\n",
       "      <td>Estudiando</td>\n",
       "      <td>None</td>\n",
       "      <td>112.0</td>\n",
       "      <td>es</td>\n",
       "      <td>http://pbs.twimg.com/profile_images/7888527558...</td>\n",
       "      <td>None</td>\n",
       "    </tr>\n",
       "    <tr>\n",
       "      <th>2405391592</th>\n",
       "      <td>angel jurado sánchez</td>\n",
       "      <td>Pedro Muñoz, Castilla-La Manch</td>\n",
       "      <td>None</td>\n",
       "      <td>304.0</td>\n",
       "      <td>es</td>\n",
       "      <td>http://pbs.twimg.com/profile_images/7508086238...</td>\n",
       "      <td>None</td>\n",
       "    </tr>\n",
       "  </tbody>\n",
       "</table>\n",
       "</div>"
      ],
      "text/plain": [
       "                                    name                        location  \\\n",
       "799032032017993733   GRUPO METRO MENDOZA              Mendoza, Argentina   \n",
       "2326149346                    Pepe López                            None   \n",
       "752958026                             XD               Barcelona, España   \n",
       "2382475370                     Rαι Blαĸe                      Estudiando   \n",
       "2405391592          angel jurado sánchez  Pedro Muñoz, Castilla-La Manch   \n",
       "\n",
       "                                             url  followers lang  \\\n",
       "799032032017993733  http://www.grupometromza.com       24.0   es   \n",
       "2326149346                                  None      329.0   es   \n",
       "752958026                                   None       62.0   es   \n",
       "2382475370                                  None      112.0   es   \n",
       "2405391592                                  None      304.0   es   \n",
       "\n",
       "                                                        profile_image  \\\n",
       "799032032017993733  http://pbs.twimg.com/profile_images/7990356908...   \n",
       "2326149346          http://pbs.twimg.com/profile_images/4310926238...   \n",
       "752958026           http://pbs.twimg.com/profile_images/7344675448...   \n",
       "2382475370          http://pbs.twimg.com/profile_images/7888527558...   \n",
       "2405391592          http://pbs.twimg.com/profile_images/7508086238...   \n",
       "\n",
       "                   following  \n",
       "799032032017993733      None  \n",
       "2326149346              None  \n",
       "752958026               None  \n",
       "2382475370              None  \n",
       "2405391592              None  "
      ]
     },
     "execution_count": 11,
     "metadata": {},
     "output_type": "execute_result"
    }
   ],
   "source": [
    "dfusers.head(5)"
   ]
  },
  {
   "cell_type": "code",
   "execution_count": 12,
   "metadata": {
    "collapsed": false
   },
   "outputs": [
    {
     "data": {
      "text/plain": [
       "5573"
      ]
     },
     "execution_count": 12,
     "metadata": {},
     "output_type": "execute_result"
    }
   ],
   "source": [
    "len(dfusers)"
   ]
  },
  {
   "cell_type": "code",
   "execution_count": 13,
   "metadata": {
    "collapsed": false
   },
   "outputs": [
    {
     "data": {
      "text/plain": [
       "7317"
      ]
     },
     "execution_count": 13,
     "metadata": {},
     "output_type": "execute_result"
    }
   ],
   "source": [
    "len(dftweets[dftweets['lang']=='es'])"
   ]
  },
  {
   "cell_type": "code",
   "execution_count": 14,
   "metadata": {
    "collapsed": true
   },
   "outputs": [],
   "source": [
    "dftweets.to_csv('tweets_df.csv', encoding='utf-8')"
   ]
  },
  {
   "cell_type": "code",
   "execution_count": 15,
   "metadata": {
    "collapsed": true
   },
   "outputs": [],
   "source": [
    "dfusers.to_csv('users_df.csv', encoding='utf-8')"
   ]
  },
  {
   "cell_type": "markdown",
   "metadata": {},
   "source": [
    "## Carga a partir de DataFrame ya tratado"
   ]
  },
  {
   "cell_type": "code",
   "execution_count": 10,
   "metadata": {
    "collapsed": true
   },
   "outputs": [],
   "source": [
    "dftweets = pd.read_csv('tweets_df.csv', encoding='utf-8')"
   ]
  },
  {
   "cell_type": "code",
   "execution_count": null,
   "metadata": {
    "collapsed": true
   },
   "outputs": [],
   "source": []
  },
  {
   "cell_type": "code",
   "execution_count": 11,
   "metadata": {
    "collapsed": true
   },
   "outputs": [],
   "source": [
    "dfusers= pd.read_csv('users_df.csv', encoding='utf-8')"
   ]
  },
  {
   "cell_type": "markdown",
   "metadata": {},
   "source": [
    "Cargamos el corpus tagueado"
   ]
  },
  {
   "cell_type": "code",
   "execution_count": 12,
   "metadata": {
    "collapsed": false
   },
   "outputs": [],
   "source": [
    "from lxml import objectify\n",
    "xml = objectify.parse(open('general-tweets-train-tagged.xml'))\n",
    "#sample tweet object\n",
    "general_tweets_corpus_train = pd.DataFrame(columns=('content', 'polarity', 'agreement'))\n",
    "root = xml.getroot()\n",
    "tweets = root.getchildren()\n",
    "for i in range(0,len(tweets)):\n",
    "    tweet = tweets[i]\n",
    "    row = dict(zip(['content', 'polarity', 'agreement'], [tweet.content.text, tweet.sentiments.polarity.value.text, tweet.sentiments.polarity.type.text]))\n",
    "    row_s = pd.Series(row)\n",
    "    row_s.name = i\n",
    "    general_tweets_corpus_train = general_tweets_corpus_train.append(row_s)\n",
    "general_tweets_corpus_train.to_csv('general-tweets-train-tagged.csv', index=False, encoding='utf-8')"
   ]
  },
  {
   "cell_type": "code",
   "execution_count": 13,
   "metadata": {
    "collapsed": false
   },
   "outputs": [
    {
     "data": {
      "text/html": [
       "<div>\n",
       "<table border=\"1\" class=\"dataframe\">\n",
       "  <thead>\n",
       "    <tr style=\"text-align: right;\">\n",
       "      <th></th>\n",
       "      <th>content</th>\n",
       "      <th>polarity</th>\n",
       "      <th>agreement</th>\n",
       "    </tr>\n",
       "  </thead>\n",
       "  <tbody>\n",
       "    <tr>\n",
       "      <th>0</th>\n",
       "      <td>Salgo de #VeoTV , que día más largoooooo...</td>\n",
       "      <td>NONE</td>\n",
       "      <td>AGREEMENT</td>\n",
       "    </tr>\n",
       "    <tr>\n",
       "      <th>1</th>\n",
       "      <td>@PauladeLasHeras No te libraras de ayudar me/n...</td>\n",
       "      <td>NEU</td>\n",
       "      <td>DISAGREEMENT</td>\n",
       "    </tr>\n",
       "    <tr>\n",
       "      <th>2</th>\n",
       "      <td>@marodriguezb Gracias MAR</td>\n",
       "      <td>P</td>\n",
       "      <td>AGREEMENT</td>\n",
       "    </tr>\n",
       "    <tr>\n",
       "      <th>3</th>\n",
       "      <td>Off pensando en el regalito Sinde, la que se v...</td>\n",
       "      <td>N+</td>\n",
       "      <td>AGREEMENT</td>\n",
       "    </tr>\n",
       "    <tr>\n",
       "      <th>4</th>\n",
       "      <td>Conozco a alguien q es adicto al drama! Ja ja ...</td>\n",
       "      <td>P+</td>\n",
       "      <td>AGREEMENT</td>\n",
       "    </tr>\n",
       "  </tbody>\n",
       "</table>\n",
       "</div>"
      ],
      "text/plain": [
       "                                             content polarity     agreement\n",
       "0        Salgo de #VeoTV , que día más largoooooo...     NONE     AGREEMENT\n",
       "1  @PauladeLasHeras No te libraras de ayudar me/n...      NEU  DISAGREEMENT\n",
       "2                          @marodriguezb Gracias MAR        P     AGREEMENT\n",
       "3  Off pensando en el regalito Sinde, la que se v...       N+     AGREEMENT\n",
       "4  Conozco a alguien q es adicto al drama! Ja ja ...       P+     AGREEMENT"
      ]
     },
     "execution_count": 13,
     "metadata": {},
     "output_type": "execute_result"
    }
   ],
   "source": [
    "general_tweets_corpus_train.head(5)"
   ]
  },
  {
   "cell_type": "code",
   "execution_count": 14,
   "metadata": {
    "collapsed": false
   },
   "outputs": [
    {
     "data": {
      "text/html": [
       "<div>\n",
       "<table border=\"1\" class=\"dataframe\">\n",
       "  <thead>\n",
       "    <tr style=\"text-align: right;\">\n",
       "      <th></th>\n",
       "      <th>content</th>\n",
       "      <th>polarity</th>\n",
       "      <th>agreement</th>\n",
       "    </tr>\n",
       "  </thead>\n",
       "  <tbody>\n",
       "    <tr>\n",
       "      <th>2</th>\n",
       "      <td>@marodriguezb Gracias MAR</td>\n",
       "      <td>P</td>\n",
       "      <td>AGREEMENT</td>\n",
       "    </tr>\n",
       "    <tr>\n",
       "      <th>3</th>\n",
       "      <td>Off pensando en el regalito Sinde, la que se v...</td>\n",
       "      <td>N+</td>\n",
       "      <td>AGREEMENT</td>\n",
       "    </tr>\n",
       "    <tr>\n",
       "      <th>4</th>\n",
       "      <td>Conozco a alguien q es adicto al drama! Ja ja ...</td>\n",
       "      <td>P+</td>\n",
       "      <td>AGREEMENT</td>\n",
       "    </tr>\n",
       "    <tr>\n",
       "      <th>6</th>\n",
       "      <td>Toca @crackoviadeTV3 . Grabación dl especial N...</td>\n",
       "      <td>P+</td>\n",
       "      <td>AGREEMENT</td>\n",
       "    </tr>\n",
       "    <tr>\n",
       "      <th>8</th>\n",
       "      <td>Buen día todos! Lo primero mandar un abrazo gr...</td>\n",
       "      <td>P+</td>\n",
       "      <td>AGREEMENT</td>\n",
       "    </tr>\n",
       "  </tbody>\n",
       "</table>\n",
       "</div>"
      ],
      "text/plain": [
       "                                             content polarity  agreement\n",
       "2                          @marodriguezb Gracias MAR        P  AGREEMENT\n",
       "3  Off pensando en el regalito Sinde, la que se v...       N+  AGREEMENT\n",
       "4  Conozco a alguien q es adicto al drama! Ja ja ...       P+  AGREEMENT\n",
       "6  Toca @crackoviadeTV3 . Grabación dl especial N...       P+  AGREEMENT\n",
       "8  Buen día todos! Lo primero mandar un abrazo gr...       P+  AGREEMENT"
      ]
     },
     "execution_count": 14,
     "metadata": {},
     "output_type": "execute_result"
    }
   ],
   "source": [
    "tweets_corpus = general_tweets_corpus_train.copy()\n",
    "tweets_corpus = tweets_corpus.query('agreement != \"DISAGREEMENT\" and polarity != \"NONE\"')\n",
    "tweets_corpus.head(5)"
   ]
  },
  {
   "cell_type": "code",
   "execution_count": 15,
   "metadata": {
    "collapsed": false
   },
   "outputs": [
    {
     "data": {
      "text/plain": [
       "(4995, 3)"
      ]
     },
     "execution_count": 15,
     "metadata": {},
     "output_type": "execute_result"
    }
   ],
   "source": [
    "#remove links\n",
    "tweets_corpus = tweets_corpus[-tweets_corpus.content.str.contains('^http.*$')]\n",
    "\n",
    "tweets_corpus.shape"
   ]
  },
  {
   "cell_type": "markdown",
   "metadata": {},
   "source": [
    "### Tokenizamos y hacemos Steming"
   ]
  },
  {
   "cell_type": "markdown",
   "metadata": {},
   "source": [
    "### Evaluacion del modelo"
   ]
  },
  {
   "cell_type": "code",
   "execution_count": 16,
   "metadata": {
    "collapsed": false
   },
   "outputs": [
    {
     "data": {
      "text/plain": [
       "5066"
      ]
     },
     "execution_count": 16,
     "metadata": {},
     "output_type": "execute_result"
    }
   ],
   "source": [
    "general_tweets_corpus_train.ix[general_tweets_corpus_train['polarity']=='P+', 'polarity'] = 'P'\n",
    "general_tweets_corpus_train.ix[general_tweets_corpus_train['polarity']=='N+', 'polarity'] = 'N'\n",
    "general_tweets_corpus_train.ix[general_tweets_corpus_train['polarity']=='NONE', 'polarity'] = 'NEU'\n",
    "general_tweets_corpus_train = general_tweets_corpus_train[general_tweets_corpus_train.polarity.str.contains(\"NEU\") == False]\n",
    "len(general_tweets_corpus_train)\n",
    "#general_tweets_corpus_train[general_tweets_corpus_train['polarity']=='N'][0:2]"
   ]
  },
  {
   "cell_type": "code",
   "execution_count": 17,
   "metadata": {
    "collapsed": false
   },
   "outputs": [],
   "source": [
    "subcorpus = []\n",
    "general_tweets_corpus_train['words'] = general_tweets_corpus_train['content'].str.lower().str.split(' ')\n",
    "general_tweets_corpus_train.head(5)\n",
    "subcorpus = general_tweets_corpus_train[['words','polarity']]\n",
    "tweets = [tuple(x) for x in subcorpus[0:1500].values]"
   ]
  },
  {
   "cell_type": "code",
   "execution_count": 18,
   "metadata": {
    "collapsed": false
   },
   "outputs": [],
   "source": [
    "def get_words_in_tweets(tweets):\n",
    "    all_words = []\n",
    "    for (words, sentiment) in tweets:\n",
    "        all_words.extend(words)\n",
    "    return all_words\n",
    "\n",
    "\n",
    "def get_word_features(wordlist):\n",
    "    wordlist = nltk.FreqDist(wordlist)\n",
    "    word_features = wordlist.keys()\n",
    "    return word_features\n",
    "\n",
    "word_features = get_word_features(get_words_in_tweets(tweets))\n",
    "\n",
    "def extract_features(document):\n",
    "    document_words = set(document)\n",
    "    features = {}\n",
    "    for word in word_features:\n",
    "        features['contains(%s)' % word] = (word in document_words)\n",
    "    return features"
   ]
  },
  {
   "cell_type": "code",
   "execution_count": 19,
   "metadata": {
    "collapsed": false
   },
   "outputs": [],
   "source": [
    "from nltk.tokenize import word_tokenize\n",
    "from nltk.classify import NaiveBayesClassifier\n",
    "\n",
    "# get the training set and train the Naive Bayes Classifier\n",
    "training_set = nltk.classify.util.apply_features(extract_features, tweets)"
   ]
  },
  {
   "cell_type": "code",
   "execution_count": 20,
   "metadata": {
    "collapsed": false
   },
   "outputs": [],
   "source": [
    "NBClassifier = nltk.NaiveBayesClassifier.train(training_set)"
   ]
  },
  {
   "cell_type": "code",
   "execution_count": 50,
   "metadata": {
    "collapsed": false
   },
   "outputs": [],
   "source": [
    "import nltk\n",
    "\n",
    "\n",
    "#print NBClassifier.classify(extract_features(getFeatureVector(processedTweet('RT @Misssione: Madrid lleno de hojas ca\\u00eddas que con la lluvia, te resbalas. \\u00bfSe har\\u00e1 cargo Carmena y su equipo de los da\\u00f1os que suframos lo\\u2026')))) + '\\n'\n",
    "dftest = dftweets[0:20]\n",
    "\n",
    "dftestcomplete = dftest\n",
    "     \n",
    "for i in range(len(dftweets)):\n",
    "    #print dftest.ix[i]['tweet']\n",
    "    dftweets.set_value(i, 'polarity', NBClassifier.classify(extract_features(nltk.word_tokenize(processTweet(dftweets.ix[i]['tweet'])))))\n",
    "    #print dftest.ix[i]['polarity'] \n"
   ]
  },
  {
   "cell_type": "code",
   "execution_count": 51,
   "metadata": {
    "collapsed": true
   },
   "outputs": [],
   "source": [
    "dftweets.to_csv('tweets_analyzed.csv', encoding='utf-8')"
   ]
  },
  {
   "cell_type": "code",
   "execution_count": 85,
   "metadata": {
    "collapsed": false
   },
   "outputs": [
    {
     "data": {
      "text/plain": [
       "0"
      ]
     },
     "execution_count": 85,
     "metadata": {},
     "output_type": "execute_result"
    }
   ],
   "source": [
    "import matplotlib.pyplot as plt\n",
    "\n",
    "len(dftweets[dftweets['polarity']=='P'])\n",
    "len(dftweets[dftweets['polarity']=='N'])\n",
    "\n",
    "len(dftweets[dftweets['lat']=='null'])\n",
    "len(dftweets[dftweets['lon']=='null'])\n",
    "\n",
    "dftweets['coordinates'].unique()\n",
    "dftweets['geo'].unique()\n",
    "\n"
   ]
  },
  {
   "cell_type": "code",
   "execution_count": 87,
   "metadata": {
    "collapsed": false
   },
   "outputs": [
    {
     "data": {
      "text/html": [
       "<div>\n",
       "<table border=\"1\" class=\"dataframe\">\n",
       "  <thead>\n",
       "    <tr style=\"text-align: right;\">\n",
       "      <th></th>\n",
       "      <th>tweet</th>\n",
       "      <th>polarity</th>\n",
       "    </tr>\n",
       "  </thead>\n",
       "  <tbody>\n",
       "    <tr>\n",
       "      <th>0</th>\n",
       "      <td>rt AT_USER el edificio (no okupado) que posee ...</td>\n",
       "      <td>P</td>\n",
       "    </tr>\n",
       "    <tr>\n",
       "      <th>1</th>\n",
       "      <td>rt AT_USER lo de alsasua no es terrorismo. esp...</td>\n",
       "      <td>N</td>\n",
       "    </tr>\n",
       "    <tr>\n",
       "      <th>2</th>\n",
       "      <td>rt AT_USER el 'cara al sol' cierra la misa en ...</td>\n",
       "      <td>N</td>\n",
       "    </tr>\n",
       "    <tr>\n",
       "      <th>3</th>\n",
       "      <td>... podemos entrenar ahora si... quieres. no t...</td>\n",
       "      <td>P</td>\n",
       "    </tr>\n",
       "    <tr>\n",
       "      <th>4</th>\n",
       "      <td>rt AT_USER 😂😂😂😂😂👇 URL</td>\n",
       "      <td>P</td>\n",
       "    </tr>\n",
       "    <tr>\n",
       "      <th>5</th>\n",
       "      <td>rt AT_USER el edificio (no okupado) que posee ...</td>\n",
       "      <td>P</td>\n",
       "    </tr>\n",
       "    <tr>\n",
       "      <th>6</th>\n",
       "      <td>rt AT_USER el edificio (no okupado) que posee ...</td>\n",
       "      <td>P</td>\n",
       "    </tr>\n",
       "    <tr>\n",
       "      <th>7</th>\n",
       "      <td>rt AT_USER el edificio (no okupado) que posee ...</td>\n",
       "      <td>P</td>\n",
       "    </tr>\n",
       "    <tr>\n",
       "      <th>8</th>\n",
       "      <td>rt AT_USER el edificio (no okupado) que posee ...</td>\n",
       "      <td>P</td>\n",
       "    </tr>\n",
       "    <tr>\n",
       "      <th>9</th>\n",
       "      <td>rt AT_USER el 'cara al sol' cierra la misa en ...</td>\n",
       "      <td>N</td>\n",
       "    </tr>\n",
       "    <tr>\n",
       "      <th>10</th>\n",
       "      <td>rt AT_USER el 'cara al sol' cierra la misa en ...</td>\n",
       "      <td>N</td>\n",
       "    </tr>\n",
       "    <tr>\n",
       "      <th>11</th>\n",
       "      <td>rt AT_USER el edificio (no okupado) que posee ...</td>\n",
       "      <td>P</td>\n",
       "    </tr>\n",
       "    <tr>\n",
       "      <th>12</th>\n",
       "      <td>todo se hace por una razón, el pasado es pasad...</td>\n",
       "      <td>P</td>\n",
       "    </tr>\n",
       "    <tr>\n",
       "      <th>13</th>\n",
       "      <td>rt AT_USER ¿en qué gasta 8 millones el sobrino...</td>\n",
       "      <td>N</td>\n",
       "    </tr>\n",
       "    <tr>\n",
       "      <th>14</th>\n",
       "      <td>rt AT_USER los agentes de movilidad cobrarán c...</td>\n",
       "      <td>P</td>\n",
       "    </tr>\n",
       "    <tr>\n",
       "      <th>15</th>\n",
       "      <td>rt AT_USER ahora muchos ignorantes dicen que e...</td>\n",
       "      <td>P</td>\n",
       "    </tr>\n",
       "    <tr>\n",
       "      <th>16</th>\n",
       "      <td>rt AT_USER el mod del real madrid ahora mismo....</td>\n",
       "      <td>P</td>\n",
       "    </tr>\n",
       "    <tr>\n",
       "      <th>17</th>\n",
       "      <td>rt AT_USER el edificio (no okupado) que posee ...</td>\n",
       "      <td>P</td>\n",
       "    </tr>\n",
       "    <tr>\n",
       "      <th>18</th>\n",
       "      <td>rt AT_USER de los creadores de \"el madrid gana...</td>\n",
       "      <td>P</td>\n",
       "    </tr>\n",
       "    <tr>\n",
       "      <th>19</th>\n",
       "      <td>rt AT_USER ¿en qué gasta 8 millones el sobrino...</td>\n",
       "      <td>N</td>\n",
       "    </tr>\n",
       "    <tr>\n",
       "      <th>20</th>\n",
       "      <td>rt AT_USER el edificio (no okupado) que posee ...</td>\n",
       "      <td>P</td>\n",
       "    </tr>\n",
       "    <tr>\n",
       "      <th>21</th>\n",
       "      <td>rt AT_USER el edificio (no okupado) que posee ...</td>\n",
       "      <td>P</td>\n",
       "    </tr>\n",
       "    <tr>\n",
       "      <th>22</th>\n",
       "      <td>rt AT_USER el edificio no okupado de la concej...</td>\n",
       "      <td>P</td>\n",
       "    </tr>\n",
       "    <tr>\n",
       "      <th>23</th>\n",
       "      <td>rt AT_USER en lisboa. en milán. y ahora en vue...</td>\n",
       "      <td>P</td>\n",
       "    </tr>\n",
       "    <tr>\n",
       "      <th>24</th>\n",
       "      <td>rt AT_USER el 'cara al sol' cierra la misa en ...</td>\n",
       "      <td>N</td>\n",
       "    </tr>\n",
       "    <tr>\n",
       "      <th>25</th>\n",
       "      <td>rt AT_USER el 'cara al sol' cierra la misa en ...</td>\n",
       "      <td>N</td>\n",
       "    </tr>\n",
       "    <tr>\n",
       "      <th>26</th>\n",
       "      <td>rt AT_USER de los creadores de \"el madrid gana...</td>\n",
       "      <td>P</td>\n",
       "    </tr>\n",
       "    <tr>\n",
       "      <th>27</th>\n",
       "      <td>rt AT_USER el 'cara al sol' cierra la misa en ...</td>\n",
       "      <td>N</td>\n",
       "    </tr>\n",
       "    <tr>\n",
       "      <th>28</th>\n",
       "      <td>las víctimas del franquismo reprochan a carmen...</td>\n",
       "      <td>P</td>\n",
       "    </tr>\n",
       "    <tr>\n",
       "      <th>29</th>\n",
       "      <td>¡¡¡¡¡¡okupas de españa juntaos y okupar.!!!!!!...</td>\n",
       "      <td>P</td>\n",
       "    </tr>\n",
       "    <tr>\n",
       "      <th>30</th>\n",
       "      <td>rt AT_USER fernanda:no me voy a ir contigo,no ...</td>\n",
       "      <td>P</td>\n",
       "    </tr>\n",
       "    <tr>\n",
       "      <th>31</th>\n",
       "      <td>rt AT_USER las víctimas del franquismo reproch...</td>\n",
       "      <td>P</td>\n",
       "    </tr>\n",
       "    <tr>\n",
       "      <th>32</th>\n",
       "      <td>pues nada, si ella defiende la okupacion, pues...</td>\n",
       "      <td>P</td>\n",
       "    </tr>\n",
       "    <tr>\n",
       "      <th>33</th>\n",
       "      <td>la madre que me parió 😒😡 URL</td>\n",
       "      <td>P</td>\n",
       "    </tr>\n",
       "    <tr>\n",
       "      <th>34</th>\n",
       "      <td>rt AT_USER el edificio (no okupado) que posee ...</td>\n",
       "      <td>P</td>\n",
       "    </tr>\n",
       "    <tr>\n",
       "      <th>35</th>\n",
       "      <td>rt AT_USER ya podemos arrobar al golpeador? y ...</td>\n",
       "      <td>P</td>\n",
       "    </tr>\n",
       "    <tr>\n",
       "      <th>36</th>\n",
       "      <td>rt AT_USER las víctimas del franquismo reproch...</td>\n",
       "      <td>P</td>\n",
       "    </tr>\n",
       "    <tr>\n",
       "      <th>37</th>\n",
       "      <td>que pereza ir a madrid ahora</td>\n",
       "      <td>P</td>\n",
       "    </tr>\n",
       "    <tr>\n",
       "      <th>38</th>\n",
       "      <td>rt AT_USER el edificio (no okupado) que posee ...</td>\n",
       "      <td>P</td>\n",
       "    </tr>\n",
       "    <tr>\n",
       "      <th>39</th>\n",
       "      <td>rt AT_USER comienzan a implantarse en madrid n...</td>\n",
       "      <td>P</td>\n",
       "    </tr>\n",
       "    <tr>\n",
       "      <th>40</th>\n",
       "      <td>rt AT_USER en lisboa. en milán. y ahora en vue...</td>\n",
       "      <td>P</td>\n",
       "    </tr>\n",
       "    <tr>\n",
       "      <th>41</th>\n",
       "      <td>rt AT_USER manifestantes contra la impunidad p...</td>\n",
       "      <td>N</td>\n",
       "    </tr>\n",
       "    <tr>\n",
       "      <th>42</th>\n",
       "      <td>rt AT_USER en lisboa. en milán. y ahora en vue...</td>\n",
       "      <td>P</td>\n",
       "    </tr>\n",
       "    <tr>\n",
       "      <th>43</th>\n",
       "      <td>rt AT_USER el 'cara al sol' cierra la misa en ...</td>\n",
       "      <td>N</td>\n",
       "    </tr>\n",
       "    <tr>\n",
       "      <th>44</th>\n",
       "      <td>rt AT_USER el 'cara al sol' cierra la misa en ...</td>\n",
       "      <td>N</td>\n",
       "    </tr>\n",
       "    <tr>\n",
       "      <th>45</th>\n",
       "      <td>rt AT_USER comienzan a implantarse en madrid n...</td>\n",
       "      <td>P</td>\n",
       "    </tr>\n",
       "    <tr>\n",
       "      <th>46</th>\n",
       "      <td>rt AT_USER las víctimas del franquismo reproch...</td>\n",
       "      <td>P</td>\n",
       "    </tr>\n",
       "    <tr>\n",
       "      <th>47</th>\n",
       "      <td>comprar las mejores propiedades en madrid. tod...</td>\n",
       "      <td>P</td>\n",
       "    </tr>\n",
       "    <tr>\n",
       "      <th>48</th>\n",
       "      <td>rt AT_USER señora carmena¡¡ a ver si empieza a...</td>\n",
       "      <td>P</td>\n",
       "    </tr>\n",
       "    <tr>\n",
       "      <th>49</th>\n",
       "      <td>pues ya tarda en dejárselo, ¿no? URL</td>\n",
       "      <td>P</td>\n",
       "    </tr>\n",
       "  </tbody>\n",
       "</table>\n",
       "</div>"
      ],
      "text/plain": [
       "                                                tweet polarity\n",
       "0   rt AT_USER el edificio (no okupado) que posee ...        P\n",
       "1   rt AT_USER lo de alsasua no es terrorismo. esp...        N\n",
       "2   rt AT_USER el 'cara al sol' cierra la misa en ...        N\n",
       "3   ... podemos entrenar ahora si... quieres. no t...        P\n",
       "4                         rt AT_USER 😂😂😂😂😂👇 URL        P\n",
       "5   rt AT_USER el edificio (no okupado) que posee ...        P\n",
       "6   rt AT_USER el edificio (no okupado) que posee ...        P\n",
       "7   rt AT_USER el edificio (no okupado) que posee ...        P\n",
       "8   rt AT_USER el edificio (no okupado) que posee ...        P\n",
       "9   rt AT_USER el 'cara al sol' cierra la misa en ...        N\n",
       "10  rt AT_USER el 'cara al sol' cierra la misa en ...        N\n",
       "11  rt AT_USER el edificio (no okupado) que posee ...        P\n",
       "12  todo se hace por una razón, el pasado es pasad...        P\n",
       "13  rt AT_USER ¿en qué gasta 8 millones el sobrino...        N\n",
       "14  rt AT_USER los agentes de movilidad cobrarán c...        P\n",
       "15  rt AT_USER ahora muchos ignorantes dicen que e...        P\n",
       "16  rt AT_USER el mod del real madrid ahora mismo....        P\n",
       "17  rt AT_USER el edificio (no okupado) que posee ...        P\n",
       "18  rt AT_USER de los creadores de \"el madrid gana...        P\n",
       "19  rt AT_USER ¿en qué gasta 8 millones el sobrino...        N\n",
       "20  rt AT_USER el edificio (no okupado) que posee ...        P\n",
       "21  rt AT_USER el edificio (no okupado) que posee ...        P\n",
       "22  rt AT_USER el edificio no okupado de la concej...        P\n",
       "23  rt AT_USER en lisboa. en milán. y ahora en vue...        P\n",
       "24  rt AT_USER el 'cara al sol' cierra la misa en ...        N\n",
       "25  rt AT_USER el 'cara al sol' cierra la misa en ...        N\n",
       "26  rt AT_USER de los creadores de \"el madrid gana...        P\n",
       "27  rt AT_USER el 'cara al sol' cierra la misa en ...        N\n",
       "28  las víctimas del franquismo reprochan a carmen...        P\n",
       "29  ¡¡¡¡¡¡okupas de españa juntaos y okupar.!!!!!!...        P\n",
       "30  rt AT_USER fernanda:no me voy a ir contigo,no ...        P\n",
       "31  rt AT_USER las víctimas del franquismo reproch...        P\n",
       "32  pues nada, si ella defiende la okupacion, pues...        P\n",
       "33                     la madre que me parió 😒😡 URL        P\n",
       "34  rt AT_USER el edificio (no okupado) que posee ...        P\n",
       "35  rt AT_USER ya podemos arrobar al golpeador? y ...        P\n",
       "36  rt AT_USER las víctimas del franquismo reproch...        P\n",
       "37                       que pereza ir a madrid ahora        P\n",
       "38  rt AT_USER el edificio (no okupado) que posee ...        P\n",
       "39  rt AT_USER comienzan a implantarse en madrid n...        P\n",
       "40  rt AT_USER en lisboa. en milán. y ahora en vue...        P\n",
       "41  rt AT_USER manifestantes contra la impunidad p...        N\n",
       "42  rt AT_USER en lisboa. en milán. y ahora en vue...        P\n",
       "43  rt AT_USER el 'cara al sol' cierra la misa en ...        N\n",
       "44  rt AT_USER el 'cara al sol' cierra la misa en ...        N\n",
       "45  rt AT_USER comienzan a implantarse en madrid n...        P\n",
       "46  rt AT_USER las víctimas del franquismo reproch...        P\n",
       "47  comprar las mejores propiedades en madrid. tod...        P\n",
       "48  rt AT_USER señora carmena¡¡ a ver si empieza a...        P\n",
       "49               pues ya tarda en dejárselo, ¿no? URL        P"
      ]
     },
     "execution_count": 87,
     "metadata": {},
     "output_type": "execute_result"
    }
   ],
   "source": [
    "dftweets[['tweet','polarity']].head(50)"
   ]
  }
 ],
 "metadata": {
  "anaconda-cloud": {},
  "kernelspec": {
   "display_name": "Python [conda root]",
   "language": "python",
   "name": "conda-root-py"
  },
  "language_info": {
   "codemirror_mode": {
    "name": "ipython",
    "version": 2
   },
   "file_extension": ".py",
   "mimetype": "text/x-python",
   "name": "python",
   "nbconvert_exporter": "python",
   "pygments_lexer": "ipython2",
   "version": "2.7.12"
  }
 },
 "nbformat": 4,
 "nbformat_minor": 1
}
