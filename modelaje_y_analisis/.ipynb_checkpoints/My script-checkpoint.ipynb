{
 "cells": [
  {
   "cell_type": "code",
   "execution_count": 1,
   "metadata": {
    "collapsed": false
   },
   "outputs": [
    {
     "name": "stdout",
     "output_type": "stream",
     "text": [
      "IMPORTING LIBRARIES...\n",
      "LOADING DATASETS...\n",
      "IDENTIFYING TYPES...\n",
      "id is input\n",
      "ERROR: unable to identify the type of: id\n",
      "ib_var_1 is input\n",
      "ib_var_1 is input binary\n",
      "ib_var_2 is input\n",
      "ib_var_2 is input binary\n",
      "ib_var_3 is input\n",
      "ib_var_3 is input binary\n",
      "ib_var_4 is input\n",
      "ib_var_4 is input binary\n",
      "ib_var_5 is input\n",
      "ib_var_5 is input binary\n",
      "ib_var_6 is input\n",
      "ib_var_6 is input binary\n",
      "ib_var_7 is input\n",
      "ib_var_7 is input binary\n",
      "ib_var_8 is input\n",
      "ib_var_8 is input binary\n",
      "ib_var_9 is input\n",
      "ib_var_9 is input binary\n",
      "ib_var_10 is input\n",
      "ib_var_10 is input binary\n",
      "ib_var_11 is input\n",
      "ib_var_11 is input binary\n",
      "ib_var_12 is input\n",
      "ib_var_12 is input binary\n",
      "ib_var_13 is input\n",
      "ib_var_13 is input binary\n",
      "ib_var_14 is input\n",
      "ib_var_14 is input binary\n",
      "ib_var_15 is input\n",
      "ib_var_15 is input binary\n",
      "ib_var_16 is input\n",
      "ib_var_16 is input binary\n",
      "ib_var_17 is input\n",
      "ib_var_17 is input binary\n",
      "ib_var_18 is input\n",
      "ib_var_18 is input binary\n",
      "ib_var_19 is input\n",
      "ib_var_19 is input binary\n",
      "ib_var_20 is input\n",
      "ib_var_20 is input binary\n",
      "ib_var_21 is input\n",
      "ib_var_21 is input binary\n",
      "icn_var_22 is input\n",
      "icn_var_22 is input categorical nominal\n",
      "icn_var_23 is input\n",
      "icn_var_23 is input categorical nominal\n",
      "icn_var_24 is input\n",
      "icn_var_24 is input categorical nominal\n",
      "ico_var_25 is input\n",
      "ico_var_25 is input categorical ordinal\n",
      "ico_var_26 is input\n",
      "ico_var_26 is input categorical ordinal\n",
      "ico_var_27 is input\n",
      "ico_var_27 is input categorical ordinal\n",
      "ico_var_28 is input\n",
      "ico_var_28 is input categorical ordinal\n",
      "ico_var_29 is input\n",
      "ico_var_29 is input categorical ordinal\n",
      "ico_var_30 is input\n",
      "ico_var_30 is input categorical ordinal\n",
      "ico_var_31 is input\n",
      "ico_var_31 is input categorical ordinal\n",
      "ico_var_32 is input\n",
      "ico_var_32 is input categorical ordinal\n",
      "ico_var_33 is input\n",
      "ico_var_33 is input categorical ordinal\n",
      "ico_var_34 is input\n",
      "ico_var_34 is input categorical ordinal\n",
      "ico_var_35 is input\n",
      "ico_var_35 is input categorical ordinal\n",
      "ico_var_36 is input\n",
      "ico_var_36 is input categorical ordinal\n",
      "ico_var_37 is input\n",
      "ico_var_37 is input categorical ordinal\n",
      "ico_var_38 is input\n",
      "ico_var_38 is input categorical ordinal\n",
      "ico_var_39 is input\n",
      "ico_var_39 is input categorical ordinal\n",
      "ico_var_40 is input\n",
      "ico_var_40 is input categorical ordinal\n",
      "ico_var_41 is input\n",
      "ico_var_41 is input categorical ordinal\n",
      "ico_var_42 is input\n",
      "ico_var_42 is input categorical ordinal\n",
      "ico_var_43 is input\n",
      "ico_var_43 is input categorical ordinal\n",
      "ico_var_44 is input\n",
      "ico_var_44 is input categorical ordinal\n",
      "ico_var_45 is input\n",
      "ico_var_45 is input categorical ordinal\n",
      "ico_var_46 is input\n",
      "ico_var_46 is input categorical ordinal\n",
      "ico_var_47 is input\n",
      "ico_var_47 is input categorical ordinal\n",
      "ico_var_48 is input\n",
      "ico_var_48 is input categorical ordinal\n",
      "ico_var_49 is input\n",
      "ico_var_49 is input categorical ordinal\n",
      "ico_var_50 is input\n",
      "ico_var_50 is input categorical ordinal\n",
      "ico_var_51 is input\n",
      "ico_var_51 is input categorical ordinal\n",
      "ico_var_52 is input\n",
      "ico_var_52 is input categorical ordinal\n",
      "ico_var_53 is input\n",
      "ico_var_53 is input categorical ordinal\n",
      "ico_var_54 is input\n",
      "ico_var_54 is input categorical ordinal\n",
      "ico_var_55 is input\n",
      "ico_var_55 is input categorical ordinal\n",
      "ico_var_56 is input\n",
      "ico_var_56 is input categorical ordinal\n",
      "ico_var_57 is input\n",
      "ico_var_57 is input categorical ordinal\n",
      "ico_var_58 is input\n",
      "ico_var_58 is input categorical ordinal\n",
      "ico_var_59 is input\n",
      "ico_var_59 is input categorical ordinal\n",
      "ico_var_60 is input\n",
      "ico_var_60 is input categorical ordinal\n",
      "ico_var_61 is input\n",
      "ico_var_61 is input categorical ordinal\n",
      "ico_var_62 is input\n",
      "ico_var_62 is input categorical ordinal\n",
      "ico_var_63 is input\n",
      "ico_var_63 is input categorical ordinal\n",
      "ico_var_64 is input\n",
      "ico_var_64 is input categorical ordinal\n",
      "if_var_65 is input\n",
      "if_var_65 is input numerical continuos (input float)\n",
      "if_var_66 is input\n",
      "if_var_66 is input numerical continuos (input float)\n",
      "if_var_67 is input\n",
      "if_var_67 is input numerical continuos (input float)\n",
      "if_var_68 is input\n",
      "if_var_68 is input numerical continuos (input float)\n",
      "if_var_69 is input\n",
      "if_var_69 is input numerical continuos (input float)\n",
      "if_var_70 is input\n",
      "if_var_70 is input numerical continuos (input float)\n",
      "if_var_71 is input\n",
      "if_var_71 is input numerical continuos (input float)\n",
      "if_var_72 is input\n",
      "if_var_72 is input numerical continuos (input float)\n",
      "if_var_73 is input\n",
      "if_var_73 is input numerical continuos (input float)\n",
      "if_var_74 is input\n",
      "if_var_74 is input numerical continuos (input float)\n",
      "if_var_75 is input\n",
      "if_var_75 is input numerical continuos (input float)\n",
      "if_var_76 is input\n",
      "if_var_76 is input numerical continuos (input float)\n",
      "if_var_77 is input\n",
      "if_var_77 is input numerical continuos (input float)\n",
      "if_var_78 is input\n",
      "if_var_78 is input numerical continuos (input float)\n",
      "if_var_79 is input\n",
      "if_var_79 is input numerical continuos (input float)\n",
      "if_var_80 is input\n",
      "if_var_80 is input numerical continuos (input float)\n",
      "if_var_81 is input\n",
      "if_var_81 is input numerical continuos (input float)\n"
     ]
    }
   ],
   "source": [
    "print \"IMPORTING LIBRARIES...\"\n",
    "import pandas as pd\n",
    "import numpy as np\n",
    "import statsmodels.api as sm\n",
    "import re\n",
    "import requests\n",
    "from requests.auth import HTTPBasicAuth\n",
    "\n",
    "\n",
    "#DOWLOADING FILE FROM DROPBOX FIRST TIME\n",
    "import urllib2\n",
    "import os.path\n",
    "import time\n",
    "import random\n",
    "while not os.path.exists('dev.csv') or not os.path.exists('oot0.csv'):\n",
    "    time.sleep (3*random.random()); #Sleeping less than 3 seconds before going to Dropbox - avoid too many students at once.\n",
    "    if not os.path.exists('dev.csv'):\n",
    "        print \"DOWLOADING FILE dev.csv FROM DROPBOX BECAUSE LOCAL FILE DOES NOT EXIST!\"\n",
    "        csvfile = urllib2.urlopen(\"https://dl.dropboxusercontent.com/u/28535341/dev.csv\")\n",
    "        output = open('dev.csv','wb')\n",
    "        output.write(csvfile.read())\n",
    "        output.close()\n",
    "    if not os.path.exists('oot0.csv'):\n",
    "        print \"DOWLOADING FILE oot0.csv FROM DROPBOX BECAUSE LOCAL FILE DOES NOT EXIST!\"\n",
    "        csvfile = urllib2.urlopen(\"https://dl.dropboxusercontent.com/u/28535341/oot0.csv\")\n",
    "        output = open('oot0.csv','wb')\n",
    "        output.write(csvfile.read())\n",
    "        output.close()  \n",
    "#DOWLOADING FILE FROM DROPBOX FIRST TIME\n",
    "\n",
    "    \n",
    "print \"LOADING DATASETS...\"\n",
    "df = pd.read_csv(\"dev.csv\") #DEV-SAMPLE\n",
    "dfo = pd.read_csv(\"oot0.csv\")#OUT-OF-TIME SAMPLE\n",
    "\n",
    "print \"IDENTIFYING TYPES...\"\n",
    "in_model = []\n",
    "list_ib = set()  #input binary\n",
    "list_icn = set() #input categorical nominal\n",
    "list_ico = set() #input categorical ordinal\n",
    "list_if = set()  #input numerical continuos (input float)\n",
    "list_inputs = set()\n",
    "output_var = 'ob_target' # result used later\n",
    "for var_name in df.columns:\n",
    "    if re.search('^i',var_name):\n",
    "        list_inputs.add(var_name)\n",
    "        print var_name,\"is input\"   \n",
    "    if re.search('^ib_',var_name):\n",
    "        list_ib.add(var_name)\n",
    "        print var_name,\"is input binary\"\n",
    "    elif re.search('^icn_',var_name):\n",
    "        list_icn.add(var_name)\n",
    "        print var_name,\"is input categorical nominal\"\n",
    "    elif re.search('^ico_',var_name):\n",
    "        list_ico.add(var_name)\n",
    "        print var_name,\"is input categorical ordinal\"\n",
    "    elif re.search('^if_',var_name):\n",
    "        list_if.add(var_name)\n",
    "        print var_name,\"is input numerical continuos (input float)\"\n",
    "    elif re.search('^ob_',var_name):\n",
    "        output_var = var_name\n",
    "    else:\n",
    "        print \"ERROR: unable to identify the type of:\", var_name"
   ]
  },
  {
   "cell_type": "code",
   "execution_count": 2,
   "metadata": {
    "collapsed": true
   },
   "outputs": [],
   "source": [
    "from numpy import float32"
   ]
  },
  {
   "cell_type": "code",
   "execution_count": 3,
   "metadata": {
    "collapsed": false
   },
   "outputs": [
    {
     "name": "stdout",
     "output_type": "stream",
     "text": [
      "STEP 1: DOING MY TRANSFORMATIONS...\n"
     ]
    }
   ],
   "source": [
    "print \"STEP 1: DOING MY TRANSFORMATIONS...\""
   ]
  },
  {
   "cell_type": "code",
   "execution_count": 4,
   "metadata": {
    "collapsed": false
   },
   "outputs": [],
   "source": [
    "# dfo[\"if_var_78\"] contains NaN"
   ]
  },
  {
   "cell_type": "code",
   "execution_count": 5,
   "metadata": {
    "collapsed": false
   },
   "outputs": [
    {
     "data": {
      "text/plain": [
       "array([True, False], dtype=object)"
      ]
     },
     "execution_count": 5,
     "metadata": {},
     "output_type": "execute_result"
    }
   ],
   "source": [
    "np.isnan(dfo[\"if_var_78\"]).unique()"
   ]
  },
  {
   "cell_type": "code",
   "execution_count": 6,
   "metadata": {
    "collapsed": true
   },
   "outputs": [],
   "source": [
    "#Replacing with mean of column values"
   ]
  },
  {
   "cell_type": "code",
   "execution_count": 7,
   "metadata": {
    "collapsed": false
   },
   "outputs": [],
   "source": [
    "dfo[\"if_var_78\"] = dfo[\"if_var_78\"].fillna(dfo[\"if_var_78\"].mean())"
   ]
  },
  {
   "cell_type": "code",
   "execution_count": 8,
   "metadata": {
    "collapsed": false
   },
   "outputs": [],
   "source": [
    "# dfo['ico_var_33'] contains Nan"
   ]
  },
  {
   "cell_type": "code",
   "execution_count": 9,
   "metadata": {
    "collapsed": false
   },
   "outputs": [
    {
     "data": {
      "text/plain": [
       "array([True, False], dtype=object)"
      ]
     },
     "execution_count": 9,
     "metadata": {},
     "output_type": "execute_result"
    }
   ],
   "source": [
    "np.isnan(dfo['ico_var_33']).unique()"
   ]
  },
  {
   "cell_type": "code",
   "execution_count": 10,
   "metadata": {
    "collapsed": true
   },
   "outputs": [],
   "source": [
    "#Replacing with median of column values as its categorical"
   ]
  },
  {
   "cell_type": "code",
   "execution_count": 11,
   "metadata": {
    "collapsed": false
   },
   "outputs": [],
   "source": [
    "dfo['ico_var_33'] = dfo['ico_var_33'].fillna(dfo['ico_var_33'].median())"
   ]
  },
  {
   "cell_type": "code",
   "execution_count": 12,
   "metadata": {
    "collapsed": true
   },
   "outputs": [],
   "source": [
    "# Best variables so far based on IV ( considering only better than 0.1)\n",
    "## CONTINOUS\n",
    "# if_var_76 # 0.118520404359\n",
    "# if_var_80 # 0.147258084286\n",
    "# if_var_67 # 0.153554700574\n",
    "# if_var_75 # 0.200002141814\n",
    "# if_var_73 # 0.270285695463\n",
    "# if_var_69 # 0.37118056014\n",
    "# if_var_65 # 0.445768827872\n",
    "# if_var_79 # 0.457401934371\n",
    "# if_var_68 # 0.506190937649\n",
    "# if_var_78 # 0.800020417288\n",
    "\n",
    "## ORDINAL:\n",
    "# ico_var_33 # 0.158277640597\n",
    "# ico_var_36 # 0.196236398968\n",
    "# ico_var_35 # 0.14647330691\n",
    "# ico_var_34 # 0.113379936237\n",
    "# ico_var_31 # 0.123857444348\n",
    "# ico_var_55 # 0.110233785596\n",
    "\n",
    "# BINARY\n",
    "  \n",
    "\n",
    "\n",
    "\n",
    "## SUMMARY OF RESULTS ###\n",
    "\n",
    "#in_model = ['if_var_69', 'if_var_65', 'if_var_73', 'if_var_78', 'if_var_68', 'if_var_79', 'ico_var_33']\n",
    "\n",
    "#in_model = ['if_var_65','if_var_69','if_var_68','if_var_78','if_var_79','ico_var_36']\n",
    "\n",
    "# Best result so far#\n",
    "## Putting all together       \n",
    "#in_model = ['if_var_76','if_var_80','if_var_67','if_var_75','if_var_73','if_var_69', 'if_var_65', 'if_var_68', 'if_var_79', 'if_var_78', 'ico_var_33', 'ico_var_36', 'ico_var_35', 'ico_var_34', 'ico_var_31', 'ico_var_55']\n"
   ]
  },
  {
   "cell_type": "code",
   "execution_count": 13,
   "metadata": {
    "collapsed": true
   },
   "outputs": [],
   "source": [
    "# by convention the values of the IV statistic can be interpreted as follows. If the IV statistic is:\n",
    "\n",
    "#Less than 0.02, then the predictor is not useful for modeling (separating the Goods from the Bads)\n",
    "\n",
    "#    0.02 to 0.1, then the predictor has only a weak relationship to the Goods/Bads odds ratio\n",
    "\n",
    "#    0.1 to 0.3, then the predictor has a medium strength relationship to the Goods/Bads odds ratio\n",
    "\n",
    "#    0.3 or higher, then the predictor has a strong relationship to the Goods/Bads odds ratio."
   ]
  },
  {
   "cell_type": "code",
   "execution_count": null,
   "metadata": {
    "collapsed": true
   },
   "outputs": [],
   "source": []
  },
  {
   "cell_type": "code",
   "execution_count": null,
   "metadata": {
    "collapsed": true
   },
   "outputs": [],
   "source": []
  },
  {
   "cell_type": "code",
   "execution_count": null,
   "metadata": {
    "collapsed": true
   },
   "outputs": [],
   "source": []
  },
  {
   "cell_type": "code",
   "execution_count": 14,
   "metadata": {
    "collapsed": false
   },
   "outputs": [
    {
     "name": "stdout",
     "output_type": "stream",
     "text": [
      "STEP 2: SELECTING CHARACTERISTICS TO ENTER INTO THE MODEL...\n",
      "STEP 3: DEVELOPING THE MODEL...\n"
     ]
    }
   ],
   "source": [
    "print \"STEP 2: SELECTING CHARACTERISTICS TO ENTER INTO THE MODEL...\"\n",
    "#in_model = list_inputs #['ib_var_1','icn_var_22','ico_var_25','if_var_65']\n",
    "in_model = ['if_var_76','if_var_80','if_var_67','if_var_75','if_var_73','if_var_69', 'if_var_65', 'if_var_68', 'if_var_79', 'if_var_78', 'ico_var_33', 'ico_var_36', 'ico_var_35', 'ico_var_34', 'ico_var_31', 'ico_var_55']\n",
    "\n",
    "\n",
    "print \"STEP 3: DEVELOPING THE MODEL...\"\n",
    "X = df[list(set(in_model))] # values are tested on \n",
    "y = df[output_var] # to be tested on -> X and y are used for training and evaluating the model itself\n",
    "Xo = dfo[list(set(in_model))] #test set, actualy evaluated, changing KS2"
   ]
  },
  {
   "cell_type": "code",
   "execution_count": 15,
   "metadata": {
    "collapsed": true
   },
   "outputs": [],
   "source": [
    "from sklearn import tree\n",
    "from sklearn.tree import DecisionTreeClassifier\n",
    "from sklearn.ensemble import RandomForestClassifier\n",
    "from sklearn.linear_model import LogisticRegression"
   ]
  },
  {
   "cell_type": "code",
   "execution_count": 16,
   "metadata": {
    "collapsed": true
   },
   "outputs": [],
   "source": [
    "#First Model\n",
    "#fitting the model\n",
    "##ENABLE THIS## ALWAYS WITH TWO LINES!!\n",
    "#clf = tree.DecisionTreeClassifier()\n",
    "#clf = tree.DecisionTreeClassifier(criterion='gini', max_depth=3,min_samples_leaf=6)\n",
    "#clf = clf.fit(X,y)\n",
    "\n",
    "#***** SO FAR THE BEST MODEL ****##\n",
    "#TRY AGAIN AFTER TRANSFORMATION##"
   ]
  },
  {
   "cell_type": "code",
   "execution_count": 17,
   "metadata": {
    "collapsed": true
   },
   "outputs": [],
   "source": [
    "# Second model\n",
    "#fitting the model\n",
    "##ENABLE THIS## ALWAYS WITH TWO LINES!! best BEST\n",
    "clf = RandomForestClassifier(n_estimators=100, criterion='gini')\n",
    "clf = clf.fit(X,y)"
   ]
  },
  {
   "cell_type": "code",
   "execution_count": 18,
   "metadata": {
    "collapsed": true
   },
   "outputs": [],
   "source": [
    "#Third model\n",
    "#fitting the model\n",
    "#clf = LogisticRegression().fit(X,y)"
   ]
  },
  {
   "cell_type": "code",
   "execution_count": 19,
   "metadata": {
    "collapsed": false
   },
   "outputs": [],
   "source": [
    "#model = sm.Logit(y,X)\n",
    "try:\n",
    "    #model = sm.GLM(y,X, family = sm.families.Binomial())\n",
    "    #result = model.fit()\n",
    "    #print clf.summary()\n",
    "    #First Classifier\n",
    "    y_pred  = clf.predict_proba(X)\n",
    "    y_pred = y_pred[:,1]\n",
    "    yo_pred = clf.predict_proba(Xo)\n",
    "    yo_pred = yo_pred[:,1]\n",
    "    #y_pred  = clf.predict_proba(X)\n",
    "    \n",
    "    \n",
    "    \n",
    "except np.linalg.linalg.LinAlgError as err:\n",
    "    if 'Singular matrix' in err.message:\n",
    "        print \"MODEL-INVALID (Singular Matrix)\"\n",
    "    else:\n",
    "        raise"
   ]
  },
  {
   "cell_type": "code",
   "execution_count": null,
   "metadata": {
    "collapsed": true
   },
   "outputs": [],
   "source": []
  },
  {
   "cell_type": "code",
   "execution_count": 20,
   "metadata": {
    "collapsed": false
   },
   "outputs": [
    {
     "name": "stdout",
     "output_type": "stream",
     "text": [
      "STEP 4: ASSESSING THE MODEL...\n",
      "GINI DEVELOPMENT= 1.0\n",
      "STEP 5: SUBMITTING THE RESULTS...\n",
      "RESULT SUBMISSION:  KS2 = 0.354823498955; GINI = 0.488833465856\n"
     ]
    }
   ],
   "source": [
    "print \"STEP 4: ASSESSING THE MODEL...\"\n",
    "# CALCULATING GINI PERFORMANCE ON DEVELOPMENT SAMPLE\n",
    "from sklearn.metrics import roc_auc_score\n",
    "gini_score = 2*roc_auc_score(df[output_var], y_pred)-1\n",
    "print \"GINI DEVELOPMENT=\", gini_score\n",
    "\n",
    "print \"STEP 5: SUBMITTING THE RESULTS...\"\n",
    "dfo['pred'] = yo_pred\n",
    "dfo_tosend = dfo[list(['id','pred'])]\n",
    "\n",
    "i=1\n",
    "filename = \"group_Z_sub\"+str(i)+\".csv\"\n",
    "dfo_tosend.to_csv(filename, sep=',')\n",
    "\n",
    "url = 'http://mgadi.pythonanywhere.com/api/v1.0/uploadpredictions'\n",
    "\n",
    "files = {'file': (filename, open(filename, 'rb'))}\n",
    "rsub = requests.post(url, files=files, auth=HTTPBasicAuth('amarino', 'amarino'))\n",
    "resp_str = str(rsub.text)\n",
    "print \"RESULT SUBMISSION: \", resp_str"
   ]
  },
  {
   "cell_type": "code",
   "execution_count": null,
   "metadata": {
    "collapsed": true
   },
   "outputs": [],
   "source": []
  },
  {
   "cell_type": "code",
   "execution_count": null,
   "metadata": {
    "collapsed": true
   },
   "outputs": [],
   "source": []
  },
  {
   "cell_type": "code",
   "execution_count": null,
   "metadata": {
    "collapsed": true
   },
   "outputs": [],
   "source": []
  }
 ],
 "metadata": {
  "anaconda-cloud": {},
  "kernelspec": {
   "display_name": "Python [default]",
   "language": "python",
   "name": "python2"
  },
  "language_info": {
   "codemirror_mode": {
    "name": "ipython",
    "version": 2
   },
   "file_extension": ".py",
   "mimetype": "text/x-python",
   "name": "python",
   "nbconvert_exporter": "python",
   "pygments_lexer": "ipython2",
   "version": "2.7.12"
  }
 },
 "nbformat": 4,
 "nbformat_minor": 0
}
