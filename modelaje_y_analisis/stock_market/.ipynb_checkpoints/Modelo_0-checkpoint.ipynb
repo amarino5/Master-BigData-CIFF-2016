{
 "cells": [
  {
   "cell_type": "code",
   "execution_count": 1,
   "metadata": {
    "collapsed": false
   },
   "outputs": [
    {
     "name": "stdout",
     "output_type": "stream",
     "text": [
      "Using matplotlib backend: Qt5Agg\n",
      "Populating the interactive namespace from numpy and matplotlib\n"
     ]
    }
   ],
   "source": [
    "%pylab\n",
    "%matplotlib inline"
   ]
  },
  {
   "cell_type": "code",
   "execution_count": 212,
   "metadata": {
    "collapsed": false
   },
   "outputs": [
    {
     "name": "stdout",
     "output_type": "stream",
     "text": [
      "IMPORTING LIBRARIES...\n"
     ]
    }
   ],
   "source": [
    "print \"IMPORTING LIBRARIES...\"\n",
    "import pandas as pd\n",
    "import numpy as np\n",
    "import scipy.stats\n",
    "import statsmodels.api as sm\n",
    "import requests\n",
    "import os.path\n",
    "import time\n",
    "import random\n",
    "import re\n",
    "import math\n",
    "import sklearn\n",
    "\n",
    "\n",
    "from sklearn import metrics\n",
    "# Standarization para la construcción de ratios (pre-built functionality under sklearn.preprocessing)\n",
    "from sklearn.preprocessing import scale\n",
    "# Analisis de Componentes Principales\n",
    "from sklearn.decomposition import PCA\n",
    "from sklearn.ensemble import RandomForestRegressor"
   ]
  },
  {
   "cell_type": "code",
   "execution_count": 213,
   "metadata": {
    "collapsed": false
   },
   "outputs": [],
   "source": [
    "#DOWLOADING FILE FROM DROPBOX FIRST TIME\n",
    "\n",
    "while not os.path.exists('EX2_DATA_BASE.xlsx'):\n",
    "    time.sleep (3*random.random()); #Sleeping less than 3 seconds before going to Dropbox - avoid too many students at once.\n",
    "    if not os.path.exists('EX2_DATA_BASE.xlsx'):\n",
    "        print \"DOWLOADING FILE EX2_DATA_BASE.xlsx FROM DROPBOX BECAUSE LOCAL FILE DOES NOT EXIST!\"\n",
    "\n",
    "        #        csvfile = urllib2.urlopen(\"https://dl.dropboxusercontent.com/u/28535341/EX2_DEV_DATA.xlsx\")\n",
    "        resp = requests.get(\"https://dl.dropboxusercontent.com/u/28535341/EX2_DATA_BASE.xlsx\")        \n",
    "        output = open('EX2_DATA_BASE.xlsx','wb')\n",
    "        output.write(resp.content)\n",
    "        output.close()\n",
    "#DOWLOADING FILE FROM DROPBOX FIRST TIME"
   ]
  },
  {
   "cell_type": "code",
   "execution_count": 214,
   "metadata": {
    "collapsed": false
   },
   "outputs": [],
   "source": [
    "# Hay que eliminar espacios. En el TFM habrá que aplicar expresiones regulares para limpirar y homogeneizar"
   ]
  },
  {
   "cell_type": "code",
   "execution_count": 215,
   "metadata": {
    "collapsed": false
   },
   "outputs": [
    {
     "name": "stdout",
     "output_type": "stream",
     "text": [
      "LOADING DATASETS...\n"
     ]
    }
   ],
   "source": [
    "print \"LOADING DATASETS...\"\n",
    "\n",
    "df = pd.read_excel(open('EX2_DATA_BASE.xlsx','rb'), sheetname='DATA')\n",
    "del df['NAME'] # Eliminación de NAME\n",
    "\n",
    "df_dictionary = pd.read_excel(open('EX2_DATA_BASE.xlsx','rb'), sheetname='DICTIONARY')\n",
    "df_dictionary = df_dictionary[df_dictionary.FIELD_NAME != \"NAME\"] # Eliminación de NAME"
   ]
  },
  {
   "cell_type": "code",
   "execution_count": 144,
   "metadata": {
    "collapsed": true
   },
   "outputs": [],
   "source": [
    "# En el TFM aquí habría que identificar de manera automática los tipos de datos como en la práctica primera de Gadi y comprobar formatos de CIF"
   ]
  },
  {
   "cell_type": "code",
   "execution_count": 216,
   "metadata": {
    "collapsed": false
   },
   "outputs": [
    {
     "data": {
      "text/plain": [
       "(116, 314)"
      ]
     },
     "execution_count": 216,
     "metadata": {},
     "output_type": "execute_result"
    }
   ],
   "source": [
    "df.shape # numero de variables > número de observaciones"
   ]
  },
  {
   "cell_type": "code",
   "execution_count": 146,
   "metadata": {
    "collapsed": true
   },
   "outputs": [],
   "source": [
    "# En este punto si tuviéramos un gran número de observaciones, separaríamos entre train y test.\n",
    "# En el TFM habrá que hacerlo: separar y señalar ID Y TARGET\n",
    "#from sklearn.cross_validation import train_test_split\n",
    "#train, test = train_test_split(df_0, test_size = 0.2)"
   ]
  },
  {
   "cell_type": "code",
   "execution_count": 217,
   "metadata": {
    "collapsed": false
   },
   "outputs": [],
   "source": [
    "# Comprobar que la Target está informada y en el rango (0,1)\n",
    "df = df[(df['BB_1YR_DEFAULT_PROB_CQ4_2015'].between(0,1))] "
   ]
  },
  {
   "cell_type": "code",
   "execution_count": 148,
   "metadata": {
    "collapsed": true
   },
   "outputs": [],
   "source": [
    "# Todas las variables del dataframe son continuas, incluir comprobaciones de estadísticos básicos en TFM"
   ]
  },
  {
   "cell_type": "code",
   "execution_count": 218,
   "metadata": {
    "collapsed": false
   },
   "outputs": [],
   "source": [
    "# La práctica consiste en modelos de predicción de PD. \n",
    "# Alternativamente se podría predecir el precio de stock, por ello se eliminan las variables price y MKT\n",
    "\n",
    "filter_col = [col for col in list(df) if not (col.startswith('BEST_')|col.startswith('CUR_MKT'))]\n",
    "df=df[filter_col]"
   ]
  },
  {
   "cell_type": "code",
   "execution_count": 219,
   "metadata": {
    "collapsed": false
   },
   "outputs": [],
   "source": [
    "# Una variable qualy: industry. Vamos a examinar su distribución. \n",
    "# En ratios empresariales es muy importante la distribución por CNAE y tamaño de empresa. En ese dataframe hay un número muy limitado de empresas, mo podemos tenerlo en cuenta.\n",
    "df.INDUSTRY_GROUP.unique()\n",
    "\n",
    "# Hay un exceso de variabilidad y pocas observaciones. Se elimina\n",
    "del df['INDUSTRY_GROUP']"
   ]
  },
  {
   "cell_type": "code",
   "execution_count": 220,
   "metadata": {
    "collapsed": false
   },
   "outputs": [],
   "source": [
    "# Listas de variables continuas para los modelos\n",
    "\n",
    "list_inputs=list(df.columns.values)\n",
    "list_continuous=[col for col in list(df) if not (col.startswith('TICKER'))]\n",
    "list_continuous_model_0= [col for col in list(list_continuous) if not (col.endswith('_2015'))]\n",
    "list_continuous_model_1= [col for col in list(list_continuous) if  (col.endswith('_2013')|col.endswith('_2014')|col.endswith('Q1_2015'))]\n",
    "list_continuous_model_2= [col for col in list(list_continuous) if  (col.endswith('_2013')|col.endswith('_2014')|col.endswith('Q1_2015')|col.endswith('Q2_2015'))]\n",
    "list_continuous_model_3= [col for col in list(list_continuous) if  (col.endswith('_2013')|col.endswith('_2014')|col.endswith('Q1_2015')|col.endswith('Q2_2015')|col.endswith('Q3_2015'))]\n",
    "list_continuous_model_4=list_continuous\n",
    "\n",
    "list_continuous_PD=[col for col in list(df) if (col.startswith('BB_1YR_DEFAULT_PROB'))]"
   ]
  },
  {
   "cell_type": "code",
   "execution_count": 221,
   "metadata": {
    "collapsed": false
   },
   "outputs": [],
   "source": [
    "# Variable target y variable ID\n",
    "target='BB_1YR_DEFAULT_PROB_CQ4_2015'\n",
    "id = 'TICKER'"
   ]
  },
  {
   "cell_type": "code",
   "execution_count": 222,
   "metadata": {
    "collapsed": false
   },
   "outputs": [
    {
     "data": {
      "text/plain": [
       "(111, 256)"
      ]
     },
     "execution_count": 222,
     "metadata": {},
     "output_type": "execute_result"
    }
   ],
   "source": [
    "df.shape"
   ]
  },
  {
   "cell_type": "code",
   "execution_count": 223,
   "metadata": {
    "collapsed": false
   },
   "outputs": [],
   "source": [
    "# Tratamiento de missing value. Todas las variables son continuas. \n",
    "# En el TFM habría que proceder a identificar en tipo de variables como en la práctica 1 de Gadi.\n",
    "#Alternativamente se podrían tratar solamente tras la creación de ratios (mediante la susitución de medianas). Complica las regresiones tras la aplicación de PCA\n",
    "# Se procede a imputar valores sin estudiar si existen patrones. Esto se realizará en el TFM\n",
    "for var in df.columns:\n",
    "    if (var in list_continuous):\n",
    "        subs=df[var].mean()\n",
    "        df.loc[df[var].isnull(), var]=subs"
   ]
  },
  {
   "cell_type": "code",
   "execution_count": 224,
   "metadata": {
    "collapsed": false
   },
   "outputs": [],
   "source": [
    "# Tratamiento de \"super outliers\" \n",
    "# Se van a detectar a nivel univariante.  En el TFM se aplicaran técnicas multivraiantes. Cuidado con the curse of dimensionality.\n",
    "# 1. ¿Cómo se identifican? Criterio muy poco restrictivo si limpiamos a nivel univariante para no quedarnos sin observaciones. Optamos por un criterio simple y limpieza univariante.\n",
    "# 2. Se sustituyen por el valor medio\n",
    "\n",
    "# Outlier detection in very small sets, alternativamente MAD (mejorar para el TFM):\n",
    "for var in df.columns:\n",
    "    if (var in list_continuous):\n",
    "        media = df[var].mean()\n",
    "        stdev= df[var].std()\n",
    "        df.loc[abs(df[var] -media) > 3*stdev, var] = media            "
   ]
  },
  {
   "cell_type": "code",
   "execution_count": 225,
   "metadata": {
    "collapsed": false
   },
   "outputs": [
    {
     "data": {
      "text/plain": [
       "(111, 256)"
      ]
     },
     "execution_count": 225,
     "metadata": {},
     "output_type": "execute_result"
    }
   ],
   "source": [
    "df.shape"
   ]
  },
  {
   "cell_type": "code",
   "execution_count": null,
   "metadata": {
    "collapsed": false
   },
   "outputs": [],
   "source": [
    "#NO EJECUTAR\n",
    "# Alternativamente se podría aplicar alguna técnica multivariante\n",
    "# El problema es que no hemos nomalizado porque queremos hacerlos tras aplicar los datsos\n",
    "# Ls técnica funciona mejor si se procede previamente a su normmalización.\n",
    "from sklearn import svm\n",
    "outliers_fraction = 0.01 #\n",
    "nu_estimate = 0.99 * outliers_fraction + 0.01\n",
    "auto_detection = svm.OneClassSVM(kernel='rbf', gamma=0.01, degree=3, nu=nu_estimate)\n",
    "auto_detection.fit(df)\n",
    "evaluation = auto_detection.predict(df)\n",
    "print df[evaluation==-1]"
   ]
  },
  {
   "cell_type": "code",
   "execution_count": 227,
   "metadata": {
    "collapsed": true
   },
   "outputs": [],
   "source": [
    "# Construcción de ratios multiples., limitado a: \n",
    "#1 División entre todas las partidas del modelo del mismo año\n",
    "# 2. Tasas de crecimiento de los ratios"
   ]
  },
  {
   "cell_type": "code",
   "execution_count": 228,
   "metadata": {
    "collapsed": true
   },
   "outputs": [],
   "source": [
    "# CONSTRUCCIÓN DE RATIOS: en este ejercicio tan solo se van a crear ratios por división y tasas de crecimiento múltiples\n",
    "#LIMPIEZA DEL DATAFRAME, (¿habrá que volver a controlar outliers)"
   ]
  },
  {
   "cell_type": "code",
   "execution_count": 229,
   "metadata": {
    "collapsed": false
   },
   "outputs": [],
   "source": [
    "# Creación de ratios múltiples por división y tasas de crecimiento\n",
    "\n",
    "# Vamos a crear multitud de ratios entre todas las variables, mediante divisiones múltiples. \n",
    "# Evitar que se divida por si misma y se cree un ratio con valor ==1 y dividendos y divisores ==0\n",
    "# En el TFM se añadirán otras funciones\n",
    "\n",
    "\n",
    "lendf=len(df.columns)\n",
    "\n",
    "for i in range(0, lendf):\n",
    "    v_1=df.columns[i]\n",
    "    if((v_1 in list_continuous_model_0) and (v_1 not in list_continuous_PD)):  \n",
    "        for j in range(i+1, lendf):\n",
    "            v_2=df.columns[j]\n",
    "        \n",
    "        #división\n",
    "            ratio='r_div'+v_1+v_2\n",
    "            df[ratio]=np.where(df[v_2]==0,0,(df[v_1]/df[v_2]))\n",
    "            \n",
    "        #tasa de crecimiento. No la he aplicado\n",
    "            ratio='r_tasa'+v_1+v_2\n",
    "            df[ratio]=np.where(df[v_2]==0,0,((df[v_1]-df[v_2])/df[v_2]))\n",
    "               "
   ]
  },
  {
   "cell_type": "code",
   "execution_count": 230,
   "metadata": {
    "collapsed": false
   },
   "outputs": [
    {
     "data": {
      "text/plain": [
       "(111, 37186)"
      ]
     },
     "execution_count": 230,
     "metadata": {},
     "output_type": "execute_result"
    }
   ],
   "source": [
    "df.shape # 37000 vaiables arggggg"
   ]
  },
  {
   "cell_type": "code",
   "execution_count": 231,
   "metadata": {
    "collapsed": false
   },
   "outputs": [
    {
     "data": {
      "text/html": [
       "<div>\n",
       "<table border=\"1\" class=\"dataframe\">\n",
       "  <thead>\n",
       "    <tr style=\"text-align: right;\">\n",
       "      <th></th>\n",
       "      <th>TICKER</th>\n",
       "      <th>TOTAL_EQUITY_CQ4_2013</th>\n",
       "      <th>TOTAL_EQUITY_CQ1_2014</th>\n",
       "      <th>TOTAL_EQUITY_CQ2_2014</th>\n",
       "      <th>TOTAL_EQUITY_CQ3_2014</th>\n",
       "      <th>TOTAL_EQUITY_CQ4_2014</th>\n",
       "      <th>TOTAL_EQUITY_CQ1_2015</th>\n",
       "      <th>TOTAL_EQUITY_CQ2_2015</th>\n",
       "      <th>TOTAL_EQUITY_CQ3_2015</th>\n",
       "      <th>TOTAL_EQUITY_CQ4_2015</th>\n",
       "      <th>...</th>\n",
       "      <th>r_divCF_CASH_FROM_OPER_CQ4_2014BB_1YR_DEFAULT_PROB_CQ4_2014</th>\n",
       "      <th>r_tasaCF_CASH_FROM_OPER_CQ4_2014BB_1YR_DEFAULT_PROB_CQ4_2014</th>\n",
       "      <th>r_divCF_CASH_FROM_OPER_CQ4_2014BB_1YR_DEFAULT_PROB_CQ1_2015</th>\n",
       "      <th>r_tasaCF_CASH_FROM_OPER_CQ4_2014BB_1YR_DEFAULT_PROB_CQ1_2015</th>\n",
       "      <th>r_divCF_CASH_FROM_OPER_CQ4_2014BB_1YR_DEFAULT_PROB_CQ2_2015</th>\n",
       "      <th>r_tasaCF_CASH_FROM_OPER_CQ4_2014BB_1YR_DEFAULT_PROB_CQ2_2015</th>\n",
       "      <th>r_divCF_CASH_FROM_OPER_CQ4_2014BB_1YR_DEFAULT_PROB_CQ3_2015</th>\n",
       "      <th>r_tasaCF_CASH_FROM_OPER_CQ4_2014BB_1YR_DEFAULT_PROB_CQ3_2015</th>\n",
       "      <th>r_divCF_CASH_FROM_OPER_CQ4_2014BB_1YR_DEFAULT_PROB_CQ4_2015</th>\n",
       "      <th>r_tasaCF_CASH_FROM_OPER_CQ4_2014BB_1YR_DEFAULT_PROB_CQ4_2015</th>\n",
       "    </tr>\n",
       "  </thead>\n",
       "  <tbody>\n",
       "    <tr>\n",
       "      <th>0</th>\n",
       "      <td>ITX SM Equity</td>\n",
       "      <td>9278.363000</td>\n",
       "      <td>8903.000000</td>\n",
       "      <td>8753.250000</td>\n",
       "      <td>9551.000000</td>\n",
       "      <td>10468.701000</td>\n",
       "      <td>10207.000000</td>\n",
       "      <td>9953.483000</td>\n",
       "      <td>10692.000000</td>\n",
       "      <td>11450.793000</td>\n",
       "      <td>...</td>\n",
       "      <td>2.099777e+06</td>\n",
       "      <td>2.099776e+06</td>\n",
       "      <td>1.864441e+06</td>\n",
       "      <td>1.864440e+06</td>\n",
       "      <td>1.523521e+06</td>\n",
       "      <td>1.523520e+06</td>\n",
       "      <td>1.048961e+06</td>\n",
       "      <td>1.048960e+06</td>\n",
       "      <td>1.125358e+06</td>\n",
       "      <td>1.125357e+06</td>\n",
       "    </tr>\n",
       "    <tr>\n",
       "      <th>1</th>\n",
       "      <td>SAN SM Equity</td>\n",
       "      <td>5371.442569</td>\n",
       "      <td>5461.370082</td>\n",
       "      <td>5473.838537</td>\n",
       "      <td>5680.896569</td>\n",
       "      <td>5267.635985</td>\n",
       "      <td>5665.135396</td>\n",
       "      <td>5320.831136</td>\n",
       "      <td>5541.967267</td>\n",
       "      <td>5199.660547</td>\n",
       "      <td>...</td>\n",
       "      <td>3.804889e+05</td>\n",
       "      <td>3.804879e+05</td>\n",
       "      <td>4.003205e+05</td>\n",
       "      <td>4.003195e+05</td>\n",
       "      <td>3.436588e+05</td>\n",
       "      <td>3.436578e+05</td>\n",
       "      <td>2.466658e+05</td>\n",
       "      <td>2.466648e+05</td>\n",
       "      <td>2.395767e+05</td>\n",
       "      <td>2.395757e+05</td>\n",
       "    </tr>\n",
       "    <tr>\n",
       "      <th>2</th>\n",
       "      <td>TEF SM Equity</td>\n",
       "      <td>27482.000000</td>\n",
       "      <td>27198.000000</td>\n",
       "      <td>27736.000000</td>\n",
       "      <td>30619.000000</td>\n",
       "      <td>30321.000000</td>\n",
       "      <td>32670.000000</td>\n",
       "      <td>35519.000000</td>\n",
       "      <td>29714.000000</td>\n",
       "      <td>27556.000000</td>\n",
       "      <td>...</td>\n",
       "      <td>6.542309e+05</td>\n",
       "      <td>6.542299e+05</td>\n",
       "      <td>8.384332e+05</td>\n",
       "      <td>8.384322e+05</td>\n",
       "      <td>5.832629e+05</td>\n",
       "      <td>5.832619e+05</td>\n",
       "      <td>2.930844e+05</td>\n",
       "      <td>2.930834e+05</td>\n",
       "      <td>2.453115e+05</td>\n",
       "      <td>2.453105e+05</td>\n",
       "    </tr>\n",
       "    <tr>\n",
       "      <th>3</th>\n",
       "      <td>BBVA SM Equity</td>\n",
       "      <td>5371.442569</td>\n",
       "      <td>5461.370082</td>\n",
       "      <td>5473.838537</td>\n",
       "      <td>5680.896569</td>\n",
       "      <td>5267.635985</td>\n",
       "      <td>5665.135396</td>\n",
       "      <td>5320.831136</td>\n",
       "      <td>5541.967267</td>\n",
       "      <td>5199.660547</td>\n",
       "      <td>...</td>\n",
       "      <td>2.993462e+05</td>\n",
       "      <td>2.993452e+05</td>\n",
       "      <td>4.474889e+05</td>\n",
       "      <td>4.474879e+05</td>\n",
       "      <td>3.318052e+05</td>\n",
       "      <td>3.318042e+05</td>\n",
       "      <td>2.740795e+05</td>\n",
       "      <td>2.740785e+05</td>\n",
       "      <td>2.220703e+05</td>\n",
       "      <td>2.220693e+05</td>\n",
       "    </tr>\n",
       "    <tr>\n",
       "      <th>4</th>\n",
       "      <td>IBE SM Equity</td>\n",
       "      <td>35288.596000</td>\n",
       "      <td>35382.000000</td>\n",
       "      <td>35689.000000</td>\n",
       "      <td>36023.000000</td>\n",
       "      <td>35705.298000</td>\n",
       "      <td>37506.000000</td>\n",
       "      <td>38105.000000</td>\n",
       "      <td>37552.000000</td>\n",
       "      <td>40956.053000</td>\n",
       "      <td>...</td>\n",
       "      <td>1.132047e+06</td>\n",
       "      <td>1.132046e+06</td>\n",
       "      <td>1.315424e+06</td>\n",
       "      <td>1.315423e+06</td>\n",
       "      <td>9.188653e+05</td>\n",
       "      <td>9.188643e+05</td>\n",
       "      <td>7.464592e+05</td>\n",
       "      <td>7.464582e+05</td>\n",
       "      <td>9.604255e+05</td>\n",
       "      <td>9.604245e+05</td>\n",
       "    </tr>\n",
       "  </tbody>\n",
       "</table>\n",
       "<p>5 rows × 37186 columns</p>\n",
       "</div>"
      ],
      "text/plain": [
       "           TICKER  TOTAL_EQUITY_CQ4_2013  TOTAL_EQUITY_CQ1_2014  \\\n",
       "0   ITX SM Equity            9278.363000            8903.000000   \n",
       "1   SAN SM Equity            5371.442569            5461.370082   \n",
       "2   TEF SM Equity           27482.000000           27198.000000   \n",
       "3  BBVA SM Equity            5371.442569            5461.370082   \n",
       "4   IBE SM Equity           35288.596000           35382.000000   \n",
       "\n",
       "   TOTAL_EQUITY_CQ2_2014  TOTAL_EQUITY_CQ3_2014  TOTAL_EQUITY_CQ4_2014  \\\n",
       "0            8753.250000            9551.000000           10468.701000   \n",
       "1            5473.838537            5680.896569            5267.635985   \n",
       "2           27736.000000           30619.000000           30321.000000   \n",
       "3            5473.838537            5680.896569            5267.635985   \n",
       "4           35689.000000           36023.000000           35705.298000   \n",
       "\n",
       "   TOTAL_EQUITY_CQ1_2015  TOTAL_EQUITY_CQ2_2015  TOTAL_EQUITY_CQ3_2015  \\\n",
       "0           10207.000000            9953.483000           10692.000000   \n",
       "1            5665.135396            5320.831136            5541.967267   \n",
       "2           32670.000000           35519.000000           29714.000000   \n",
       "3            5665.135396            5320.831136            5541.967267   \n",
       "4           37506.000000           38105.000000           37552.000000   \n",
       "\n",
       "   TOTAL_EQUITY_CQ4_2015  \\\n",
       "0           11450.793000   \n",
       "1            5199.660547   \n",
       "2           27556.000000   \n",
       "3            5199.660547   \n",
       "4           40956.053000   \n",
       "\n",
       "                               ...                               \\\n",
       "0                              ...                                \n",
       "1                              ...                                \n",
       "2                              ...                                \n",
       "3                              ...                                \n",
       "4                              ...                                \n",
       "\n",
       "   r_divCF_CASH_FROM_OPER_CQ4_2014BB_1YR_DEFAULT_PROB_CQ4_2014  \\\n",
       "0                                       2.099777e+06             \n",
       "1                                       3.804889e+05             \n",
       "2                                       6.542309e+05             \n",
       "3                                       2.993462e+05             \n",
       "4                                       1.132047e+06             \n",
       "\n",
       "   r_tasaCF_CASH_FROM_OPER_CQ4_2014BB_1YR_DEFAULT_PROB_CQ4_2014  \\\n",
       "0                                       2.099776e+06              \n",
       "1                                       3.804879e+05              \n",
       "2                                       6.542299e+05              \n",
       "3                                       2.993452e+05              \n",
       "4                                       1.132046e+06              \n",
       "\n",
       "   r_divCF_CASH_FROM_OPER_CQ4_2014BB_1YR_DEFAULT_PROB_CQ1_2015  \\\n",
       "0                                       1.864441e+06             \n",
       "1                                       4.003205e+05             \n",
       "2                                       8.384332e+05             \n",
       "3                                       4.474889e+05             \n",
       "4                                       1.315424e+06             \n",
       "\n",
       "   r_tasaCF_CASH_FROM_OPER_CQ4_2014BB_1YR_DEFAULT_PROB_CQ1_2015  \\\n",
       "0                                       1.864440e+06              \n",
       "1                                       4.003195e+05              \n",
       "2                                       8.384322e+05              \n",
       "3                                       4.474879e+05              \n",
       "4                                       1.315423e+06              \n",
       "\n",
       "   r_divCF_CASH_FROM_OPER_CQ4_2014BB_1YR_DEFAULT_PROB_CQ2_2015  \\\n",
       "0                                       1.523521e+06             \n",
       "1                                       3.436588e+05             \n",
       "2                                       5.832629e+05             \n",
       "3                                       3.318052e+05             \n",
       "4                                       9.188653e+05             \n",
       "\n",
       "   r_tasaCF_CASH_FROM_OPER_CQ4_2014BB_1YR_DEFAULT_PROB_CQ2_2015  \\\n",
       "0                                       1.523520e+06              \n",
       "1                                       3.436578e+05              \n",
       "2                                       5.832619e+05              \n",
       "3                                       3.318042e+05              \n",
       "4                                       9.188643e+05              \n",
       "\n",
       "   r_divCF_CASH_FROM_OPER_CQ4_2014BB_1YR_DEFAULT_PROB_CQ3_2015  \\\n",
       "0                                       1.048961e+06             \n",
       "1                                       2.466658e+05             \n",
       "2                                       2.930844e+05             \n",
       "3                                       2.740795e+05             \n",
       "4                                       7.464592e+05             \n",
       "\n",
       "   r_tasaCF_CASH_FROM_OPER_CQ4_2014BB_1YR_DEFAULT_PROB_CQ3_2015  \\\n",
       "0                                       1.048960e+06              \n",
       "1                                       2.466648e+05              \n",
       "2                                       2.930834e+05              \n",
       "3                                       2.740785e+05              \n",
       "4                                       7.464582e+05              \n",
       "\n",
       "   r_divCF_CASH_FROM_OPER_CQ4_2014BB_1YR_DEFAULT_PROB_CQ4_2015  \\\n",
       "0                                       1.125358e+06             \n",
       "1                                       2.395767e+05             \n",
       "2                                       2.453115e+05             \n",
       "3                                       2.220703e+05             \n",
       "4                                       9.604255e+05             \n",
       "\n",
       "   r_tasaCF_CASH_FROM_OPER_CQ4_2014BB_1YR_DEFAULT_PROB_CQ4_2015  \n",
       "0                                       1.125357e+06             \n",
       "1                                       2.395757e+05             \n",
       "2                                       2.453105e+05             \n",
       "3                                       2.220693e+05             \n",
       "4                                       9.604245e+05             \n",
       "\n",
       "[5 rows x 37186 columns]"
      ]
     },
     "execution_count": 231,
     "metadata": {},
     "output_type": "execute_result"
    }
   ],
   "source": [
    "df.head(5)"
   ]
  },
  {
   "cell_type": "code",
   "execution_count": 199,
   "metadata": {
    "collapsed": true
   },
   "outputs": [],
   "source": [
    "#¿Cómo incluyo una variable que calcule tasa con un periodo anterior o cuatrimestre? para no incluir todo tipo de varaibles"
   ]
  },
  {
   "cell_type": "code",
   "execution_count": 232,
   "metadata": {
    "collapsed": false
   },
   "outputs": [],
   "source": [
    "# Reemplazamos todos los NaN por la mediana de la columna por ser ratios (las obseervacione soriginales se habían sustituido por la media)\n",
    "\n",
    "df= df.replace([np.inf,-np.inf],0)  # Repasar si se sustituye por la media. \n",
    "#df = df.apply(lambda x: x.fillna(x.median()),axis=0)"
   ]
  },
  {
   "cell_type": "code",
   "execution_count": 233,
   "metadata": {
    "collapsed": false
   },
   "outputs": [],
   "source": [
    "# Escalar las variables\n",
    "for var in df.columns:\n",
    "    if(var in list_continuous_model_0):\n",
    "        media=df[var].mean()\n",
    "        stdev=df[var].std()\n",
    "        \n",
    "        df[var]=(df[var]-media) /stdev\n"
   ]
  },
  {
   "cell_type": "code",
   "execution_count": 234,
   "metadata": {
    "collapsed": false
   },
   "outputs": [],
   "source": [
    "# Realizadas todas las transformaciones, restringimos el df a ratios y PD para aplicar PCA\n",
    "\n",
    "filter_col2 = [col for col in list(df) if (col.startswith('r')|col.startswith('BB_1YR_DEFAULT_PROB')|col.startswith('TIC'))]\n",
    "df=df[filter_col2]"
   ]
  },
  {
   "cell_type": "code",
   "execution_count": 235,
   "metadata": {
    "collapsed": false
   },
   "outputs": [
    {
     "data": {
      "text/plain": [
       "(111, 36940)"
      ]
     },
     "execution_count": 235,
     "metadata": {},
     "output_type": "execute_result"
    }
   ],
   "source": [
    "df.shape "
   ]
  },
  {
   "cell_type": "code",
   "execution_count": 206,
   "metadata": {
    "collapsed": true
   },
   "outputs": [],
   "source": [
    "# Habría que hacer un split en train y test en este punto"
   ]
  },
  {
   "cell_type": "code",
   "execution_count": 111,
   "metadata": {
    "collapsed": true
   },
   "outputs": [],
   "source": [
    "#  Aplicación PCA para selección ratios que expliquen un porcentaje de la varianza ¿Deberíamos aplicar validación cruzada?"
   ]
  },
  {
   "cell_type": "code",
   "execution_count": 236,
   "metadata": {
    "collapsed": false
   },
   "outputs": [],
   "source": [
    "id=df[id]\n",
    "target=df[target]"
   ]
  },
  {
   "cell_type": "code",
   "execution_count": 237,
   "metadata": {
    "collapsed": false
   },
   "outputs": [],
   "source": [
    "# Eliminar la target y el ID\n",
    "df.drop(['TICKER', 'BB_1YR_DEFAULT_PROB_CQ4_2015'], axis=1, inplace=True)"
   ]
  },
  {
   "cell_type": "code",
   "execution_count": 238,
   "metadata": {
    "collapsed": false
   },
   "outputs": [],
   "source": [
    "pca=PCA()"
   ]
  },
  {
   "cell_type": "code",
   "execution_count": 209,
   "metadata": {
    "collapsed": false
   },
   "outputs": [],
   "source": [
    "# No es necesario realizar el escalada, ya hemos normalizado\n",
    "#escalado=scale(df_0)"
   ]
  },
  {
   "cell_type": "code",
   "execution_count": 239,
   "metadata": {
    "collapsed": false
   },
   "outputs": [],
   "source": [
    "# 1. Standardization (or Z-score normalization) is the process where the features are rescaled so that they’ll have the properties of a standard normal distribution with μ=0 and σ=1, where μ is the mean (average) and σ is the standard deviation from the mean.\n",
    "# 2. Data Transformation\n",
    "df_pca=pca.fit_transform(df)"
   ]
  },
  {
   "cell_type": "code",
   "execution_count": 240,
   "metadata": {
    "collapsed": false
   },
   "outputs": [],
   "source": [
    "# 3. Construcción de varaible de varianza explicada\n",
    "variance=pca.explained_variance_ratio_.cumsum()"
   ]
  },
  {
   "cell_type": "code",
   "execution_count": 241,
   "metadata": {
    "collapsed": false
   },
   "outputs": [],
   "source": [
    "# 4. Selección del número de componentes que expliquen un % dado de la varianza, por ejemplo 0.70\n",
    "for i in range (0, len(df.columns)):\n",
    "    var_explained=variance[i:i+1]\n",
    "    if var_explained >=0.70:\n",
    "        print (\"Numero de Componentes\", i)\n",
    "        pca=PCA(n_components=i)\n",
    "        df_0pca=pca.fit_transform(df)"
   ]
  },
  {
   "cell_type": "code",
   "execution_count": 242,
   "metadata": {
    "collapsed": false
   },
   "outputs": [
    {
     "data": {
      "text/plain": [
       "array([ 0.6469906 ,  0.84606345,  0.94073809,  0.96326896,  0.97643469,\n",
       "        0.98192609,  0.98627008,  0.98864056,  0.99097275,  0.99240346,\n",
       "        0.99367038,  0.99489357,  0.99583027,  0.99661142,  0.99736343,\n",
       "        0.99784066,  0.99825291,  0.9986385 ,  0.99887128,  0.99903545,\n",
       "        0.99919348,  0.99932607,  0.99942453,  0.99951143,  0.9995876 ,\n",
       "        0.99965065,  0.99969775,  0.99973861,  0.99977617,  0.99980884,\n",
       "        0.9998347 ,  0.99985887,  0.99988047,  0.99989846,  0.99991503,\n",
       "        0.99992906,  0.99993861,  0.99994601,  0.99995219,  0.99995787,\n",
       "        0.99996206,  0.99996572,  0.99996903,  0.99997182,  0.99997448,\n",
       "        0.99997678,  0.99997898,  0.9999809 ,  0.99998277,  0.99998445,\n",
       "        0.99998604,  0.99998743,  0.99998865,  0.99998972,  0.99999073,\n",
       "        0.99999167,  0.99999254,  0.99999336,  0.99999409,  0.99999479,\n",
       "        0.99999546,  0.99999609,  0.99999655,  0.99999694,  0.99999732,\n",
       "        0.99999763,  0.99999794,  0.99999822,  0.99999845,  0.99999865,\n",
       "        0.99999883,  0.99999898,  0.99999911,  0.99999923,  0.99999934,\n",
       "        0.99999944,  0.99999954,  0.99999961,  0.99999967,  0.99999972,\n",
       "        0.99999976,  0.99999979,  0.99999982,  0.99999985,  0.99999987,\n",
       "        0.99999989,  0.99999991,  0.99999992,  0.99999993,  0.99999994,\n",
       "        0.99999995,  0.99999996,  0.99999996,  0.99999997,  0.99999997,\n",
       "        0.99999998,  0.99999998,  0.99999999,  0.99999999,  0.99999999,\n",
       "        0.99999999,  0.99999999,  1.        ,  1.        ,  1.        ,\n",
       "        1.        ,  1.        ,  1.        ,  1.        ,  1.        ,  1.        ])"
      ]
     },
     "execution_count": 242,
     "metadata": {},
     "output_type": "execute_result"
    }
   ],
   "source": [
    "# Los dos primeros componentes explican al menos el 75% de la varianza. Vamos a inspeccionar variance\n",
    "variance"
   ]
  },
  {
   "cell_type": "code",
   "execution_count": 243,
   "metadata": {
    "collapsed": true
   },
   "outputs": [],
   "source": [
    "# Con 10 componentes explicaráimos 99% de la varianza. No necesitamos seleccionar 110.Volveremos a aplicar PCA con 10 componentes.\n",
    "# Distinto sería, por ejemplo, casos de fraude"
   ]
  },
  {
   "cell_type": "code",
   "execution_count": 244,
   "metadata": {
    "collapsed": false
   },
   "outputs": [
    {
     "data": {
      "image/png": "[encoded data removed]",
      "text/plain": [
       "<matplotlib.figure.Figure at 0x117a937d0>"
      ]
     },
     "metadata": {},
     "output_type": "display_data"
    }
   ],
   "source": [
    "plt.plot(np.cumsum(pca.explained_variance_ratio_))\n",
    "plt.xlabel('Numero de Componentes')\n",
    "plt.ylabel('Varianza Explicada Acumulada')\n",
    "plt.show()"
   ]
  },
  {
   "cell_type": "code",
   "execution_count": 245,
   "metadata": {
    "collapsed": false
   },
   "outputs": [],
   "source": [
    "# Convertir a un nuevo dataframe\n",
    "df_pca=pd.DataFrame(data =df_pca[::], index=list(range(0,len(df))))"
   ]
  },
  {
   "cell_type": "code",
   "execution_count": 246,
   "metadata": {
    "collapsed": false
   },
   "outputs": [
    {
     "data": {
      "text/plain": [
       "(111, 111)"
      ]
     },
     "execution_count": 246,
     "metadata": {},
     "output_type": "execute_result"
    }
   ],
   "source": [
    "df_pca.shape"
   ]
  },
  {
   "cell_type": "code",
   "execution_count": 247,
   "metadata": {
    "collapsed": false
   },
   "outputs": [],
   "source": [
    "####### Modelo 0#######\n",
    "try:\n",
    "    rf = RandomForestRegressor()\n",
    "    rf.fit(df_pca, target)\n",
    "    result=rf.fit(df_pca, target)\n",
    "    y_pred = result.predict(df_pca)\n",
    "except np.linalg.linalg.LinAlgError as err:\n",
    "    if 'Singular matrix' in err.message:\n",
    "        print \"MODEL-INVALID (Singular Matrix)\"\n",
    "    else:\n",
    "        raise"
   ]
  },
  {
   "cell_type": "code",
   "execution_count": 248,
   "metadata": {
    "collapsed": false
   },
   "outputs": [
    {
     "name": "stdout",
     "output_type": "stream",
     "text": [
      "ASSESSING THE MODEL...\n",
      "Spearman Rank Correlation =  SpearmanrResult(correlation=0.92093745698896812, pvalue=2.0332039756787287e-46)\n"
     ]
    }
   ],
   "source": [
    "print \"ASSESSING THE MODEL...\"\n",
    "\n",
    "# CALCULATING GINI PERFORMANCE ON DEVELOPMENT SAMPLE\n",
    "from scipy.stats import spearmanr\n",
    "spearman_correlation= spearmanr(target, y_pred)\n",
    "print \"Spearman Rank Correlation = \", spearman_correlation"
   ]
  },
  {
   "cell_type": "code",
   "execution_count": null,
   "metadata": {
    "collapsed": true
   },
   "outputs": [],
   "source": []
  }
 ],
 "metadata": {
  "anaconda-cloud": {},
  "kernelspec": {
   "display_name": "Python [conda root]",
   "language": "python",
   "name": "conda-root-py"
  },
  "language_info": {
   "codemirror_mode": {
    "name": "ipython",
    "version": 2
   },
   "file_extension": ".py",
   "mimetype": "text/x-python",
   "name": "python",
   "nbconvert_exporter": "python",
   "pygments_lexer": "ipython2",
   "version": "2.7.12"
  }
 },
 "nbformat": 4,
 "nbformat_minor": 1
}
