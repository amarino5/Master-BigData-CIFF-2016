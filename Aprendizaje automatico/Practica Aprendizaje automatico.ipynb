{
 "cells": [
  {
   "cell_type": "markdown",
   "metadata": {},
   "source": [
    "# 1. Reglas de asociacion"
   ]
  },
  {
   "cell_type": "markdown",
   "metadata": {},
   "source": [
    "Como paso previo, y  puesto que el notebook de jupyter se ha instalado y ejecutado en windows, he instalado una implementación de apriori siguiente: https://pypi.python.org/pypi/apriori/1.0.0\n",
    "\n",
    "por ese motivo, es posible que los métodos no sean identicos a los que se han utilizado en la práctica de clases, pero el resultado es similar. He tenido que investigar ya que la librería no está documentada. "
   ]
  },
  {
   "cell_type": "code",
   "execution_count": 3,
   "metadata": {
    "collapsed": false
   },
   "outputs": [],
   "source": [
    "import csv\n",
    "import apriori\n",
    "\n",
    "groceries=[]\n",
    "groceries_file=csv.reader(open(\"groceries.csv\",\"rb\"))\n",
    "for row in groceries_file:\n",
    "    groceries.append(row)\n",
    "\n"
   ]
  },
  {
   "cell_type": "markdown",
   "metadata": {},
   "source": [
    "Utilizamos el algoritmo para detectar el soporte de la aparicion de los productos dentro de cada registro de compra y que superen el 0,05, es decir, de aquellos productos y combinaciones que al menos aparezcan en el 5% de las compras."
   ]
  },
  {
   "cell_type": "code",
   "execution_count": 4,
   "metadata": {
    "collapsed": false
   },
   "outputs": [
    {
     "data": {
      "text/plain": [
       "{frozenset({'pot plants'}): 0.01728520589730554,\n",
       " frozenset({'sausage', 'tropical fruit'}): 0.013929842399593289,\n",
       " frozenset({'other vegetables', 'pork'}): 0.021657346212506354,\n",
       " frozenset({'frankfurter'}): 0.058973055414336555,\n",
       " frozenset({'frankfurter', 'other vegetables'}): 0.016471784443314694,\n",
       " frozenset({'beef'}): 0.05246568378240976,\n",
       " frozenset({'pip fruit', 'whipped/sour cream'}): 0.009252669039145907,\n",
       " frozenset({'napkins', 'other vegetables'}): 0.01443823080833757,\n",
       " frozenset({'specialty cheese'}): 0.008540925266903915,\n",
       " frozenset({'napkins', 'whipped/sour cream'}): 0.007219115404168785,\n",
       " frozenset({'canned beer', 'pork'}): 0.0029486527707168276,\n",
       " frozenset({'fruit/vegetable juice', 'pip fruit'}): 0.009557702084392475,\n",
       " frozenset({'bottled beer', 'pip fruit'}): 0.005897305541433655,\n",
       " frozenset({'bottled beer', 'pork'}): 0.005185561769191663,\n",
       " frozenset({'liquor'}): 0.011082867310625319,\n",
       " frozenset({'coffee', 'domestic eggs'}): 0.00498220640569395,\n",
       " frozenset({'other vegetables',\n",
       "            'rolls/buns',\n",
       "            'whole milk'}): 0.017895271987798677,\n",
       " frozenset({'curd', 'yogurt'}): 0.01728520589730554,\n",
       " frozenset({'butter', 'domestic eggs'}): 0.009659379766141332,\n",
       " frozenset({'white bread'}): 0.042094560244026434,\n",
       " frozenset({'butter', 'pastry'}): 0.007625826131164209,\n",
       " frozenset({'napkins', 'sausage'}): 0.006710726995424504,\n",
       " frozenset({'beef', 'yogurt'}): 0.011692933401118455,\n",
       " frozenset({'margarine', 'yogurt'}): 0.014234875444839857,\n",
       " frozenset({'fruit/vegetable juice'}): 0.0722928317234367,\n",
       " frozenset({'newspapers', 'tropical fruit'}): 0.01179461108286731,\n",
       " frozenset({'popcorn'}): 0.007219115404168785,\n",
       " frozenset({'dessert'}): 0.03711235383833249,\n",
       " frozenset({'beef', 'newspapers'}): 0.006405693950177936,\n",
       " frozenset({'processed cheese'}): 0.016573462125063547,\n",
       " frozenset({'coffee', 'yogurt'}): 0.009761057447890189,\n",
       " frozenset({'citrus fruit', 'fruit/vegetable juice'}): 0.010371123538383325,\n",
       " frozenset({'sausage', 'soda'}): 0.024300965937976614,\n",
       " frozenset({'margarine', 'pastry'}): 0.00681240467717336,\n",
       " frozenset({'nuts/prunes'}): 0.003355363497712252,\n",
       " frozenset({'soups'}): 0.00681240467717336,\n",
       " frozenset({'soft cheese'}): 0.01708185053380783,\n",
       " frozenset({'bottled beer', 'frankfurter'}): 0.005388917132689374,\n",
       " frozenset({'domestic eggs', 'soda'}): 0.012404677173360447,\n",
       " frozenset({'bottled water', 'sausage'}): 0.011997966446365024,\n",
       " frozenset({'chocolate'}): 0.04961870869344179,\n",
       " frozenset({'beverages'}): 0.026029486527707167,\n",
       " frozenset({'bottled beer', 'napkins'}): 0.005185561769191663,\n",
       " frozenset({'bottled beer', 'whole milk'}): 0.02043721403152008,\n",
       " frozenset({'pastry'}): 0.08896797153024912,\n",
       " frozenset({'chicken'}): 0.04290798169801729,\n",
       " frozenset({'curd', 'domestic eggs'}): 0.006507371631926792,\n",
       " frozenset({'fruit/vegetable juice', 'pastry'}): 0.008540925266903915,\n",
       " frozenset({'brown bread', 'yogurt'}): 0.014539908490086425,\n",
       " frozenset({'pork', 'tropical fruit'}): 0.008540925266903915,\n",
       " frozenset({'rolls/buns', 'yogurt'}): 0.03436705643111337,\n",
       " frozenset({'other vegetables', 'sausage'}): 0.026944585663446874,\n",
       " frozenset({'photo/film'}): 0.009252669039145907,\n",
       " frozenset({'tropical fruit', 'whole milk'}): 0.04229791560752415,\n",
       " frozenset({'mayonnaise'}): 0.009150991357397052,\n",
       " frozenset({'brown bread', 'citrus fruit'}): 0.008337569903406202,\n",
       " frozenset({'bottled water', 'frankfurter'}): 0.007320793085917641,\n",
       " frozenset({'condensed milk'}): 0.010269445856634469,\n",
       " frozenset({'beef', 'sausage'}): 0.005592272496187087,\n",
       " frozenset({'canned beer', 'napkins'}): 0.00315200813421454,\n",
       " frozenset({'cookware'}): 0.0027452974072191155,\n",
       " frozenset({'other vegetables', 'whipped/sour cream'}): 0.02887646161667514,\n",
       " frozenset({'frankfurter', 'pip fruit'}): 0.007219115404168785,\n",
       " frozenset({'domestic eggs', 'rolls/buns'}): 0.015658362989323844,\n",
       " frozenset({'shopping bags', 'tropical fruit'}): 0.013523131672597865,\n",
       " frozenset({'cleaner'}): 0.005083884087442806,\n",
       " frozenset({'citrus fruit', 'whipped/sour cream'}): 0.010879511947127605,\n",
       " frozenset({'bottled beer', 'other vegetables'}): 0.016166751398068124,\n",
       " frozenset({'domestic eggs', 'newspapers'}): 0.006914082358922217,\n",
       " frozenset({'curd', 'margarine'}): 0.00630401626842908,\n",
       " frozenset({'beef', 'shopping bags'}): 0.004880528723945094,\n",
       " frozenset({'pip fruit', 'root vegetables'}): 0.015556685307574987,\n",
       " frozenset({'napkins', 'shopping bags'}): 0.007219115404168785,\n",
       " frozenset({'pastry', 'pip fruit'}): 0.010676156583629894,\n",
       " frozenset({'sausage', 'whole milk'}): 0.0298932384341637,\n",
       " frozenset({'frankfurter', 'pastry'}): 0.008337569903406202,\n",
       " frozenset({'curd cheese'}): 0.005083884087442806,\n",
       " frozenset({'margarine', 'pip fruit'}): 0.008540925266903915,\n",
       " frozenset({'frankfurter', 'shopping bags'}): 0.008235892221657347,\n",
       " frozenset({'curd', 'whole milk'}): 0.026131164209456024,\n",
       " frozenset({'soda'}): 0.17437722419928825,\n",
       " frozenset({'salty snack'}): 0.03782409761057448,\n",
       " frozenset({'organic products'}): 0.001626842907981698,\n",
       " frozenset({'whisky'}): 0.000813421453990849,\n",
       " frozenset({'coffee', 'sausage'}): 0.006914082358922217,\n",
       " frozenset({'brown bread', 'newspapers'}): 0.007625826131164209,\n",
       " frozenset({'butter', 'curd'}): 0.00681240467717336,\n",
       " frozenset({'canned beer', 'yogurt'}): 0.005388917132689374,\n",
       " frozenset({'specialty chocolate'}): 0.03040162684290798,\n",
       " frozenset({'soda', 'tropical fruit'}): 0.020843924758515507,\n",
       " frozenset({'bottled water'}): 0.11052364006100661,\n",
       " frozenset({'butter', 'napkins'}): 0.00498220640569395,\n",
       " frozenset({'canned beer', 'citrus fruit'}): 0.004270462633451958,\n",
       " frozenset({'domestic eggs'}): 0.06344687341128623,\n",
       " frozenset({'soap'}): 0.0026436197254702592,\n",
       " frozenset({'fruit/vegetable juice', 'root vegetables'}): 0.011997966446365024,\n",
       " frozenset({'bottled water', 'tropical fruit'}): 0.018505338078291814,\n",
       " frozenset({'pip fruit'}): 0.07564819522114896,\n",
       " frozenset({'butter', 'margarine'}): 0.006710726995424504,\n",
       " frozenset({'margarine', 'newspapers'}): 0.0071174377224199285,\n",
       " frozenset({'soda', 'whole milk'}): 0.040061006609049314,\n",
       " frozenset({'baby food'}): 0.00010167768174885612,\n",
       " frozenset({'detergent'}): 0.019217081850533807,\n",
       " frozenset({'cocoa drinks'}): 0.0022369089984748346,\n",
       " frozenset({'bottled water', 'whole milk'}): 0.03436705643111337,\n",
       " frozenset({'artif. sweetener'}): 0.003253685815963396,\n",
       " frozenset({'other vegetables', 'whole milk'}): 0.07483477376715811,\n",
       " frozenset({'long life bakery product'}): 0.037417386883579054,\n",
       " frozenset({'domestic eggs', 'pastry'}): 0.009049313675648195,\n",
       " frozenset({'meat spreads'}): 0.004270462633451958,\n",
       " frozenset({'rolls/buns', 'tropical fruit'}): 0.024605998983223184,\n",
       " frozenset({'curd', 'napkins'}): 0.004778851042196238,\n",
       " frozenset({'citrus fruit', 'yogurt'}): 0.021657346212506354,\n",
       " frozenset({'bottled beer', 'canned beer'}): 0.0026436197254702592,\n",
       " frozenset({'margarine', 'soda'}): 0.010167768174885612,\n",
       " frozenset({'canned vegetables'}): 0.010777834265378749,\n",
       " frozenset({'sauces'}): 0.005490594814438231,\n",
       " frozenset({'coffee', 'pastry'}): 0.006914082358922217,\n",
       " frozenset({'frankfurter', 'sausage'}): 0.010066090493136757,\n",
       " frozenset({'canned beer', 'coffee'}): 0.004168784951703101,\n",
       " frozenset({'frozen vegetables'}): 0.04809354346720895,\n",
       " frozenset({'butter', 'frankfurter'}): 0.004880528723945094,\n",
       " frozenset({'red/blush wine'}): 0.019217081850533807,\n",
       " frozenset({'bottled beer', 'pastry'}): 0.004575495678698526,\n",
       " frozenset({'domestic eggs', 'pip fruit'}): 0.00864260294865277,\n",
       " frozenset({'beef', 'rolls/buns'}): 0.01362480935434672,\n",
       " frozenset({'pastry', 'whipped/sour cream'}): 0.0075241484494153535,\n",
       " frozenset({'fruit/vegetable juice', 'rolls/buns'}): 0.014539908490086425,\n",
       " frozenset({'pork', 'shopping bags'}): 0.006405693950177936,\n",
       " frozenset({'other vegetables', 'whole milk', 'yogurt'}): 0.02226741230299949,\n",
       " frozenset({'ketchup'}): 0.004270462633451958,\n",
       " frozenset({'bottled water', 'domestic eggs'}): 0.009150991357397052,\n",
       " frozenset({'other vegetables', 'root vegetables'}): 0.047381799694966954,\n",
       " frozenset({'brown bread', 'rolls/buns'}): 0.01260803253685816,\n",
       " frozenset({'bottled water', 'shopping bags'}): 0.010981189628876462,\n",
       " frozenset({'brown bread', 'soda'}): 0.01260803253685816,\n",
       " frozenset({'frankfurter', 'yogurt'}): 0.011184544992374174,\n",
       " frozenset({'domestic eggs', 'margarine'}): 0.008337569903406202,\n",
       " frozenset({'honey'}): 0.001525165226232842,\n",
       " frozenset({'canned fruit'}): 0.003253685815963396,\n",
       " frozenset({'margarine', 'rolls/buns'}): 0.014743263853584139,\n",
       " frozenset({'brown bread', 'margarine'}): 0.006507371631926792,\n",
       " frozenset({'curd', 'pip fruit'}): 0.007829181494661922,\n",
       " frozenset({'fruit/vegetable juice', 'pork'}): 0.004880528723945094,\n",
       " frozenset({'canned beer', 'sausage'}): 0.00630401626842908,\n",
       " frozenset({'pork'}): 0.05765124555160142,\n",
       " frozenset({'root vegetables', 'soda'}): 0.01860701576004067,\n",
       " frozenset({'beef', 'pip fruit'}): 0.004880528723945094,\n",
       " frozenset({'canned beer', 'shopping bags'}): 0.011387900355871887,\n",
       " frozenset({'curd', 'sausage'}): 0.007625826131164209,\n",
       " frozenset({'kitchen utensil'}): 0.0004067107269954245,\n",
       " frozenset({'brown bread', 'domestic eggs'}): 0.00681240467717336,\n",
       " frozenset({'pastry', 'yogurt'}): 0.017691916624300967,\n",
       " frozenset({'newspapers', 'soda'}): 0.014641586171835282,\n",
       " frozenset({'margarine', 'other vegetables'}): 0.019725470259278087,\n",
       " frozenset({'flour'}): 0.017386883579054397,\n",
       " frozenset({'bottled beer', 'coffee'}): 0.00498220640569395,\n",
       " frozenset({'liquor (appetizer)'}): 0.007930859176410779,\n",
       " frozenset({'softener'}): 0.005490594814438231,\n",
       " frozenset({'napkins', 'pip fruit'}): 0.006710726995424504,\n",
       " frozenset({'pork', 'yogurt'}): 0.009557702084392475,\n",
       " frozenset({'pork', 'whole milk'}): 0.022165734621250637,\n",
       " frozenset({'butter', 'pip fruit'}): 0.007320793085917641,\n",
       " frozenset({'butter', 'fruit/vegetable juice'}): 0.008032536858159633,\n",
       " frozenset({'brown bread', 'tropical fruit'}): 0.010676156583629894,\n",
       " frozenset({'beef', 'margarine'}): 0.0062023385866802234,\n",
       " frozenset({'organic sausage'}): 0.0022369089984748346,\n",
       " frozenset({'newspapers', 'pip fruit'}): 0.006710726995424504,\n",
       " frozenset({'margarine'}): 0.05856634468734113,\n",
       " frozenset({'margarine', 'sausage'}): 0.0071174377224199285,\n",
       " frozenset({'newspapers', 'pork'}): 0.0066090493136756485,\n",
       " frozenset({'fruit/vegetable juice', 'margarine'}): 0.0062023385866802234,\n",
       " frozenset({'rice'}): 0.007625826131164209,\n",
       " frozenset({'frozen dessert'}): 0.010777834265378749,\n",
       " frozenset({'napkins', 'soda'}): 0.011997966446365024,\n",
       " frozenset({'brown bread', 'whole milk'}): 0.02521606507371632,\n",
       " frozenset({'fruit/vegetable juice', 'shopping bags'}): 0.010676156583629894,\n",
       " frozenset({'butter', 'sausage'}): 0.00864260294865277,\n",
       " frozenset({'white wine'}): 0.019013726487036097,\n",
       " frozenset({'canned beer', 'domestic eggs'}): 0.0035587188612099642,\n",
       " frozenset({'canned beer', 'pastry'}): 0.004473817996949669,\n",
       " frozenset({'butter', 'rolls/buns'}): 0.013421453990849009,\n",
       " frozenset({'domestic eggs', 'napkins'}): 0.005998983223182512,\n",
       " frozenset({'shopping bags', 'whole milk'}): 0.024504321301474327,\n",
       " frozenset({'citrus fruit', 'shopping bags'}): 0.009761057447890189,\n",
       " frozenset({'pork', 'root vegetables'}): 0.01362480935434672,\n",
       " frozenset({'margarine', 'shopping bags'}): 0.0056939501779359435,\n",
       " frozenset({'butter', 'citrus fruit'}): 0.009150991357397052,\n",
       " frozenset({'bottled beer', 'curd'}): 0.003863751906456533,\n",
       " frozenset({'canned beer', 'root vegetables'}): 0.004067107269954245,\n",
       " frozenset({'root vegetables', 'whole milk'}): 0.048906964921199794,\n",
       " frozenset({'frankfurter', 'root vegetables'}): 0.010167768174885612,\n",
       " frozenset({'curd', 'fruit/vegetable juice'}): 0.004880528723945094,\n",
       " frozenset({'skin care'}): 0.0035587188612099642,\n",
       " frozenset({'citrus fruit', 'root vegetables'}): 0.017691916624300967,\n",
       " frozenset({'liver loaf'}): 0.005083884087442806,\n",
       " frozenset({'flower soil/fertilizer'}): 0.0019318759532282665,\n",
       " frozenset({'citrus fruit', 'pip fruit'}): 0.013828164717844434,\n",
       " frozenset({'bottled beer', 'whipped/sour cream'}): 0.003965429588205389,\n",
       " frozenset({'frankfurter', 'newspapers'}): 0.00498220640569395,\n",
       " frozenset({'canned beer', 'fruit/vegetable juice'}): 0.003965429588205389,\n",
       " frozenset({'pork', 'sausage'}): 0.006507371631926792,\n",
       " frozenset({'pastry', 'soda'}): 0.021047280122013217,\n",
       " frozenset({'canned beer'}): 0.07768174885612608,\n",
       " frozenset({'canned beer', 'tropical fruit'}): 0.003050330452465684,\n",
       " frozenset({'pork', 'soda'}): 0.011896288764616167,\n",
       " frozenset({'roll products '}): 0.010269445856634469,\n",
       " frozenset({'other vegetables'}): 0.1934926283680732,\n",
       " frozenset({'butter milk'}): 0.027961362480935434,\n",
       " frozenset({'pastry', 'root vegetables'}): 0.010981189628876462,\n",
       " frozenset({'curd', 'rolls/buns'}): 0.010066090493136757,\n",
       " frozenset({'bottled water', 'pork'}): 0.007422470767666497,\n",
       " frozenset({'margarine', 'whipped/sour cream'}): 0.00681240467717336,\n",
       " frozenset({'root vegetables', 'shopping bags'}): 0.012811387900355872,\n",
       " frozenset({'rolls/buns', 'whole milk'}): 0.05663446873411286,\n",
       " frozenset({'citrus fruit', 'curd'}): 0.0071174377224199285,\n",
       " frozenset({'domestic eggs', 'shopping bags'}): 0.009049313675648195,\n",
       " frozenset({'pastry', 'shopping bags'}): 0.011896288764616167,\n",
       " frozenset({'bottled beer', 'butter'}): 0.005795627859684799,\n",
       " frozenset({'bottled water', 'margarine'}): 0.010269445856634469,\n",
       " frozenset({'cat food'}): 0.023284189120488054,\n",
       " frozenset({'newspapers', 'root vegetables'}): 0.011489578037620742,\n",
       " frozenset({'turkey'}): 0.00813421453990849,\n",
       " frozenset({'cake bar'}): 0.013218098627351297,\n",
       " frozenset({'brown bread', 'pastry'}): 0.009659379766141332,\n",
       " frozenset({'nut snack'}): 0.00315200813421454,\n",
       " frozenset({'vinegar'}): 0.006507371631926792,\n",
       " frozenset({'citrus fruit', 'napkins'}): 0.007625826131164209,\n",
       " frozenset({'pudding powder'}): 0.002338586680223691,\n",
       " frozenset({'curd', 'frankfurter'}): 0.004372140315200813,\n",
       " frozenset({'canned beer', 'whole milk'}): 0.008845958312150484,\n",
       " frozenset({'bottled beer', 'bottled water'}): 0.0157600406710727,\n",
       " frozenset({'soda', 'whipped/sour cream'}): 0.011591255719369599,\n",
       " frozenset({'coffee', 'root vegetables'}): 0.007320793085917641,\n",
       " frozenset({'brown bread', 'root vegetables'}): 0.010167768174885612,\n",
       " frozenset({'bottled water', 'butter'}): 0.008947635993899338,\n",
       " frozenset({'napkins'}): 0.05236400610066091,\n",
       " frozenset({'tropical fruit', 'yogurt'}): 0.029283172343670564,\n",
       " frozenset({'beef', 'frankfurter'}): 0.004778851042196238,\n",
       " frozenset({'shopping bags', 'whipped/sour cream'}): 0.007930859176410779,\n",
       " frozenset({'bottled beer', 'rolls/buns'}): 0.01362480935434672,\n",
       " frozenset({'newspapers'}): 0.07981698017285206,\n",
       " frozenset({'pastry', 'pork'}): 0.00630401626842908,\n",
       " frozenset({'dishes'}): 0.01759023894255211,\n",
       " frozenset({'domestic eggs', 'other vegetables'}): 0.02226741230299949,\n",
       " frozenset({'domestic eggs', 'whipped/sour cream'}): 0.0099644128113879,\n",
       " frozenset({'specialty fat'}): 0.0036603965429588205,\n",
       " frozenset({'citrus fruit', 'newspapers'}): 0.008337569903406202,\n",
       " frozenset({'brown bread', 'fruit/vegetable juice'}): 0.008337569903406202,\n",
       " frozenset({'liqueur'}): 0.0009150991357397051,\n",
       " frozenset({'whole milk', 'yogurt'}): 0.05602440264361973,\n",
       " frozenset({'brandy'}): 0.004168784951703101,\n",
       " frozenset({'beef', 'domestic eggs'}): 0.005998983223182512,\n",
       " frozenset({'pasta'}): 0.015048296898830707,\n",
       " frozenset({'canned beer', 'curd'}): 0.0020335536349771225,\n",
       " frozenset({'domestic eggs', 'sausage'}): 0.009557702084392475,\n",
       " frozenset({'abrasive cleaner'}): 0.0035587188612099642,\n",
       " frozenset({'packaged fruit/vegetables'}): 0.013014743263853584,\n",
       " frozenset({'bottled water', 'citrus fruit'}): 0.013523131672597865,\n",
       " frozenset({'root vegetables', 'sausage'}): 0.01494661921708185,\n",
       " frozenset({'beef', 'other vegetables'}): 0.019725470259278087,\n",
       " frozenset({'coffee', 'napkins'}): 0.004067107269954245,\n",
       " frozenset({'salad dressing'}): 0.000813421453990849,\n",
       " frozenset({'bottled beer', 'sausage'}): 0.007829181494661922,\n",
       " frozenset({'canned beer', 'soda'}): 0.013828164717844434,\n",
       " frozenset({'dental care'}): 0.005795627859684799,\n",
       " frozenset({'beef', 'canned beer'}): 0.002135231316725979,\n",
       " frozenset({'butter', 'shopping bags'}): 0.00498220640569395,\n",
       " frozenset({'ready soups'}): 0.0018301982714794102,\n",
       " frozenset({'domestic eggs', 'root vegetables'}): 0.014336553126588714,\n",
       " frozenset({'specialty bar'}): 0.027351296390442297,\n",
       " frozenset({'sparkling wine'}): 0.005592272496187087,\n",
       " frozenset({'coffee', 'fruit/vegetable juice'}): 0.005998983223182512,\n",
       " frozenset({'chocolate marshmallow'}): 0.009049313675648195,\n",
       " frozenset({'bottled water', 'canned beer'}): 0.008032536858159633,\n",
       " frozenset({'citrus fruit'}): 0.08276563294356888,\n",
       " frozenset({'beef', 'curd'}): 0.004677173360447382,\n",
       " frozenset({'frankfurter', 'napkins'}): 0.003965429588205389,\n",
       " frozenset({'bottled beer', 'fruit/vegetable juice'}): 0.007015760040671073,\n",
       " frozenset({'female sanitary products'}): 0.006100660904931368,\n",
       " frozenset({'whipped/sour cream', 'whole milk'}): 0.032231825114387394,\n",
       " frozenset({'root vegetables', 'yogurt'}): 0.025826131164209457,\n",
       " frozenset({'sausage', 'shopping bags'}): 0.015658362989323844,\n",
       " frozenset({'pastry', 'rolls/buns'}): 0.02094560244026436,\n",
       " frozenset({'tea'}): 0.003863751906456533,\n",
       " frozenset({'frozen potato products'}): 0.008439247585155059,\n",
       " frozenset({'canned beer', 'newspapers'}): 0.00498220640569395,\n",
       " frozenset({'preservation products'}): 0.00020335536349771224,\n",
       " frozenset({'flower (seeds)'}): 0.010371123538383325,\n",
       " frozenset({'coffee', 'whole milk'}): 0.018708693441789527,\n",
       " frozenset({'frankfurter', 'fruit/vegetable juice'}): 0.0052872394509405184,\n",
       " frozenset({'tropical fruit', 'whipped/sour cream'}): 0.013828164717844434,\n",
       " frozenset({'canned beer', 'rolls/buns'}): 0.01128622267412303,\n",
       " frozenset({'frankfurter', 'soda'}): 0.01128622267412303,\n",
       " frozenset({'whipped/sour cream'}): 0.07168276563294357,\n",
       " frozenset({'coffee', 'other vegetables'}): 0.013421453990849009,\n",
       " frozenset({'curd', 'shopping bags'}): 0.005388917132689374,\n",
       " frozenset({'fruit/vegetable juice', 'sausage'}): 0.010066090493136757,\n",
       " frozenset({'other vegetables', 'shopping bags'}): 0.023182511438739197,\n",
       " frozenset({'domestic eggs', 'whole milk'}): 0.029994916115912557,\n",
       " frozenset({'beef', 'bottled beer'}): 0.004067107269954245,\n",
       " frozenset({'cream cheese '}): 0.03965429588205389,\n",
       " frozenset({'other vegetables', 'pastry'}): 0.02257244534824606,\n",
       " frozenset({'coffee', 'pip fruit'}): 0.006914082358922217,\n",
       " frozenset({'beef', 'butter'}): 0.005795627859684799,\n",
       " frozenset({'coffee', 'tropical fruit'}): 0.0071174377224199285,\n",
       " frozenset({'oil'}): 0.02806304016268429,\n",
       " frozenset({'bottled water', 'pastry'}): 0.008947635993899338,\n",
       " frozenset({'sugar'}): 0.03385866802236909,\n",
       " frozenset({'beef', 'coffee'}): 0.0037620742247076767,\n",
       " frozenset({'napkins', 'pork'}): 0.005185561769191663,\n",
       " frozenset({'sliced cheese'}): 0.024504321301474327,\n",
       " frozenset({'coffee'}): 0.05805795627859685,\n",
       " frozenset({'rolls/buns', 'whole milk', 'yogurt'}): 0.015556685307574987,\n",
       " frozenset({'Instant food products'}): 0.008032536858159633,\n",
       " frozenset({'fruit/vegetable juice',\n",
       "            'other vegetables'}): 0.021047280122013217,\n",
       " frozenset({'citrus fruit', 'other vegetables'}): 0.02887646161667514,\n",
       " frozenset({'tidbits'}): 0.002338586680223691,\n",
       " frozenset({'brown bread', 'whipped/sour cream'}): 0.004677173360447382,\n",
       " frozenset({'rolls/buns', 'whipped/sour cream'}): 0.014641586171835282,\n",
       " frozenset({'napkins', 'newspapers'}): 0.0062023385866802234,\n",
       " frozenset({'root vegetables', 'tropical fruit'}): 0.021047280122013217,\n",
       " frozenset({'beef', 'pork'}): 0.007625826131164209,\n",
       " frozenset({'pip fruit', 'tropical fruit'}): 0.02043721403152008,\n",
       " frozenset({'beef', 'citrus fruit'}): 0.008439247585155059,\n",
       " frozenset({'margarine', 'pork'}): 0.006405693950177936,\n",
       " frozenset({'pork', 'rolls/buns'}): 0.01128622267412303,\n",
       " frozenset({'UHT-milk'}): 0.03345195729537367,\n",
       " frozenset({'fruit/vegetable juice', 'soda'}): 0.01840366039654296,\n",
       " frozenset({'brown bread', 'pork'}): 0.005592272496187087,\n",
       " frozenset({'ham'}): 0.026029486527707167,\n",
       " frozenset({'citrus fruit', 'sausage'}): 0.01128622267412303,\n",
       " frozenset({'frankfurter', 'whipped/sour cream'}): 0.0062023385866802234,\n",
       " frozenset({'coffee', 'soda'}): 0.0099644128113879,\n",
       " frozenset({'sound storage medium'}): 0.00010167768174885612,\n",
       " frozenset({'male cosmetics'}): 0.004575495678698526,\n",
       " frozenset({'frankfurter', 'whole milk'}): 0.020538891713268937,\n",
       " frozenset({'sausage'}): 0.09395017793594305,\n",
       " frozenset({'pip fruit', 'whole milk'}): 0.030096593797661414,\n",
       " frozenset({'bottled water', 'coffee'}): 0.007320793085917641,\n",
       " frozenset({'waffles'}): 0.038434163701067614,\n",
       " frozenset({'newspapers', 'other vegetables'}): 0.019318759532282664,\n",
       " frozenset({'rolls/buns', 'sausage'}): 0.030604982206405694,\n",
       " frozenset({'bottled water', 'brown bread'}): 0.008235892221657347,\n",
       " frozenset({'kitchen towels'}): 0.005998983223182512,\n",
       " frozenset({'butter', 'root vegetables'}): 0.012913065582104729,\n",
       " frozenset({'brown bread', 'sausage'}): 0.010676156583629894,\n",
       " frozenset({'salt'}): 0.010777834265378749,\n",
       " frozenset({'brown bread', 'canned beer'}): 0.004778851042196238,\n",
       " frozenset({'baby cosmetics'}): 0.0006100660904931368,\n",
       " frozenset({'pastry', 'whole milk'}): 0.033248601931875954,\n",
       " frozenset({'margarine', 'root vegetables'}): 0.011082867310625319,\n",
       " frozenset({'dog food'}): 0.008540925266903915,\n",
       " frozenset({'finished products'}): 0.006507371631926792,\n",
       " frozenset({'coffee', 'rolls/buns'}): 0.010981189628876462,\n",
       " frozenset({'brown bread', 'coffee'}): 0.0037620742247076767,\n",
       " frozenset({'newspapers', 'rolls/buns'}): 0.019725470259278087,\n",
       " frozenset({'curd', 'newspapers'}): 0.0056939501779359435,\n",
       " frozenset({'hair spray'}): 0.0011184544992374173,\n",
       " frozenset({'pastry', 'tropical fruit'}): 0.013218098627351297,\n",
       " frozenset({'bottled beer', 'yogurt'}): 0.009252669039145907,\n",
       " frozenset({'curd', 'other vegetables'}): 0.017183528215556684,\n",
       " frozenset({'fruit/vegetable juice', 'whole milk'}): 0.026639552618200304,\n",
       " frozenset({'beef', 'bottled water'}): 0.0062023385866802234,\n",
       " frozenset({'bottled water', 'soda'}): 0.028978139298423997,\n",
       " frozenset({'curd', 'root vegetables'}): 0.010879511947127605,\n",
       " frozenset({'mustard'}): 0.011997966446365024,\n",
       " frozenset({'whole milk'}): 0.25551601423487547,\n",
       " frozenset({'other vegetables', 'soda'}): 0.032740213523131674,\n",
       " frozenset({'brown bread', 'napkins'}): 0.004778851042196238,\n",
       " frozenset({'napkins', 'rolls/buns'}): 0.011692933401118455,\n",
       " frozenset({'coffee', 'frankfurter'}): 0.005083884087442806,\n",
       " frozenset({'brown bread', 'frankfurter'}): 0.0071174377224199285,\n",
       " frozenset({'frankfurter', 'rolls/buns'}): 0.019217081850533807,\n",
       " frozenset({'bottled beer', 'margarine'}): 0.006100660904931368,\n",
       " frozenset({'citrus fruit', 'frankfurter'}): 0.006507371631926792,\n",
       " frozenset({'pip fruit', 'soda'}): 0.013319776309100152,\n",
       " frozenset({'beef', 'root vegetables'}): 0.017386883579054397,\n",
       " frozenset({'bottled water', 'other vegetables'}): 0.024809354346720894,\n",
       " frozenset({'domestic eggs', 'fruit/vegetable juice'}): 0.008032536858159633,\n",
       " frozenset({'margarine', 'whole milk'}): 0.024199288256227757,\n",
       " frozenset({'bottled water', 'napkins'}): 0.00864260294865277,\n",
       " frozenset({'margarine', 'napkins'}): 0.004473817996949669,\n",
       " frozenset({'bottled water', 'pip fruit'}): 0.010574478901881037,\n",
       " frozenset({'other vegetables', 'pip fruit'}): 0.026131164209456024,\n",
       " frozenset({'beef', 'brown bread'}): 0.004473817996949669,\n",
       " frozenset({'onions'}): 0.031011692933401117,\n",
       " frozenset({'butter', 'newspapers'}): 0.005795627859684799,\n",
       " frozenset({'frankfurter', 'pork'}): 0.005897305541433655,\n",
       " frozenset({'candy'}): 0.0298932384341637,\n",
       " frozenset({'margarine', 'tropical fruit'}): 0.009354346720894764,\n",
       " frozenset({'shopping bags'}): 0.09852567361464158,\n",
       " frozenset({'butter', 'other vegetables'}): 0.020030503304524657,\n",
       " frozenset({'butter', 'whole milk'}): 0.02755465175394001,\n",
       " frozenset({'ice cream'}): 0.025012709710218607,\n",
       " frozenset({'misc. beverages'}): 0.02836807320793086,\n",
       " frozenset({'house keeping products'}): 0.008337569903406202,\n",
       " frozenset({'brown bread', 'other vegetables'}): 0.018708693441789527,\n",
       " frozenset({'frozen fish'}): 0.011692933401118455,\n",
       " frozenset({'bottled water', 'rolls/buns'}): 0.024199288256227757,\n",
       " frozenset({'pip fruit', 'rolls/buns'}): 0.013929842399593289,\n",
       " frozenset({'sausage', 'whipped/sour cream'}): 0.009049313675648195,\n",
       " frozenset({'domestic eggs', 'frankfurter'}): 0.007015760040671073,\n",
       " frozenset({'domestic eggs', 'pork'}): 0.005592272496187087,\n",
       " frozenset({'bottled beer', 'tropical fruit'}): 0.008235892221657347,\n",
       " frozenset({'coffee', 'curd'}): 0.003253685815963396,\n",
       " frozenset({'dish cleaner'}): 0.01047280122013218,\n",
       " frozenset({'cream'}): 0.0013218098627351296,\n",
       " frozenset({'semi-finished bread'}): 0.017691916624300967,\n",
       " frozenset({'beef', 'fruit/vegetable juice'}): 0.005083884087442806,\n",
       " frozenset({'whipped/sour cream', 'yogurt'}): 0.02074224707676665,\n",
       " frozenset({'napkins', 'root vegetables'}): 0.0099644128113879,\n",
       " frozenset({'rolls/buns', 'soda'}): 0.03833248601931876,\n",
       " frozenset({'cling film/bags'}): 0.011387900355871887,\n",
       " frozenset({'spread cheese'}): 0.011184544992374174,\n",
       " frozenset({'domestic eggs', 'tropical fruit'}): 0.011387900355871887,\n",
       " frozenset({'fish'}): 0.0029486527707168276,\n",
       " frozenset({'pastry', 'sausage'}): 0.012506354855109304,\n",
       " frozenset({'brown bread', 'shopping bags'}): 0.009252669039145907,\n",
       " frozenset({'rolls/buns', 'shopping bags'}): 0.019522114895780377,\n",
       " frozenset({'light bulbs'}): 0.004168784951703101,\n",
       " frozenset({'curd', 'pork'}): 0.004270462633451958,\n",
       " frozenset({'specialty vegetables'}): 0.0017285205897305542,\n",
       " frozenset({'bottled water', 'fruit/vegetable juice'}): 0.014234875444839857,\n",
       " frozenset({'coffee', 'whipped/sour cream'}): 0.006100660904931368,\n",
       " frozenset({'beef', 'whole milk'}): 0.02125063548551093,\n",
       " frozenset({'bottled beer', 'domestic eggs'}): 0.004677173360447382,\n",
       " frozenset({'brown bread'}): 0.06487036095577021,\n",
       " frozenset({'butter', 'coffee'}): 0.004778851042196238,\n",
       " frozenset({'coffee', 'newspapers'}): 0.004575495678698526,\n",
       " frozenset({'grapes'}): 0.022369089984748347,\n",
       " frozenset({'butter', 'soda'}): 0.008845958312150484,\n",
       " frozenset({'butter', 'canned beer'}): 0.0019318759532282665,\n",
       " frozenset({'rolls/buns'}): 0.18393492628368074,\n",
       " frozenset({'toilet cleaner'}): 0.0007117437722419929,\n",
       " frozenset({'bottled beer', 'newspapers'}): 0.00498220640569395,\n",
       " frozenset({'napkins', 'whole milk'}): 0.019725470259278087,\n",
       " frozenset({'beef', 'tropical fruit'}): 0.007625826131164209,\n",
       " frozenset({'pip fruit', 'pork'}): 0.006100660904931368,\n",
       " frozenset({'canned beer', 'whipped/sour cream'}): 0.0018301982714794102,\n",
       " frozenset({'candles'}): 0.008947635993899338,\n",
       " frozenset({'fruit/vegetable juice', 'napkins'}): 0.006914082358922217,\n",
       " frozenset({'bottled beer', 'root vegetables'}): 0.009659379766141332,\n",
       " frozenset({'newspapers', 'whole milk'}): 0.027351296390442297,\n",
       " frozenset({'shopping bags', 'soda'}): 0.024605998983223184,\n",
       " frozenset({'fruit/vegetable juice', 'yogurt'}): 0.018708693441789527,\n",
       " frozenset({'prosecco'}): 0.0020335536349771225,\n",
       " frozenset({'bags'}): 0.0004067107269954245,\n",
       " frozenset({'other vegetables', 'rolls/buns'}): 0.042602948652770714,\n",
       " frozenset({'sausage', 'yogurt'}): 0.019623792577529234,\n",
       " frozenset({'cooking chocolate'}): 0.002541942043721403,\n",
       " frozenset({'yogurt'}): 0.13950177935943062,\n",
       " frozenset({'sweet spreads'}): 0.009049313675648195,\n",
       " frozenset({'frankfurter', 'tropical fruit'}): 0.00945602440264362,\n",
       " frozenset({'canned fish'}): 0.015048296898830707,\n",
       " frozenset({'brown bread', 'pip fruit'}): 0.007625826131164209,\n",
       " frozenset({'bottled beer', 'brown bread'}): 0.005185561769191663,\n",
       " frozenset({'jam'}): 0.005388917132689374,\n",
       " frozenset({'newspapers', 'sausage'}): 0.008032536858159633,\n",
       " frozenset({'syrup'}): 0.003253685815963396,\n",
       " frozenset({'beef', 'whipped/sour cream'}): 0.006710726995424504,\n",
       " frozenset({'curd', 'soda'}): 0.00813421453990849,\n",
       " frozenset({'pip fruit', 'shopping bags'}): 0.009354346720894764,\n",
       " frozenset({'frozen fruits'}): 0.0012201321809862736,\n",
       " frozenset({'frozen meals'}): 0.02836807320793086,\n",
       " frozenset({'fruit/vegetable juice', 'newspapers'}): 0.008235892221657347,\n",
       " frozenset({'root vegetables', 'whipped/sour cream'}): 0.01708185053380783,\n",
       " frozenset({'other vegetables', 'yogurt'}): 0.04341637010676157,\n",
       " frozenset({'canned beer', 'frankfurter'}): 0.0028469750889679717,\n",
       " frozenset({'citrus fruit', 'coffee'}): 0.006405693950177936,\n",
       " frozenset({'beef', 'soda'}): 0.00813421453990849,\n",
       " frozenset({'berries'}): 0.033248601931875954,\n",
       " frozenset({'rum'}): 0.004473817996949669,\n",
       " frozenset({'citrus fruit', 'pork'}): 0.006507371631926792,\n",
       " frozenset({'newspapers', 'whipped/sour cream'}): 0.007219115404168785,\n",
       " frozenset({'butter', 'whipped/sour cream'}): 0.010167768174885612,\n",
       " frozenset({'beef', 'napkins'}): 0.004067107269954245,\n",
       " frozenset({'citrus fruit', 'whole milk'}): 0.030503304524656837,\n",
       " frozenset({'coffee', 'margarine'}): 0.004677173360447382,\n",
       " frozenset({'hard cheese'}): 0.024504321301474327,\n",
       " frozenset({'fruit/vegetable juice', 'tropical fruit'}): 0.013726487036095577,\n",
       " frozenset({'pip fruit', 'sausage'}): 0.010777834265378749,\n",
       " frozenset({'hygiene articles'}): 0.03294356888662939,\n",
       " frozenset({'citrus fruit', 'pastry'}): 0.009761057447890189,\n",
       " frozenset({'bottled water', 'curd'}): 0.006100660904931368,\n",
       " frozenset({'make up remover'}): 0.000813421453990849,\n",
       " frozenset({'chewing gum'}): 0.021047280122013217,\n",
       " frozenset({'decalcifier'}): 0.001525165226232842,\n",
       " frozenset({'domestic eggs', 'yogurt'}): 0.014336553126588714,\n",
       " frozenset({'frankfurter', 'margarine'}): 0.006405693950177936,\n",
       " frozenset({'citrus fruit', 'tropical fruit'}): 0.0199288256227758,\n",
       " frozenset({'brown bread', 'curd'}): 0.004880528723945094,\n",
       " frozenset({'seasonal products'}): 0.014234875444839857,\n",
       " frozenset({'tropical fruit'}): 0.10493136756481952,\n",
       " frozenset({'canned beer', 'other vegetables'}): 0.009049313675648195,\n",
       " frozenset({'canned beer', 'pip fruit'}): 0.003253685815963396,\n",
       " frozenset({'napkins', 'yogurt'}): 0.012302999491611592,\n",
       " frozenset({'newspapers', 'shopping bags'}): 0.006914082358922217,\n",
       " frozenset({'instant coffee'}): 0.007422470767666497,\n",
       " frozenset({'citrus fruit', 'domestic eggs'}): 0.010371123538383325,\n",
       " frozenset({'fruit/vegetable juice',\n",
       "            'whipped/sour cream'}): 0.009049313675648195,\n",
       " frozenset({'curd', 'whipped/sour cream'}): 0.01047280122013218,\n",
       " frozenset({'snack products'}): 0.003050330452465684,\n",
       " frozenset({'newspapers', 'pastry'}): 0.008439247585155059,\n",
       " frozenset({'bottled water', 'newspapers'}): 0.01128622267412303,\n",
       " frozenset({'soda', 'yogurt'}): 0.027351296390442297,\n",
       " frozenset({'rolls/buns', 'root vegetables'}): 0.024300965937976614,\n",
       " frozenset({'frozen chicken'}): 0.0006100660904931368,\n",
       " frozenset({'citrus fruit', 'margarine'}): 0.007930859176410779,\n",
       " frozenset({'butter', 'pork'}): 0.005490594814438231,\n",
       " frozenset({'bathroom cleaner'}): 0.0027452974072191155,\n",
       " frozenset({'meat'}): 0.025826131164209457,\n",
       " frozenset({'zwieback'}): 0.006914082358922217,\n",
       " frozenset({'butter'}): 0.05541433655312659,\n",
       " frozenset({'citrus fruit', 'soda'}): 0.012811387900355872,\n",
       " frozenset({'bottled water', 'yogurt'}): 0.022979156075241484,\n",
       " frozenset({'brown bread', 'butter'}): 0.005795627859684799,\n",
       " frozenset({'napkins', 'pastry'}): 0.007015760040671073,\n",
       " frozenset({'butter', 'tropical fruit'}): 0.0099644128113879,\n",
       " frozenset({'bottled water', 'whipped/sour cream'}): 0.008744280630401627,\n",
       " frozenset({'bottled beer'}): 0.08052872394509406,\n",
       " frozenset({'potato products'}): 0.0028469750889679717,\n",
       " frozenset({'pip fruit', 'yogurt'}): 0.017996949669547534,\n",
       " frozenset({'herbs'}): 0.01626842907981698,\n",
       " frozenset({'bottled beer', 'citrus fruit'}): 0.006100660904931368,\n",
       " frozenset({'hamburger meat'}): 0.033248601931875954,\n",
       " frozenset({'napkins', 'tropical fruit'}): 0.010066090493136757,\n",
       " frozenset({'coffee', 'pork'}): 0.0035587188612099642,\n",
       " frozenset({'baking powder'}): 0.017691916624300967,\n",
       " frozenset({'coffee', 'shopping bags'}): 0.009354346720894764,\n",
       " frozenset({'beef', 'pastry'}): 0.00630401626842908,\n",
       " frozenset({'pet care'}): 0.00945602440264362,\n",
       " frozenset({'newspapers', 'yogurt'}): 0.015353329944077275,\n",
       " frozenset({'butter', 'yogurt'}): 0.014641586171835282,\n",
       " frozenset({'other vegetables', 'tropical fruit'}): 0.035892221657346214,\n",
       " frozenset({'root vegetables'}): 0.10899847483477376,\n",
       " frozenset({'cereals'}): 0.0056939501779359435,\n",
       " frozenset({'bottled beer', 'shopping bags'}): 0.005592272496187087,\n",
       " frozenset({'curd', 'pastry'}): 0.0075241484494153535,\n",
       " frozenset({'spices'}): 0.005185561769191663,\n",
       " frozenset({'bottled water', 'root vegetables'}): 0.015658362989323844,\n",
       " frozenset({'bottled beer', 'soda'}): 0.016980172852058974,\n",
       " frozenset({'canned beer', 'margarine'}): 0.003050330452465684,\n",
       " frozenset({'pickled vegetables'}): 0.017895271987798677,\n",
       " frozenset({'curd'}): 0.05327910523640061,\n",
       " frozenset({'citrus fruit', 'rolls/buns'}): 0.01677681748856126,\n",
       " frozenset({'curd', 'tropical fruit'}): 0.010269445856634469,\n",
       " frozenset({'rubbing alcohol'}): 0.0010167768174885613,\n",
       " frozenset({'shopping bags', 'yogurt'}): 0.015251652262328419,\n",
       " frozenset({'pork', 'whipped/sour cream'}): 0.008235892221657347}"
      ]
     },
     "execution_count": 4,
     "metadata": {},
     "output_type": "execute_result"
    }
   ],
   "source": [
    "F, soporte = apriori.apriori(groceries, minSupport=0.05)\n",
    "soporte"
   ]
  },
  {
   "cell_type": "markdown",
   "metadata": {},
   "source": [
    "Una vez obtenido el soporte, buscamos aquellas combinaciones que dado A se cumple la compra de B en mas del 25% de las veces"
   ]
  },
  {
   "cell_type": "code",
   "execution_count": 21,
   "metadata": {
    "collapsed": false
   },
   "outputs": [
    {
     "name": "stdout",
     "output_type": "stream",
     "text": [
      "frozenset(['yogurt']) --> frozenset(['whole milk']) conf: 0.401603498542\n",
      "frozenset(['rolls/buns']) --> frozenset(['whole milk']) conf: 0.307904919845\n",
      "frozenset(['other vegetables']) --> frozenset(['whole milk']) conf: 0.38675775092\n",
      "frozenset(['whole milk']) --> frozenset(['other vegetables']) conf: 0.292877039395\n"
     ]
    },
    {
     "data": {
      "text/plain": [
       "[(frozenset({'yogurt'}), frozenset({'whole milk'}), 0.40160349854227406),\n",
       " (frozenset({'rolls/buns'}), frozenset({'whole milk'}), 0.30790491984521834),\n",
       " (frozenset({'other vegetables'}),\n",
       "  frozenset({'whole milk'}),\n",
       "  0.38675775091960063),\n",
       " (frozenset({'whole milk'}),\n",
       "  frozenset({'other vegetables'}),\n",
       "  0.2928770393951452)]"
      ]
     },
     "execution_count": 21,
     "metadata": {},
     "output_type": "execute_result"
    }
   ],
   "source": [
    "H = apriori.generateRules(F, soporte, minConf=0.25)\n",
    "H"
   ]
  },
  {
   "cell_type": "markdown",
   "metadata": {},
   "source": [
    "# 2 Implementación de una regresión “stepwise” con eliminación hacia atrás."
   ]
  },
  {
   "cell_type": "code",
   "execution_count": 5,
   "metadata": {
    "collapsed": false
   },
   "outputs": [
    {
     "data": {
      "text/html": [
       "<div>\n",
       "<table border=\"1\" class=\"dataframe\">\n",
       "  <thead>\n",
       "    <tr style=\"text-align: right;\">\n",
       "      <th></th>\n",
       "      <th>fixed acidity</th>\n",
       "      <th>volatile acidity</th>\n",
       "      <th>citric acid</th>\n",
       "      <th>residual sugar</th>\n",
       "      <th>chlorides</th>\n",
       "      <th>free sulfur dioxide</th>\n",
       "      <th>total sulfur dioxide</th>\n",
       "      <th>density</th>\n",
       "      <th>pH</th>\n",
       "      <th>sulphates</th>\n",
       "      <th>alcohol</th>\n",
       "      <th>quality</th>\n",
       "    </tr>\n",
       "  </thead>\n",
       "  <tbody>\n",
       "    <tr>\n",
       "      <th>count</th>\n",
       "      <td>4898.000000</td>\n",
       "      <td>4898.000000</td>\n",
       "      <td>4898.000000</td>\n",
       "      <td>4898.000000</td>\n",
       "      <td>4898.000000</td>\n",
       "      <td>4898.000000</td>\n",
       "      <td>4898.000000</td>\n",
       "      <td>4898.000000</td>\n",
       "      <td>4898.000000</td>\n",
       "      <td>4898.000000</td>\n",
       "      <td>4898.000000</td>\n",
       "      <td>4898.000000</td>\n",
       "    </tr>\n",
       "    <tr>\n",
       "      <th>mean</th>\n",
       "      <td>6.854788</td>\n",
       "      <td>0.278241</td>\n",
       "      <td>0.334192</td>\n",
       "      <td>6.391415</td>\n",
       "      <td>0.045772</td>\n",
       "      <td>35.308085</td>\n",
       "      <td>138.360657</td>\n",
       "      <td>0.994027</td>\n",
       "      <td>3.188267</td>\n",
       "      <td>0.489847</td>\n",
       "      <td>10.514267</td>\n",
       "      <td>5.877909</td>\n",
       "    </tr>\n",
       "    <tr>\n",
       "      <th>std</th>\n",
       "      <td>0.843868</td>\n",
       "      <td>0.100795</td>\n",
       "      <td>0.121020</td>\n",
       "      <td>5.072058</td>\n",
       "      <td>0.021848</td>\n",
       "      <td>17.007137</td>\n",
       "      <td>42.498065</td>\n",
       "      <td>0.002991</td>\n",
       "      <td>0.151001</td>\n",
       "      <td>0.114126</td>\n",
       "      <td>1.230621</td>\n",
       "      <td>0.885639</td>\n",
       "    </tr>\n",
       "    <tr>\n",
       "      <th>min</th>\n",
       "      <td>3.800000</td>\n",
       "      <td>0.080000</td>\n",
       "      <td>0.000000</td>\n",
       "      <td>0.600000</td>\n",
       "      <td>0.009000</td>\n",
       "      <td>2.000000</td>\n",
       "      <td>9.000000</td>\n",
       "      <td>0.987110</td>\n",
       "      <td>2.720000</td>\n",
       "      <td>0.220000</td>\n",
       "      <td>8.000000</td>\n",
       "      <td>3.000000</td>\n",
       "    </tr>\n",
       "    <tr>\n",
       "      <th>25%</th>\n",
       "      <td>6.300000</td>\n",
       "      <td>0.210000</td>\n",
       "      <td>0.270000</td>\n",
       "      <td>1.700000</td>\n",
       "      <td>0.036000</td>\n",
       "      <td>23.000000</td>\n",
       "      <td>108.000000</td>\n",
       "      <td>0.991723</td>\n",
       "      <td>3.090000</td>\n",
       "      <td>0.410000</td>\n",
       "      <td>9.500000</td>\n",
       "      <td>5.000000</td>\n",
       "    </tr>\n",
       "    <tr>\n",
       "      <th>50%</th>\n",
       "      <td>6.800000</td>\n",
       "      <td>0.260000</td>\n",
       "      <td>0.320000</td>\n",
       "      <td>5.200000</td>\n",
       "      <td>0.043000</td>\n",
       "      <td>34.000000</td>\n",
       "      <td>134.000000</td>\n",
       "      <td>0.993740</td>\n",
       "      <td>3.180000</td>\n",
       "      <td>0.470000</td>\n",
       "      <td>10.400000</td>\n",
       "      <td>6.000000</td>\n",
       "    </tr>\n",
       "    <tr>\n",
       "      <th>75%</th>\n",
       "      <td>7.300000</td>\n",
       "      <td>0.320000</td>\n",
       "      <td>0.390000</td>\n",
       "      <td>9.900000</td>\n",
       "      <td>0.050000</td>\n",
       "      <td>46.000000</td>\n",
       "      <td>167.000000</td>\n",
       "      <td>0.996100</td>\n",
       "      <td>3.280000</td>\n",
       "      <td>0.550000</td>\n",
       "      <td>11.400000</td>\n",
       "      <td>6.000000</td>\n",
       "    </tr>\n",
       "    <tr>\n",
       "      <th>max</th>\n",
       "      <td>14.200000</td>\n",
       "      <td>1.100000</td>\n",
       "      <td>1.660000</td>\n",
       "      <td>65.800000</td>\n",
       "      <td>0.346000</td>\n",
       "      <td>289.000000</td>\n",
       "      <td>440.000000</td>\n",
       "      <td>1.038980</td>\n",
       "      <td>3.820000</td>\n",
       "      <td>1.080000</td>\n",
       "      <td>14.200000</td>\n",
       "      <td>9.000000</td>\n",
       "    </tr>\n",
       "  </tbody>\n",
       "</table>\n",
       "</div>"
      ],
      "text/plain": [
       "       fixed acidity  volatile acidity  citric acid  residual sugar  \\\n",
       "count    4898.000000       4898.000000  4898.000000     4898.000000   \n",
       "mean        6.854788          0.278241     0.334192        6.391415   \n",
       "std         0.843868          0.100795     0.121020        5.072058   \n",
       "min         3.800000          0.080000     0.000000        0.600000   \n",
       "25%         6.300000          0.210000     0.270000        1.700000   \n",
       "50%         6.800000          0.260000     0.320000        5.200000   \n",
       "75%         7.300000          0.320000     0.390000        9.900000   \n",
       "max        14.200000          1.100000     1.660000       65.800000   \n",
       "\n",
       "         chlorides  free sulfur dioxide  total sulfur dioxide      density  \\\n",
       "count  4898.000000          4898.000000           4898.000000  4898.000000   \n",
       "mean      0.045772            35.308085            138.360657     0.994027   \n",
       "std       0.021848            17.007137             42.498065     0.002991   \n",
       "min       0.009000             2.000000              9.000000     0.987110   \n",
       "25%       0.036000            23.000000            108.000000     0.991723   \n",
       "50%       0.043000            34.000000            134.000000     0.993740   \n",
       "75%       0.050000            46.000000            167.000000     0.996100   \n",
       "max       0.346000           289.000000            440.000000     1.038980   \n",
       "\n",
       "                pH    sulphates      alcohol      quality  \n",
       "count  4898.000000  4898.000000  4898.000000  4898.000000  \n",
       "mean      3.188267     0.489847    10.514267     5.877909  \n",
       "std       0.151001     0.114126     1.230621     0.885639  \n",
       "min       2.720000     0.220000     8.000000     3.000000  \n",
       "25%       3.090000     0.410000     9.500000     5.000000  \n",
       "50%       3.180000     0.470000    10.400000     6.000000  \n",
       "75%       3.280000     0.550000    11.400000     6.000000  \n",
       "max       3.820000     1.080000    14.200000     9.000000  "
      ]
     },
     "execution_count": 5,
     "metadata": {},
     "output_type": "execute_result"
    }
   ],
   "source": [
    "import pandas as pd\n",
    "\n",
    "wine = pd.read_csv('winequality-white.csv', sep = ';')\n",
    "wine.describe()"
   ]
  },
  {
   "cell_type": "code",
   "execution_count": 6,
   "metadata": {
    "collapsed": true
   },
   "outputs": [],
   "source": [
    "from sklearn.linear_model import LinearRegression\n",
    "from sklearn.cross_validation import train_test_split\n",
    "\n",
    "# Separación de la variable objetivo y las explicativas\n",
    "target = 'quality'\n",
    "features = list(wine.columns)\n",
    "features.remove('quality')\n",
    "\n",
    "x = wine[features]\n",
    "y = wine[target]\n",
    "\n",
    "# Obtencion del conjunto de datos para validación\n",
    "x_train, x_test, y_train, y_test = train_test_split(x, y)"
   ]
  },
  {
   "cell_type": "code",
   "execution_count": 7,
   "metadata": {
    "collapsed": false
   },
   "outputs": [
    {
     "name": "stdout",
     "output_type": "stream",
     "text": [
      "En el paso 0 se ha eliminado la varible alcohol con un error 0.733122810016\n",
      "En el paso 1 se ha eliminado la varible chlorides con un error 0.732908632097\n",
      "En el paso 2 se ha eliminado la varible total sulfur dioxide con un error 0.732705236115\n",
      "En el paso 3 se ha eliminado la varible citric acid con un error 0.732855412789\n",
      "En el paso 4 se ha eliminado la varible fixed acidity con un error 0.735878028612\n",
      "En el paso 5 se ha eliminado la varible free sulfur dioxide con un error 0.737581866881\n",
      "En el paso 6 se ha eliminado la varible sulphates con un error 0.742111495389\n",
      "En el paso 7 se ha eliminado la varible pH con un error 0.753065794283\n",
      "En el paso 8 se ha eliminado la varible volatile acidity con un error 0.770421686705\n",
      "En el paso 9 se ha eliminado la varible residual sugar con un error 0.817822655246\n"
     ]
    }
   ],
   "source": [
    "from sklearn.linear_model import LinearRegression\n",
    "import numpy\n",
    "import math\n",
    "\n",
    "# Modelo para realizar los ajustes\n",
    "model = LinearRegression()\n",
    "\n",
    "feature_order = range(len(features))\n",
    "feature_error = []\n",
    "feature_range = []\n",
    "\n",
    "for i in range(len(features)-1):\n",
    "    idx_try = [val for val in range(len(features)) if val in feature_order]\n",
    "    iter_error = []\n",
    "\n",
    "    for i_try in idx_try:\n",
    "        useRow = feature_order[:]\n",
    "        useRow.remove(i_try)\n",
    "\n",
    "        use_train = x_train[x_train.columns[useRow]]\n",
    "        use_test = x_test[x_train.columns[useRow]]\n",
    "\n",
    "        model.fit(use_train, y_train)\n",
    "        rmsError = numpy.linalg.norm((y_test - model.predict(use_test)), 2)/math.sqrt(len(y_test))\n",
    "        iter_error.append(rmsError)\n",
    "\n",
    "    pos_best = numpy.argmin(iter_error)\n",
    "    feature_order.remove(idx_try[pos_best])\n",
    "    feature_range.append(idx_try[pos_best])\n",
    "    feature_error.append(iter_error[pos_best])\n",
    "\n",
    "for i in range(len(features)-1):\n",
    "    print \"En el paso\", i, \"se ha eliminado la varible\", features[feature_range[i]], \"con un error\", feature_error[i]"
   ]
  },
  {
   "cell_type": "markdown",
   "metadata": {},
   "source": [
    "# 3.Estimación de la supervivencia de los pasajeros del Titanic."
   ]
  },
  {
   "cell_type": "markdown",
   "metadata": {},
   "source": [
    "El prime paso es cargar el CSV y hace un análisis descriptivo de las variables que nos encontramos en el dataset. \n",
    "Asimismo, eliminamos aquellas que no vamos a utilizar en el análisis y eliminamos valores nulos ya que influyen en la ejecucion del método describe()"
   ]
  },
  {
   "cell_type": "code",
   "execution_count": 8,
   "metadata": {
    "collapsed": true
   },
   "outputs": [],
   "source": [
    "import pandas as pd\n",
    "import numpy as np\n",
    "import math\n",
    "\n",
    "df = pd.read_csv(\"titanic.csv\")"
   ]
  },
  {
   "cell_type": "code",
   "execution_count": 9,
   "metadata": {
    "collapsed": false
   },
   "outputs": [
    {
     "name": "stderr",
     "output_type": "stream",
     "text": [
      "C:\\Desarrollo\\Anaconda2\\lib\\site-packages\\numpy\\lib\\function_base.py:3834: RuntimeWarning: Invalid value encountered in percentile\n",
      "  RuntimeWarning)\n"
     ]
    },
    {
     "data": {
      "text/html": [
       "<div>\n",
       "<table border=\"1\" class=\"dataframe\">\n",
       "  <thead>\n",
       "    <tr style=\"text-align: right;\">\n",
       "      <th></th>\n",
       "      <th>pclass</th>\n",
       "      <th>survived</th>\n",
       "      <th>name</th>\n",
       "      <th>sex</th>\n",
       "      <th>age</th>\n",
       "      <th>sibsp</th>\n",
       "      <th>parch</th>\n",
       "      <th>ticket</th>\n",
       "      <th>fare</th>\n",
       "      <th>cabin</th>\n",
       "      <th>embarked</th>\n",
       "      <th>home.dest</th>\n",
       "    </tr>\n",
       "  </thead>\n",
       "  <tbody>\n",
       "    <tr>\n",
       "      <th>0</th>\n",
       "      <td>1</td>\n",
       "      <td>1</td>\n",
       "      <td>Allen, Miss. Elisabeth Walton</td>\n",
       "      <td>female</td>\n",
       "      <td>29.00</td>\n",
       "      <td>0</td>\n",
       "      <td>0</td>\n",
       "      <td>24160</td>\n",
       "      <td>211.3375</td>\n",
       "      <td>B5</td>\n",
       "      <td>S</td>\n",
       "      <td>St Louis, MO</td>\n",
       "    </tr>\n",
       "    <tr>\n",
       "      <th>1</th>\n",
       "      <td>1</td>\n",
       "      <td>1</td>\n",
       "      <td>Allison, Master. Hudson Trevor</td>\n",
       "      <td>male</td>\n",
       "      <td>0.92</td>\n",
       "      <td>1</td>\n",
       "      <td>2</td>\n",
       "      <td>113781</td>\n",
       "      <td>151.5500</td>\n",
       "      <td>C22 C26</td>\n",
       "      <td>S</td>\n",
       "      <td>Montreal, PQ / Chesterville, ON</td>\n",
       "    </tr>\n",
       "    <tr>\n",
       "      <th>2</th>\n",
       "      <td>1</td>\n",
       "      <td>0</td>\n",
       "      <td>Allison, Miss. Helen Loraine</td>\n",
       "      <td>female</td>\n",
       "      <td>2.00</td>\n",
       "      <td>1</td>\n",
       "      <td>2</td>\n",
       "      <td>113781</td>\n",
       "      <td>151.5500</td>\n",
       "      <td>C22 C26</td>\n",
       "      <td>S</td>\n",
       "      <td>Montreal, PQ / Chesterville, ON</td>\n",
       "    </tr>\n",
       "    <tr>\n",
       "      <th>3</th>\n",
       "      <td>1</td>\n",
       "      <td>0</td>\n",
       "      <td>Allison, Mr. Hudson Joshua Creighton</td>\n",
       "      <td>male</td>\n",
       "      <td>30.00</td>\n",
       "      <td>1</td>\n",
       "      <td>2</td>\n",
       "      <td>113781</td>\n",
       "      <td>151.5500</td>\n",
       "      <td>C22 C26</td>\n",
       "      <td>S</td>\n",
       "      <td>Montreal, PQ / Chesterville, ON</td>\n",
       "    </tr>\n",
       "    <tr>\n",
       "      <th>4</th>\n",
       "      <td>1</td>\n",
       "      <td>0</td>\n",
       "      <td>Allison, Mrs. Hudson J C (Bessie Waldo Daniels)</td>\n",
       "      <td>female</td>\n",
       "      <td>25.00</td>\n",
       "      <td>1</td>\n",
       "      <td>2</td>\n",
       "      <td>113781</td>\n",
       "      <td>151.5500</td>\n",
       "      <td>C22 C26</td>\n",
       "      <td>S</td>\n",
       "      <td>Montreal, PQ / Chesterville, ON</td>\n",
       "    </tr>\n",
       "  </tbody>\n",
       "</table>\n",
       "</div>"
      ],
      "text/plain": [
       "   pclass  survived                                             name     sex  \\\n",
       "0       1         1                    Allen, Miss. Elisabeth Walton  female   \n",
       "1       1         1                   Allison, Master. Hudson Trevor    male   \n",
       "2       1         0                     Allison, Miss. Helen Loraine  female   \n",
       "3       1         0             Allison, Mr. Hudson Joshua Creighton    male   \n",
       "4       1         0  Allison, Mrs. Hudson J C (Bessie Waldo Daniels)  female   \n",
       "\n",
       "     age  sibsp  parch  ticket      fare    cabin embarked  \\\n",
       "0  29.00      0      0   24160  211.3375       B5        S   \n",
       "1   0.92      1      2  113781  151.5500  C22 C26        S   \n",
       "2   2.00      1      2  113781  151.5500  C22 C26        S   \n",
       "3  30.00      1      2  113781  151.5500  C22 C26        S   \n",
       "4  25.00      1      2  113781  151.5500  C22 C26        S   \n",
       "\n",
       "                         home.dest  \n",
       "0                     St Louis, MO  \n",
       "1  Montreal, PQ / Chesterville, ON  \n",
       "2  Montreal, PQ / Chesterville, ON  \n",
       "3  Montreal, PQ / Chesterville, ON  \n",
       "4  Montreal, PQ / Chesterville, ON  "
      ]
     },
     "execution_count": 9,
     "metadata": {},
     "output_type": "execute_result"
    }
   ],
   "source": [
    "mask = df[['age','fare']].applymap(lambda x: math.isnan(x)) \n",
    "df = df[-mask.any(axis = 1)]\n",
    "df.describe()\n",
    "#df.head(5)\n",
    "titanic = df.drop(['boat','body'], axis=1)\n",
    "titanic.head(5)"
   ]
  },
  {
   "cell_type": "markdown",
   "metadata": {},
   "source": [
    "## 3.1 Eliminamos las variables identificadores o subidentificadores y establecemos las que son categoricas y continuas"
   ]
  },
  {
   "cell_type": "markdown",
   "metadata": {},
   "source": [
    "En primer lugar revisando el tipo de variables, eliminamos aquellas que pueden ser identificadores o pseudo identificadores, ya que sin tener varibalidad  o puduendo encapsular grupos elevado de personas en un determinado grupo no aportan informacion"
   ]
  },
  {
   "cell_type": "code",
   "execution_count": 10,
   "metadata": {
    "collapsed": true
   },
   "outputs": [],
   "source": [
    "var_descartadas = ['name','cabin','home.dest','ticket']\n",
    "var_categoricas = ['sibsp','parch','pclass','sex','embarked']\n",
    "var_continuas = ['age','fare']"
   ]
  },
  {
   "cell_type": "markdown",
   "metadata": {},
   "source": [
    "## 3.2 Discretizacion de variables"
   ]
  },
  {
   "cell_type": "markdown",
   "metadata": {},
   "source": [
    "Revisamos la tabla cruzada de frecuencias para las variables categoricas respecto a la variable que pretendemos categorizar.\n",
    "No se aprecia ninguna agrupacion asociativa que podamos realizar para reducir el numero. Quizás en la variable \"embarked\" con el valor Q ya que son significativmanete inferiores, pero no lo suficiente."
   ]
  },
  {
   "cell_type": "code",
   "execution_count": 11,
   "metadata": {
    "collapsed": false
   },
   "outputs": [
    {
     "name": "stdout",
     "output_type": "stream",
     "text": [
      "Tabla de frecuencias para: sibsp\n",
      "sibsp       0    1   2   3   4  5  8\n",
      "survived                            \n",
      "0         429  133  20  10  19  6  1\n",
      "1         255  147  16   6   3  0  0\n",
      "\n",
      "Tabla de frecuencias para: parch\n",
      "parch       0   1   2  3  4  5  6\n",
      "survived                         \n",
      "0         497  65  42  3  4  5  2\n",
      "1         270  95  55  5  1  1  0\n",
      "\n",
      "Tabla de frecuencias para: pclass\n",
      "pclass      1    2    3\n",
      "survived               \n",
      "0         103  146  369\n",
      "1         181  115  131\n",
      "\n",
      "Tabla de frecuencias para: sex\n",
      "sex       female  male\n",
      "survived              \n",
      "0             96   522\n",
      "1            292   135\n",
      "\n",
      "Tabla de frecuencias para: embarked\n",
      "embarked    C   Q    S\n",
      "survived              \n",
      "0          80  37  501\n",
      "1         132  13  280\n",
      "\n"
     ]
    }
   ],
   "source": [
    "for var in var_categoricas:\n",
    "    print \"Tabla de frecuencias para:\", var\n",
    "    print pd.crosstab(titanic['survived'], titanic[var])\n",
    "    print"
   ]
  },
  {
   "cell_type": "markdown",
   "metadata": {},
   "source": [
    "Definimos el WoE y lo utilizamos para la variable embarked"
   ]
  },
  {
   "cell_type": "code",
   "execution_count": 13,
   "metadata": {
    "collapsed": false
   },
   "outputs": [
    {
     "name": "stdout",
     "output_type": "stream",
     "text": [
      "Obteniendo el Woe para la variable embarked :\n",
      "  El WoE para C [ 212 ] es -0.500775287912\n",
      "  El WoE para Q [ 50 ] es 1.04596855518\n",
      "  El WoE para S [ 781 ] es 0.581816497916\n"
     ]
    },
    {
     "data": {
      "text/html": [
       "<div>\n",
       "<table border=\"1\" class=\"dataframe\">\n",
       "  <thead>\n",
       "    <tr style=\"text-align: right;\">\n",
       "      <th>embarked</th>\n",
       "      <th>C</th>\n",
       "      <th>Q</th>\n",
       "      <th>S</th>\n",
       "    </tr>\n",
       "  </thead>\n",
       "  <tbody>\n",
       "    <tr>\n",
       "      <th>1</th>\n",
       "      <td>-0.500775</td>\n",
       "      <td>1.04597</td>\n",
       "      <td>0.581816</td>\n",
       "    </tr>\n",
       "  </tbody>\n",
       "</table>\n",
       "</div>"
      ],
      "text/plain": [
       "embarked         C        Q         S\n",
       "1        -0.500775  1.04597  0.581816"
      ]
     },
     "execution_count": 13,
     "metadata": {},
     "output_type": "execute_result"
    }
   ],
   "source": [
    "def get_WoE(data, var, target):\n",
    "    crosstab = pd.crosstab(titanic[target], titanic[var])\n",
    "    \n",
    "    print \"Obteniendo el Woe para la variable\", var, \":\"\n",
    "    result = pd.DataFrame(columns=crosstab.columns)\n",
    "    \n",
    "    for col in crosstab.columns:\n",
    "        if crosstab[col][1] == 0:\n",
    "            print \"  El WoE para\", col, \"[\", sum(crosstab[col]), \"] es infinito\"\n",
    "            result.set_value(1, col, \"infinito\")\n",
    "        else:\n",
    "            print \"  El WoE para\", col, \"[\", sum(crosstab[col]), \"] es\", np.log(float(crosstab[col][0]) / float(crosstab[col][1]))\n",
    "            result.set_value(1, col, np.log(float(crosstab[col][0]) / float(crosstab[col][1])))\n",
    "    \n",
    "    return result\n",
    "            \n",
    "woe = get_WoE(titanic, 'embarked', 'survived') \n",
    "woe.head(5)"
   ]
  },
  {
   "cell_type": "markdown",
   "metadata": {},
   "source": [
    "Analizamos las variables sibsp y disbp ya que son categoricas con varios niveles."
   ]
  },
  {
   "cell_type": "code",
   "execution_count": 14,
   "metadata": {
    "collapsed": false
   },
   "outputs": [
    {
     "name": "stdout",
     "output_type": "stream",
     "text": [
      "Obteniendo el Woe para la variable sibsp :\n",
      "  El WoE para 0 [ 684 ] es 0.52019337377\n",
      "  El WoE para 1 [ 280 ] es -0.100083458557\n",
      "  El WoE para 2 [ 36 ] es 0.223143551314\n",
      "  El WoE para 3 [ 16 ] es 0.510825623766\n",
      "  El WoE para 4 [ 22 ] es 1.8458266905\n",
      "  El WoE para 5 [ 6 ] es infinito\n",
      "  El WoE para 8 [ 1 ] es infinito\n"
     ]
    }
   ],
   "source": [
    "woe = get_WoE(titanic, 'sibsp', 'survived') "
   ]
  },
  {
   "cell_type": "code",
   "execution_count": 15,
   "metadata": {
    "collapsed": false
   },
   "outputs": [
    {
     "name": "stdout",
     "output_type": "stream",
     "text": [
      "Obteniendo el Woe para la variable sibsp_N :\n",
      "  El WoE para 2 [ 36 ] es 0.223143551314\n",
      "  El WoE para 4 [ 22 ] es 1.8458266905\n",
      "  El WoE para n0 [ 287 ] es -0.0487901641694\n",
      "  El WoE para n1 [ 700 ] es 0.519979005752\n"
     ]
    },
    {
     "data": {
      "text/html": [
       "<div>\n",
       "<table border=\"1\" class=\"dataframe\">\n",
       "  <thead>\n",
       "    <tr style=\"text-align: right;\">\n",
       "      <th>sibsp_N</th>\n",
       "      <th>2</th>\n",
       "      <th>4</th>\n",
       "      <th>n0</th>\n",
       "      <th>n1</th>\n",
       "    </tr>\n",
       "  </thead>\n",
       "  <tbody>\n",
       "    <tr>\n",
       "      <th>1</th>\n",
       "      <td>0.223144</td>\n",
       "      <td>1.84583</td>\n",
       "      <td>-0.0487902</td>\n",
       "      <td>0.519979</td>\n",
       "    </tr>\n",
       "  </tbody>\n",
       "</table>\n",
       "</div>"
      ],
      "text/plain": [
       "sibsp_N         2        4         n0        n1\n",
       "1        0.223144  1.84583 -0.0487902  0.519979"
      ]
     },
     "execution_count": 15,
     "metadata": {},
     "output_type": "execute_result"
    }
   ],
   "source": [
    "titanic.loc[:, 'sibsp_N'] = None\n",
    "\n",
    "for row in titanic.index:\n",
    "    if titanic.loc[row, 'sibsp'] in (1, 5, 8):\n",
    "        titanic.loc[row, 'sibsp_N'] = 'n0'\n",
    "    elif titanic.loc[row, 'sibsp'] in (0, 3):\n",
    "        titanic.loc[row, 'sibsp_N'] = 'n1'\n",
    "    else:\n",
    "        val = titanic.loc[row, 'sibsp']\n",
    "        titanic.loc[row, 'sibsp_N'] = val\n",
    "\n",
    "get_WoE(titanic, 'sibsp_N', 'survived') "
   ]
  },
  {
   "cell_type": "markdown",
   "metadata": {},
   "source": [
    "Puesto que para el valor 2 está cercano al nivel de aportacion de la n1, y teniendo esta menos valores, fusionamos ambas categorias"
   ]
  },
  {
   "cell_type": "code",
   "execution_count": 16,
   "metadata": {
    "collapsed": false
   },
   "outputs": [
    {
     "name": "stdout",
     "output_type": "stream",
     "text": [
      "Obteniendo el Woe para la variable sibsp_N :\n",
      "  El WoE para 4 [ 22 ] es 1.8458266905\n",
      "  El WoE para n0 [ 287 ] es -0.0487901641694\n",
      "  El WoE para n1 [ 736 ] es 0.505032703873\n"
     ]
    },
    {
     "data": {
      "text/html": [
       "<div>\n",
       "<table border=\"1\" class=\"dataframe\">\n",
       "  <thead>\n",
       "    <tr style=\"text-align: right;\">\n",
       "      <th>sibsp_N</th>\n",
       "      <th>4</th>\n",
       "      <th>n0</th>\n",
       "      <th>n1</th>\n",
       "    </tr>\n",
       "  </thead>\n",
       "  <tbody>\n",
       "    <tr>\n",
       "      <th>1</th>\n",
       "      <td>1.84583</td>\n",
       "      <td>-0.0487902</td>\n",
       "      <td>0.505033</td>\n",
       "    </tr>\n",
       "  </tbody>\n",
       "</table>\n",
       "</div>"
      ],
      "text/plain": [
       "sibsp_N        4         n0        n1\n",
       "1        1.84583 -0.0487902  0.505033"
      ]
     },
     "execution_count": 16,
     "metadata": {},
     "output_type": "execute_result"
    }
   ],
   "source": [
    "for row in titanic.index:\n",
    "    if titanic.loc[row, 'sibsp'] in (1, 5, 8):\n",
    "        titanic.loc[row, 'sibsp_N'] = 'n0'\n",
    "    elif titanic.loc[row, 'sibsp'] in (0, 3, 2):\n",
    "        titanic.loc[row, 'sibsp_N'] = 'n1'\n",
    "    else:\n",
    "        val = titanic.loc[row, 'sibsp']\n",
    "        titanic.loc[row, 'sibsp_N'] = val\n",
    "\n",
    "get_WoE(titanic, 'sibsp_N', 'survived') "
   ]
  },
  {
   "cell_type": "markdown",
   "metadata": {},
   "source": [
    "Aunque los valores 2 y 4 tienen pocos valores, su WoE es bastante distinto,con lo que tienen diferentes aportaciones al modelo y por lo que  no seria buena práctica bajar un nivel mas"
   ]
  },
  {
   "cell_type": "code",
   "execution_count": 17,
   "metadata": {
    "collapsed": false
   },
   "outputs": [
    {
     "name": "stdout",
     "output_type": "stream",
     "text": [
      "Obteniendo el Woe para la variable parch :\n",
      "  El WoE para 0 [ 767 ] es 0.610168067098\n",
      "  El WoE para 1 [ 160 ] es -0.379489621705\n",
      "  El WoE para 2 [ 97 ] es -0.269663566949\n",
      "  El WoE para 3 [ 8 ] es -0.510825623766\n",
      "  El WoE para 4 [ 5 ] es 1.38629436112\n",
      "  El WoE para 5 [ 6 ] es 1.60943791243\n",
      "  El WoE para 6 [ 2 ] es infinito\n"
     ]
    }
   ],
   "source": [
    "woe = get_WoE(titanic, 'parch', 'survived') "
   ]
  },
  {
   "cell_type": "markdown",
   "metadata": {},
   "source": [
    "Podemos Unir los grupos 1, 2 y 3 por la similitud del Woe. Idem para los grupos 5 y 6. Como el grupo 6 son solo dos valores que podrían explicar por si solo el modelo, lo unimos al grupo 4 y 5 para que aporten mas nivel de significacion a ese grupo"
   ]
  },
  {
   "cell_type": "code",
   "execution_count": 18,
   "metadata": {
    "collapsed": false
   },
   "outputs": [
    {
     "name": "stdout",
     "output_type": "stream",
     "text": [
      "Obteniendo el Woe para la variable parch_N :\n",
      "  El WoE para 0 [ 767 ] es 0.610168067098\n",
      "  El WoE para n0 [ 265 ] es -0.342944751127\n",
      "  El WoE para n1 [ 13 ] es 1.70474809224\n"
     ]
    },
    {
     "data": {
      "text/html": [
       "<div>\n",
       "<table border=\"1\" class=\"dataframe\">\n",
       "  <thead>\n",
       "    <tr style=\"text-align: right;\">\n",
       "      <th>parch_N</th>\n",
       "      <th>0</th>\n",
       "      <th>n0</th>\n",
       "      <th>n1</th>\n",
       "    </tr>\n",
       "  </thead>\n",
       "  <tbody>\n",
       "    <tr>\n",
       "      <th>1</th>\n",
       "      <td>0.610168</td>\n",
       "      <td>-0.342945</td>\n",
       "      <td>1.70475</td>\n",
       "    </tr>\n",
       "  </tbody>\n",
       "</table>\n",
       "</div>"
      ],
      "text/plain": [
       "parch_N         0        n0       n1\n",
       "1        0.610168 -0.342945  1.70475"
      ]
     },
     "execution_count": 18,
     "metadata": {},
     "output_type": "execute_result"
    }
   ],
   "source": [
    "titanic.loc[:, 'parch_N'] = None\n",
    "\n",
    "for row in titanic.index:\n",
    "    if titanic.loc[row, 'parch'] in (1, 2, 3):\n",
    "        titanic.loc[row, 'parch_N'] = 'n0'\n",
    "    elif titanic.loc[row, 'parch'] in (4,5,6):\n",
    "        titanic.loc[row, 'parch_N'] = 'n1'\n",
    "    else:\n",
    "        val = titanic.loc[row, 'parch']\n",
    "        titanic.loc[row, 'parch_N'] = val\n",
    "\n",
    "get_WoE(titanic, 'parch_N', 'survived')"
   ]
  },
  {
   "cell_type": "markdown",
   "metadata": {},
   "source": [
    "Llegado a este punto, no podemos unificar mas las varibles generadas a partir de la categorica parch"
   ]
  },
  {
   "cell_type": "code",
   "execution_count": 19,
   "metadata": {
    "collapsed": false
   },
   "outputs": [
    {
     "name": "stdout",
     "output_type": "stream",
     "text": [
      "Obteniendo el Woe para la variable sex :\n",
      "  El WoE para female [ 388 ] es -1.1124056108\n",
      "  El WoE para male [ 657 ] es 1.35239280944\n"
     ]
    },
    {
     "data": {
      "text/html": [
       "<div>\n",
       "<table border=\"1\" class=\"dataframe\">\n",
       "  <thead>\n",
       "    <tr style=\"text-align: right;\">\n",
       "      <th>sex</th>\n",
       "      <th>female</th>\n",
       "      <th>male</th>\n",
       "    </tr>\n",
       "  </thead>\n",
       "  <tbody>\n",
       "    <tr>\n",
       "      <th>1</th>\n",
       "      <td>-1.11241</td>\n",
       "      <td>1.35239</td>\n",
       "    </tr>\n",
       "  </tbody>\n",
       "</table>\n",
       "</div>"
      ],
      "text/plain": [
       "sex   female     male\n",
       "1   -1.11241  1.35239"
      ]
     },
     "execution_count": 19,
     "metadata": {},
     "output_type": "execute_result"
    }
   ],
   "source": [
    "get_WoE(titanic, 'sex', 'survived')"
   ]
  },
  {
   "cell_type": "code",
   "execution_count": 20,
   "metadata": {
    "collapsed": false
   },
   "outputs": [
    {
     "name": "stdout",
     "output_type": "stream",
     "text": [
      "Obteniendo el Woe para la variable pclass :\n",
      "  El WoE para 1 [ 284 ] es -0.563768043036\n",
      "  El WoE para 2 [ 261 ] es 0.238674493345\n",
      "  El WoE para 3 [ 500 ] es 1.03559932084\n"
     ]
    },
    {
     "data": {
      "text/html": [
       "<div>\n",
       "<table border=\"1\" class=\"dataframe\">\n",
       "  <thead>\n",
       "    <tr style=\"text-align: right;\">\n",
       "      <th>pclass</th>\n",
       "      <th>1</th>\n",
       "      <th>2</th>\n",
       "      <th>3</th>\n",
       "    </tr>\n",
       "  </thead>\n",
       "  <tbody>\n",
       "    <tr>\n",
       "      <th>1</th>\n",
       "      <td>-0.563768</td>\n",
       "      <td>0.238674</td>\n",
       "      <td>1.0356</td>\n",
       "    </tr>\n",
       "  </tbody>\n",
       "</table>\n",
       "</div>"
      ],
      "text/plain": [
       "pclass         1         2       3\n",
       "1      -0.563768  0.238674  1.0356"
      ]
     },
     "execution_count": 20,
     "metadata": {},
     "output_type": "execute_result"
    }
   ],
   "source": [
    "get_WoE(titanic, 'pclass', 'survived')"
   ]
  },
  {
   "cell_type": "code",
   "execution_count": 21,
   "metadata": {
    "collapsed": false
   },
   "outputs": [
    {
     "name": "stdout",
     "output_type": "stream",
     "text": [
      "Obteniendo el Woe para la variable embarked :\n",
      "  El WoE para C [ 212 ] es -0.500775287912\n",
      "  El WoE para Q [ 50 ] es 1.04596855518\n",
      "  El WoE para S [ 781 ] es 0.581816497916\n"
     ]
    },
    {
     "data": {
      "text/html": [
       "<div>\n",
       "<table border=\"1\" class=\"dataframe\">\n",
       "  <thead>\n",
       "    <tr style=\"text-align: right;\">\n",
       "      <th>embarked</th>\n",
       "      <th>C</th>\n",
       "      <th>Q</th>\n",
       "      <th>S</th>\n",
       "    </tr>\n",
       "  </thead>\n",
       "  <tbody>\n",
       "    <tr>\n",
       "      <th>1</th>\n",
       "      <td>-0.500775</td>\n",
       "      <td>1.04597</td>\n",
       "      <td>0.581816</td>\n",
       "    </tr>\n",
       "  </tbody>\n",
       "</table>\n",
       "</div>"
      ],
      "text/plain": [
       "embarked         C        Q         S\n",
       "1        -0.500775  1.04597  0.581816"
      ]
     },
     "execution_count": 21,
     "metadata": {},
     "output_type": "execute_result"
    }
   ],
   "source": [
    "get_WoE(titanic, 'embarked', 'survived')"
   ]
  },
  {
   "cell_type": "markdown",
   "metadata": {},
   "source": [
    "El resto de las variables, factor no pueden reagruparse porque cada valor es suficientemente significativo dentro de una proporcion de la muestra"
   ]
  },
  {
   "cell_type": "markdown",
   "metadata": {},
   "source": [
    "Analizamos las variables continuas"
   ]
  },
  {
   "cell_type": "code",
   "execution_count": 22,
   "metadata": {
    "collapsed": false
   },
   "outputs": [
    {
     "data": {
      "text/plain": [
       "<matplotlib.axes._subplots.AxesSubplot at 0xcd47940>"
      ]
     },
     "execution_count": 22,
     "metadata": {},
     "output_type": "execute_result"
    },
    {
     "data": {
      "image/png": "[encoded data removed]",
      "text/plain": [
       "<matplotlib.figure.Figure at 0xa9c5b38>"
      ]
     },
     "metadata": {},
     "output_type": "display_data"
    }
   ],
   "source": [
    "%matplotlib inline\n",
    "titanic['age'].hist(bins=30)"
   ]
  },
  {
   "cell_type": "markdown",
   "metadata": {},
   "source": [
    "Parece que podemos tambien crear variables discretas observando el histograma, donde vemos que para valores entre 0 y 15 la frecuencia es la misma, idem para entre "
   ]
  },
  {
   "cell_type": "code",
   "execution_count": 23,
   "metadata": {
    "collapsed": false
   },
   "outputs": [
    {
     "data": {
      "text/plain": [
       "<matplotlib.axes._subplots.AxesSubplot at 0xcee3668>"
      ]
     },
     "execution_count": 23,
     "metadata": {},
     "output_type": "execute_result"
    },
    {
     "data": {
      "image/png": "[encoded data removed]",
      "text/plain": [
       "<matplotlib.figure.Figure at 0xa9c5eb8>"
      ]
     },
     "metadata": {},
     "output_type": "display_data"
    }
   ],
   "source": [
    "var_target = titanic['survived'] == 1\n",
    "titanic['age'][var_target].hist(bins=30)"
   ]
  },
  {
   "cell_type": "code",
   "execution_count": 24,
   "metadata": {
    "collapsed": false
   },
   "outputs": [
    {
     "data": {
      "text/plain": [
       "<matplotlib.axes._subplots.AxesSubplot at 0xa9c59b0>"
      ]
     },
     "execution_count": 24,
     "metadata": {},
     "output_type": "execute_result"
    },
    {
     "data": {
      "image/png": "[encoded data removed]",
      "text/plain": [
       "<matplotlib.figure.Figure at 0xd0d45c0>"
      ]
     },
     "metadata": {},
     "output_type": "display_data"
    }
   ],
   "source": [
    "var_target = titanic['survived'] == 0\n",
    "titanic['age'][var_target].hist(bins=30)"
   ]
  },
  {
   "cell_type": "markdown",
   "metadata": {},
   "source": [
    "Vemos que hay como tres tramos, para discretizar la variable. Entre 0 y 17, entre 18 y 40 y a partir de 40. De esa manera creamos una variable discreta de tres valores "
   ]
  },
  {
   "cell_type": "code",
   "execution_count": 25,
   "metadata": {
    "collapsed": false
   },
   "outputs": [],
   "source": [
    "titanic.loc[:, 'age_N'] = titanic['age'].map(lambda x: 'n0' if x < 17 else 'n1' if x < 40 else 'n2')"
   ]
  },
  {
   "cell_type": "code",
   "execution_count": 26,
   "metadata": {
    "collapsed": false
   },
   "outputs": [
    {
     "data": {
      "text/plain": [
       "<matplotlib.axes._subplots.AxesSubplot at 0xa9c75f8>"
      ]
     },
     "execution_count": 26,
     "metadata": {},
     "output_type": "execute_result"
    },
    {
     "data": {
      "image/png": "[encoded data removed]",
      "text/plain": [
       "<matplotlib.figure.Figure at 0x8436e10>"
      ]
     },
     "metadata": {},
     "output_type": "display_data"
    }
   ],
   "source": [
    "var_target = titanic['survived'] == 1\n",
    "titanic['fare'][var_target].hist(bins=10)"
   ]
  },
  {
   "cell_type": "code",
   "execution_count": 27,
   "metadata": {
    "collapsed": false
   },
   "outputs": [
    {
     "data": {
      "text/plain": [
       "<matplotlib.axes._subplots.AxesSubplot at 0xdd0b5f8>"
      ]
     },
     "execution_count": 27,
     "metadata": {},
     "output_type": "execute_result"
    },
    {
     "data": {
      "image/png": "[encoded data removed]",
      "text/plain": [
       "<matplotlib.figure.Figure at 0xd07b898>"
      ]
     },
     "metadata": {},
     "output_type": "display_data"
    }
   ],
   "source": [
    "var_target = titanic['survived'] == 0\n",
    "titanic['fare'][var_target].hist(bins=10)"
   ]
  },
  {
   "cell_type": "code",
   "execution_count": 28,
   "metadata": {
    "collapsed": false
   },
   "outputs": [],
   "source": [
    "titanic.loc[:, 'fare_N'] = titanic['fare'].map(lambda x: 'n0' if x < 25 else 'n1' if x < 100 else 'n2')"
   ]
  },
  {
   "cell_type": "code",
   "execution_count": 29,
   "metadata": {
    "collapsed": false
   },
   "outputs": [
    {
     "data": {
      "text/html": [
       "<div>\n",
       "<table border=\"1\" class=\"dataframe\">\n",
       "  <thead>\n",
       "    <tr style=\"text-align: right;\">\n",
       "      <th></th>\n",
       "      <th>pclass</th>\n",
       "      <th>survived</th>\n",
       "      <th>name</th>\n",
       "      <th>sex</th>\n",
       "      <th>age</th>\n",
       "      <th>sibsp</th>\n",
       "      <th>parch</th>\n",
       "      <th>ticket</th>\n",
       "      <th>fare</th>\n",
       "      <th>cabin</th>\n",
       "      <th>embarked</th>\n",
       "      <th>home.dest</th>\n",
       "      <th>sibsp_N</th>\n",
       "      <th>parch_N</th>\n",
       "      <th>age_N</th>\n",
       "      <th>fare_N</th>\n",
       "    </tr>\n",
       "  </thead>\n",
       "  <tbody>\n",
       "    <tr>\n",
       "      <th>0</th>\n",
       "      <td>1</td>\n",
       "      <td>1</td>\n",
       "      <td>Allen, Miss. Elisabeth Walton</td>\n",
       "      <td>female</td>\n",
       "      <td>29.00</td>\n",
       "      <td>0</td>\n",
       "      <td>0</td>\n",
       "      <td>24160</td>\n",
       "      <td>211.3375</td>\n",
       "      <td>B5</td>\n",
       "      <td>S</td>\n",
       "      <td>St Louis, MO</td>\n",
       "      <td>n1</td>\n",
       "      <td>0</td>\n",
       "      <td>n1</td>\n",
       "      <td>n2</td>\n",
       "    </tr>\n",
       "    <tr>\n",
       "      <th>1</th>\n",
       "      <td>1</td>\n",
       "      <td>1</td>\n",
       "      <td>Allison, Master. Hudson Trevor</td>\n",
       "      <td>male</td>\n",
       "      <td>0.92</td>\n",
       "      <td>1</td>\n",
       "      <td>2</td>\n",
       "      <td>113781</td>\n",
       "      <td>151.5500</td>\n",
       "      <td>C22 C26</td>\n",
       "      <td>S</td>\n",
       "      <td>Montreal, PQ / Chesterville, ON</td>\n",
       "      <td>n0</td>\n",
       "      <td>n0</td>\n",
       "      <td>n0</td>\n",
       "      <td>n2</td>\n",
       "    </tr>\n",
       "    <tr>\n",
       "      <th>2</th>\n",
       "      <td>1</td>\n",
       "      <td>0</td>\n",
       "      <td>Allison, Miss. Helen Loraine</td>\n",
       "      <td>female</td>\n",
       "      <td>2.00</td>\n",
       "      <td>1</td>\n",
       "      <td>2</td>\n",
       "      <td>113781</td>\n",
       "      <td>151.5500</td>\n",
       "      <td>C22 C26</td>\n",
       "      <td>S</td>\n",
       "      <td>Montreal, PQ / Chesterville, ON</td>\n",
       "      <td>n0</td>\n",
       "      <td>n0</td>\n",
       "      <td>n0</td>\n",
       "      <td>n2</td>\n",
       "    </tr>\n",
       "    <tr>\n",
       "      <th>3</th>\n",
       "      <td>1</td>\n",
       "      <td>0</td>\n",
       "      <td>Allison, Mr. Hudson Joshua Creighton</td>\n",
       "      <td>male</td>\n",
       "      <td>30.00</td>\n",
       "      <td>1</td>\n",
       "      <td>2</td>\n",
       "      <td>113781</td>\n",
       "      <td>151.5500</td>\n",
       "      <td>C22 C26</td>\n",
       "      <td>S</td>\n",
       "      <td>Montreal, PQ / Chesterville, ON</td>\n",
       "      <td>n0</td>\n",
       "      <td>n0</td>\n",
       "      <td>n1</td>\n",
       "      <td>n2</td>\n",
       "    </tr>\n",
       "    <tr>\n",
       "      <th>4</th>\n",
       "      <td>1</td>\n",
       "      <td>0</td>\n",
       "      <td>Allison, Mrs. Hudson J C (Bessie Waldo Daniels)</td>\n",
       "      <td>female</td>\n",
       "      <td>25.00</td>\n",
       "      <td>1</td>\n",
       "      <td>2</td>\n",
       "      <td>113781</td>\n",
       "      <td>151.5500</td>\n",
       "      <td>C22 C26</td>\n",
       "      <td>S</td>\n",
       "      <td>Montreal, PQ / Chesterville, ON</td>\n",
       "      <td>n0</td>\n",
       "      <td>n0</td>\n",
       "      <td>n1</td>\n",
       "      <td>n2</td>\n",
       "    </tr>\n",
       "  </tbody>\n",
       "</table>\n",
       "</div>"
      ],
      "text/plain": [
       "   pclass  survived                                             name     sex  \\\n",
       "0       1         1                    Allen, Miss. Elisabeth Walton  female   \n",
       "1       1         1                   Allison, Master. Hudson Trevor    male   \n",
       "2       1         0                     Allison, Miss. Helen Loraine  female   \n",
       "3       1         0             Allison, Mr. Hudson Joshua Creighton    male   \n",
       "4       1         0  Allison, Mrs. Hudson J C (Bessie Waldo Daniels)  female   \n",
       "\n",
       "     age  sibsp  parch  ticket      fare    cabin embarked  \\\n",
       "0  29.00      0      0   24160  211.3375       B5        S   \n",
       "1   0.92      1      2  113781  151.5500  C22 C26        S   \n",
       "2   2.00      1      2  113781  151.5500  C22 C26        S   \n",
       "3  30.00      1      2  113781  151.5500  C22 C26        S   \n",
       "4  25.00      1      2  113781  151.5500  C22 C26        S   \n",
       "\n",
       "                         home.dest sibsp_N parch_N age_N fare_N  \n",
       "0                     St Louis, MO      n1       0    n1     n2  \n",
       "1  Montreal, PQ / Chesterville, ON      n0      n0    n0     n2  \n",
       "2  Montreal, PQ / Chesterville, ON      n0      n0    n0     n2  \n",
       "3  Montreal, PQ / Chesterville, ON      n0      n0    n1     n2  \n",
       "4  Montreal, PQ / Chesterville, ON      n0      n0    n1     n2  "
      ]
     },
     "execution_count": 29,
     "metadata": {},
     "output_type": "execute_result"
    }
   ],
   "source": [
    "var_categoricas = ['sibsp_N','parch_N','pclass','sex','embarked','age_N','fare_N']\n",
    "var_continuas = []\n",
    "titanic.head(5)"
   ]
  },
  {
   "cell_type": "markdown",
   "metadata": {},
   "source": [
    "## 3.3 Obtencion del VIF"
   ]
  },
  {
   "cell_type": "markdown",
   "metadata": {},
   "source": [
    "Obtenemos una regresion lineal de cada una de las variables respecto al resto excluyendo la que se quiere predecir para luego obtener el valor del VIF"
   ]
  },
  {
   "cell_type": "markdown",
   "metadata": {},
   "source": [
    "Creamos dummies ya que las variables que tenemos son discretizadas"
   ]
  },
  {
   "cell_type": "code",
   "execution_count": 44,
   "metadata": {
    "collapsed": false
   },
   "outputs": [
    {
     "data": {
      "text/html": [
       "<div>\n",
       "<table border=\"1\" class=\"dataframe\">\n",
       "  <thead>\n",
       "    <tr style=\"text-align: right;\">\n",
       "      <th></th>\n",
       "      <th>sibsp_N_n0</th>\n",
       "      <th>sibsp_N_n1</th>\n",
       "      <th>parch_N_n0</th>\n",
       "      <th>parch_N_n1</th>\n",
       "      <th>pclass_2</th>\n",
       "      <th>pclass_3</th>\n",
       "      <th>sex_male</th>\n",
       "      <th>embarked_Q</th>\n",
       "      <th>embarked_S</th>\n",
       "      <th>age_N_n1</th>\n",
       "      <th>age_N_n2</th>\n",
       "      <th>fare_N_n1</th>\n",
       "      <th>fare_N_n2</th>\n",
       "    </tr>\n",
       "  </thead>\n",
       "  <tbody>\n",
       "    <tr>\n",
       "      <th>0</th>\n",
       "      <td>0.0</td>\n",
       "      <td>1.0</td>\n",
       "      <td>0.0</td>\n",
       "      <td>0.0</td>\n",
       "      <td>0.0</td>\n",
       "      <td>0.0</td>\n",
       "      <td>0.0</td>\n",
       "      <td>0.0</td>\n",
       "      <td>1.0</td>\n",
       "      <td>1.0</td>\n",
       "      <td>0.0</td>\n",
       "      <td>0.0</td>\n",
       "      <td>1.0</td>\n",
       "    </tr>\n",
       "    <tr>\n",
       "      <th>1</th>\n",
       "      <td>1.0</td>\n",
       "      <td>0.0</td>\n",
       "      <td>1.0</td>\n",
       "      <td>0.0</td>\n",
       "      <td>0.0</td>\n",
       "      <td>0.0</td>\n",
       "      <td>1.0</td>\n",
       "      <td>0.0</td>\n",
       "      <td>1.0</td>\n",
       "      <td>0.0</td>\n",
       "      <td>0.0</td>\n",
       "      <td>0.0</td>\n",
       "      <td>1.0</td>\n",
       "    </tr>\n",
       "    <tr>\n",
       "      <th>2</th>\n",
       "      <td>1.0</td>\n",
       "      <td>0.0</td>\n",
       "      <td>1.0</td>\n",
       "      <td>0.0</td>\n",
       "      <td>0.0</td>\n",
       "      <td>0.0</td>\n",
       "      <td>0.0</td>\n",
       "      <td>0.0</td>\n",
       "      <td>1.0</td>\n",
       "      <td>0.0</td>\n",
       "      <td>0.0</td>\n",
       "      <td>0.0</td>\n",
       "      <td>1.0</td>\n",
       "    </tr>\n",
       "    <tr>\n",
       "      <th>3</th>\n",
       "      <td>1.0</td>\n",
       "      <td>0.0</td>\n",
       "      <td>1.0</td>\n",
       "      <td>0.0</td>\n",
       "      <td>0.0</td>\n",
       "      <td>0.0</td>\n",
       "      <td>1.0</td>\n",
       "      <td>0.0</td>\n",
       "      <td>1.0</td>\n",
       "      <td>1.0</td>\n",
       "      <td>0.0</td>\n",
       "      <td>0.0</td>\n",
       "      <td>1.0</td>\n",
       "    </tr>\n",
       "    <tr>\n",
       "      <th>4</th>\n",
       "      <td>1.0</td>\n",
       "      <td>0.0</td>\n",
       "      <td>1.0</td>\n",
       "      <td>0.0</td>\n",
       "      <td>0.0</td>\n",
       "      <td>0.0</td>\n",
       "      <td>0.0</td>\n",
       "      <td>0.0</td>\n",
       "      <td>1.0</td>\n",
       "      <td>1.0</td>\n",
       "      <td>0.0</td>\n",
       "      <td>0.0</td>\n",
       "      <td>1.0</td>\n",
       "    </tr>\n",
       "  </tbody>\n",
       "</table>\n",
       "</div>"
      ],
      "text/plain": [
       "   sibsp_N_n0  sibsp_N_n1  parch_N_n0  parch_N_n1  pclass_2  pclass_3  \\\n",
       "0         0.0         1.0         0.0         0.0       0.0       0.0   \n",
       "1         1.0         0.0         1.0         0.0       0.0       0.0   \n",
       "2         1.0         0.0         1.0         0.0       0.0       0.0   \n",
       "3         1.0         0.0         1.0         0.0       0.0       0.0   \n",
       "4         1.0         0.0         1.0         0.0       0.0       0.0   \n",
       "\n",
       "   sex_male  embarked_Q  embarked_S  age_N_n1  age_N_n2  fare_N_n1  fare_N_n2  \n",
       "0       0.0         0.0         1.0       1.0       0.0        0.0        1.0  \n",
       "1       1.0         0.0         1.0       0.0       0.0        0.0        1.0  \n",
       "2       0.0         0.0         1.0       0.0       0.0        0.0        1.0  \n",
       "3       1.0         0.0         1.0       1.0       0.0        0.0        1.0  \n",
       "4       0.0         0.0         1.0       1.0       0.0        0.0        1.0  "
      ]
     },
     "execution_count": 44,
     "metadata": {},
     "output_type": "execute_result"
    }
   ],
   "source": [
    "var_categoricas = ['sibsp_N','parch_N','pclass','sex','embarked','age_N','fare_N']\n",
    "var_descartadas = ['name','cabin','home.dest','ticket']\n",
    "temp = titanic[['sibsp_N','parch_N','pclass','sex','embarked','age_N','fare_N']]\n",
    "titanic_dummie = temp.copy()\n",
    "for column in var_categoricas:\n",
    "    dummie = pd.get_dummies(titanic_dummie[column], prefix = column)\n",
    "    names = list(dummie.columns)\n",
    "    names.remove(names[0])\n",
    "    titanic_dummie = pd.concat([titanic_dummie, dummie[names]], axis = 1)\n",
    "    names = list(titanic_dummie.columns)\n",
    "    names.remove(column)\n",
    "    titanic_dummie = titanic_dummie[names]\n",
    "    \n",
    "titanic_dummie.head(5)"
   ]
  },
  {
   "cell_type": "code",
   "execution_count": 48,
   "metadata": {
    "collapsed": false
   },
   "outputs": [
    {
     "name": "stdout",
     "output_type": "stream",
     "text": [
      "El valor del VIF para la variable sibsp_N_n0 es: 12.7321473029\n",
      "El valor del VIF para la variable sibsp_N_n1 es: 13.6207750327\n",
      "El valor del VIF para la variable parch_N_n0 es: 1.58160836241\n",
      "El valor del VIF para la variable parch_N_n1 es: 1.14954313242\n",
      "El valor del VIF para la variable pclass_2 es: 2.89320645765\n",
      "El valor del VIF para la variable pclass_3 es: 5.18126269613\n",
      "El valor del VIF para la variable sex_male es: 1.11733845088\n",
      "El valor del VIF para la variable embarked_Q es: 1.31259632311\n",
      "El valor del VIF para la variable embarked_S es: 1.40800000251\n",
      "El valor del VIF para la variable age_N_n1 es: 3.15121044175\n",
      "El valor del VIF para la variable age_N_n2 es: 3.15412165843\n",
      "El valor del VIF para la variable fare_N_n1 es: 2.99333691278\n",
      "El valor del VIF para la variable fare_N_n2 es: 2.38673870523\n"
     ]
    }
   ],
   "source": [
    "from sklearn.linear_model import LinearRegression\n",
    "\n",
    "# Borrado de la variable objetivo\n",
    "titanic_vif = titanic_dummie\n",
    "features = list(titanic_vif.columns)\n",
    "titanic_vif = titanic_vif[features]\n",
    "\n",
    "for i in range(len(features)):\n",
    "    var = features[i]\n",
    "    fet = features[:]\n",
    "    fet.remove(var)\n",
    "    \n",
    "    x = titanic_vif[fet]\n",
    "    y = titanic_vif[var]\n",
    "    \n",
    "    model = LinearRegression()\n",
    "    model.fit(x, y)\n",
    "    \n",
    "    vif = 1 / (1 - model.score(x, y))\n",
    "    \n",
    "    print 'El valor del VIF para la variable', var, 'es:', vif"
   ]
  },
  {
   "cell_type": "markdown",
   "metadata": {},
   "source": [
    "Como hay dos variables que superan el valor de 5, las eliminamos y volvermos a ejecutar el VIF."
   ]
  },
  {
   "cell_type": "code",
   "execution_count": 49,
   "metadata": {
    "collapsed": false
   },
   "outputs": [
    {
     "name": "stdout",
     "output_type": "stream",
     "text": [
      "El valor del VIF para la variable parch_N_n0 es: 1.53256610626\n",
      "El valor del VIF para la variable parch_N_n1 es: 1.13212475195\n",
      "El valor del VIF para la variable pclass_2 es: 2.82748435135\n",
      "El valor del VIF para la variable pclass_3 es: 4.8712785471\n",
      "El valor del VIF para la variable sex_male es: 1.10667452868\n",
      "El valor del VIF para la variable embarked_Q es: 1.28408797895\n",
      "El valor del VIF para la variable embarked_S es: 1.40227086809\n",
      "El valor del VIF para la variable age_N_n1 es: 3.03929674931\n",
      "El valor del VIF para la variable age_N_n2 es: 3.06494021241\n",
      "El valor del VIF para la variable fare_N_n1 es: 2.61726284399\n",
      "El valor del VIF para la variable fare_N_n2 es: 2.28116908258\n"
     ]
    }
   ],
   "source": [
    "# Borrado de la variable objetivo\n",
    "titanic_vif = titanic_dummie\n",
    "features = list(titanic_vif.columns)\n",
    "features.remove('sibsp_N_n0')\n",
    "features.remove('sibsp_N_n1')\n",
    "titanic_vif = titanic_vif[features]\n",
    "\n",
    "for i in range(len(features)):\n",
    "    var = features[i]\n",
    "    fet = features[:]\n",
    "    fet.remove(var)\n",
    "    \n",
    "    x = titanic_vif[fet]\n",
    "    y = titanic_vif[var]\n",
    "    \n",
    "    model = LinearRegression()\n",
    "    model.fit(x, y)\n",
    "    \n",
    "    vif = 1 / (1 - model.score(x, y))\n",
    "    \n",
    "    print 'El valor del VIF para la variable', var, 'es:', vif"
   ]
  },
  {
   "cell_type": "markdown",
   "metadata": {},
   "source": [
    "Hemos eliminado todas las variables colineales con el modelo"
   ]
  },
  {
   "cell_type": "markdown",
   "metadata": {},
   "source": [
    "## 4. Revision del Information Value"
   ]
  },
  {
   "cell_type": "markdown",
   "metadata": {},
   "source": [
    "Vamos a revisar cuales son aquellas variables que aportan mas al modelo."
   ]
  },
  {
   "cell_type": "code",
   "execution_count": 53,
   "metadata": {
    "collapsed": false
   },
   "outputs": [
    {
     "name": "stdout",
     "output_type": "stream",
     "text": [
      "Using matplotlib backend: Qt5Agg\n",
      "Populating the interactive namespace from numpy and matplotlib\n"
     ]
    },
    {
     "name": "stderr",
     "output_type": "stream",
     "text": [
      "C:\\Desarrollo\\Anaconda2\\lib\\site-packages\\IPython\\core\\magics\\pylab.py:161: UserWarning: pylab import has clobbered these variables: ['var']\n",
      "`%matplotlib` prevents importing * from pylab and numpy\n",
      "  \"\\n`%matplotlib` prevents importing * from pylab and numpy\"\n"
     ]
    }
   ],
   "source": [
    "%pylab\n",
    "%matplotlib inline"
   ]
  },
  {
   "cell_type": "code",
   "execution_count": 54,
   "metadata": {
    "collapsed": false
   },
   "outputs": [
    {
     "name": "stdout",
     "output_type": "stream",
     "text": [
      "La variable sibsp el IV es 1.63225361139\n",
      "La variable parch el IV es 2.32032070406\n",
      "La variable pclass el IV es 0.67613129015\n",
      "La variable sex el IV es 1.35855179749\n",
      "La variable embarked el IV es 0.791228338157\n"
     ]
    },
    {
     "name": "stderr",
     "output_type": "stream",
     "text": [
      "C:\\Desarrollo\\Anaconda2\\lib\\site-packages\\numpy\\lib\\arraysetops.py:200: FutureWarning: numpy not_equal will not check object identity in the future. The comparison did not return the same result as suggested by the identity (`is`)) and will change.\n",
      "  flag = np.concatenate(([True], aux[1:] != aux[:-1]))\n"
     ]
    }
   ],
   "source": [
    "from sklearn.linear_model.logistic import LogisticRegression\n",
    "\n",
    "#var_categoricas = ['sibsp_N','parch_N','pclass','sex','embarked','age_N','fare_N']\n",
    "var_categoricas = ['sibsp','parch','pclass','sex','embarked']\n",
    "#var_descartadas = ['name','cabin','home.dest','ticket']\n",
    "\n",
    "titanic_IV = titanic[['survived','sibsp','parch','pclass','sex','embarked']]\n",
    "var_target = titanic_IV['survived'] == 0\n",
    "\n",
    "result_IV = []\n",
    "\n",
    "for v_cat in var_categoricas:\n",
    "    var_target = array(var_target)\n",
    "    var_values = array(titanic[v_cat])\n",
    "    var_levels = unique(var_values)\n",
    "\n",
    "    mat_values = numpy.zeros(shape=(len(var_levels),2))\n",
    "\n",
    "    for i in range(len(var_target)):\n",
    "        # Obtención de la posición en los niveles del valor\n",
    "        for j in range(len(var_levels)):\n",
    "            if var_levels[j] == var_values[i]:\n",
    "                pos = j\n",
    "                break\n",
    "\n",
    "        # Estimación del número valores en cada nivel\n",
    "        if var_target[i]:\n",
    "            mat_values[pos][0] += 1\n",
    "        else:\n",
    "            mat_values[pos][1] += 1\n",
    "\n",
    "        # Obtención del IV\n",
    "        IV = 0\n",
    "        for j in range(len(var_levels)):\n",
    "            if mat_values[j][0] > 0 and mat_values[j][1] > 0:\n",
    "                rt = mat_values[j][0] / (mat_values[j][0] + mat_values[j][1])\n",
    "                rf = mat_values[j][1] / (mat_values[j][0] + mat_values[j][1])\n",
    "                IV += (rt - rf) * np.log(rt / rf)\n",
    "        \n",
    "    # Se agrega el IV al listado\n",
    "    result_IV.append(IV)\n",
    "\n",
    "for i in range(len(var_categoricas)):\n",
    "    print \"La variable\", var_categoricas[i], \"el IV es\", result_IV[i]"
   ]
  },
  {
   "cell_type": "markdown",
   "metadata": {},
   "source": [
    "Seleccionamos aquellas varibales con IV por encima del valor de 0,5 que básicamente son todas, por lo que no descartamos ninguna para el modelo. Aplicamos por tanto, el dataset con dummies que obtenuvimos en la parte del VIF para la regresion logistica. "
   ]
  },
  {
   "cell_type": "code",
   "execution_count": 55,
   "metadata": {
    "collapsed": true
   },
   "outputs": [],
   "source": [
    "from sklearn.metrics import accuracy_score, auc, confusion_matrix, f1_score, precision_score, recall_score, roc_curve\n",
    "import pandas as pd\n",
    "\n",
    "def metricas_modelos(y_true, y_pred):\n",
    "    from sklearn.metrics import accuracy_score, auc, confusion_matrix, f1_score, precision_score, recall_score, roc_curve\n",
    "\n",
    "    # Obtención de matriz de confusión\n",
    "    confusion_matrix = confusion_matrix(y_true, y_pred)\n",
    "\n",
    "    print \"La matriz de confusión es \"\n",
    "    print confusion_matrix\n",
    "\n",
    "    print 'Precisión:', accuracy_score(y_true, y_pred)\n",
    "    print 'Exactitud:', precision_score(y_true, y_pred)\n",
    "    print 'Exhaustividad:', recall_score(y_true, y_pred)\n",
    "    print 'F1:', f1_score(y_true, y_pred)\n",
    "\n",
    "    false_positive_rate, recall, thresholds = roc_curve(y_true, y_pred)\n",
    "    roc_auc = auc(false_positive_rate, recall)\n",
    "\n",
    "    print 'AUC:', auc(false_positive_rate, recall)\n",
    "\n",
    "    plot(false_positive_rate, recall, 'b')\n",
    "    plot([0, 1], [0, 1], 'r--')\n",
    "    title('AUC = %0.2f' % roc_auc)"
   ]
  },
  {
   "cell_type": "code",
   "execution_count": 56,
   "metadata": {
    "collapsed": false
   },
   "outputs": [
    {
     "data": {
      "text/html": [
       "<div>\n",
       "<table border=\"1\" class=\"dataframe\">\n",
       "  <thead>\n",
       "    <tr style=\"text-align: right;\">\n",
       "      <th></th>\n",
       "      <th>parch_N_n0</th>\n",
       "      <th>parch_N_n1</th>\n",
       "      <th>pclass_2</th>\n",
       "      <th>pclass_3</th>\n",
       "      <th>sex_male</th>\n",
       "      <th>embarked_Q</th>\n",
       "      <th>embarked_S</th>\n",
       "      <th>age_N_n1</th>\n",
       "      <th>age_N_n2</th>\n",
       "      <th>fare_N_n1</th>\n",
       "      <th>fare_N_n2</th>\n",
       "    </tr>\n",
       "  </thead>\n",
       "  <tbody>\n",
       "    <tr>\n",
       "      <th>0</th>\n",
       "      <td>0.0</td>\n",
       "      <td>0.0</td>\n",
       "      <td>0.0</td>\n",
       "      <td>0.0</td>\n",
       "      <td>0.0</td>\n",
       "      <td>0.0</td>\n",
       "      <td>1.0</td>\n",
       "      <td>1.0</td>\n",
       "      <td>0.0</td>\n",
       "      <td>0.0</td>\n",
       "      <td>1.0</td>\n",
       "    </tr>\n",
       "    <tr>\n",
       "      <th>1</th>\n",
       "      <td>1.0</td>\n",
       "      <td>0.0</td>\n",
       "      <td>0.0</td>\n",
       "      <td>0.0</td>\n",
       "      <td>1.0</td>\n",
       "      <td>0.0</td>\n",
       "      <td>1.0</td>\n",
       "      <td>0.0</td>\n",
       "      <td>0.0</td>\n",
       "      <td>0.0</td>\n",
       "      <td>1.0</td>\n",
       "    </tr>\n",
       "    <tr>\n",
       "      <th>2</th>\n",
       "      <td>1.0</td>\n",
       "      <td>0.0</td>\n",
       "      <td>0.0</td>\n",
       "      <td>0.0</td>\n",
       "      <td>0.0</td>\n",
       "      <td>0.0</td>\n",
       "      <td>1.0</td>\n",
       "      <td>0.0</td>\n",
       "      <td>0.0</td>\n",
       "      <td>0.0</td>\n",
       "      <td>1.0</td>\n",
       "    </tr>\n",
       "    <tr>\n",
       "      <th>3</th>\n",
       "      <td>1.0</td>\n",
       "      <td>0.0</td>\n",
       "      <td>0.0</td>\n",
       "      <td>0.0</td>\n",
       "      <td>1.0</td>\n",
       "      <td>0.0</td>\n",
       "      <td>1.0</td>\n",
       "      <td>1.0</td>\n",
       "      <td>0.0</td>\n",
       "      <td>0.0</td>\n",
       "      <td>1.0</td>\n",
       "    </tr>\n",
       "    <tr>\n",
       "      <th>4</th>\n",
       "      <td>1.0</td>\n",
       "      <td>0.0</td>\n",
       "      <td>0.0</td>\n",
       "      <td>0.0</td>\n",
       "      <td>0.0</td>\n",
       "      <td>0.0</td>\n",
       "      <td>1.0</td>\n",
       "      <td>1.0</td>\n",
       "      <td>0.0</td>\n",
       "      <td>0.0</td>\n",
       "      <td>1.0</td>\n",
       "    </tr>\n",
       "  </tbody>\n",
       "</table>\n",
       "</div>"
      ],
      "text/plain": [
       "   parch_N_n0  parch_N_n1  pclass_2  pclass_3  sex_male  embarked_Q  \\\n",
       "0         0.0         0.0       0.0       0.0       0.0         0.0   \n",
       "1         1.0         0.0       0.0       0.0       1.0         0.0   \n",
       "2         1.0         0.0       0.0       0.0       0.0         0.0   \n",
       "3         1.0         0.0       0.0       0.0       1.0         0.0   \n",
       "4         1.0         0.0       0.0       0.0       0.0         0.0   \n",
       "\n",
       "   embarked_S  age_N_n1  age_N_n2  fare_N_n1  fare_N_n2  \n",
       "0         1.0       1.0       0.0        0.0        1.0  \n",
       "1         1.0       0.0       0.0        0.0        1.0  \n",
       "2         1.0       0.0       0.0        0.0        1.0  \n",
       "3         1.0       1.0       0.0        0.0        1.0  \n",
       "4         1.0       1.0       0.0        0.0        1.0  "
      ]
     },
     "execution_count": 56,
     "metadata": {},
     "output_type": "execute_result"
    }
   ],
   "source": [
    "titanic_vif.head(5)"
   ]
  },
  {
   "cell_type": "code",
   "execution_count": 57,
   "metadata": {
    "collapsed": false
   },
   "outputs": [
    {
     "name": "stdout",
     "output_type": "stream",
     "text": [
      "La matriz de confusión es \n",
      "[[301  88]\n",
      " [126 530]]\n",
      "Precisión: 0.795215311005\n",
      "Exactitud: 0.857605177994\n",
      "Exhaustividad: 0.807926829268\n",
      "F1: 0.832025117739\n",
      "AUC: 0.790852874788\n"
     ]
    },
    {
     "data": {
      "image/png": "[encoded data removed]",
      "text/plain": [
       "<matplotlib.figure.Figure at 0xef38160>"
      ]
     },
     "metadata": {},
     "output_type": "display_data"
    }
   ],
   "source": [
    "classifier = LogisticRegression().fit(titanic_vif, var_target)\n",
    "y_pred     = classifier.predict(titanic_vif)\n",
    "\n",
    "metricas_modelos(y_pred, var_target)"
   ]
  }
 ],
 "metadata": {
  "anaconda-cloud": {},
  "kernelspec": {
   "display_name": "Python [conda root]",
   "language": "python",
   "name": "conda-root-py"
  },
  "language_info": {
   "codemirror_mode": {
    "name": "ipython",
    "version": 2
   },
   "file_extension": ".py",
   "mimetype": "text/x-python",
   "name": "python",
   "nbconvert_exporter": "python",
   "pygments_lexer": "ipython2",
   "version": "2.7.12"
  }
 },
 "nbformat": 4,
 "nbformat_minor": 1
}
