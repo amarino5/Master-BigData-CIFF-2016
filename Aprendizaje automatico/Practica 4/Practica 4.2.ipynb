{
 "cells": [
  {
   "cell_type": "markdown",
   "metadata": {},
   "source": [
    "# Ejercicios Recuperación Aprendizaje Automático."
   ]
  },
  {
   "cell_type": "code",
   "execution_count": 1,
   "metadata": {
    "collapsed": false
   },
   "outputs": [
    {
     "name": "stdout",
     "output_type": "stream",
     "text": [
      "Using matplotlib backend: MacOSX\n",
      "Populating the interactive namespace from numpy and matplotlib\n"
     ]
    }
   ],
   "source": [
    "%pylab\n",
    "%matplotlib inline"
   ]
  },
  {
   "cell_type": "markdown",
   "metadata": {},
   "source": [
    "# 1. Segmentación de datos de redes sociales. (20 puntos)\n",
    "En el archivo “snsdata.csv” se encuentra los términos más utilizados en unos 30.000 perfiles aleatorios de adolescentes de una red social. Importar el archivo y separar el conjunto de datos en dos según el género de los usuarios (F y M). En cada uno de los subconjuntos de datos eliminar el año de graduación ('gradyear'), el género ('gender') y la edad (‘age’).  Utilizando el algoritmo de k-means identificar el número de segmentos óptimos en los que se divide cada subconjunto de datos y obtener los valores de los centroides."
   ]
  },
  {
   "cell_type": "code",
   "execution_count": 2,
   "metadata": {
    "collapsed": false
   },
   "outputs": [],
   "source": [
    "import pandas as pd\n",
    "\n",
    "sns_data = pd.read_csv('snsdata.csv', sep = ',')"
   ]
  },
  {
   "cell_type": "markdown",
   "metadata": {},
   "source": [
    "En primer lugar, como indica en el enunciado, se ha de separar el conjunto en base al género ('F' y 'M') y eliminar las columnas año de graduación ('gradyear'), el género ('gender') y la edad ('age')."
   ]
  },
  {
   "cell_type": "code",
   "execution_count": 3,
   "metadata": {
    "collapsed": false
   },
   "outputs": [],
   "source": [
    "sns_data_F = sns_data[sns_data.gender == 'F']\n",
    "sns_data_M = sns_data[sns_data.gender == 'M']\n",
    "\n",
    "col_names = list(sns_data.columns)\n",
    "col_names.remove('gradyear')\n",
    "col_names.remove('gender')\n",
    "col_names.remove('age')\n",
    "\n",
    "sns_data_F = sns_data_F[col_names]\n",
    "sns_data_M = sns_data_M[col_names]"
   ]
  },
  {
   "cell_type": "markdown",
   "metadata": {},
   "source": [
    "Ahora se cargar los métodos para la selección de la cantidad optima de clúster."
   ]
  },
  {
   "cell_type": "code",
   "execution_count": 4,
   "metadata": {
    "collapsed": true
   },
   "outputs": [],
   "source": [
    "from sklearn.cluster import KMeans\n",
    "from sklearn.metrics import silhouette_score\n",
    "from scipy.spatial.distance import cdist\n",
    "\n",
    "def plot_distorsion(data, figure_name, max_k = 10, n_init = 10):\n",
    "    meandistortions = []\n",
    "\n",
    "    for k in range(1, max_k):\n",
    "        kmeans = KMeans(n_clusters = k, n_init = n_init).fit(data)\n",
    "        meandistortions.append(sum(np.min(cdist(data, kmeans.cluster_centers_, 'euclidean'), axis = 1)) / data.shape[0])\n",
    "\n",
    "    plot(range(1, max_k), meandistortions, 'bx-')\n",
    "    xlabel('k')\n",
    "    ylabel('Distorsion promedio')\n",
    "    title(figure_name)"
   ]
  },
  {
   "cell_type": "markdown",
   "metadata": {
    "collapsed": false
   },
   "source": [
    "Se analiza en primer lugar el grupo de mujeres"
   ]
  },
  {
   "cell_type": "code",
   "execution_count": 5,
   "metadata": {
    "collapsed": false
   },
   "outputs": [
    {
     "data": {
      "image/png": "[encoded data removed]",
      "text/plain": [
       "<matplotlib.figure.Figure at 0x115014850>"
      ]
     },
     "metadata": {},
     "output_type": "display_data"
    }
   ],
   "source": [
    "plot_distorsion(sns_data_F, \"SNS Female\", max_k = 15)"
   ]
  },
  {
   "cell_type": "markdown",
   "metadata": {},
   "source": [
    "El método de la distorsión indica que el número de clusters para este conjunto de datos es 7. La posición de los centroides se puede obtener ahora como:"
   ]
  },
  {
   "cell_type": "code",
   "execution_count": 6,
   "metadata": {
    "collapsed": false
   },
   "outputs": [
    {
     "data": {
      "text/plain": [
       "array([[  2.61138321e+01,   2.76811349e-01,   2.19557507e-01,\n",
       "          2.62793447e-01,   1.92028374e-01,   1.98615099e-01,\n",
       "          1.56223611e-01,   1.37307887e-01,   6.85694984e-02,\n",
       "          9.22141530e-02,   1.33085627e-01,   4.00439115e-01,\n",
       "          2.37628779e-01,   1.56054720e-01,   1.49467995e-01,\n",
       "          1.15014356e-01,   5.03800034e-01,   3.43016382e-01,\n",
       "          4.39115014e-02,   8.23847323e-01,   2.62455666e-01,\n",
       "          4.78466475e-01,   2.70055734e-01,   1.10454315e-01,\n",
       "          2.21246411e-02,   4.97213309e-01,   1.39503462e-01,\n",
       "          9.94764398e-02,   2.81709171e-01,   4.42661713e-01,\n",
       "          1.72268198e-01,   7.17784158e-02,   5.40449248e-02,\n",
       "          1.90846141e-01,   1.25654450e-01,   9.60986320e-02,\n",
       "          5.94494173e-02],\n",
       "       [  4.45562385e+00,   2.18268090e-01,   1.84945541e-01,\n",
       "          1.93141378e-01,   1.61652108e-01,   1.30702038e-01,\n",
       "          1.31780438e-01,   1.05898846e-01,   5.80179014e-02,\n",
       "          8.14191739e-02,   1.20565081e-01,   3.34411733e-01,\n",
       "          2.29483447e-01,   1.48819152e-01,   1.29300119e-01,\n",
       "          1.13447644e-01,   4.24242424e-01,   2.67874474e-01,\n",
       "          3.48323089e-02,   7.22419929e-01,   2.27110967e-01,\n",
       "          4.27693303e-01,   2.20424889e-01,   9.28502103e-02,\n",
       "          1.76857543e-02,   4.70074410e-01,   1.16035803e-01,\n",
       "          9.89970883e-02,   2.55904238e-01,   3.77008519e-01,\n",
       "          1.58848269e-01,   6.11452604e-02,   4.58319853e-02,\n",
       "          1.83004421e-01,   1.08163485e-01,   9.31737302e-02,\n",
       "          7.06351774e-02],\n",
       "       [  5.08122271e+01,   3.10814282e-01,   2.49422040e-01,\n",
       "          2.38119702e-01,   2.80760339e-01,   2.05753917e-01,\n",
       "          1.77241202e-01,   1.34086823e-01,   8.29694323e-02,\n",
       "          8.52812741e-02,   1.57975854e-01,   4.46185461e-01,\n",
       "          2.47110198e-01,   1.71846905e-01,   1.71590033e-01,\n",
       "          1.30233753e-01,   5.31209864e-01,   3.21602877e-01,\n",
       "          4.82918058e-02,   8.12997688e-01,   2.87182122e-01,\n",
       "          5.52016440e-01,   3.20832263e-01,   1.27408169e-01,\n",
       "          2.15771898e-02,   5.17595685e-01,   1.48985358e-01,\n",
       "          1.99589006e-01,   3.19034164e-01,   4.88312356e-01,\n",
       "          1.94451580e-01,   1.01207295e-01,   7.62907783e-02,\n",
       "          2.03185204e-01,   1.41792962e-01,   9.22167994e-02,\n",
       "          6.88415104e-02],\n",
       "       [  1.34635884e+02,   4.07651715e-01,   3.00791557e-01,\n",
       "          2.45382586e-01,   3.15303430e-01,   2.32189974e-01,\n",
       "          1.64907652e-01,   2.09762533e-01,   8.57519789e-02,\n",
       "          7.78364116e-02,   1.38522427e-01,   5.38258575e-01,\n",
       "          2.51978892e-01,   1.99208443e-01,   2.05804749e-01,\n",
       "          1.26649077e-01,   6.13456464e-01,   2.58575198e-01,\n",
       "          3.43007916e-02,   8.11345646e-01,   2.33509235e-01,\n",
       "          6.63588391e-01,   4.01055409e-01,   1.51715040e-01,\n",
       "          3.03430079e-02,   5.92348285e-01,   1.86015831e-01,\n",
       "          1.55672823e-01,   4.68337731e-01,   5.48812665e-01,\n",
       "          1.93931398e-01,   1.51715040e-01,   9.63060686e-02,\n",
       "          2.25593668e-01,   1.41160950e-01,   1.24010554e-01,\n",
       "          6.20052770e-02],\n",
       "       [  2.31025806e+02,   3.22580645e-01,   2.25806452e-01,\n",
       "          2.96774194e-01,   2.12903226e-01,   2.06451613e-01,\n",
       "          2.12903226e-01,   1.61290323e-01,   1.22580645e-01,\n",
       "          9.67741935e-02,   1.35483871e-01,   5.09677419e-01,\n",
       "          2.25806452e-01,   2.00000000e-01,   1.80645161e-01,\n",
       "          1.22580645e-01,   4.58064516e-01,   3.09677419e-01,\n",
       "          7.09677419e-02,   6.70967742e-01,   2.00000000e-01,\n",
       "          5.93548387e-01,   2.90322581e-01,   1.09677419e-01,\n",
       "         -2.42861287e-17,   6.96774194e-01,   1.74193548e-01,\n",
       "          1.35483871e-01,   3.35483871e-01,   5.93548387e-01,\n",
       "          2.00000000e-01,   1.29032258e-01,   1.61290323e-01,\n",
       "          1.93548387e-01,   1.67741935e-01,   1.41935484e-01,\n",
       "          5.80645161e-02],\n",
       "       [  8.26076135e+01,   3.26500732e-01,   2.81112738e-01,\n",
       "          2.91361640e-01,   2.64031235e-01,   2.11810639e-01,\n",
       "          1.65934602e-01,   1.96193265e-01,   1.04441191e-01,\n",
       "          7.61346999e-02,   1.46412884e-01,   4.52903856e-01,\n",
       "          1.65446559e-01,   1.75207418e-01,   1.82528062e-01,\n",
       "          1.16642265e-01,   5.82235237e-01,   2.94289898e-01,\n",
       "          4.29477794e-02,   7.67691557e-01,   2.72327965e-01,\n",
       "          5.73938507e-01,   3.48950708e-01,   1.48365056e-01,\n",
       "          2.63543192e-02,   5.08540752e-01,   1.45924841e-01,\n",
       "          1.24450952e-01,   3.57735481e-01,   5.41727672e-01,\n",
       "          1.67398731e-01,   1.12249878e-01,   8.10151293e-02,\n",
       "          1.65934602e-01,   1.25915081e-01,   8.29673011e-02,\n",
       "          5.07564666e-02],\n",
       "       [  6.28000000e+02,   2.00000000e-01,  -2.77555756e-17,\n",
       "          0.00000000e+00,   2.00000000e-01,   1.20000000e+00,\n",
       "          0.00000000e+00,   1.80000000e+00,   0.00000000e+00,\n",
       "          0.00000000e+00,   2.00000000e-01,   4.00000000e-01,\n",
       "          0.00000000e+00,   4.00000000e-01,   2.00000000e-01,\n",
       "          0.00000000e+00,   1.80000000e+00,   4.00000000e-01,\n",
       "          0.00000000e+00,   1.00000000e+00,   0.00000000e+00,\n",
       "          8.00000000e-01,   0.00000000e+00,   0.00000000e+00,\n",
       "          0.00000000e+00,   4.00000000e-01,   2.00000000e-01,\n",
       "          0.00000000e+00,   0.00000000e+00,   1.40000000e+00,\n",
       "          0.00000000e+00,   2.00000000e-01,   2.00000000e-01,\n",
       "          0.00000000e+00,   2.00000000e-01,   0.00000000e+00,\n",
       "          0.00000000e+00]])"
      ]
     },
     "execution_count": 6,
     "metadata": {},
     "output_type": "execute_result"
    }
   ],
   "source": [
    "kmeans = KMeans(n_clusters = 7, n_init = 10).fit(sns_data_F)\n",
    "kmeans.cluster_centers_"
   ]
  },
  {
   "cell_type": "markdown",
   "metadata": {},
   "source": [
    "Ahora se analiza el grupo de hombres"
   ]
  },
  {
   "cell_type": "code",
   "execution_count": 7,
   "metadata": {
    "collapsed": false
   },
   "outputs": [
    {
     "data": {
      "image/png": "[encoded data removed]",
      "text/plain": [
       "<matplotlib.figure.Figure at 0x1152039d0>"
      ]
     },
     "metadata": {},
     "output_type": "display_data"
    }
   ],
   "source": [
    "plot_distorsion(sns_data_M, \"SNS Male\", max_k = 15)"
   ]
  },
  {
   "cell_type": "markdown",
   "metadata": {
    "collapsed": true
   },
   "source": [
    "El método de la distorsión indica que el número de clusters para este conjunto de datos es 4. La posición de los centroides se puede obtener ahora como:"
   ]
  },
  {
   "cell_type": "code",
   "execution_count": 8,
   "metadata": {
    "collapsed": false
   },
   "outputs": [
    {
     "data": {
      "text/plain": [
       "array([[  7.92305325e+00,   2.87473069e-01,   4.38288704e-01,\n",
       "          1.91443521e-01,   5.84795322e-03,   2.73930440e-02,\n",
       "          7.60233918e-02,   7.69467528e-03,   2.45614035e-01,\n",
       "          8.46414281e-02,   1.92366882e-01,   6.06340412e-02,\n",
       "          1.56355802e-01,   7.97168359e-02,   4.86303478e-02,\n",
       "          5.07848569e-02,   1.89596799e-01,   3.05940289e-01,\n",
       "          4.12434595e-02,   6.33425669e-01,   2.26839027e-01,\n",
       "          4.03508772e-01,   1.67436134e-01,   1.08648815e-01,\n",
       "          2.49307479e-02,   1.75130809e-01,   3.04709141e-02,\n",
       "          2.00061557e-02,   1.11726685e-01,   3.93967375e-02,\n",
       "          6.55586334e-02,   2.52385349e-02,   1.81594337e-02,\n",
       "          1.69898430e-01,   1.03416436e-01,   6.58664204e-02,\n",
       "          5.60172361e-02],\n",
       "       [  4.13470919e+01,   3.50218887e-01,   4.65290807e-01,\n",
       "          2.27642276e-01,   1.00062539e-02,   4.31519700e-02,\n",
       "          8.81801126e-02,   6.87929956e-03,   2.85803627e-01,\n",
       "          1.20700438e-01,   2.12007505e-01,   8.81801126e-02,\n",
       "          1.65728580e-01,   8.13008130e-02,   5.25328330e-02,\n",
       "          7.19199500e-02,   2.27016886e-01,   4.28392745e-01,\n",
       "          6.44152595e-02,   8.02376485e-01,   2.88305191e-01,\n",
       "          4.35272045e-01,   2.23264540e-01,   1.50719199e-01,\n",
       "          2.87679800e-02,   1.84490306e-01,   3.18949343e-02,\n",
       "          3.06441526e-02,   1.60100063e-01,   6.37898687e-02,\n",
       "          8.00500313e-02,   4.12757974e-02,   2.50156348e-02,\n",
       "          1.80737961e-01,   1.03189493e-01,   8.38023765e-02,\n",
       "          5.12820513e-02],\n",
       "       [  9.97768817e+01,   4.08602151e-01,   4.67741935e-01,\n",
       "          2.98387097e-01,   3.49462366e-02,   6.18279570e-02,\n",
       "          7.79569892e-02,   2.41935484e-02,   4.32795699e-01,\n",
       "          1.90860215e-01,   2.12365591e-01,   8.87096774e-02,\n",
       "          1.74731183e-01,   1.10215054e-01,   7.79569892e-02,\n",
       "          6.45161290e-02,   2.55376344e-01,   4.16666667e-01,\n",
       "          5.10752688e-02,   7.39247312e-01,   3.30645161e-01,\n",
       "          6.07526882e-01,   3.25268817e-01,   1.58602151e-01,\n",
       "          4.03225806e-02,   2.12365591e-01,   2.95698925e-02,\n",
       "          2.95698925e-02,   2.44623656e-01,   6.72043011e-02,\n",
       "          9.67741935e-02,   6.18279570e-02,   5.37634409e-02,\n",
       "          2.36559140e-01,   1.12903226e-01,   1.18279570e-01,\n",
       "          6.45161290e-02],\n",
       "       [  5.96500000e+02,   5.00000000e-01,   0.00000000e+00,\n",
       "          0.00000000e+00,   0.00000000e+00,   0.00000000e+00,\n",
       "          0.00000000e+00,   0.00000000e+00,   1.00000000e+00,\n",
       "          0.00000000e+00,   0.00000000e+00,   5.00000000e-01,\n",
       "          0.00000000e+00,   0.00000000e+00,   0.00000000e+00,\n",
       "          2.00000000e+00,   0.00000000e+00,   0.00000000e+00,\n",
       "          0.00000000e+00,   0.00000000e+00,   0.00000000e+00,\n",
       "          0.00000000e+00,   0.00000000e+00,   0.00000000e+00,\n",
       "          5.00000000e-01,   0.00000000e+00,   0.00000000e+00,\n",
       "          1.00000000e+00,   0.00000000e+00,   0.00000000e+00,\n",
       "          0.00000000e+00,   0.00000000e+00,   0.00000000e+00,\n",
       "          1.00000000e+00,   5.00000000e-01,   5.00000000e-01,\n",
       "          0.00000000e+00]])"
      ]
     },
     "execution_count": 8,
     "metadata": {},
     "output_type": "execute_result"
    }
   ],
   "source": [
    "kmeans = KMeans(n_clusters = 4, n_init = 10).fit(sns_data_M)\n",
    "kmeans.cluster_centers_"
   ]
  },
  {
   "cell_type": "markdown",
   "metadata": {},
   "source": [
    "# 2. Componentes principales. (20 puntos)\n",
    "En el archivo “concrete.csv” se encuentra los datos de diferentes mezclas de hormigón. Utilizar el análisis de componentes principales y obtener el número de componentes principales con los que se puede explicar el 50%, 75% y 90% de la varianza. Obtener el porcentaje de la varianza que explica la primera componente principal."
   ]
  },
  {
   "cell_type": "code",
   "execution_count": 9,
   "metadata": {
    "collapsed": true
   },
   "outputs": [],
   "source": [
    "import pandas as pd\n",
    "\n",
    "sns_data = pd.read_csv('concrete.csv', sep = ',')"
   ]
  },
  {
   "cell_type": "code",
   "execution_count": 10,
   "metadata": {
    "collapsed": false,
    "scrolled": true
   },
   "outputs": [
    {
     "name": "stdout",
     "output_type": "stream",
     "text": [
      "El 50% de la varianza de las mezclas se puede explicar con 2 variables\n",
      "El 75% de la varianza de las mezclas se puede explicar con 3 variables\n",
      "El 90% de la varianza de las mezclas se puede explicar con 5 variables\n",
      "\n",
      "La primera componente principal explicar el 32.5%\n"
     ]
    }
   ],
   "source": [
    "from sklearn.decomposition import PCA\n",
    "\n",
    "pca = PCA(n_components = None)\n",
    "pca.fit_transform(sns_data)\n",
    "\n",
    "print \"El 50% de la varianza de las mezclas se puede explicar con\", (cumsum(pca.explained_variance_ratio_) > 0.50).tolist().index(True) + 1,\"variables\"\n",
    "print \"El 75% de la varianza de las mezclas se puede explicar con\", (cumsum(pca.explained_variance_ratio_) > 0.75).tolist().index(True) + 1,\"variables\"\n",
    "print \"El 90% de la varianza de las mezclas se puede explicar con\", (cumsum(pca.explained_variance_ratio_) > 0.90).tolist().index(True) + 1,\"variables\"\n",
    "print\n",
    "print \"La primera componente principal explicar el %2.1f%%\" % (pca.explained_variance_ratio_[0] * 100)"
   ]
  },
  {
   "cell_type": "markdown",
   "metadata": {},
   "source": [
    "# 3. Regresión de una función con Theano. (20 puntos)\n",
    "Crear un conjunto de datos utilizando el siguiente código:\n",
    "\n",
    "    trX = np.linspace(-1, 1, 101)\n",
    "    trY = np.linspace(-1, 1, 101)\n",
    "    for i in range(len(trY)):\n",
    "        trY[i] = math.log(1 + 0.5 * abs(trX[i])) + trX[i] / 3 + np.random.randn() * 0.033\n",
    "\n",
    "Ahora utilizar Theano para obtener los parámetros w_0 y w_1 del siguiente modelo\n",
    "$$ y = \\log(1 + w_0  |x|) + w_1  x, $$\n",
    "utilizando los datos generados anteriormente.\n"
   ]
  },
  {
   "cell_type": "markdown",
   "metadata": {
    "collapsed": false
   },
   "source": [
    "Se crea el conjunto de datos indicado"
   ]
  },
  {
   "cell_type": "code",
   "execution_count": 11,
   "metadata": {
    "collapsed": false
   },
   "outputs": [],
   "source": [
    "trX = np.linspace(-1, 1, 101)\n",
    "trY = np.linspace(-1, 1, 101)\n",
    "for i in range(len(trY)):\n",
    "    trY[i] = math.log(1 + 0.5 * abs(trX[i])) + trX[i] / 3 + np.random.randn() * 0.033"
   ]
  },
  {
   "cell_type": "code",
   "execution_count": 12,
   "metadata": {
    "collapsed": false
   },
   "outputs": [
    {
     "name": "stdout",
     "output_type": "stream",
     "text": [
      "En el paso  0  w0 =  0.200200648854  y w1 =  0.17042622407\n",
      "En el paso  1  w0 =  0.305861063617  y w1 =  0.25725325323\n",
      "En el paso  2  w0 =  0.370077242183  y w1 =  0.299800776342\n",
      "En el paso  3  w0 =  0.411438084645  y w1 =  0.320150217974\n",
      "En el paso  4  w0 =  0.438860446523  y w1 =  0.329610692819\n",
      "En el paso  5  w0 =  0.457333123187  y w1 =  0.333826642823\n",
      "En el paso  6  w0 =  0.469893044163  y w1 =  0.335572969951\n",
      "En el paso  7  w0 =  0.478481027493  y w1 =  0.336194236297\n",
      "En el paso  8  w0 =  0.484373807735  y w1 =  0.336330167367\n",
      "En el paso  9  w0 =  0.488426241968  y w1 =  0.336277220829\n"
     ]
    }
   ],
   "source": [
    "import theano\n",
    "import theano.tensor as T\n",
    "\n",
    "X = T.scalar()\n",
    "Y = T.scalar()\n",
    "\n",
    "def model(X, w0, w1):\n",
    "    return T.log(1 + w0 * abs(X)) + w1 * X\n",
    "\n",
    "w0 = theano.shared(np.asarray(0., dtype=theano.config.floatX))\n",
    "w1 = theano.shared(np.asarray(0., dtype=theano.config.floatX))\n",
    "y = model(X, w0, w1)\n",
    "\n",
    "cost = T.mean(T.sqr(y - Y))\n",
    "gradient0 = T.grad(cost = cost, wrt = w0)\n",
    "gradient1 = T.grad(cost = cost, wrt = w1)\n",
    "updates = [[w0, w0 - gradient0 * 0.01], [w1, w1 - gradient1 * 0.01]]\n",
    "\n",
    "train = theano.function(inputs = [X, Y], outputs = cost, updates = updates)\n",
    "\n",
    "for i in range(10):\n",
    "    for x, y in zip(trX, trY):\n",
    "        train(x, y)\n",
    "        \n",
    "    print \"En el paso \", i, \" w0 = \", w0.get_value(), \" y w1 = \", w1.get_value()"
   ]
  }
 ],
 "metadata": {
  "anaconda-cloud": {},
  "kernelspec": {
   "display_name": "Python [Root]",
   "language": "python",
   "name": "Python [Root]"
  },
  "language_info": {
   "codemirror_mode": {
    "name": "ipython",
    "version": 2
   },
   "file_extension": ".py",
   "mimetype": "text/x-python",
   "name": "python",
   "nbconvert_exporter": "python",
   "pygments_lexer": "ipython2",
   "version": "2.7.12"
  }
 },
 "nbformat": 4,
 "nbformat_minor": 0
}
