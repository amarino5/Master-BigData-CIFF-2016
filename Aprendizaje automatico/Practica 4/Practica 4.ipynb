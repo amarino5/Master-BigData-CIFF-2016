{
 "cells": [
  {
   "cell_type": "markdown",
   "metadata": {},
   "source": [
    "# Ejercicios Recuperación Aprendizaje Automático."
   ]
  },
  {
   "cell_type": "code",
   "execution_count": 1,
   "metadata": {
    "collapsed": false
   },
   "outputs": [
    {
     "name": "stdout",
     "output_type": "stream",
     "text": [
      "Using matplotlib backend: Qt4Agg\n",
      "Populating the interactive namespace from numpy and matplotlib\n"
     ]
    }
   ],
   "source": [
    "%pylab\n",
    "%matplotlib inline"
   ]
  },
  {
   "cell_type": "markdown",
   "metadata": {},
   "source": [
    "# 1. Reglas de asociación. (20 puntos)\n",
    "En el “groceries.csv” contiene las transacciones recogidas durante un mes en una tienda de comestibles. En cada una de las filas de este archivo se encuentran los artículos comprados de forma conjunta por los diferentes clientes. Obtener las lista de artículos que tiene un soporte mínimo de 0,15. Obtener también las reglas de asociación que se pueden deducir de este conjunto de datos con un soporte mínimo de 0,05 y confianza de 0,25.\n",
    "\n",
    "La importación del archivo se puede realizar utilizando el siguiente código:\n",
    "\n",
    "    import csv\n",
    "\n",
    "    groceries =  []\n",
    "    groceries_file = csv.reader(open(\"groceries.csv\", \"rb\"))\n",
    "\n",
    "    for row in groceries_file:\n",
    "        groceries.append(row)"
   ]
  },
  {
   "cell_type": "markdown",
   "metadata": {},
   "source": [
    "La importación de los datos se realiza utilizando el código suministrado"
   ]
  },
  {
   "cell_type": "code",
   "execution_count": 2,
   "metadata": {
    "collapsed": false
   },
   "outputs": [],
   "source": [
    "import csv\n",
    "\n",
    "groceries =  []\n",
    "groceries_file = csv.reader(open(\"groceries.csv\", \"rb\"))\n",
    "\n",
    "for row in groceries_file:\n",
    "    groceries.append(row)"
   ]
  },
  {
   "cell_type": "markdown",
   "metadata": {},
   "source": [
    "Se obtienen el listado de productos con un soporte mínimo se 0,15. "
   ]
  },
  {
   "cell_type": "code",
   "execution_count": 3,
   "metadata": {
    "collapsed": false
   },
   "outputs": [
    {
     "name": "stdout",
     "output_type": "stream",
     "text": [
      "{soda}:  sup = 0.174\n",
      "{whole milk}:  sup = 0.256\n",
      "{other vegetables}:  sup = 0.193\n",
      "{rolls/buns}:  sup = 0.184\n"
     ]
    }
   ],
   "source": [
    "import apriori\n",
    "F = apriori.apriori(groceries, min_support = 0.15, verbose = True)"
   ]
  },
  {
   "cell_type": "markdown",
   "metadata": {},
   "source": [
    "Para obtener las reglas de asociación indicadas se ha de obtener primero el listado de productos con un soporte de 0,05"
   ]
  },
  {
   "cell_type": "code",
   "execution_count": 4,
   "metadata": {
    "collapsed": false
   },
   "outputs": [
    {
     "name": "stdout",
     "output_type": "stream",
     "text": [
      "{citrus fruit}:  sup = 0.083\n",
      "{curd}:  sup = 0.053\n",
      "{root vegetables}:  sup = 0.109\n",
      "{shopping bags}:  sup = 0.099\n",
      "{bottled beer}:  sup = 0.081\n",
      "{butter}:  sup = 0.055\n",
      "{newspapers}:  sup = 0.08\n",
      "{napkins}:  sup = 0.052\n",
      "{pip fruit}:  sup = 0.076\n",
      "{domestic eggs}:  sup = 0.063\n",
      "{bottled water}:  sup = 0.111\n",
      "{tropical fruit}:  sup = 0.105\n",
      "{soda}:  sup = 0.174\n",
      "{whole milk}:  sup = 0.256\n",
      "{other vegetables}:  sup = 0.193\n",
      "{canned beer}:  sup = 0.078\n",
      "{frankfurter}:  sup = 0.059\n",
      "{sausage}:  sup = 0.094\n",
      "{yogurt}:  sup = 0.14\n",
      "{pastry}:  sup = 0.089\n",
      "{margarine}:  sup = 0.059\n",
      "{coffee}:  sup = 0.058\n",
      "{brown bread}:  sup = 0.065\n",
      "{fruit/vegetable juice}:  sup = 0.072\n",
      "{whipped/sour cream}:  sup = 0.072\n",
      "{pork}:  sup = 0.058\n",
      "{rolls/buns}:  sup = 0.184\n",
      "{beef}:  sup = 0.052\n",
      "{whole milk, yogurt}:  sup = 0.056\n",
      "{whole milk, rolls/buns}:  sup = 0.057\n",
      "{whole milk, other vegetables}:  sup = 0.075\n"
     ]
    }
   ],
   "source": [
    "F, soporte = apriori.apriori(groceries, min_support = 0.05, verbose = True)"
   ]
  },
  {
   "cell_type": "markdown",
   "metadata": {},
   "source": [
    "Siendo posible obtener ahora las reglas de asociación"
   ]
  },
  {
   "cell_type": "code",
   "execution_count": 5,
   "metadata": {
    "collapsed": false
   },
   "outputs": [
    {
     "name": "stdout",
     "output_type": "stream",
     "text": [
      "{yogurt} ---> {whole milk}:  conf = 0.402, sup = 0.056\n",
      "{rolls/buns} ---> {whole milk}:  conf = 0.308, sup = 0.057\n",
      "{other vegetables} ---> {whole milk}:  conf = 0.387, sup = 0.075\n",
      "{whole milk} ---> {other vegetables}:  conf = 0.293, sup = 0.075\n"
     ]
    }
   ],
   "source": [
    "H = apriori.generate_rules(F, soporte, min_confidence = 0.25, verbose = True)"
   ]
  },
  {
   "cell_type": "markdown",
   "metadata": {},
   "source": [
    "# 2. Segmentación de datos de redes sociales. (20 puntos)\n",
    "En el archivo “snsdata.csv” se encuentra los términos más utilizados en unos 30.000 perfiles aleatorios de adolescentes de una red social. Importar el archivo y separar el conjunto de datos en dos según el género de los usuarios (F y M). En cada uno de los subconjuntos de datos eliminar el año de graduación ('gradyear'), el género ('gender') y la edad (‘age’).  Utilizando el algoritmo de k-means identificar el número de segmentos óptimos en los que se divide cada subconjunto de datos y obtener los valores de los centroides."
   ]
  },
  {
   "cell_type": "code",
   "execution_count": 6,
   "metadata": {
    "collapsed": false
   },
   "outputs": [],
   "source": [
    "import pandas as pd\n",
    "\n",
    "sns_data = pd.read_csv('snsdata.csv', sep = ',')"
   ]
  },
  {
   "cell_type": "markdown",
   "metadata": {},
   "source": [
    "En primer lugar, como indica en el enunciado, se ha de separar el conjunto en base al género ('F' y 'M') y eliminar las columnas año de graduación ('gradyear'), el género ('gender') y la edad ('age')."
   ]
  },
  {
   "cell_type": "code",
   "execution_count": 7,
   "metadata": {
    "collapsed": false
   },
   "outputs": [],
   "source": [
    "sns_data_F = sns_data[sns_data.gender == 'F']\n",
    "sns_data_M = sns_data[sns_data.gender == 'M']\n",
    "\n",
    "col_names = list(sns_data.columns)\n",
    "col_names.remove('gradyear')\n",
    "col_names.remove('gender')\n",
    "col_names.remove('age')\n",
    "\n",
    "sns_data_F = sns_data_F[col_names]\n",
    "sns_data_M = sns_data_M[col_names]"
   ]
  },
  {
   "cell_type": "markdown",
   "metadata": {},
   "source": [
    "Ahora se cargar los métodos para la selección de la cantidad optima de clúster."
   ]
  },
  {
   "cell_type": "code",
   "execution_count": 8,
   "metadata": {
    "collapsed": true
   },
   "outputs": [],
   "source": [
    "from sklearn.cluster import KMeans\n",
    "from sklearn.metrics import silhouette_score\n",
    "from scipy.spatial.distance import cdist\n",
    "\n",
    "def plot_distorsion(data, figure_name, max_k = 10, n_init = 10):\n",
    "    meandistortions = []\n",
    "\n",
    "    for k in range(1, max_k):\n",
    "        kmeans = KMeans(n_clusters = k, n_init = n_init).fit(data)\n",
    "        meandistortions.append(sum(np.min(cdist(data, kmeans.cluster_centers_, 'euclidean'), axis = 1)) / data.shape[0])\n",
    "\n",
    "    plot(range(1, max_k), meandistortions, 'bx-')\n",
    "    xlabel('k')\n",
    "    ylabel('Distorsion promedio')\n",
    "    title(figure_name)"
   ]
  },
  {
   "cell_type": "markdown",
   "metadata": {
    "collapsed": false
   },
   "source": [
    "Se analiza en primer lugar el grupo de mujeres"
   ]
  },
  {
   "cell_type": "code",
   "execution_count": 9,
   "metadata": {
    "collapsed": false
   },
   "outputs": [
    {
     "data": {
      "image/png": "[encoded data removed]",
      "text/plain": [
       "<matplotlib.figure.Figure at 0x7f0cde661d90>"
      ]
     },
     "metadata": {},
     "output_type": "display_data"
    }
   ],
   "source": [
    "plot_distorsion(sns_data_F, \"SNS Female\", max_k = 15)"
   ]
  },
  {
   "cell_type": "markdown",
   "metadata": {},
   "source": [
    "El método de la distorsión indica que el número de clusters para este conjunto de datos es 7. La posición de los centroides se puede obtener ahora como:"
   ]
  },
  {
   "cell_type": "code",
   "execution_count": 10,
   "metadata": {
    "collapsed": false
   },
   "outputs": [
    {
     "data": {
      "text/plain": [
       "array([[  4.81155936e+00,   2.18645485e-01,   1.86350334e-01,\n",
       "          1.94293478e-01,   1.60326087e-01,   1.31688963e-01,\n",
       "          1.32420569e-01,   1.06396321e-01,   5.82148829e-02,\n",
       "          8.27759197e-02,   1.21969064e-01,   3.37583612e-01,\n",
       "          2.31605351e-01,   1.48620401e-01,   1.31688963e-01,\n",
       "          1.14653010e-01,   4.24540134e-01,   2.70589465e-01,\n",
       "          3.54306020e-02,   7.29096990e-01,   2.28887960e-01,\n",
       "          4.27362040e-01,   2.23035117e-01,   9.26003344e-02,\n",
       "          1.80811037e-02,   4.78783445e-01,   1.17161371e-01,\n",
       "          9.98118729e-02,   2.54807692e-01,   3.79389632e-01,\n",
       "          1.59594482e-01,   6.25000000e-02,   4.66137124e-02,\n",
       "          1.84051003e-01,   1.10054348e-01,   9.38545151e-02,\n",
       "          7.05476589e-02],\n",
       "       [  1.42316456e+02,   3.89240506e-01,   3.03797468e-01,\n",
       "          2.13607595e-01,   3.35443038e-01,   2.54746835e-01,\n",
       "          1.70886076e-01,   2.16772152e-01,   8.38607595e-02,\n",
       "          9.01898734e-02,   1.26582278e-01,   5.33227848e-01,\n",
       "          2.37341772e-01,   2.04113924e-01,   2.07278481e-01,\n",
       "          1.25000000e-01,   6.37658228e-01,   2.68987342e-01,\n",
       "          4.11392405e-02,   8.51265823e-01,   2.18354430e-01,\n",
       "          6.58227848e-01,   4.00316456e-01,   1.39240506e-01,\n",
       "          2.84810127e-02,   5.37974684e-01,   1.86708861e-01,\n",
       "          1.39240506e-01,   4.35126582e-01,   5.69620253e-01,\n",
       "          1.85126582e-01,   1.34493671e-01,   9.65189873e-02,\n",
       "          2.19936709e-01,   1.36075949e-01,   1.18670886e-01,\n",
       "          6.32911392e-02],\n",
       "       [  5.45004001e+01,   3.16884503e-01,   2.52333956e-01,\n",
       "          2.41664444e-01,   2.80608162e-01,   2.07522006e-01,\n",
       "          1.80314751e-01,   1.49373166e-01,   8.24219792e-02,\n",
       "          8.42891438e-02,   1.60842891e-01,   4.48652974e-01,\n",
       "          2.41931182e-01,   1.69645239e-01,   1.69378501e-01,\n",
       "          1.32835423e-01,   5.12136570e-01,   3.17151240e-01,\n",
       "          4.64123766e-02,   8.15150707e-01,   2.85142705e-01,\n",
       "          5.67618031e-01,   3.33955722e-01,   1.36836490e-01,\n",
       "          2.26727127e-02,   5.22272606e-01,   1.50440117e-01,\n",
       "          2.06188317e-01,   3.17417978e-01,   4.94798613e-01,\n",
       "          1.99519872e-01,   1.06161643e-01,   8.05548146e-02,\n",
       "          2.00320085e-01,   1.44838624e-01,   9.22912777e-02,\n",
       "          6.77514004e-02],\n",
       "       [  2.78654933e+01,   2.76602616e-01,   2.20733086e-01,\n",
       "          2.59163572e-01,   1.97642500e-01,   2.00710480e-01,\n",
       "          1.54206362e-01,   1.33860811e-01,   6.94332311e-02,\n",
       "          8.83255288e-02,   1.33699338e-01,   3.98675924e-01,\n",
       "          2.34458259e-01,   1.59050541e-01,   1.51299855e-01,\n",
       "          1.12869369e-01,   5.16550945e-01,   3.44098175e-01,\n",
       "          4.48893912e-02,   8.14145002e-01,   2.62554497e-01,\n",
       "          4.77474568e-01,   2.65461004e-01,   1.09639916e-01,\n",
       "          2.09914420e-02,   4.87001453e-01,   1.39189407e-01,\n",
       "          9.80138866e-02,   2.89358954e-01,   4.39689973e-01,\n",
       "          1.69061844e-01,   7.28241563e-02,   5.31244954e-02,\n",
       "          1.90699176e-01,   1.22880672e-01,   9.60762151e-02,\n",
       "          6.00678185e-02],\n",
       "       [  2.39906977e+02,   3.25581395e-01,   2.24806202e-01,\n",
       "          3.17829457e-01,   2.32558140e-01,   2.01550388e-01,\n",
       "          2.24806202e-01,   1.31782946e-01,   1.24031008e-01,\n",
       "          1.16279070e-01,   1.39534884e-01,   5.03875969e-01,\n",
       "          2.71317829e-01,   1.62790698e-01,   1.55038760e-01,\n",
       "          1.31782946e-01,   4.41860465e-01,   3.25581395e-01,\n",
       "          6.97674419e-02,   6.74418605e-01,   2.17054264e-01,\n",
       "          6.04651163e-01,   2.71317829e-01,   1.00775194e-01,\n",
       "         -3.46944695e-18,   7.05426357e-01,   1.70542636e-01,\n",
       "          1.31782946e-01,   3.64341085e-01,   5.96899225e-01,\n",
       "          2.24806202e-01,   1.31782946e-01,   1.47286822e-01,\n",
       "          2.24806202e-01,   1.62790698e-01,   1.55038760e-01,\n",
       "          6.97674419e-02],\n",
       "       [  8.83312711e+01,   3.48706412e-01,   2.85714286e-01,\n",
       "          3.13273341e-01,   2.75590551e-01,   2.04161980e-01,\n",
       "          1.68728909e-01,   1.92350956e-01,   1.12485939e-01,\n",
       "          7.64904387e-02,   1.41169854e-01,   4.73003375e-01,\n",
       "          1.69853768e-01,   1.80539933e-01,   1.83914511e-01,\n",
       "          1.14735658e-01,   6.03487064e-01,   2.77277840e-01,\n",
       "          3.93700787e-02,   7.50843645e-01,   2.77277840e-01,\n",
       "          5.91113611e-01,   3.58830146e-01,   1.50731159e-01,\n",
       "          2.81214848e-02,   5.23622047e-01,   1.47356580e-01,\n",
       "          1.33858268e-01,   3.83014623e-01,   5.57367829e-01,\n",
       "          1.70416198e-01,   1.13610799e-01,   8.38020247e-02,\n",
       "          1.67604049e-01,   1.27109111e-01,   8.09898763e-02,\n",
       "          4.78065242e-02],\n",
       "       [  6.28000000e+02,   2.00000000e-01,  -2.77555756e-17,\n",
       "          0.00000000e+00,   2.00000000e-01,   1.20000000e+00,\n",
       "          0.00000000e+00,   1.80000000e+00,   0.00000000e+00,\n",
       "          0.00000000e+00,   2.00000000e-01,   4.00000000e-01,\n",
       "          0.00000000e+00,   4.00000000e-01,   2.00000000e-01,\n",
       "          0.00000000e+00,   1.80000000e+00,   4.00000000e-01,\n",
       "          0.00000000e+00,   1.00000000e+00,   0.00000000e+00,\n",
       "          8.00000000e-01,   0.00000000e+00,   0.00000000e+00,\n",
       "          0.00000000e+00,   4.00000000e-01,   2.00000000e-01,\n",
       "          0.00000000e+00,   0.00000000e+00,   1.40000000e+00,\n",
       "          0.00000000e+00,   2.00000000e-01,   2.00000000e-01,\n",
       "          0.00000000e+00,   2.00000000e-01,   0.00000000e+00,\n",
       "          0.00000000e+00]])"
      ]
     },
     "execution_count": 10,
     "metadata": {},
     "output_type": "execute_result"
    }
   ],
   "source": [
    "kmeans = KMeans(n_clusters = 7, n_init = 10).fit(sns_data_F)\n",
    "kmeans.cluster_centers_"
   ]
  },
  {
   "cell_type": "markdown",
   "metadata": {},
   "source": [
    "Ahora se analiza el grupo de hombres"
   ]
  },
  {
   "cell_type": "code",
   "execution_count": 11,
   "metadata": {
    "collapsed": false
   },
   "outputs": [
    {
     "data": {
      "image/png": "[encoded data removed]",
      "text/plain": [
       "<matplotlib.figure.Figure at 0x7f0ccfe2a250>"
      ]
     },
     "metadata": {},
     "output_type": "display_data"
    }
   ],
   "source": [
    "plot_distorsion(sns_data_M, \"SNS Male\", max_k = 15)"
   ]
  },
  {
   "cell_type": "markdown",
   "metadata": {
    "collapsed": true
   },
   "source": [
    "El método de la distorsión indica que el número de clusters para este conjunto de datos es 4. La posición de los centroides se puede obtener ahora como:"
   ]
  },
  {
   "cell_type": "code",
   "execution_count": 12,
   "metadata": {
    "collapsed": false
   },
   "outputs": [
    {
     "data": {
      "text/plain": [
       "array([[  8.28825301e+00,   2.86746988e-01,   4.36144578e-01,\n",
       "          1.90963855e-01,   5.72289157e-03,   2.92168675e-02,\n",
       "          7.65060241e-02,   8.43373494e-03,   2.44879518e-01,\n",
       "          8.82530120e-02,   1.91265060e-01,   5.96385542e-02,\n",
       "          1.59036145e-01,   7.92168675e-02,   5.09036145e-02,\n",
       "          5.18072289e-02,   1.90361446e-01,   3.15361446e-01,\n",
       "          4.27710843e-02,   6.38554217e-01,   2.29216867e-01,\n",
       "          4.05722892e-01,   1.71686747e-01,   1.08132530e-01,\n",
       "          2.50000000e-02,   1.74096386e-01,   3.04216867e-02,\n",
       "          1.95783133e-02,   1.13855422e-01,   3.91566265e-02,\n",
       "          6.74698795e-02,   2.56024096e-02,   1.89759036e-02,\n",
       "          1.69277108e-01,   1.05722892e-01,   6.50602410e-02,\n",
       "          5.60240964e-02],\n",
       "       [  4.22384365e+01,   3.53094463e-01,   4.71009772e-01,\n",
       "          2.29967427e-01,   1.04234528e-02,   4.03908795e-02,\n",
       "          8.72964169e-02,   5.21172638e-03,   2.89250814e-01,\n",
       "          1.14006515e-01,   2.15635179e-01,   9.12052117e-02,\n",
       "          1.59609121e-01,   8.20846906e-02,   4.75570033e-02,\n",
       "          7.03583062e-02,   2.26710098e-01,   4.14332248e-01,\n",
       "          6.25407166e-02,   7.98697068e-01,   2.85993485e-01,\n",
       "          4.29967427e-01,   2.16938111e-01,   1.53094463e-01,\n",
       "          2.86644951e-02,   1.86970684e-01,   3.25732899e-02,\n",
       "          3.19218241e-02,   1.57654723e-01,   6.51465798e-02,\n",
       "          7.62214984e-02,   4.10423453e-02,   2.34527687e-02,\n",
       "          1.81758958e-01,   9.77198697e-02,   8.59934853e-02,\n",
       "          5.08143322e-02],\n",
       "       [  5.96500000e+02,   5.00000000e-01,   0.00000000e+00,\n",
       "          0.00000000e+00,   0.00000000e+00,   0.00000000e+00,\n",
       "          0.00000000e+00,   0.00000000e+00,   1.00000000e+00,\n",
       "          0.00000000e+00,   0.00000000e+00,   5.00000000e-01,\n",
       "          0.00000000e+00,   0.00000000e+00,   0.00000000e+00,\n",
       "          2.00000000e+00,   0.00000000e+00,   0.00000000e+00,\n",
       "          0.00000000e+00,   0.00000000e+00,   0.00000000e+00,\n",
       "          0.00000000e+00,   0.00000000e+00,   0.00000000e+00,\n",
       "          5.00000000e-01,   0.00000000e+00,   0.00000000e+00,\n",
       "          1.00000000e+00,   0.00000000e+00,   0.00000000e+00,\n",
       "          0.00000000e+00,   0.00000000e+00,   0.00000000e+00,\n",
       "          1.00000000e+00,   5.00000000e-01,   5.00000000e-01,\n",
       "          0.00000000e+00],\n",
       "       [  1.00328767e+02,   4.16438356e-01,   4.68493151e-01,\n",
       "          3.01369863e-01,   3.56164384e-02,   6.02739726e-02,\n",
       "          7.94520548e-02,   2.46575342e-02,   4.35616438e-01,\n",
       "          1.94520548e-01,   2.10958904e-01,   9.04109589e-02,\n",
       "          1.78082192e-01,   1.12328767e-01,   7.94520548e-02,\n",
       "          6.57534247e-02,   2.57534247e-01,   4.13698630e-01,\n",
       "          4.93150685e-02,   7.39726027e-01,   3.31506849e-01,\n",
       "          6.19178082e-01,   3.26027397e-01,   1.61643836e-01,\n",
       "          4.10958904e-02,   2.13698630e-01,   2.73972603e-02,\n",
       "          3.01369863e-02,   2.46575342e-01,   6.84931507e-02,\n",
       "          9.86301370e-02,   6.30136986e-02,   5.47945205e-02,\n",
       "          2.41095890e-01,   1.15068493e-01,   1.20547945e-01,\n",
       "          6.57534247e-02]])"
      ]
     },
     "execution_count": 12,
     "metadata": {},
     "output_type": "execute_result"
    }
   ],
   "source": [
    "kmeans = KMeans(n_clusters = 4, n_init = 10).fit(sns_data_M)\n",
    "kmeans.cluster_centers_"
   ]
  },
  {
   "cell_type": "markdown",
   "metadata": {},
   "source": [
    "# 3.Componentes principales. (20 puntos)\n",
    "En el archivo “concrete.csv” se encuentra los datos de diferentes mezclas de hormigón. Utilizar el análisis de componentes principales y obtener el número de componentes principales con los que se puede explicar el 50%, 75% y 90% de la varianza. Obtener el porcentaje de la varianza que explica la primera componente principal."
   ]
  },
  {
   "cell_type": "code",
   "execution_count": 13,
   "metadata": {
    "collapsed": true
   },
   "outputs": [],
   "source": [
    "import pandas as pd\n",
    "\n",
    "sns_data = pd.read_csv('concrete.csv', sep = ',')"
   ]
  },
  {
   "cell_type": "code",
   "execution_count": 14,
   "metadata": {
    "collapsed": false
   },
   "outputs": [
    {
     "name": "stdout",
     "output_type": "stream",
     "text": [
      "El 50% de la varianza de las mezclas se puede explicar con 2 variables\n",
      "El 75% de la varianza de las mezclas se puede explicar con 3 variables\n",
      "El 90% de la varianza de las mezclas se puede explicar con 5 variables\n",
      "\n",
      "La primera componente principal explicar el 32.5%\n"
     ]
    }
   ],
   "source": [
    "from sklearn.decomposition import PCA\n",
    "\n",
    "pca = PCA(n_components = None)\n",
    "pca.fit_transform(sns_data)\n",
    "\n",
    "print \"El 50% de la varianza de las mezclas se puede explicar con\", (cumsum(pca.explained_variance_ratio_) > 0.50).tolist().index(True) + 1,\"variables\"\n",
    "print \"El 75% de la varianza de las mezclas se puede explicar con\", (cumsum(pca.explained_variance_ratio_) > 0.75).tolist().index(True) + 1,\"variables\"\n",
    "print \"El 90% de la varianza de las mezclas se puede explicar con\", (cumsum(pca.explained_variance_ratio_) > 0.90).tolist().index(True) + 1,\"variables\"\n",
    "print\n",
    "print \"La primera componente principal explicar el %2.1f%%\" % (pca.explained_variance_ratio_[0] * 100)"
   ]
  },
  {
   "cell_type": "markdown",
   "metadata": {},
   "source": [
    "# 3. Regresión de una función con Theano. (20 puntos)\n",
    "Crear un conjunto de datos utilizando el siguiente código:\n",
    "\n",
    "    trX = np.linspace(-1, 1, 101)\n",
    "    trY = np.linspace(-1, 1, 101)\n",
    "    for i in range(len(trY)):\n",
    "        trY[i] = math.log(1 + 0.5 * abs(trX[i])) + trX[i] / 3 + np.random.randn() * 0.033\n",
    "\n",
    "Ahora utilizar Theano para obtener los parámetros w_0 y w_1 del siguiente modelo\n",
    "$$ y = \\log(1 + w_0  |x|) + w_1  x, $$\n",
    "utilizando los datos generados anteriormente.\n"
   ]
  },
  {
   "cell_type": "markdown",
   "metadata": {
    "collapsed": false
   },
   "source": [
    "Se crea el conjunto de datos indicado"
   ]
  },
  {
   "cell_type": "code",
   "execution_count": 15,
   "metadata": {
    "collapsed": false
   },
   "outputs": [],
   "source": [
    "trX = np.linspace(-1, 1, 101)\n",
    "trY = np.linspace(-1, 1, 101)\n",
    "for i in range(len(trY)):\n",
    "    trY[i] = math.log(1 + 0.5 * abs(trX[i])) + trX[i] / 3 + np.random.randn() * 0.033"
   ]
  },
  {
   "cell_type": "code",
   "execution_count": 16,
   "metadata": {
    "collapsed": false
   },
   "outputs": [
    {
     "name": "stdout",
     "output_type": "stream",
     "text": [
      "En el paso  0  w0 =  0.20046440798  y w1 =  0.170165792246\n",
      "En el paso  1  w0 =  0.306379292521  y w1 =  0.256903992152\n",
      "En el paso  2  w0 =  0.3708150957  y w1 =  0.299420877076\n",
      "En el paso  3  w0 =  0.412358767009  y w1 =  0.319759927928\n",
      "En el paso  4  w0 =  0.43993024534  y w1 =  0.329216607674\n",
      "En el paso  5  w0 =  0.458522706156  y w1 =  0.333430573554\n",
      "En el paso  6  w0 =  0.471177629675  y w1 =  0.335175231\n",
      "En el paso  7  w0 =  0.479840121081  y w1 =  0.335794808227\n",
      "En el paso  8  w0 =  0.485790753318  y w1 =  0.335929053887\n",
      "En el paso  9  w0 =  0.489887703998  y w1 =  0.335874517292\n"
     ]
    }
   ],
   "source": [
    "import theano\n",
    "import theano.tensor as T\n",
    "\n",
    "X = T.scalar()\n",
    "Y = T.scalar()\n",
    "\n",
    "def model(X, w0, w1):\n",
    "    return T.log(1 + w0 * abs(X)) + w1 * X\n",
    "\n",
    "w0 = theano.shared(np.asarray(0., dtype=theano.config.floatX))\n",
    "w1 = theano.shared(np.asarray(0., dtype=theano.config.floatX))\n",
    "y = model(X, w0, w1)\n",
    "\n",
    "cost = T.mean(T.sqr(y - Y))\n",
    "gradient0 = T.grad(cost = cost, wrt = w0)\n",
    "gradient1 = T.grad(cost = cost, wrt = w1)\n",
    "updates = [[w0, w0 - gradient0 * 0.01], [w1, w1 - gradient1 * 0.01]]\n",
    "\n",
    "train = theano.function(inputs = [X, Y], outputs = cost, updates = updates)\n",
    "\n",
    "for i in range(10):\n",
    "    for x, y in zip(trX, trY):\n",
    "        train(x, y)\n",
    "        \n",
    "    print \"En el paso \", i, \" w0 = \", w0.get_value(), \" y w1 = \", w1.get_value()"
   ]
  }
 ],
 "metadata": {
  "kernelspec": {
   "display_name": "Python [default]",
   "language": "python",
   "name": "python2"
  },
  "language_info": {
   "codemirror_mode": {
    "name": "ipython",
    "version": 2
   },
   "file_extension": ".py",
   "mimetype": "text/x-python",
   "name": "python",
   "nbconvert_exporter": "python",
   "pygments_lexer": "ipython2",
   "version": "2.7.12"
  }
 },
 "nbformat": 4,
 "nbformat_minor": 0
}
